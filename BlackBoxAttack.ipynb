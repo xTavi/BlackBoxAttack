{
  "nbformat": 4,
  "nbformat_minor": 0,
  "metadata": {
    "colab": {
      "name": "Copie a fișierului Proiect",
      "provenance": [],
      "collapsed_sections": [],
      "authorship_tag": "ABX9TyPOok5jvTqp+VpUPFb8Uel0",
      "include_colab_link": true
    },
    "kernelspec": {
      "name": "python3",
      "display_name": "Python 3"
    },
    "widgets": {
      "application/vnd.jupyter.widget-state+json": {
        "112efa7672254d119c42f3cb80508a61": {
          "model_module": "@jupyter-widgets/controls",
          "model_name": "HBoxModel",
          "state": {
            "_view_name": "HBoxView",
            "_dom_classes": [],
            "_model_name": "HBoxModel",
            "_view_module": "@jupyter-widgets/controls",
            "_model_module_version": "1.5.0",
            "_view_count": null,
            "_view_module_version": "1.5.0",
            "box_style": "",
            "layout": "IPY_MODEL_98a318757b7b41b8a74509a7f0f77a60",
            "_model_module": "@jupyter-widgets/controls",
            "children": [
              "IPY_MODEL_3c7c31574d71410ca3032b3f0c9ac459",
              "IPY_MODEL_20f473a77f874b858c3605a6f1e65095"
            ]
          }
        },
        "98a318757b7b41b8a74509a7f0f77a60": {
          "model_module": "@jupyter-widgets/base",
          "model_name": "LayoutModel",
          "state": {
            "_view_name": "LayoutView",
            "grid_template_rows": null,
            "right": null,
            "justify_content": null,
            "_view_module": "@jupyter-widgets/base",
            "overflow": null,
            "_model_module_version": "1.2.0",
            "_view_count": null,
            "flex_flow": null,
            "width": null,
            "min_width": null,
            "border": null,
            "align_items": null,
            "bottom": null,
            "_model_module": "@jupyter-widgets/base",
            "top": null,
            "grid_column": null,
            "overflow_y": null,
            "overflow_x": null,
            "grid_auto_flow": null,
            "grid_area": null,
            "grid_template_columns": null,
            "flex": null,
            "_model_name": "LayoutModel",
            "justify_items": null,
            "grid_row": null,
            "max_height": null,
            "align_content": null,
            "visibility": null,
            "align_self": null,
            "height": null,
            "min_height": null,
            "padding": null,
            "grid_auto_rows": null,
            "grid_gap": null,
            "max_width": null,
            "order": null,
            "_view_module_version": "1.2.0",
            "grid_template_areas": null,
            "object_position": null,
            "object_fit": null,
            "grid_auto_columns": null,
            "margin": null,
            "display": null,
            "left": null
          }
        },
        "3c7c31574d71410ca3032b3f0c9ac459": {
          "model_module": "@jupyter-widgets/controls",
          "model_name": "FloatProgressModel",
          "state": {
            "_view_name": "ProgressView",
            "style": "IPY_MODEL_c8fa992c426d46afac6a17cfa04d7f22",
            "_dom_classes": [],
            "description": "",
            "_model_name": "FloatProgressModel",
            "bar_style": "info",
            "max": 1,
            "_view_module": "@jupyter-widgets/controls",
            "_model_module_version": "1.5.0",
            "value": 1,
            "_view_count": null,
            "_view_module_version": "1.5.0",
            "orientation": "horizontal",
            "min": 0,
            "description_tooltip": null,
            "_model_module": "@jupyter-widgets/controls",
            "layout": "IPY_MODEL_eb10187322c04f2aaeecd211dcd3b361"
          }
        },
        "20f473a77f874b858c3605a6f1e65095": {
          "model_module": "@jupyter-widgets/controls",
          "model_name": "HTMLModel",
          "state": {
            "_view_name": "HTMLView",
            "style": "IPY_MODEL_87b7b2fad8e044fe81d8a3e5130651b0",
            "_dom_classes": [],
            "description": "",
            "_model_name": "HTMLModel",
            "placeholder": "​",
            "_view_module": "@jupyter-widgets/controls",
            "_model_module_version": "1.5.0",
            "value": " 9920512/? [00:20&lt;00:00, 5766405.85it/s]",
            "_view_count": null,
            "_view_module_version": "1.5.0",
            "description_tooltip": null,
            "_model_module": "@jupyter-widgets/controls",
            "layout": "IPY_MODEL_e384eab4be454ca6b9de01b15e346e93"
          }
        },
        "c8fa992c426d46afac6a17cfa04d7f22": {
          "model_module": "@jupyter-widgets/controls",
          "model_name": "ProgressStyleModel",
          "state": {
            "_view_name": "StyleView",
            "_model_name": "ProgressStyleModel",
            "description_width": "initial",
            "_view_module": "@jupyter-widgets/base",
            "_model_module_version": "1.5.0",
            "_view_count": null,
            "_view_module_version": "1.2.0",
            "bar_color": null,
            "_model_module": "@jupyter-widgets/controls"
          }
        },
        "eb10187322c04f2aaeecd211dcd3b361": {
          "model_module": "@jupyter-widgets/base",
          "model_name": "LayoutModel",
          "state": {
            "_view_name": "LayoutView",
            "grid_template_rows": null,
            "right": null,
            "justify_content": null,
            "_view_module": "@jupyter-widgets/base",
            "overflow": null,
            "_model_module_version": "1.2.0",
            "_view_count": null,
            "flex_flow": null,
            "width": null,
            "min_width": null,
            "border": null,
            "align_items": null,
            "bottom": null,
            "_model_module": "@jupyter-widgets/base",
            "top": null,
            "grid_column": null,
            "overflow_y": null,
            "overflow_x": null,
            "grid_auto_flow": null,
            "grid_area": null,
            "grid_template_columns": null,
            "flex": null,
            "_model_name": "LayoutModel",
            "justify_items": null,
            "grid_row": null,
            "max_height": null,
            "align_content": null,
            "visibility": null,
            "align_self": null,
            "height": null,
            "min_height": null,
            "padding": null,
            "grid_auto_rows": null,
            "grid_gap": null,
            "max_width": null,
            "order": null,
            "_view_module_version": "1.2.0",
            "grid_template_areas": null,
            "object_position": null,
            "object_fit": null,
            "grid_auto_columns": null,
            "margin": null,
            "display": null,
            "left": null
          }
        },
        "87b7b2fad8e044fe81d8a3e5130651b0": {
          "model_module": "@jupyter-widgets/controls",
          "model_name": "DescriptionStyleModel",
          "state": {
            "_view_name": "StyleView",
            "_model_name": "DescriptionStyleModel",
            "description_width": "",
            "_view_module": "@jupyter-widgets/base",
            "_model_module_version": "1.5.0",
            "_view_count": null,
            "_view_module_version": "1.2.0",
            "_model_module": "@jupyter-widgets/controls"
          }
        },
        "e384eab4be454ca6b9de01b15e346e93": {
          "model_module": "@jupyter-widgets/base",
          "model_name": "LayoutModel",
          "state": {
            "_view_name": "LayoutView",
            "grid_template_rows": null,
            "right": null,
            "justify_content": null,
            "_view_module": "@jupyter-widgets/base",
            "overflow": null,
            "_model_module_version": "1.2.0",
            "_view_count": null,
            "flex_flow": null,
            "width": null,
            "min_width": null,
            "border": null,
            "align_items": null,
            "bottom": null,
            "_model_module": "@jupyter-widgets/base",
            "top": null,
            "grid_column": null,
            "overflow_y": null,
            "overflow_x": null,
            "grid_auto_flow": null,
            "grid_area": null,
            "grid_template_columns": null,
            "flex": null,
            "_model_name": "LayoutModel",
            "justify_items": null,
            "grid_row": null,
            "max_height": null,
            "align_content": null,
            "visibility": null,
            "align_self": null,
            "height": null,
            "min_height": null,
            "padding": null,
            "grid_auto_rows": null,
            "grid_gap": null,
            "max_width": null,
            "order": null,
            "_view_module_version": "1.2.0",
            "grid_template_areas": null,
            "object_position": null,
            "object_fit": null,
            "grid_auto_columns": null,
            "margin": null,
            "display": null,
            "left": null
          }
        },
        "5b489a6075c04493bc5d75cba672e890": {
          "model_module": "@jupyter-widgets/controls",
          "model_name": "HBoxModel",
          "state": {
            "_view_name": "HBoxView",
            "_dom_classes": [],
            "_model_name": "HBoxModel",
            "_view_module": "@jupyter-widgets/controls",
            "_model_module_version": "1.5.0",
            "_view_count": null,
            "_view_module_version": "1.5.0",
            "box_style": "",
            "layout": "IPY_MODEL_ec0bdf1810094c7d8d64998485fc6bea",
            "_model_module": "@jupyter-widgets/controls",
            "children": [
              "IPY_MODEL_8233ad94bac2437f9d73fcd730e5e144",
              "IPY_MODEL_136eb4b7bf7a42cab35175544c9946da"
            ]
          }
        },
        "ec0bdf1810094c7d8d64998485fc6bea": {
          "model_module": "@jupyter-widgets/base",
          "model_name": "LayoutModel",
          "state": {
            "_view_name": "LayoutView",
            "grid_template_rows": null,
            "right": null,
            "justify_content": null,
            "_view_module": "@jupyter-widgets/base",
            "overflow": null,
            "_model_module_version": "1.2.0",
            "_view_count": null,
            "flex_flow": null,
            "width": null,
            "min_width": null,
            "border": null,
            "align_items": null,
            "bottom": null,
            "_model_module": "@jupyter-widgets/base",
            "top": null,
            "grid_column": null,
            "overflow_y": null,
            "overflow_x": null,
            "grid_auto_flow": null,
            "grid_area": null,
            "grid_template_columns": null,
            "flex": null,
            "_model_name": "LayoutModel",
            "justify_items": null,
            "grid_row": null,
            "max_height": null,
            "align_content": null,
            "visibility": null,
            "align_self": null,
            "height": null,
            "min_height": null,
            "padding": null,
            "grid_auto_rows": null,
            "grid_gap": null,
            "max_width": null,
            "order": null,
            "_view_module_version": "1.2.0",
            "grid_template_areas": null,
            "object_position": null,
            "object_fit": null,
            "grid_auto_columns": null,
            "margin": null,
            "display": null,
            "left": null
          }
        },
        "8233ad94bac2437f9d73fcd730e5e144": {
          "model_module": "@jupyter-widgets/controls",
          "model_name": "FloatProgressModel",
          "state": {
            "_view_name": "ProgressView",
            "style": "IPY_MODEL_20abc9332bba48498425c18ab4a20d85",
            "_dom_classes": [],
            "description": "",
            "_model_name": "FloatProgressModel",
            "bar_style": "info",
            "max": 1,
            "_view_module": "@jupyter-widgets/controls",
            "_model_module_version": "1.5.0",
            "value": 1,
            "_view_count": null,
            "_view_module_version": "1.5.0",
            "orientation": "horizontal",
            "min": 0,
            "description_tooltip": null,
            "_model_module": "@jupyter-widgets/controls",
            "layout": "IPY_MODEL_30da84ecdaca4adda7dc9c51a0a31d1c"
          }
        },
        "136eb4b7bf7a42cab35175544c9946da": {
          "model_module": "@jupyter-widgets/controls",
          "model_name": "HTMLModel",
          "state": {
            "_view_name": "HTMLView",
            "style": "IPY_MODEL_bd123a73ff944b48b5067eb5724c7cb5",
            "_dom_classes": [],
            "description": "",
            "_model_name": "HTMLModel",
            "placeholder": "​",
            "_view_module": "@jupyter-widgets/controls",
            "_model_module_version": "1.5.0",
            "value": " 32768/? [00:19&lt;00:00, 161600.49it/s]",
            "_view_count": null,
            "_view_module_version": "1.5.0",
            "description_tooltip": null,
            "_model_module": "@jupyter-widgets/controls",
            "layout": "IPY_MODEL_6eeee38c8aeb4bb998e42d89dd2cfa3a"
          }
        },
        "20abc9332bba48498425c18ab4a20d85": {
          "model_module": "@jupyter-widgets/controls",
          "model_name": "ProgressStyleModel",
          "state": {
            "_view_name": "StyleView",
            "_model_name": "ProgressStyleModel",
            "description_width": "initial",
            "_view_module": "@jupyter-widgets/base",
            "_model_module_version": "1.5.0",
            "_view_count": null,
            "_view_module_version": "1.2.0",
            "bar_color": null,
            "_model_module": "@jupyter-widgets/controls"
          }
        },
        "30da84ecdaca4adda7dc9c51a0a31d1c": {
          "model_module": "@jupyter-widgets/base",
          "model_name": "LayoutModel",
          "state": {
            "_view_name": "LayoutView",
            "grid_template_rows": null,
            "right": null,
            "justify_content": null,
            "_view_module": "@jupyter-widgets/base",
            "overflow": null,
            "_model_module_version": "1.2.0",
            "_view_count": null,
            "flex_flow": null,
            "width": null,
            "min_width": null,
            "border": null,
            "align_items": null,
            "bottom": null,
            "_model_module": "@jupyter-widgets/base",
            "top": null,
            "grid_column": null,
            "overflow_y": null,
            "overflow_x": null,
            "grid_auto_flow": null,
            "grid_area": null,
            "grid_template_columns": null,
            "flex": null,
            "_model_name": "LayoutModel",
            "justify_items": null,
            "grid_row": null,
            "max_height": null,
            "align_content": null,
            "visibility": null,
            "align_self": null,
            "height": null,
            "min_height": null,
            "padding": null,
            "grid_auto_rows": null,
            "grid_gap": null,
            "max_width": null,
            "order": null,
            "_view_module_version": "1.2.0",
            "grid_template_areas": null,
            "object_position": null,
            "object_fit": null,
            "grid_auto_columns": null,
            "margin": null,
            "display": null,
            "left": null
          }
        },
        "bd123a73ff944b48b5067eb5724c7cb5": {
          "model_module": "@jupyter-widgets/controls",
          "model_name": "DescriptionStyleModel",
          "state": {
            "_view_name": "StyleView",
            "_model_name": "DescriptionStyleModel",
            "description_width": "",
            "_view_module": "@jupyter-widgets/base",
            "_model_module_version": "1.5.0",
            "_view_count": null,
            "_view_module_version": "1.2.0",
            "_model_module": "@jupyter-widgets/controls"
          }
        },
        "6eeee38c8aeb4bb998e42d89dd2cfa3a": {
          "model_module": "@jupyter-widgets/base",
          "model_name": "LayoutModel",
          "state": {
            "_view_name": "LayoutView",
            "grid_template_rows": null,
            "right": null,
            "justify_content": null,
            "_view_module": "@jupyter-widgets/base",
            "overflow": null,
            "_model_module_version": "1.2.0",
            "_view_count": null,
            "flex_flow": null,
            "width": null,
            "min_width": null,
            "border": null,
            "align_items": null,
            "bottom": null,
            "_model_module": "@jupyter-widgets/base",
            "top": null,
            "grid_column": null,
            "overflow_y": null,
            "overflow_x": null,
            "grid_auto_flow": null,
            "grid_area": null,
            "grid_template_columns": null,
            "flex": null,
            "_model_name": "LayoutModel",
            "justify_items": null,
            "grid_row": null,
            "max_height": null,
            "align_content": null,
            "visibility": null,
            "align_self": null,
            "height": null,
            "min_height": null,
            "padding": null,
            "grid_auto_rows": null,
            "grid_gap": null,
            "max_width": null,
            "order": null,
            "_view_module_version": "1.2.0",
            "grid_template_areas": null,
            "object_position": null,
            "object_fit": null,
            "grid_auto_columns": null,
            "margin": null,
            "display": null,
            "left": null
          }
        },
        "99fcf9ecb4a34ea8b5e6eba06a31716c": {
          "model_module": "@jupyter-widgets/controls",
          "model_name": "HBoxModel",
          "state": {
            "_view_name": "HBoxView",
            "_dom_classes": [],
            "_model_name": "HBoxModel",
            "_view_module": "@jupyter-widgets/controls",
            "_model_module_version": "1.5.0",
            "_view_count": null,
            "_view_module_version": "1.5.0",
            "box_style": "",
            "layout": "IPY_MODEL_17b98d82705f4e54b753f93407b06db0",
            "_model_module": "@jupyter-widgets/controls",
            "children": [
              "IPY_MODEL_c4bc5bc2a3cf44a9adc98f9b80a73dc0",
              "IPY_MODEL_a950ec7997dd411fb69688f700f70f10"
            ]
          }
        },
        "17b98d82705f4e54b753f93407b06db0": {
          "model_module": "@jupyter-widgets/base",
          "model_name": "LayoutModel",
          "state": {
            "_view_name": "LayoutView",
            "grid_template_rows": null,
            "right": null,
            "justify_content": null,
            "_view_module": "@jupyter-widgets/base",
            "overflow": null,
            "_model_module_version": "1.2.0",
            "_view_count": null,
            "flex_flow": null,
            "width": null,
            "min_width": null,
            "border": null,
            "align_items": null,
            "bottom": null,
            "_model_module": "@jupyter-widgets/base",
            "top": null,
            "grid_column": null,
            "overflow_y": null,
            "overflow_x": null,
            "grid_auto_flow": null,
            "grid_area": null,
            "grid_template_columns": null,
            "flex": null,
            "_model_name": "LayoutModel",
            "justify_items": null,
            "grid_row": null,
            "max_height": null,
            "align_content": null,
            "visibility": null,
            "align_self": null,
            "height": null,
            "min_height": null,
            "padding": null,
            "grid_auto_rows": null,
            "grid_gap": null,
            "max_width": null,
            "order": null,
            "_view_module_version": "1.2.0",
            "grid_template_areas": null,
            "object_position": null,
            "object_fit": null,
            "grid_auto_columns": null,
            "margin": null,
            "display": null,
            "left": null
          }
        },
        "c4bc5bc2a3cf44a9adc98f9b80a73dc0": {
          "model_module": "@jupyter-widgets/controls",
          "model_name": "FloatProgressModel",
          "state": {
            "_view_name": "ProgressView",
            "style": "IPY_MODEL_2c88f07d4bb7408f8429e16a4116c7d9",
            "_dom_classes": [],
            "description": "",
            "_model_name": "FloatProgressModel",
            "bar_style": "info",
            "max": 1,
            "_view_module": "@jupyter-widgets/controls",
            "_model_module_version": "1.5.0",
            "value": 1,
            "_view_count": null,
            "_view_module_version": "1.5.0",
            "orientation": "horizontal",
            "min": 0,
            "description_tooltip": null,
            "_model_module": "@jupyter-widgets/controls",
            "layout": "IPY_MODEL_28c3393e8d8647af9ea20986a033d2fa"
          }
        },
        "a950ec7997dd411fb69688f700f70f10": {
          "model_module": "@jupyter-widgets/controls",
          "model_name": "HTMLModel",
          "state": {
            "_view_name": "HTMLView",
            "style": "IPY_MODEL_00f14530961b467f99bb541e28fd29a9",
            "_dom_classes": [],
            "description": "",
            "_model_name": "HTMLModel",
            "placeholder": "​",
            "_view_module": "@jupyter-widgets/controls",
            "_model_module_version": "1.5.0",
            "value": " 1654784/? [00:19&lt;00:00, 8472199.53it/s]",
            "_view_count": null,
            "_view_module_version": "1.5.0",
            "description_tooltip": null,
            "_model_module": "@jupyter-widgets/controls",
            "layout": "IPY_MODEL_16a96c28794641b980d5624a92854bc4"
          }
        },
        "2c88f07d4bb7408f8429e16a4116c7d9": {
          "model_module": "@jupyter-widgets/controls",
          "model_name": "ProgressStyleModel",
          "state": {
            "_view_name": "StyleView",
            "_model_name": "ProgressStyleModel",
            "description_width": "initial",
            "_view_module": "@jupyter-widgets/base",
            "_model_module_version": "1.5.0",
            "_view_count": null,
            "_view_module_version": "1.2.0",
            "bar_color": null,
            "_model_module": "@jupyter-widgets/controls"
          }
        },
        "28c3393e8d8647af9ea20986a033d2fa": {
          "model_module": "@jupyter-widgets/base",
          "model_name": "LayoutModel",
          "state": {
            "_view_name": "LayoutView",
            "grid_template_rows": null,
            "right": null,
            "justify_content": null,
            "_view_module": "@jupyter-widgets/base",
            "overflow": null,
            "_model_module_version": "1.2.0",
            "_view_count": null,
            "flex_flow": null,
            "width": null,
            "min_width": null,
            "border": null,
            "align_items": null,
            "bottom": null,
            "_model_module": "@jupyter-widgets/base",
            "top": null,
            "grid_column": null,
            "overflow_y": null,
            "overflow_x": null,
            "grid_auto_flow": null,
            "grid_area": null,
            "grid_template_columns": null,
            "flex": null,
            "_model_name": "LayoutModel",
            "justify_items": null,
            "grid_row": null,
            "max_height": null,
            "align_content": null,
            "visibility": null,
            "align_self": null,
            "height": null,
            "min_height": null,
            "padding": null,
            "grid_auto_rows": null,
            "grid_gap": null,
            "max_width": null,
            "order": null,
            "_view_module_version": "1.2.0",
            "grid_template_areas": null,
            "object_position": null,
            "object_fit": null,
            "grid_auto_columns": null,
            "margin": null,
            "display": null,
            "left": null
          }
        },
        "00f14530961b467f99bb541e28fd29a9": {
          "model_module": "@jupyter-widgets/controls",
          "model_name": "DescriptionStyleModel",
          "state": {
            "_view_name": "StyleView",
            "_model_name": "DescriptionStyleModel",
            "description_width": "",
            "_view_module": "@jupyter-widgets/base",
            "_model_module_version": "1.5.0",
            "_view_count": null,
            "_view_module_version": "1.2.0",
            "_model_module": "@jupyter-widgets/controls"
          }
        },
        "16a96c28794641b980d5624a92854bc4": {
          "model_module": "@jupyter-widgets/base",
          "model_name": "LayoutModel",
          "state": {
            "_view_name": "LayoutView",
            "grid_template_rows": null,
            "right": null,
            "justify_content": null,
            "_view_module": "@jupyter-widgets/base",
            "overflow": null,
            "_model_module_version": "1.2.0",
            "_view_count": null,
            "flex_flow": null,
            "width": null,
            "min_width": null,
            "border": null,
            "align_items": null,
            "bottom": null,
            "_model_module": "@jupyter-widgets/base",
            "top": null,
            "grid_column": null,
            "overflow_y": null,
            "overflow_x": null,
            "grid_auto_flow": null,
            "grid_area": null,
            "grid_template_columns": null,
            "flex": null,
            "_model_name": "LayoutModel",
            "justify_items": null,
            "grid_row": null,
            "max_height": null,
            "align_content": null,
            "visibility": null,
            "align_self": null,
            "height": null,
            "min_height": null,
            "padding": null,
            "grid_auto_rows": null,
            "grid_gap": null,
            "max_width": null,
            "order": null,
            "_view_module_version": "1.2.0",
            "grid_template_areas": null,
            "object_position": null,
            "object_fit": null,
            "grid_auto_columns": null,
            "margin": null,
            "display": null,
            "left": null
          }
        },
        "feb49e4be98d43648f475635c8116370": {
          "model_module": "@jupyter-widgets/controls",
          "model_name": "HBoxModel",
          "state": {
            "_view_name": "HBoxView",
            "_dom_classes": [],
            "_model_name": "HBoxModel",
            "_view_module": "@jupyter-widgets/controls",
            "_model_module_version": "1.5.0",
            "_view_count": null,
            "_view_module_version": "1.5.0",
            "box_style": "",
            "layout": "IPY_MODEL_0b5e108d9cbf42ba9cc66e73fee549a8",
            "_model_module": "@jupyter-widgets/controls",
            "children": [
              "IPY_MODEL_ad11f0d0494049d08b181d46c4d4369f",
              "IPY_MODEL_16d2f24cef484ebcb0547b7d92a77ecd"
            ]
          }
        },
        "0b5e108d9cbf42ba9cc66e73fee549a8": {
          "model_module": "@jupyter-widgets/base",
          "model_name": "LayoutModel",
          "state": {
            "_view_name": "LayoutView",
            "grid_template_rows": null,
            "right": null,
            "justify_content": null,
            "_view_module": "@jupyter-widgets/base",
            "overflow": null,
            "_model_module_version": "1.2.0",
            "_view_count": null,
            "flex_flow": null,
            "width": null,
            "min_width": null,
            "border": null,
            "align_items": null,
            "bottom": null,
            "_model_module": "@jupyter-widgets/base",
            "top": null,
            "grid_column": null,
            "overflow_y": null,
            "overflow_x": null,
            "grid_auto_flow": null,
            "grid_area": null,
            "grid_template_columns": null,
            "flex": null,
            "_model_name": "LayoutModel",
            "justify_items": null,
            "grid_row": null,
            "max_height": null,
            "align_content": null,
            "visibility": null,
            "align_self": null,
            "height": null,
            "min_height": null,
            "padding": null,
            "grid_auto_rows": null,
            "grid_gap": null,
            "max_width": null,
            "order": null,
            "_view_module_version": "1.2.0",
            "grid_template_areas": null,
            "object_position": null,
            "object_fit": null,
            "grid_auto_columns": null,
            "margin": null,
            "display": null,
            "left": null
          }
        },
        "ad11f0d0494049d08b181d46c4d4369f": {
          "model_module": "@jupyter-widgets/controls",
          "model_name": "FloatProgressModel",
          "state": {
            "_view_name": "ProgressView",
            "style": "IPY_MODEL_06fa3441d10d43f8a9cc13bc88d0731a",
            "_dom_classes": [],
            "description": "",
            "_model_name": "FloatProgressModel",
            "bar_style": "info",
            "max": 1,
            "_view_module": "@jupyter-widgets/controls",
            "_model_module_version": "1.5.0",
            "value": 0,
            "_view_count": null,
            "_view_module_version": "1.5.0",
            "orientation": "horizontal",
            "min": 0,
            "description_tooltip": null,
            "_model_module": "@jupyter-widgets/controls",
            "layout": "IPY_MODEL_68451b3cddea4e038ae97dcbf6b2f468"
          }
        },
        "16d2f24cef484ebcb0547b7d92a77ecd": {
          "model_module": "@jupyter-widgets/controls",
          "model_name": "HTMLModel",
          "state": {
            "_view_name": "HTMLView",
            "style": "IPY_MODEL_2f591f20c40b4f3c8a22335e9fa54e71",
            "_dom_classes": [],
            "description": "",
            "_model_name": "HTMLModel",
            "placeholder": "​",
            "_view_module": "@jupyter-widgets/controls",
            "_model_module_version": "1.5.0",
            "value": " 0/? [00:00&lt;?, ?it/s]",
            "_view_count": null,
            "_view_module_version": "1.5.0",
            "description_tooltip": null,
            "_model_module": "@jupyter-widgets/controls",
            "layout": "IPY_MODEL_0048a9fe01ae45888c2ff2104c75e6c6"
          }
        },
        "06fa3441d10d43f8a9cc13bc88d0731a": {
          "model_module": "@jupyter-widgets/controls",
          "model_name": "ProgressStyleModel",
          "state": {
            "_view_name": "StyleView",
            "_model_name": "ProgressStyleModel",
            "description_width": "initial",
            "_view_module": "@jupyter-widgets/base",
            "_model_module_version": "1.5.0",
            "_view_count": null,
            "_view_module_version": "1.2.0",
            "bar_color": null,
            "_model_module": "@jupyter-widgets/controls"
          }
        },
        "68451b3cddea4e038ae97dcbf6b2f468": {
          "model_module": "@jupyter-widgets/base",
          "model_name": "LayoutModel",
          "state": {
            "_view_name": "LayoutView",
            "grid_template_rows": null,
            "right": null,
            "justify_content": null,
            "_view_module": "@jupyter-widgets/base",
            "overflow": null,
            "_model_module_version": "1.2.0",
            "_view_count": null,
            "flex_flow": null,
            "width": null,
            "min_width": null,
            "border": null,
            "align_items": null,
            "bottom": null,
            "_model_module": "@jupyter-widgets/base",
            "top": null,
            "grid_column": null,
            "overflow_y": null,
            "overflow_x": null,
            "grid_auto_flow": null,
            "grid_area": null,
            "grid_template_columns": null,
            "flex": null,
            "_model_name": "LayoutModel",
            "justify_items": null,
            "grid_row": null,
            "max_height": null,
            "align_content": null,
            "visibility": null,
            "align_self": null,
            "height": null,
            "min_height": null,
            "padding": null,
            "grid_auto_rows": null,
            "grid_gap": null,
            "max_width": null,
            "order": null,
            "_view_module_version": "1.2.0",
            "grid_template_areas": null,
            "object_position": null,
            "object_fit": null,
            "grid_auto_columns": null,
            "margin": null,
            "display": null,
            "left": null
          }
        },
        "2f591f20c40b4f3c8a22335e9fa54e71": {
          "model_module": "@jupyter-widgets/controls",
          "model_name": "DescriptionStyleModel",
          "state": {
            "_view_name": "StyleView",
            "_model_name": "DescriptionStyleModel",
            "description_width": "",
            "_view_module": "@jupyter-widgets/base",
            "_model_module_version": "1.5.0",
            "_view_count": null,
            "_view_module_version": "1.2.0",
            "_model_module": "@jupyter-widgets/controls"
          }
        },
        "0048a9fe01ae45888c2ff2104c75e6c6": {
          "model_module": "@jupyter-widgets/base",
          "model_name": "LayoutModel",
          "state": {
            "_view_name": "LayoutView",
            "grid_template_rows": null,
            "right": null,
            "justify_content": null,
            "_view_module": "@jupyter-widgets/base",
            "overflow": null,
            "_model_module_version": "1.2.0",
            "_view_count": null,
            "flex_flow": null,
            "width": null,
            "min_width": null,
            "border": null,
            "align_items": null,
            "bottom": null,
            "_model_module": "@jupyter-widgets/base",
            "top": null,
            "grid_column": null,
            "overflow_y": null,
            "overflow_x": null,
            "grid_auto_flow": null,
            "grid_area": null,
            "grid_template_columns": null,
            "flex": null,
            "_model_name": "LayoutModel",
            "justify_items": null,
            "grid_row": null,
            "max_height": null,
            "align_content": null,
            "visibility": null,
            "align_self": null,
            "height": null,
            "min_height": null,
            "padding": null,
            "grid_auto_rows": null,
            "grid_gap": null,
            "max_width": null,
            "order": null,
            "_view_module_version": "1.2.0",
            "grid_template_areas": null,
            "object_position": null,
            "object_fit": null,
            "grid_auto_columns": null,
            "margin": null,
            "display": null,
            "left": null
          }
        }
      }
    }
  },
  "cells": [
    {
      "cell_type": "markdown",
      "metadata": {
        "id": "view-in-github",
        "colab_type": "text"
      },
      "source": [
        "<a href=\"https://colab.research.google.com/github/xTavi/BlackBoxAttack/blob/master/BlackBoxAttack.ipynb\" target=\"_parent\"><img src=\"https://colab.research.google.com/assets/colab-badge.svg\" alt=\"Open In Colab\"/></a>"
      ]
    },
    {
      "cell_type": "code",
      "metadata": {
        "id": "-gn2_nTFp9lA",
        "colab_type": "code",
        "colab": {
          "base_uri": "https://localhost:8080/",
          "height": 131
        },
        "outputId": "3433660a-03c3-45d5-ed94-1525e35e1d70"
      },
      "source": [
        "from __future__ import print_function\n",
        "import os\n",
        "import argparse\n",
        "import torch\n",
        "import torch.nn as nn\n",
        "import torch.nn.functional as F\n",
        "import torch.optim as optim\n",
        "from IPython.core.debugger import set_trace\n",
        "from matplotlib import pyplot\n",
        "from google.colab import drive\n",
        "import matplotlib.pyplot as plt\n",
        "drive.mount('/content/gdrive')\n",
        "import torch.onnx\n",
        "import torchvision.datasets as dset\n",
        "import torchvision.transforms as transforms\n",
        "import torchvision.models as models\n",
        "import numpy as np\n",
        "# import utils\n",
        "import math\n",
        "import random\n",
        "import pdb"
      ],
      "execution_count": 1,
      "outputs": [
        {
          "output_type": "stream",
          "text": [
            "Go to this URL in a browser: https://accounts.google.com/o/oauth2/auth?client_id=947318989803-6bn6qk8qdgf4n4g3pfee6491hc0brc4i.apps.googleusercontent.com&redirect_uri=urn%3aietf%3awg%3aoauth%3a2.0%3aoob&response_type=code&scope=email%20https%3a%2f%2fwww.googleapis.com%2fauth%2fdocs.test%20https%3a%2f%2fwww.googleapis.com%2fauth%2fdrive%20https%3a%2f%2fwww.googleapis.com%2fauth%2fdrive.photos.readonly%20https%3a%2f%2fwww.googleapis.com%2fauth%2fpeopleapi.readonly\n",
            "\n",
            "Enter your authorization code:\n",
            "··········\n",
            "Mounted at /content/gdrive\n"
          ],
          "name": "stdout"
        }
      ]
    },
    {
      "cell_type": "code",
      "metadata": {
        "id": "Ev-gbiX0ubBb",
        "colab_type": "code",
        "colab": {}
      },
      "source": [
        "# class containing parameters for CNN optimizer  \n",
        "kwargs={}\n",
        "class Args():\n",
        "  def __init__(self):\n",
        "      self.batch_size = 64\n",
        "      self.test_batch_size = 64\n",
        "      self.epochs = 10#10\n",
        "      self.lr = 0.01\n",
        "      self.momentum = 0.9\n",
        "      self.seed = 1\n",
        "      self.log_interval = int(10000 / self.batch_size)\n",
        "      self.cuda = False\n",
        "\n",
        "args = Args()\n",
        "use_cuda = torch.cuda.is_available()\n",
        "torch.manual_seed(args.seed)\n",
        "device = torch.device(\"cuda\" if use_cuda else \"cpu\")\n",
        "kwargs = {'num_workers': 1, 'pin_memory': True} if use_cuda else {}"
      ],
      "execution_count": 2,
      "outputs": []
    },
    {
      "cell_type": "code",
      "metadata": {
        "id": "9biApUT_ud1a",
        "colab_type": "code",
        "colab": {
          "base_uri": "https://localhost:8080/",
          "height": 371,
          "referenced_widgets": [
            "112efa7672254d119c42f3cb80508a61",
            "98a318757b7b41b8a74509a7f0f77a60",
            "3c7c31574d71410ca3032b3f0c9ac459",
            "20f473a77f874b858c3605a6f1e65095",
            "c8fa992c426d46afac6a17cfa04d7f22",
            "eb10187322c04f2aaeecd211dcd3b361",
            "87b7b2fad8e044fe81d8a3e5130651b0",
            "e384eab4be454ca6b9de01b15e346e93",
            "5b489a6075c04493bc5d75cba672e890",
            "ec0bdf1810094c7d8d64998485fc6bea",
            "8233ad94bac2437f9d73fcd730e5e144",
            "136eb4b7bf7a42cab35175544c9946da",
            "20abc9332bba48498425c18ab4a20d85",
            "30da84ecdaca4adda7dc9c51a0a31d1c",
            "bd123a73ff944b48b5067eb5724c7cb5",
            "6eeee38c8aeb4bb998e42d89dd2cfa3a",
            "99fcf9ecb4a34ea8b5e6eba06a31716c",
            "17b98d82705f4e54b753f93407b06db0",
            "c4bc5bc2a3cf44a9adc98f9b80a73dc0",
            "a950ec7997dd411fb69688f700f70f10",
            "2c88f07d4bb7408f8429e16a4116c7d9",
            "28c3393e8d8647af9ea20986a033d2fa",
            "00f14530961b467f99bb541e28fd29a9",
            "16a96c28794641b980d5624a92854bc4",
            "feb49e4be98d43648f475635c8116370",
            "0b5e108d9cbf42ba9cc66e73fee549a8",
            "ad11f0d0494049d08b181d46c4d4369f",
            "16d2f24cef484ebcb0547b7d92a77ecd",
            "06fa3441d10d43f8a9cc13bc88d0731a",
            "68451b3cddea4e038ae97dcbf6b2f468",
            "2f591f20c40b4f3c8a22335e9fa54e71",
            "0048a9fe01ae45888c2ff2104c75e6c6"
          ]
        },
        "outputId": "3c6aaf92-be5c-423f-cfcd-9b6ae3a8ff73"
      },
      "source": [
        "# code to download MNIST datasets for first method\n",
        "# loaders for train and test data, respectively\n",
        "# the data will be in pytorch tensor format\n",
        "\n",
        "train_loader = torch.utils.data.DataLoader(\n",
        "    dset.MNIST('../data', train=True, download=True,\n",
        "                   transform=transforms.Compose([\n",
        "                       transforms.ToTensor(),\n",
        "                   ])),\n",
        "    batch_size=args.batch_size, shuffle=True,drop_last=True, **kwargs)\n",
        "\n",
        "test_loader = torch.utils.data.DataLoader(\n",
        "    dset.MNIST('../data', train=False, transform=transforms.Compose([\n",
        "                       transforms.ToTensor(),\n",
        "                   ])),\n",
        "    batch_size=args.test_batch_size, shuffle=True,drop_last=True, **kwargs)"
      ],
      "execution_count": 3,
      "outputs": [
        {
          "output_type": "stream",
          "text": [
            "Downloading http://yann.lecun.com/exdb/mnist/train-images-idx3-ubyte.gz to ../data/MNIST/raw/train-images-idx3-ubyte.gz\n"
          ],
          "name": "stdout"
        },
        {
          "output_type": "display_data",
          "data": {
            "application/vnd.jupyter.widget-view+json": {
              "model_id": "112efa7672254d119c42f3cb80508a61",
              "version_minor": 0,
              "version_major": 2
            },
            "text/plain": [
              "HBox(children=(FloatProgress(value=1.0, bar_style='info', max=1.0), HTML(value='')))"
            ]
          },
          "metadata": {
            "tags": []
          }
        },
        {
          "output_type": "stream",
          "text": [
            "Extracting ../data/MNIST/raw/train-images-idx3-ubyte.gz to ../data/MNIST/raw\n",
            "Downloading http://yann.lecun.com/exdb/mnist/train-labels-idx1-ubyte.gz to ../data/MNIST/raw/train-labels-idx1-ubyte.gz\n"
          ],
          "name": "stdout"
        },
        {
          "output_type": "display_data",
          "data": {
            "application/vnd.jupyter.widget-view+json": {
              "model_id": "5b489a6075c04493bc5d75cba672e890",
              "version_minor": 0,
              "version_major": 2
            },
            "text/plain": [
              "HBox(children=(FloatProgress(value=1.0, bar_style='info', max=1.0), HTML(value='')))"
            ]
          },
          "metadata": {
            "tags": []
          }
        },
        {
          "output_type": "stream",
          "text": [
            "Extracting ../data/MNIST/raw/train-labels-idx1-ubyte.gz to ../data/MNIST/raw\n",
            "Downloading http://yann.lecun.com/exdb/mnist/t10k-images-idx3-ubyte.gz to ../data/MNIST/raw/t10k-images-idx3-ubyte.gz\n"
          ],
          "name": "stdout"
        },
        {
          "output_type": "display_data",
          "data": {
            "application/vnd.jupyter.widget-view+json": {
              "model_id": "99fcf9ecb4a34ea8b5e6eba06a31716c",
              "version_minor": 0,
              "version_major": 2
            },
            "text/plain": [
              "HBox(children=(FloatProgress(value=1.0, bar_style='info', max=1.0), HTML(value='')))"
            ]
          },
          "metadata": {
            "tags": []
          }
        },
        {
          "output_type": "stream",
          "text": [
            "Extracting ../data/MNIST/raw/t10k-images-idx3-ubyte.gz to ../data/MNIST/raw\n",
            "Downloading http://yann.lecun.com/exdb/mnist/t10k-labels-idx1-ubyte.gz to ../data/MNIST/raw/t10k-labels-idx1-ubyte.gz\n"
          ],
          "name": "stdout"
        },
        {
          "output_type": "display_data",
          "data": {
            "application/vnd.jupyter.widget-view+json": {
              "model_id": "feb49e4be98d43648f475635c8116370",
              "version_minor": 0,
              "version_major": 2
            },
            "text/plain": [
              "HBox(children=(FloatProgress(value=1.0, bar_style='info', max=1.0), HTML(value='')))"
            ]
          },
          "metadata": {
            "tags": []
          }
        },
        {
          "output_type": "stream",
          "text": [
            "Extracting ../data/MNIST/raw/t10k-labels-idx1-ubyte.gz to ../data/MNIST/raw\n",
            "Processing...\n",
            "Done!\n"
          ],
          "name": "stdout"
        },
        {
          "output_type": "stream",
          "text": [
            "/pytorch/torch/csrc/utils/tensor_numpy.cpp:141: UserWarning: The given NumPy array is not writeable, and PyTorch does not support non-writeable tensors. This means you can write to the underlying (supposedly non-writeable) NumPy array using the tensor. You may want to copy the array to protect its data or make it writeable before converting it to a tensor. This type of warning will be suppressed for the rest of this program.\n"
          ],
          "name": "stderr"
        }
      ]
    },
    {
      "cell_type": "code",
      "metadata": {
        "id": "osnAVmLKueKY",
        "colab_type": "code",
        "colab": {}
      },
      "source": [
        "# change folder to keep track later on\n",
        "# note - don't change before downloading the MINST data\n",
        "os.chdir(\"/content/gdrive/My Drive/\")\n",
        "# data is saved in the main directory in google drive"
      ],
      "execution_count": 4,
      "outputs": []
    },
    {
      "cell_type": "code",
      "metadata": {
        "id": "2Be06nLjueUP",
        "colab_type": "code",
        "colab": {}
      },
      "source": [
        "# arhitecture for CNN\n",
        "# will use those same parameters in the following cells\n",
        "# serves as a starting point for fully connected CNN\n",
        "number_of_filters_1 = 20\n",
        "number_of_filters_2 = 50\n",
        "nn1 = 500\n",
        "class CNN(nn.Module):\n",
        "    def __init__(self):\n",
        "        super().__init__()\n",
        "        self.conv1 = nn.Conv2d(1, number_of_filters_1, 5, 1)\n",
        "        self.conv2 = nn.Conv2d(number_of_filters_1, number_of_filters_2, 5, 1)\n",
        "        self.fc1 = nn.Linear(4*4*number_of_filters_2, nn1)\n",
        "        # 10 classes, one for each digit\n",
        "        self.fc2 = nn.Linear(nn1, 10)\n",
        "\n",
        "    def forward(self, x):\n",
        "        # activation functions\n",
        "        x = F.relu(self.conv1(x))\n",
        "        x = F.max_pool2d(x, 2, 2)\n",
        "        x = F.relu(self.conv2(x))\n",
        "        x = F.max_pool2d(x, 2, 2)\n",
        "        x = x.view(-1, 4*4*number_of_filters_2)\n",
        "        x = F.relu(self.fc1(x))\n",
        "        x = self.fc2(x)\n",
        "        return F.log_softmax(x, dim=1)"
      ],
      "execution_count": 7,
      "outputs": []
    },
    {
      "cell_type": "code",
      "metadata": {
        "id": "0vJkpvOOuecT",
        "colab_type": "code",
        "colab": {}
      },
      "source": [
        "# define a function for training and testing, respectively\n",
        "# similar to what we have done in the laboratory\n",
        "def train(args, model, device, train_loader, optimizer, epoch):\n",
        "    model.train()\n",
        "    # use batches\n",
        "    for batch_idx, (data, target) in enumerate(train_loader):\n",
        "        data, target = data.to(device), target.to(device)\n",
        "        optimizer.zero_grad()\n",
        "        output = model(data)\n",
        "        loss = F.nll_loss(output, target)\n",
        "        loss.backward()\n",
        "        optimizer.step()\n",
        "        # print loss at every step of the way\n",
        "        if batch_idx % args.log_interval == 0:\n",
        "            print('Train data performance for epoch {}:  for {:.0f}% of the data we have loss: {:.6f}'.format(epoch, 100. * batch_idx / len(train_loader), loss.item()))\n",
        "            \n",
        "def test(args, model, device, test_loader):\n",
        "    model.eval()\n",
        "    test_loss = 0\n",
        "    # for accuracy we will\n",
        "    # keep track of how many correct items classified as a percentage of total\n",
        "    correct = 0\n",
        "    with torch.no_grad():\n",
        "        for data, target in test_loader:\n",
        "            data, target = data.to(device), target.to(device)\n",
        "            output = model(data)\n",
        "            # sum up batch loss\n",
        "            test_loss += F.nll_loss(output, target, reduction='sum').item() \n",
        "            # get the index of the max log-probability\n",
        "            pred = output.argmax(dim=1, keepdim=True) \n",
        "            # increment correctly classified items\n",
        "            correct += pred.eq(target.view_as(pred)).sum().item()\n",
        "\n",
        "    # divide by the number of examples to get average loss\n",
        "    test_loss /= len(test_loader.dataset)\n",
        "    # print average loss and accuracy on test data\n",
        "    print('Computing accuracy on the test data: Average loss: {:.4f}, Accuracy: {}/{} ({:.0f}%)'.format(test_loss, correct, len(test_loader.dataset), 100. * correct / len(test_loader.dataset)))"
      ],
      "execution_count": 8,
      "outputs": []
    },
    {
      "cell_type": "code",
      "metadata": {
        "id": "vnwD42UbuekK",
        "colab_type": "code",
        "colab": {
          "base_uri": "https://localhost:8080/",
          "height": 1000
        },
        "outputId": "7e8f78d5-f501-4403-8d8f-fcd28b7d1f39"
      },
      "source": [
        "# create and train, test our CNN\n",
        "model = CNN().to(device)\n",
        "\n",
        "optimizer = optim.SGD(model.parameters(), lr=args.lr, momentum=args.momentum)\n",
        "\n",
        "for epoch in range(1, args.epochs + 1):\n",
        "    train(args, model, device, train_loader, optimizer, epoch)\n",
        "    test(args, model, device, test_loader)\n",
        "\n",
        "# we save the model to save parameters for later\n",
        "torch.save(model.state_dict(),\"conv_net.pt\")"
      ],
      "execution_count": 9,
      "outputs": [
        {
          "output_type": "stream",
          "text": [
            "Train data performance for epoch 1:  for 0% of the data we have loss: 2.301512\n",
            "Train data performance for epoch 1:  for 17% of the data we have loss: 0.418920\n",
            "Train data performance for epoch 1:  for 33% of the data we have loss: 0.218822\n",
            "Train data performance for epoch 1:  for 50% of the data we have loss: 0.129434\n",
            "Train data performance for epoch 1:  for 67% of the data we have loss: 0.006026\n",
            "Train data performance for epoch 1:  for 83% of the data we have loss: 0.042212\n",
            "Train data performance for epoch 1:  for 100% of the data we have loss: 0.069779\n",
            "Computing accuracy on the test data: Average loss: 0.0671, Accuracy: 9764/10000 (98%)\n",
            "Train data performance for epoch 2:  for 0% of the data we have loss: 0.082649\n",
            "Train data performance for epoch 2:  for 17% of the data we have loss: 0.011427\n",
            "Train data performance for epoch 2:  for 33% of the data we have loss: 0.018786\n",
            "Train data performance for epoch 2:  for 50% of the data we have loss: 0.198629\n",
            "Train data performance for epoch 2:  for 67% of the data we have loss: 0.012334\n",
            "Train data performance for epoch 2:  for 83% of the data we have loss: 0.036155\n",
            "Train data performance for epoch 2:  for 100% of the data we have loss: 0.051425\n",
            "Computing accuracy on the test data: Average loss: 0.0463, Accuracy: 9834/10000 (98%)\n",
            "Train data performance for epoch 3:  for 0% of the data we have loss: 0.013803\n",
            "Train data performance for epoch 3:  for 17% of the data we have loss: 0.033005\n",
            "Train data performance for epoch 3:  for 33% of the data we have loss: 0.027125\n",
            "Train data performance for epoch 3:  for 50% of the data we have loss: 0.006849\n",
            "Train data performance for epoch 3:  for 67% of the data we have loss: 0.141934\n",
            "Train data performance for epoch 3:  for 83% of the data we have loss: 0.189080\n",
            "Train data performance for epoch 3:  for 100% of the data we have loss: 0.002773\n",
            "Computing accuracy on the test data: Average loss: 0.0342, Accuracy: 9863/10000 (99%)\n",
            "Train data performance for epoch 4:  for 0% of the data we have loss: 0.003885\n",
            "Train data performance for epoch 4:  for 17% of the data we have loss: 0.014116\n",
            "Train data performance for epoch 4:  for 33% of the data we have loss: 0.057835\n",
            "Train data performance for epoch 4:  for 50% of the data we have loss: 0.068401\n",
            "Train data performance for epoch 4:  for 67% of the data we have loss: 0.045570\n",
            "Train data performance for epoch 4:  for 83% of the data we have loss: 0.007218\n",
            "Train data performance for epoch 4:  for 100% of the data we have loss: 0.007902\n",
            "Computing accuracy on the test data: Average loss: 0.0363, Accuracy: 9852/10000 (99%)\n",
            "Train data performance for epoch 5:  for 0% of the data we have loss: 0.004699\n",
            "Train data performance for epoch 5:  for 17% of the data we have loss: 0.003379\n",
            "Train data performance for epoch 5:  for 33% of the data we have loss: 0.086132\n",
            "Train data performance for epoch 5:  for 50% of the data we have loss: 0.002328\n",
            "Train data performance for epoch 5:  for 67% of the data we have loss: 0.087221\n",
            "Train data performance for epoch 5:  for 83% of the data we have loss: 0.007770\n",
            "Train data performance for epoch 5:  for 100% of the data we have loss: 0.040242\n",
            "Computing accuracy on the test data: Average loss: 0.0297, Accuracy: 9882/10000 (99%)\n",
            "Train data performance for epoch 6:  for 0% of the data we have loss: 0.086141\n",
            "Train data performance for epoch 6:  for 17% of the data we have loss: 0.003122\n",
            "Train data performance for epoch 6:  for 33% of the data we have loss: 0.021306\n",
            "Train data performance for epoch 6:  for 50% of the data we have loss: 0.002705\n",
            "Train data performance for epoch 6:  for 67% of the data we have loss: 0.009509\n",
            "Train data performance for epoch 6:  for 83% of the data we have loss: 0.025510\n",
            "Train data performance for epoch 6:  for 100% of the data we have loss: 0.003833\n",
            "Computing accuracy on the test data: Average loss: 0.0282, Accuracy: 9891/10000 (99%)\n",
            "Train data performance for epoch 7:  for 0% of the data we have loss: 0.006170\n",
            "Train data performance for epoch 7:  for 17% of the data we have loss: 0.027144\n",
            "Train data performance for epoch 7:  for 33% of the data we have loss: 0.003386\n",
            "Train data performance for epoch 7:  for 50% of the data we have loss: 0.022121\n",
            "Train data performance for epoch 7:  for 67% of the data we have loss: 0.021031\n",
            "Train data performance for epoch 7:  for 83% of the data we have loss: 0.017624\n",
            "Train data performance for epoch 7:  for 100% of the data we have loss: 0.001279\n",
            "Computing accuracy on the test data: Average loss: 0.0302, Accuracy: 9885/10000 (99%)\n",
            "Train data performance for epoch 8:  for 0% of the data we have loss: 0.000871\n",
            "Train data performance for epoch 8:  for 17% of the data we have loss: 0.000522\n",
            "Train data performance for epoch 8:  for 33% of the data we have loss: 0.000809\n",
            "Train data performance for epoch 8:  for 50% of the data we have loss: 0.003982\n",
            "Train data performance for epoch 8:  for 67% of the data we have loss: 0.000313\n",
            "Train data performance for epoch 8:  for 83% of the data we have loss: 0.009610\n",
            "Train data performance for epoch 8:  for 100% of the data we have loss: 0.003091\n",
            "Computing accuracy on the test data: Average loss: 0.0247, Accuracy: 9909/10000 (99%)\n",
            "Train data performance for epoch 9:  for 0% of the data we have loss: 0.028068\n",
            "Train data performance for epoch 9:  for 17% of the data we have loss: 0.000300\n",
            "Train data performance for epoch 9:  for 33% of the data we have loss: 0.026242\n",
            "Train data performance for epoch 9:  for 50% of the data we have loss: 0.000457\n",
            "Train data performance for epoch 9:  for 67% of the data we have loss: 0.029997\n",
            "Train data performance for epoch 9:  for 83% of the data we have loss: 0.004921\n",
            "Train data performance for epoch 9:  for 100% of the data we have loss: 0.004191\n",
            "Computing accuracy on the test data: Average loss: 0.0277, Accuracy: 9903/10000 (99%)\n",
            "Train data performance for epoch 10:  for 0% of the data we have loss: 0.039706\n",
            "Train data performance for epoch 10:  for 17% of the data we have loss: 0.004764\n",
            "Train data performance for epoch 10:  for 33% of the data we have loss: 0.000115\n",
            "Train data performance for epoch 10:  for 50% of the data we have loss: 0.000539\n",
            "Train data performance for epoch 10:  for 67% of the data we have loss: 0.001436\n",
            "Train data performance for epoch 10:  for 83% of the data we have loss: 0.001003\n",
            "Train data performance for epoch 10:  for 100% of the data we have loss: 0.006195\n",
            "Computing accuracy on the test data: Average loss: 0.0365, Accuracy: 9872/10000 (99%)\n"
          ],
          "name": "stdout"
        }
      ]
    },
    {
      "cell_type": "markdown",
      "metadata": {
        "id": "po760b-Qu0U_",
        "colab_type": "text"
      },
      "source": [
        "Epsilons: List of epsilon values to use for the run. It is important to keep 0 in the list because it represents the model performance on the original test set. Also, intuitively we would expect the larger the epsilon, the more noticeable the perturbations but the more effective the attack in terms of degrading model accuracy. Since the data range here is [0,1], no epsilon value should exceed 1."
      ]
    },
    {
      "cell_type": "code",
      "metadata": {
        "id": "lcCk9jfrueq_",
        "colab_type": "code",
        "colab": {}
      },
      "source": [
        "epsilons = [0, .05, .1, .15, .2, .25, .3]\n",
        "pretrained_model = \"conv_net.pt\"\n",
        "use_cuda=True"
      ],
      "execution_count": null,
      "outputs": []
    },
    {
      "cell_type": "code",
      "metadata": {
        "id": "NaYlQoAhuexR",
        "colab_type": "code",
        "colab": {}
      },
      "source": [
        ""
      ],
      "execution_count": null,
      "outputs": []
    },
    {
      "cell_type": "code",
      "metadata": {
        "id": "EADj6Gs1ue8N",
        "colab_type": "code",
        "colab": {}
      },
      "source": [
        ""
      ],
      "execution_count": null,
      "outputs": []
    },
    {
      "cell_type": "code",
      "metadata": {
        "id": "5AiIvIfr4oY6",
        "colab_type": "code",
        "colab": {}
      },
      "source": [
        ""
      ],
      "execution_count": null,
      "outputs": []
    },
    {
      "cell_type": "code",
      "metadata": {
        "id": "HDKMFdca4od9",
        "colab_type": "code",
        "colab": {}
      },
      "source": [
        ""
      ],
      "execution_count": null,
      "outputs": []
    },
    {
      "cell_type": "code",
      "metadata": {
        "id": "q-vVDPJR4oi4",
        "colab_type": "code",
        "colab": {}
      },
      "source": [
        ""
      ],
      "execution_count": null,
      "outputs": []
    },
    {
      "cell_type": "code",
      "metadata": {
        "id": "lSNX3w7t4onC",
        "colab_type": "code",
        "colab": {}
      },
      "source": [
        ""
      ],
      "execution_count": null,
      "outputs": []
    },
    {
      "cell_type": "markdown",
      "metadata": {
        "id": "GvdC0Hj_aip1",
        "colab_type": "text"
      },
      "source": [
        "# Let's do a black box SimBa attack"
      ]
    },
    {
      "cell_type": "code",
      "metadata": {
        "id": "a-5pcN4XeTwv",
        "colab_type": "code",
        "colab": {}
      },
      "source": [
        "def get_probs(model, x, y):\n",
        "    output = model(x)\n",
        "    probs = torch.nn.Softmax()(output)[:, y]\n",
        "    return torch.diag(probs.data)\n",
        "\n",
        "# 20-line implementation of (untargeted) SimBA for single image input\n",
        "def simba_single(model, x, y, num_iters=10000, epsilon=0.2):\n",
        "    n_dims = x.view(1, -1).size(1)\n",
        "    perm = torch.randperm(n_dims)\n",
        "    last_prob = get_probs(model, x, y)\n",
        "    for i in range(num_iters):\n",
        "        diff = torch.zeros(n_dims)\n",
        "        diff[perm[i]] = epsilon\n",
        "        left_prob = get_probs(model, (x - diff.view(x.size())).clamp(0, 1), y)\n",
        "        if left_prob < last_prob:\n",
        "            x = (x - diff.view(x.size())).clamp(0, 1)\n",
        "            last_prob = left_prob\n",
        "        else:\n",
        "            right_prob = get_probs(model, (x + diff.view(x.size())).clamp(0, 1), y)\n",
        "            if right_prob < last_prob:\n",
        "                x = (x + diff.view(x.size())).clamp(0, 1)\n",
        "                last_prob = right_prob\n",
        "        # Here I want that if the model missclasify it to stop the procedure\n",
        "        if model(x).argmax() != y:\n",
        "          break\n",
        "\n",
        "    return x"
      ],
      "execution_count": 78,
      "outputs": []
    },
    {
      "cell_type": "code",
      "metadata": {
        "id": "oufpjr5Nexp7",
        "colab_type": "code",
        "colab": {
          "base_uri": "https://localhost:8080/",
          "height": 73
        },
        "outputId": "badc404d-e422-41d0-90a1-e38995e4995e"
      },
      "source": [
        "print(model(xx).argmax())\n",
        "print(y)\n",
        "if model(xx).argmax() == y:\n",
        "  print(\"dsd\")"
      ],
      "execution_count": 79,
      "outputs": [
        {
          "output_type": "stream",
          "text": [
            "tensor(4)\n",
            "tensor(4)\n",
            "dsd\n"
          ],
          "name": "stdout"
        }
      ]
    },
    {
      "cell_type": "markdown",
      "metadata": {
        "id": "PdDXhWvzfJS1",
        "colab_type": "text"
      },
      "source": [
        "We can attack now"
      ]
    },
    {
      "cell_type": "code",
      "metadata": {
        "id": "Dsw65SSwgF2x",
        "colab_type": "code",
        "colab": {
          "base_uri": "https://localhost:8080/",
          "height": 359
        },
        "outputId": "1554dce7-92c7-4a2d-f7c6-92b04bcb569e"
      },
      "source": [
        "for batch_idx, (data, target) in enumerate(test_loader):\n",
        "        data, target = data.to(device), target.to(device)\n",
        "        output = model(data)\n",
        "        plt.imshow(data[0][0])\n",
        "        print(data.size(), target.size())\n",
        "        print(torch.nn.Softmax()(output[0]).argmax())\n",
        "        x = data[0]\n",
        "        y = target[0]\n",
        "        print(x.size(), y.size())\n",
        "        break\n"
      ],
      "execution_count": 80,
      "outputs": [
        {
          "output_type": "stream",
          "text": [
            "torch.Size([64, 1, 28, 28]) torch.Size([64])\n",
            "tensor(1)\n",
            "torch.Size([1, 28, 28]) torch.Size([])\n"
          ],
          "name": "stdout"
        },
        {
          "output_type": "stream",
          "text": [
            "/usr/local/lib/python3.6/dist-packages/ipykernel_launcher.py:6: UserWarning: Implicit dimension choice for softmax has been deprecated. Change the call to include dim=X as an argument.\n",
            "  \n"
          ],
          "name": "stderr"
        },
        {
          "output_type": "display_data",
          "data": {
            "image/png": "[encoded data removed]",
            "text/plain": [
              "<Figure size 432x288 with 1 Axes>"
            ]
          },
          "metadata": {
            "tags": [],
            "needs_background": "light"
          }
        }
      ]
    },
    {
      "cell_type": "code",
      "metadata": {
        "id": "hk6rWA7tjoTi",
        "colab_type": "code",
        "colab": {
          "base_uri": "https://localhost:8080/",
          "height": 92
        },
        "outputId": "6cc6e053-9fe7-4f88-f9c2-9c47729a3aff"
      },
      "source": [
        "#copy \n",
        "\n",
        "for batch_idx, (data, target) in enumerate(test_loader):\n",
        "        data, target = data.to(device), target.to(device)\n",
        "        initial_predictions = model(data)\n",
        "        initial_predictions = initial_predictions.argmax(dim=1, keepdim=True)\n",
        "        initial_correctness = 0\n",
        "        initial_correctness += initial_predictions.eq(target.view_as(initial_predictions)).sum().item()\n",
        "        \n",
        "        print('Initial accuracy was ', 100.  * initial_correctness / len(target), \"%\")\n",
        "\n",
        "        bigger_result = torch.zeros(1,1,28,28)\n",
        "        for x, y in zip(data,target):\n",
        "          x = x.unsqueeze(dim=0)\n",
        "          result = simba_single(model, x, y, 784, 0.1)\n",
        "          result.unsqueeze(dim=0)\n",
        "          bigger_result = torch.cat((bigger_result, result))\n",
        "\n",
        "        final_result = bigger_result[1:]\n",
        "        final_predictions = model(final_result).argmax(dim=1, keepdim=True)\n",
        "        final_corectness = 0\n",
        "        final_corectness += final_predictions.eq(target.view_as(final_predictions)).sum().item()\n",
        "        \n",
        "        print('Final accuracy was ', 100.  * final_corectness / len(target),\"%\")\n",
        "        break\n"
      ],
      "execution_count": 120,
      "outputs": [
        {
          "output_type": "stream",
          "text": [
            "Initial accuracy was  100.0 %\n"
          ],
          "name": "stdout"
        },
        {
          "output_type": "stream",
          "text": [
            "/usr/local/lib/python3.6/dist-packages/ipykernel_launcher.py:3: UserWarning: Implicit dimension choice for softmax has been deprecated. Change the call to include dim=X as an argument.\n",
            "  This is separate from the ipykernel package so we can avoid doing imports until\n"
          ],
          "name": "stderr"
        },
        {
          "output_type": "stream",
          "text": [
            "Final accuracy was  75.0 %\n"
          ],
          "name": "stdout"
        }
      ]
    },
    {
      "cell_type": "code",
      "metadata": {
        "id": "0QvWbNqvoYM4",
        "colab_type": "code",
        "colab": {
          "base_uri": "https://localhost:8080/",
          "height": 36
        },
        "outputId": "4128d753-4e13-4f6b-faa2-662d58ade55d"
      },
      "source": [
        "bigger_result[0]\n",
        "another_result = bigger_result[1:]\n",
        "another_result.size()"
      ],
      "execution_count": 116,
      "outputs": [
        {
          "output_type": "execute_result",
          "data": {
            "text/plain": [
              "torch.Size([64, 1, 28, 28])"
            ]
          },
          "metadata": {
            "tags": []
          },
          "execution_count": 116
        }
      ]
    },
    {
      "cell_type": "code",
      "metadata": {
        "id": "CjnbS5pOgFqY",
        "colab_type": "code",
        "colab": {
          "base_uri": "https://localhost:8080/",
          "height": 54
        },
        "outputId": "08433c76-27cc-4ae0-fec8-5138dc393e07"
      },
      "source": [
        "xx = x.unsqueeze(dim=0)\n",
        "print(y)\n",
        "new_output = model(xx)\n",
        "print(new_output.argmax())"
      ],
      "execution_count": 81,
      "outputs": [
        {
          "output_type": "stream",
          "text": [
            "tensor(1)\n",
            "tensor(1)\n"
          ],
          "name": "stdout"
        }
      ]
    },
    {
      "cell_type": "code",
      "metadata": {
        "id": "MNHRf5LSgFgf",
        "colab_type": "code",
        "colab": {
          "base_uri": "https://localhost:8080/",
          "height": 284
        },
        "outputId": "01dfa470-4fd3-4eee-c73e-dce93efd9de6"
      },
      "source": [
        "# plt.imshow(  x.permute(1, 2, 0)  )\n",
        "plt.imshow(xx[0][0], cmap='gray')"
      ],
      "execution_count": 82,
      "outputs": [
        {
          "output_type": "execute_result",
          "data": {
            "text/plain": [
              "<matplotlib.image.AxesImage at 0x7f841b017f98>"
            ]
          },
          "metadata": {
            "tags": []
          },
          "execution_count": 82
        },
        {
          "output_type": "display_data",
          "data": {
            "image/png": "[encoded data removed]",
            "text/plain": [
              "<Figure size 432x288 with 1 Axes>"
            ]
          },
          "metadata": {
            "tags": [],
            "needs_background": "light"
          }
        }
      ]
    },
    {
      "cell_type": "code",
      "metadata": {
        "id": "_ri5nsj1crfG",
        "colab_type": "code",
        "colab": {}
      },
      "source": [
        "n_dims = xx.view(1, -1).size(1)\n",
        "perm = torch.randperm(n_dims)"
      ],
      "execution_count": 83,
      "outputs": []
    },
    {
      "cell_type": "code",
      "metadata": {
        "id": "2K8tj6XKaTRr",
        "colab_type": "code",
        "colab": {
          "base_uri": "https://localhost:8080/",
          "height": 73
        },
        "outputId": "47754df1-ccda-4a44-9cf5-708fc1011610"
      },
      "source": [
        "adversarial = simba_single(model, xx, y, 784)\n",
        "\n",
        "print(adversarial.size())"
      ],
      "execution_count": 84,
      "outputs": [
        {
          "output_type": "stream",
          "text": [
            "/usr/local/lib/python3.6/dist-packages/ipykernel_launcher.py:3: UserWarning: Implicit dimension choice for softmax has been deprecated. Change the call to include dim=X as an argument.\n",
            "  This is separate from the ipykernel package so we can avoid doing imports until\n"
          ],
          "name": "stderr"
        },
        {
          "output_type": "stream",
          "text": [
            "torch.Size([1, 1, 28, 28])\n"
          ],
          "name": "stdout"
        }
      ]
    },
    {
      "cell_type": "code",
      "metadata": {
        "id": "tLmDgkNSSNGW",
        "colab_type": "code",
        "colab": {
          "base_uri": "https://localhost:8080/",
          "height": 36
        },
        "outputId": "805bb357-8857-4e44-f282-2a0b5bd3baea"
      },
      "source": [
        "print(xx.size(), y.size())"
      ],
      "execution_count": 85,
      "outputs": [
        {
          "output_type": "stream",
          "text": [
            "torch.Size([1, 1, 28, 28]) torch.Size([])\n"
          ],
          "name": "stdout"
        }
      ]
    },
    {
      "cell_type": "code",
      "metadata": {
        "id": "MyCvFqQRdxb2",
        "colab_type": "code",
        "colab": {
          "base_uri": "https://localhost:8080/",
          "height": 284
        },
        "outputId": "dd906128-4c0f-4f83-d989-42c3eaa3f2ab"
      },
      "source": [
        "plt.imshow(adversarial[0][0], cmap='gray')\n",
        "\n",
        "bad_output = model(adversarial)\n",
        "print(bad_output.argmax())"
      ],
      "execution_count": 86,
      "outputs": [
        {
          "output_type": "stream",
          "text": [
            "tensor(2)\n"
          ],
          "name": "stdout"
        },
        {
          "output_type": "display_data",
          "data": {
            "image/png": "[encoded data removed]",
            "text/plain": [
              "<Figure size 432x288 with 1 Axes>"
            ]
          },
          "metadata": {
            "tags": [],
            "needs_background": "light"
          }
        }
      ]
    },
    {
      "cell_type": "code",
      "metadata": {
        "id": "Wu_OvFIogFQg",
        "colab_type": "code",
        "colab": {}
      },
      "source": [
        "epsilons = [0, .05, .1, .15, .2, .25, .3]\n"
      ],
      "execution_count": null,
      "outputs": []
    },
    {
      "cell_type": "code",
      "metadata": {
        "id": "9LlxNXLkgOXW",
        "colab_type": "code",
        "colab": {}
      },
      "source": [
        "def test( model, device, test_loader, epsilon ):\n",
        "\n",
        "    # Accuracy counter\n",
        "    correct = 0\n",
        "    adv_examples = []\n",
        "\n",
        "    # Loop over all examples in test set\n",
        "    for data, target in test_loader:\n",
        "\n",
        "        # Send the data and label to the device\n",
        "        data, target = data.to(device), target.to(device)\n",
        "\n",
        "        # Forward pass the data through the model\n",
        "        output = model(data)\n",
        "        init_pred = output.max(1, keepdim=True)[1] # get the index of the max log-probability\n",
        "\n",
        "        init_pred = init_pred.squeeze()\n",
        "        # If the initial prediction is wrong, dont bother attacking, just move on\n",
        "\n",
        "        # print(init_pred[0].item())\n",
        "        # print(target[0].item())\n",
        "\n",
        "        if init_pred[0].item() != target[0].item():\n",
        "            continue\n",
        "\n",
        "        for \n",
        "\n",
        "        # Re-classify the perturbed image\n",
        "        output = model(perturbed_data)\n",
        "\n",
        "        # Check for success\n",
        "        final_pred = output.max(1, keepdim=True)[1] # get the index of the max log-probability\n",
        "        if final_pred[0].item() == target[0].item():\n",
        "            correct += 1\n",
        "            # Special case for saving 0 epsilon examples\n",
        "            if (epsilon == 0) and (len(adv_examples) < 5):\n",
        "                adv_ex = perturbed_data.squeeze().detach().cpu().numpy()\n",
        "                adv_examples.append( (init_pred[0].item(), final_pred[0].item(), adv_ex) )\n",
        "        else:\n",
        "            # Save some adv examples for visualization later\n",
        "            if len(adv_examples) < 5:\n",
        "                adv_ex = perturbed_data.squeeze().detach().cpu().numpy()\n",
        "                adv_examples.append( (init_pred[0].item(), final_pred[0].item(), adv_ex) )\n",
        "\n",
        "    # Calculate final accuracy for this epsilon\n",
        "    final_acc = correct/float(len(test_loader))\n",
        "    print(\"Epsilon: {}\\tTest Accuracy = {} / {} = {}\".format(epsilon, correct, len(test_loader), final_acc))\n",
        "    # Return the accuracy and an adversarial example\n",
        "    return final_acc, adv_examples"
      ],
      "execution_count": null,
      "outputs": []
    },
    {
      "cell_type": "code",
      "metadata": {
        "id": "-yvSe24ZgOTv",
        "colab_type": "code",
        "colab": {}
      },
      "source": [
        ""
      ],
      "execution_count": null,
      "outputs": []
    },
    {
      "cell_type": "code",
      "metadata": {
        "id": "UAtT3nCMgN_W",
        "colab_type": "code",
        "colab": {}
      },
      "source": [
        ""
      ],
      "execution_count": null,
      "outputs": []
    }
  ]
}