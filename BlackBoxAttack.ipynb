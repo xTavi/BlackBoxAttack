{
  "nbformat": 4,
  "nbformat_minor": 0,
  "metadata": {
    "colab": {
      "name": "Copie a fișierului Proiect",
      "provenance": [],
      "collapsed_sections": [],
      "authorship_tag": "ABX9TyPhTfORI0UjTpx11eRmWg7X",
      "include_colab_link": true
    },
    "kernelspec": {
      "name": "python3",
      "display_name": "Python 3"
    },
    "widgets": {
      "application/vnd.jupyter.widget-state+json": {
        "41d26f52b7104adfa7d3b684d30365bd": {
          "model_module": "@jupyter-widgets/controls",
          "model_name": "HBoxModel",
          "state": {
            "_view_name": "HBoxView",
            "_dom_classes": [],
            "_model_name": "HBoxModel",
            "_view_module": "@jupyter-widgets/controls",
            "_model_module_version": "1.5.0",
            "_view_count": null,
            "_view_module_version": "1.5.0",
            "box_style": "",
            "layout": "IPY_MODEL_7b055f5ce74245d2bb74ebd3c1c976ee",
            "_model_module": "@jupyter-widgets/controls",
            "children": [
              "IPY_MODEL_cae30dcc2bb041988c7e3ab4d0a7d72b",
              "IPY_MODEL_e0411d78a6a74483bbe97320673e2775"
            ]
          }
        },
        "7b055f5ce74245d2bb74ebd3c1c976ee": {
          "model_module": "@jupyter-widgets/base",
          "model_name": "LayoutModel",
          "state": {
            "_view_name": "LayoutView",
            "grid_template_rows": null,
            "right": null,
            "justify_content": null,
            "_view_module": "@jupyter-widgets/base",
            "overflow": null,
            "_model_module_version": "1.2.0",
            "_view_count": null,
            "flex_flow": null,
            "width": null,
            "min_width": null,
            "border": null,
            "align_items": null,
            "bottom": null,
            "_model_module": "@jupyter-widgets/base",
            "top": null,
            "grid_column": null,
            "overflow_y": null,
            "overflow_x": null,
            "grid_auto_flow": null,
            "grid_area": null,
            "grid_template_columns": null,
            "flex": null,
            "_model_name": "LayoutModel",
            "justify_items": null,
            "grid_row": null,
            "max_height": null,
            "align_content": null,
            "visibility": null,
            "align_self": null,
            "height": null,
            "min_height": null,
            "padding": null,
            "grid_auto_rows": null,
            "grid_gap": null,
            "max_width": null,
            "order": null,
            "_view_module_version": "1.2.0",
            "grid_template_areas": null,
            "object_position": null,
            "object_fit": null,
            "grid_auto_columns": null,
            "margin": null,
            "display": null,
            "left": null
          }
        },
        "cae30dcc2bb041988c7e3ab4d0a7d72b": {
          "model_module": "@jupyter-widgets/controls",
          "model_name": "FloatProgressModel",
          "state": {
            "_view_name": "ProgressView",
            "style": "IPY_MODEL_bfe99a8026a741fb94828f80a8d0a0fa",
            "_dom_classes": [],
            "description": "",
            "_model_name": "FloatProgressModel",
            "bar_style": "success",
            "max": 1,
            "_view_module": "@jupyter-widgets/controls",
            "_model_module_version": "1.5.0",
            "value": 1,
            "_view_count": null,
            "_view_module_version": "1.5.0",
            "orientation": "horizontal",
            "min": 0,
            "description_tooltip": null,
            "_model_module": "@jupyter-widgets/controls",
            "layout": "IPY_MODEL_44904fd514fd430992984c52868884a0"
          }
        },
        "e0411d78a6a74483bbe97320673e2775": {
          "model_module": "@jupyter-widgets/controls",
          "model_name": "HTMLModel",
          "state": {
            "_view_name": "HTMLView",
            "style": "IPY_MODEL_3b56afc7b0e04c1ea9a66555d2ebb6e4",
            "_dom_classes": [],
            "description": "",
            "_model_name": "HTMLModel",
            "placeholder": "​",
            "_view_module": "@jupyter-widgets/controls",
            "_model_module_version": "1.5.0",
            "value": " 9920512/? [00:00&lt;00:00, 31833192.31it/s]",
            "_view_count": null,
            "_view_module_version": "1.5.0",
            "description_tooltip": null,
            "_model_module": "@jupyter-widgets/controls",
            "layout": "IPY_MODEL_a510e8e1ef9441c9acc0ab98813d2822"
          }
        },
        "bfe99a8026a741fb94828f80a8d0a0fa": {
          "model_module": "@jupyter-widgets/controls",
          "model_name": "ProgressStyleModel",
          "state": {
            "_view_name": "StyleView",
            "_model_name": "ProgressStyleModel",
            "description_width": "initial",
            "_view_module": "@jupyter-widgets/base",
            "_model_module_version": "1.5.0",
            "_view_count": null,
            "_view_module_version": "1.2.0",
            "bar_color": null,
            "_model_module": "@jupyter-widgets/controls"
          }
        },
        "44904fd514fd430992984c52868884a0": {
          "model_module": "@jupyter-widgets/base",
          "model_name": "LayoutModel",
          "state": {
            "_view_name": "LayoutView",
            "grid_template_rows": null,
            "right": null,
            "justify_content": null,
            "_view_module": "@jupyter-widgets/base",
            "overflow": null,
            "_model_module_version": "1.2.0",
            "_view_count": null,
            "flex_flow": null,
            "width": null,
            "min_width": null,
            "border": null,
            "align_items": null,
            "bottom": null,
            "_model_module": "@jupyter-widgets/base",
            "top": null,
            "grid_column": null,
            "overflow_y": null,
            "overflow_x": null,
            "grid_auto_flow": null,
            "grid_area": null,
            "grid_template_columns": null,
            "flex": null,
            "_model_name": "LayoutModel",
            "justify_items": null,
            "grid_row": null,
            "max_height": null,
            "align_content": null,
            "visibility": null,
            "align_self": null,
            "height": null,
            "min_height": null,
            "padding": null,
            "grid_auto_rows": null,
            "grid_gap": null,
            "max_width": null,
            "order": null,
            "_view_module_version": "1.2.0",
            "grid_template_areas": null,
            "object_position": null,
            "object_fit": null,
            "grid_auto_columns": null,
            "margin": null,
            "display": null,
            "left": null
          }
        },
        "3b56afc7b0e04c1ea9a66555d2ebb6e4": {
          "model_module": "@jupyter-widgets/controls",
          "model_name": "DescriptionStyleModel",
          "state": {
            "_view_name": "StyleView",
            "_model_name": "DescriptionStyleModel",
            "description_width": "",
            "_view_module": "@jupyter-widgets/base",
            "_model_module_version": "1.5.0",
            "_view_count": null,
            "_view_module_version": "1.2.0",
            "_model_module": "@jupyter-widgets/controls"
          }
        },
        "a510e8e1ef9441c9acc0ab98813d2822": {
          "model_module": "@jupyter-widgets/base",
          "model_name": "LayoutModel",
          "state": {
            "_view_name": "LayoutView",
            "grid_template_rows": null,
            "right": null,
            "justify_content": null,
            "_view_module": "@jupyter-widgets/base",
            "overflow": null,
            "_model_module_version": "1.2.0",
            "_view_count": null,
            "flex_flow": null,
            "width": null,
            "min_width": null,
            "border": null,
            "align_items": null,
            "bottom": null,
            "_model_module": "@jupyter-widgets/base",
            "top": null,
            "grid_column": null,
            "overflow_y": null,
            "overflow_x": null,
            "grid_auto_flow": null,
            "grid_area": null,
            "grid_template_columns": null,
            "flex": null,
            "_model_name": "LayoutModel",
            "justify_items": null,
            "grid_row": null,
            "max_height": null,
            "align_content": null,
            "visibility": null,
            "align_self": null,
            "height": null,
            "min_height": null,
            "padding": null,
            "grid_auto_rows": null,
            "grid_gap": null,
            "max_width": null,
            "order": null,
            "_view_module_version": "1.2.0",
            "grid_template_areas": null,
            "object_position": null,
            "object_fit": null,
            "grid_auto_columns": null,
            "margin": null,
            "display": null,
            "left": null
          }
        },
        "a48ff32f96c54ef5acf4c8dbb7a19ec8": {
          "model_module": "@jupyter-widgets/controls",
          "model_name": "HBoxModel",
          "state": {
            "_view_name": "HBoxView",
            "_dom_classes": [],
            "_model_name": "HBoxModel",
            "_view_module": "@jupyter-widgets/controls",
            "_model_module_version": "1.5.0",
            "_view_count": null,
            "_view_module_version": "1.5.0",
            "box_style": "",
            "layout": "IPY_MODEL_4585423337804858b4ef2492642b827e",
            "_model_module": "@jupyter-widgets/controls",
            "children": [
              "IPY_MODEL_6e4b2e60daee4e5ebdbe10868e132c40",
              "IPY_MODEL_ca577b98a68d43168780fc327ae07c1f"
            ]
          }
        },
        "4585423337804858b4ef2492642b827e": {
          "model_module": "@jupyter-widgets/base",
          "model_name": "LayoutModel",
          "state": {
            "_view_name": "LayoutView",
            "grid_template_rows": null,
            "right": null,
            "justify_content": null,
            "_view_module": "@jupyter-widgets/base",
            "overflow": null,
            "_model_module_version": "1.2.0",
            "_view_count": null,
            "flex_flow": null,
            "width": null,
            "min_width": null,
            "border": null,
            "align_items": null,
            "bottom": null,
            "_model_module": "@jupyter-widgets/base",
            "top": null,
            "grid_column": null,
            "overflow_y": null,
            "overflow_x": null,
            "grid_auto_flow": null,
            "grid_area": null,
            "grid_template_columns": null,
            "flex": null,
            "_model_name": "LayoutModel",
            "justify_items": null,
            "grid_row": null,
            "max_height": null,
            "align_content": null,
            "visibility": null,
            "align_self": null,
            "height": null,
            "min_height": null,
            "padding": null,
            "grid_auto_rows": null,
            "grid_gap": null,
            "max_width": null,
            "order": null,
            "_view_module_version": "1.2.0",
            "grid_template_areas": null,
            "object_position": null,
            "object_fit": null,
            "grid_auto_columns": null,
            "margin": null,
            "display": null,
            "left": null
          }
        },
        "6e4b2e60daee4e5ebdbe10868e132c40": {
          "model_module": "@jupyter-widgets/controls",
          "model_name": "FloatProgressModel",
          "state": {
            "_view_name": "ProgressView",
            "style": "IPY_MODEL_11e498a5d7ee4c51a5f1295daf73a8e7",
            "_dom_classes": [],
            "description": "",
            "_model_name": "FloatProgressModel",
            "bar_style": "info",
            "max": 1,
            "_view_module": "@jupyter-widgets/controls",
            "_model_module_version": "1.5.0",
            "value": 1,
            "_view_count": null,
            "_view_module_version": "1.5.0",
            "orientation": "horizontal",
            "min": 0,
            "description_tooltip": null,
            "_model_module": "@jupyter-widgets/controls",
            "layout": "IPY_MODEL_318ba4016bbc45e29d328328e46b3a4e"
          }
        },
        "ca577b98a68d43168780fc327ae07c1f": {
          "model_module": "@jupyter-widgets/controls",
          "model_name": "HTMLModel",
          "state": {
            "_view_name": "HTMLView",
            "style": "IPY_MODEL_8ca3bdbc18974820b068bf7dfcc9353c",
            "_dom_classes": [],
            "description": "",
            "_model_name": "HTMLModel",
            "placeholder": "​",
            "_view_module": "@jupyter-widgets/controls",
            "_model_module_version": "1.5.0",
            "value": " 32768/? [00:20&lt;00:00, 162375.24it/s]",
            "_view_count": null,
            "_view_module_version": "1.5.0",
            "description_tooltip": null,
            "_model_module": "@jupyter-widgets/controls",
            "layout": "IPY_MODEL_61b18f83a4124ae68ddd7cfda4941d05"
          }
        },
        "11e498a5d7ee4c51a5f1295daf73a8e7": {
          "model_module": "@jupyter-widgets/controls",
          "model_name": "ProgressStyleModel",
          "state": {
            "_view_name": "StyleView",
            "_model_name": "ProgressStyleModel",
            "description_width": "initial",
            "_view_module": "@jupyter-widgets/base",
            "_model_module_version": "1.5.0",
            "_view_count": null,
            "_view_module_version": "1.2.0",
            "bar_color": null,
            "_model_module": "@jupyter-widgets/controls"
          }
        },
        "318ba4016bbc45e29d328328e46b3a4e": {
          "model_module": "@jupyter-widgets/base",
          "model_name": "LayoutModel",
          "state": {
            "_view_name": "LayoutView",
            "grid_template_rows": null,
            "right": null,
            "justify_content": null,
            "_view_module": "@jupyter-widgets/base",
            "overflow": null,
            "_model_module_version": "1.2.0",
            "_view_count": null,
            "flex_flow": null,
            "width": null,
            "min_width": null,
            "border": null,
            "align_items": null,
            "bottom": null,
            "_model_module": "@jupyter-widgets/base",
            "top": null,
            "grid_column": null,
            "overflow_y": null,
            "overflow_x": null,
            "grid_auto_flow": null,
            "grid_area": null,
            "grid_template_columns": null,
            "flex": null,
            "_model_name": "LayoutModel",
            "justify_items": null,
            "grid_row": null,
            "max_height": null,
            "align_content": null,
            "visibility": null,
            "align_self": null,
            "height": null,
            "min_height": null,
            "padding": null,
            "grid_auto_rows": null,
            "grid_gap": null,
            "max_width": null,
            "order": null,
            "_view_module_version": "1.2.0",
            "grid_template_areas": null,
            "object_position": null,
            "object_fit": null,
            "grid_auto_columns": null,
            "margin": null,
            "display": null,
            "left": null
          }
        },
        "8ca3bdbc18974820b068bf7dfcc9353c": {
          "model_module": "@jupyter-widgets/controls",
          "model_name": "DescriptionStyleModel",
          "state": {
            "_view_name": "StyleView",
            "_model_name": "DescriptionStyleModel",
            "description_width": "",
            "_view_module": "@jupyter-widgets/base",
            "_model_module_version": "1.5.0",
            "_view_count": null,
            "_view_module_version": "1.2.0",
            "_model_module": "@jupyter-widgets/controls"
          }
        },
        "61b18f83a4124ae68ddd7cfda4941d05": {
          "model_module": "@jupyter-widgets/base",
          "model_name": "LayoutModel",
          "state": {
            "_view_name": "LayoutView",
            "grid_template_rows": null,
            "right": null,
            "justify_content": null,
            "_view_module": "@jupyter-widgets/base",
            "overflow": null,
            "_model_module_version": "1.2.0",
            "_view_count": null,
            "flex_flow": null,
            "width": null,
            "min_width": null,
            "border": null,
            "align_items": null,
            "bottom": null,
            "_model_module": "@jupyter-widgets/base",
            "top": null,
            "grid_column": null,
            "overflow_y": null,
            "overflow_x": null,
            "grid_auto_flow": null,
            "grid_area": null,
            "grid_template_columns": null,
            "flex": null,
            "_model_name": "LayoutModel",
            "justify_items": null,
            "grid_row": null,
            "max_height": null,
            "align_content": null,
            "visibility": null,
            "align_self": null,
            "height": null,
            "min_height": null,
            "padding": null,
            "grid_auto_rows": null,
            "grid_gap": null,
            "max_width": null,
            "order": null,
            "_view_module_version": "1.2.0",
            "grid_template_areas": null,
            "object_position": null,
            "object_fit": null,
            "grid_auto_columns": null,
            "margin": null,
            "display": null,
            "left": null
          }
        },
        "271b1962bb5f4f03bab038300ae71206": {
          "model_module": "@jupyter-widgets/controls",
          "model_name": "HBoxModel",
          "state": {
            "_view_name": "HBoxView",
            "_dom_classes": [],
            "_model_name": "HBoxModel",
            "_view_module": "@jupyter-widgets/controls",
            "_model_module_version": "1.5.0",
            "_view_count": null,
            "_view_module_version": "1.5.0",
            "box_style": "",
            "layout": "IPY_MODEL_2376458c13cf4bc69a92b5d9890ccc94",
            "_model_module": "@jupyter-widgets/controls",
            "children": [
              "IPY_MODEL_bca40772df8e47258abe41e04aaaa413",
              "IPY_MODEL_ca4417f60a104bf598b5fbf24f523c39"
            ]
          }
        },
        "2376458c13cf4bc69a92b5d9890ccc94": {
          "model_module": "@jupyter-widgets/base",
          "model_name": "LayoutModel",
          "state": {
            "_view_name": "LayoutView",
            "grid_template_rows": null,
            "right": null,
            "justify_content": null,
            "_view_module": "@jupyter-widgets/base",
            "overflow": null,
            "_model_module_version": "1.2.0",
            "_view_count": null,
            "flex_flow": null,
            "width": null,
            "min_width": null,
            "border": null,
            "align_items": null,
            "bottom": null,
            "_model_module": "@jupyter-widgets/base",
            "top": null,
            "grid_column": null,
            "overflow_y": null,
            "overflow_x": null,
            "grid_auto_flow": null,
            "grid_area": null,
            "grid_template_columns": null,
            "flex": null,
            "_model_name": "LayoutModel",
            "justify_items": null,
            "grid_row": null,
            "max_height": null,
            "align_content": null,
            "visibility": null,
            "align_self": null,
            "height": null,
            "min_height": null,
            "padding": null,
            "grid_auto_rows": null,
            "grid_gap": null,
            "max_width": null,
            "order": null,
            "_view_module_version": "1.2.0",
            "grid_template_areas": null,
            "object_position": null,
            "object_fit": null,
            "grid_auto_columns": null,
            "margin": null,
            "display": null,
            "left": null
          }
        },
        "bca40772df8e47258abe41e04aaaa413": {
          "model_module": "@jupyter-widgets/controls",
          "model_name": "FloatProgressModel",
          "state": {
            "_view_name": "ProgressView",
            "style": "IPY_MODEL_684c32e600184838ba0dbe2ebe0a2008",
            "_dom_classes": [],
            "description": "",
            "_model_name": "FloatProgressModel",
            "bar_style": "info",
            "max": 1,
            "_view_module": "@jupyter-widgets/controls",
            "_model_module_version": "1.5.0",
            "value": 1,
            "_view_count": null,
            "_view_module_version": "1.5.0",
            "orientation": "horizontal",
            "min": 0,
            "description_tooltip": null,
            "_model_module": "@jupyter-widgets/controls",
            "layout": "IPY_MODEL_a22d0de2778c40998a43a165ee0b33eb"
          }
        },
        "ca4417f60a104bf598b5fbf24f523c39": {
          "model_module": "@jupyter-widgets/controls",
          "model_name": "HTMLModel",
          "state": {
            "_view_name": "HTMLView",
            "style": "IPY_MODEL_5dc77f5a966a4938a462b7e00ce64a3d",
            "_dom_classes": [],
            "description": "",
            "_model_name": "HTMLModel",
            "placeholder": "​",
            "_view_module": "@jupyter-widgets/controls",
            "_model_module_version": "1.5.0",
            "value": " 1654784/? [00:19&lt;00:00, 11078242.19it/s]",
            "_view_count": null,
            "_view_module_version": "1.5.0",
            "description_tooltip": null,
            "_model_module": "@jupyter-widgets/controls",
            "layout": "IPY_MODEL_f1180827fc1648178c33ca89a93bd495"
          }
        },
        "684c32e600184838ba0dbe2ebe0a2008": {
          "model_module": "@jupyter-widgets/controls",
          "model_name": "ProgressStyleModel",
          "state": {
            "_view_name": "StyleView",
            "_model_name": "ProgressStyleModel",
            "description_width": "initial",
            "_view_module": "@jupyter-widgets/base",
            "_model_module_version": "1.5.0",
            "_view_count": null,
            "_view_module_version": "1.2.0",
            "bar_color": null,
            "_model_module": "@jupyter-widgets/controls"
          }
        },
        "a22d0de2778c40998a43a165ee0b33eb": {
          "model_module": "@jupyter-widgets/base",
          "model_name": "LayoutModel",
          "state": {
            "_view_name": "LayoutView",
            "grid_template_rows": null,
            "right": null,
            "justify_content": null,
            "_view_module": "@jupyter-widgets/base",
            "overflow": null,
            "_model_module_version": "1.2.0",
            "_view_count": null,
            "flex_flow": null,
            "width": null,
            "min_width": null,
            "border": null,
            "align_items": null,
            "bottom": null,
            "_model_module": "@jupyter-widgets/base",
            "top": null,
            "grid_column": null,
            "overflow_y": null,
            "overflow_x": null,
            "grid_auto_flow": null,
            "grid_area": null,
            "grid_template_columns": null,
            "flex": null,
            "_model_name": "LayoutModel",
            "justify_items": null,
            "grid_row": null,
            "max_height": null,
            "align_content": null,
            "visibility": null,
            "align_self": null,
            "height": null,
            "min_height": null,
            "padding": null,
            "grid_auto_rows": null,
            "grid_gap": null,
            "max_width": null,
            "order": null,
            "_view_module_version": "1.2.0",
            "grid_template_areas": null,
            "object_position": null,
            "object_fit": null,
            "grid_auto_columns": null,
            "margin": null,
            "display": null,
            "left": null
          }
        },
        "5dc77f5a966a4938a462b7e00ce64a3d": {
          "model_module": "@jupyter-widgets/controls",
          "model_name": "DescriptionStyleModel",
          "state": {
            "_view_name": "StyleView",
            "_model_name": "DescriptionStyleModel",
            "description_width": "",
            "_view_module": "@jupyter-widgets/base",
            "_model_module_version": "1.5.0",
            "_view_count": null,
            "_view_module_version": "1.2.0",
            "_model_module": "@jupyter-widgets/controls"
          }
        },
        "f1180827fc1648178c33ca89a93bd495": {
          "model_module": "@jupyter-widgets/base",
          "model_name": "LayoutModel",
          "state": {
            "_view_name": "LayoutView",
            "grid_template_rows": null,
            "right": null,
            "justify_content": null,
            "_view_module": "@jupyter-widgets/base",
            "overflow": null,
            "_model_module_version": "1.2.0",
            "_view_count": null,
            "flex_flow": null,
            "width": null,
            "min_width": null,
            "border": null,
            "align_items": null,
            "bottom": null,
            "_model_module": "@jupyter-widgets/base",
            "top": null,
            "grid_column": null,
            "overflow_y": null,
            "overflow_x": null,
            "grid_auto_flow": null,
            "grid_area": null,
            "grid_template_columns": null,
            "flex": null,
            "_model_name": "LayoutModel",
            "justify_items": null,
            "grid_row": null,
            "max_height": null,
            "align_content": null,
            "visibility": null,
            "align_self": null,
            "height": null,
            "min_height": null,
            "padding": null,
            "grid_auto_rows": null,
            "grid_gap": null,
            "max_width": null,
            "order": null,
            "_view_module_version": "1.2.0",
            "grid_template_areas": null,
            "object_position": null,
            "object_fit": null,
            "grid_auto_columns": null,
            "margin": null,
            "display": null,
            "left": null
          }
        },
        "f7529909f38746f19c4d431203c13c26": {
          "model_module": "@jupyter-widgets/controls",
          "model_name": "HBoxModel",
          "state": {
            "_view_name": "HBoxView",
            "_dom_classes": [],
            "_model_name": "HBoxModel",
            "_view_module": "@jupyter-widgets/controls",
            "_model_module_version": "1.5.0",
            "_view_count": null,
            "_view_module_version": "1.5.0",
            "box_style": "",
            "layout": "IPY_MODEL_74859a0b5d96496b8b7ce36d99ac58bf",
            "_model_module": "@jupyter-widgets/controls",
            "children": [
              "IPY_MODEL_ec26d0130be9451eacd704095d86222f",
              "IPY_MODEL_55cb7305572d47f2a7e2268863efa3b6"
            ]
          }
        },
        "74859a0b5d96496b8b7ce36d99ac58bf": {
          "model_module": "@jupyter-widgets/base",
          "model_name": "LayoutModel",
          "state": {
            "_view_name": "LayoutView",
            "grid_template_rows": null,
            "right": null,
            "justify_content": null,
            "_view_module": "@jupyter-widgets/base",
            "overflow": null,
            "_model_module_version": "1.2.0",
            "_view_count": null,
            "flex_flow": null,
            "width": null,
            "min_width": null,
            "border": null,
            "align_items": null,
            "bottom": null,
            "_model_module": "@jupyter-widgets/base",
            "top": null,
            "grid_column": null,
            "overflow_y": null,
            "overflow_x": null,
            "grid_auto_flow": null,
            "grid_area": null,
            "grid_template_columns": null,
            "flex": null,
            "_model_name": "LayoutModel",
            "justify_items": null,
            "grid_row": null,
            "max_height": null,
            "align_content": null,
            "visibility": null,
            "align_self": null,
            "height": null,
            "min_height": null,
            "padding": null,
            "grid_auto_rows": null,
            "grid_gap": null,
            "max_width": null,
            "order": null,
            "_view_module_version": "1.2.0",
            "grid_template_areas": null,
            "object_position": null,
            "object_fit": null,
            "grid_auto_columns": null,
            "margin": null,
            "display": null,
            "left": null
          }
        },
        "ec26d0130be9451eacd704095d86222f": {
          "model_module": "@jupyter-widgets/controls",
          "model_name": "FloatProgressModel",
          "state": {
            "_view_name": "ProgressView",
            "style": "IPY_MODEL_b8ddd7bc4b0d4f4c97b9f4a6bc008003",
            "_dom_classes": [],
            "description": "",
            "_model_name": "FloatProgressModel",
            "bar_style": "info",
            "max": 1,
            "_view_module": "@jupyter-widgets/controls",
            "_model_module_version": "1.5.0",
            "value": 0,
            "_view_count": null,
            "_view_module_version": "1.5.0",
            "orientation": "horizontal",
            "min": 0,
            "description_tooltip": null,
            "_model_module": "@jupyter-widgets/controls",
            "layout": "IPY_MODEL_5d4813fffcd04a579e424c902118195e"
          }
        },
        "55cb7305572d47f2a7e2268863efa3b6": {
          "model_module": "@jupyter-widgets/controls",
          "model_name": "HTMLModel",
          "state": {
            "_view_name": "HTMLView",
            "style": "IPY_MODEL_b1d0c1cf702f48a18a9a25bd5b114c1f",
            "_dom_classes": [],
            "description": "",
            "_model_name": "HTMLModel",
            "placeholder": "​",
            "_view_module": "@jupyter-widgets/controls",
            "_model_module_version": "1.5.0",
            "value": " 0/? [00:00&lt;?, ?it/s]",
            "_view_count": null,
            "_view_module_version": "1.5.0",
            "description_tooltip": null,
            "_model_module": "@jupyter-widgets/controls",
            "layout": "IPY_MODEL_0091c8c63901490a8e2248ab866b277c"
          }
        },
        "b8ddd7bc4b0d4f4c97b9f4a6bc008003": {
          "model_module": "@jupyter-widgets/controls",
          "model_name": "ProgressStyleModel",
          "state": {
            "_view_name": "StyleView",
            "_model_name": "ProgressStyleModel",
            "description_width": "initial",
            "_view_module": "@jupyter-widgets/base",
            "_model_module_version": "1.5.0",
            "_view_count": null,
            "_view_module_version": "1.2.0",
            "bar_color": null,
            "_model_module": "@jupyter-widgets/controls"
          }
        },
        "5d4813fffcd04a579e424c902118195e": {
          "model_module": "@jupyter-widgets/base",
          "model_name": "LayoutModel",
          "state": {
            "_view_name": "LayoutView",
            "grid_template_rows": null,
            "right": null,
            "justify_content": null,
            "_view_module": "@jupyter-widgets/base",
            "overflow": null,
            "_model_module_version": "1.2.0",
            "_view_count": null,
            "flex_flow": null,
            "width": null,
            "min_width": null,
            "border": null,
            "align_items": null,
            "bottom": null,
            "_model_module": "@jupyter-widgets/base",
            "top": null,
            "grid_column": null,
            "overflow_y": null,
            "overflow_x": null,
            "grid_auto_flow": null,
            "grid_area": null,
            "grid_template_columns": null,
            "flex": null,
            "_model_name": "LayoutModel",
            "justify_items": null,
            "grid_row": null,
            "max_height": null,
            "align_content": null,
            "visibility": null,
            "align_self": null,
            "height": null,
            "min_height": null,
            "padding": null,
            "grid_auto_rows": null,
            "grid_gap": null,
            "max_width": null,
            "order": null,
            "_view_module_version": "1.2.0",
            "grid_template_areas": null,
            "object_position": null,
            "object_fit": null,
            "grid_auto_columns": null,
            "margin": null,
            "display": null,
            "left": null
          }
        },
        "b1d0c1cf702f48a18a9a25bd5b114c1f": {
          "model_module": "@jupyter-widgets/controls",
          "model_name": "DescriptionStyleModel",
          "state": {
            "_view_name": "StyleView",
            "_model_name": "DescriptionStyleModel",
            "description_width": "",
            "_view_module": "@jupyter-widgets/base",
            "_model_module_version": "1.5.0",
            "_view_count": null,
            "_view_module_version": "1.2.0",
            "_model_module": "@jupyter-widgets/controls"
          }
        },
        "0091c8c63901490a8e2248ab866b277c": {
          "model_module": "@jupyter-widgets/base",
          "model_name": "LayoutModel",
          "state": {
            "_view_name": "LayoutView",
            "grid_template_rows": null,
            "right": null,
            "justify_content": null,
            "_view_module": "@jupyter-widgets/base",
            "overflow": null,
            "_model_module_version": "1.2.0",
            "_view_count": null,
            "flex_flow": null,
            "width": null,
            "min_width": null,
            "border": null,
            "align_items": null,
            "bottom": null,
            "_model_module": "@jupyter-widgets/base",
            "top": null,
            "grid_column": null,
            "overflow_y": null,
            "overflow_x": null,
            "grid_auto_flow": null,
            "grid_area": null,
            "grid_template_columns": null,
            "flex": null,
            "_model_name": "LayoutModel",
            "justify_items": null,
            "grid_row": null,
            "max_height": null,
            "align_content": null,
            "visibility": null,
            "align_self": null,
            "height": null,
            "min_height": null,
            "padding": null,
            "grid_auto_rows": null,
            "grid_gap": null,
            "max_width": null,
            "order": null,
            "_view_module_version": "1.2.0",
            "grid_template_areas": null,
            "object_position": null,
            "object_fit": null,
            "grid_auto_columns": null,
            "margin": null,
            "display": null,
            "left": null
          }
        }
      }
    }
  },
  "cells": [
    {
      "cell_type": "markdown",
      "metadata": {
        "id": "view-in-github",
        "colab_type": "text"
      },
      "source": [
        "<a href=\"https://colab.research.google.com/github/xTavi/BlackBoxAttack/blob/master/BlackBoxAttack.ipynb\" target=\"_parent\"><img src=\"https://colab.research.google.com/assets/colab-badge.svg\" alt=\"Open In Colab\"/></a>"
      ]
    },
    {
      "cell_type": "code",
      "metadata": {
        "id": "-gn2_nTFp9lA",
        "colab_type": "code",
        "colab": {
          "base_uri": "https://localhost:8080/",
          "height": 128
        },
        "outputId": "955240bc-9465-4424-f5f9-2d1e016d9d1a"
      },
      "source": [
        "from __future__ import print_function\n",
        "import os\n",
        "import argparse\n",
        "import torch\n",
        "import torch.nn as nn\n",
        "import torch.nn.functional as F\n",
        "import torch.optim as optim\n",
        "from IPython.core.debugger import set_trace\n",
        "from matplotlib import pyplot\n",
        "from google.colab import drive\n",
        "import matplotlib.pyplot as plt\n",
        "drive.mount('/content/gdrive')\n",
        "import torch.onnx\n",
        "import torchvision.datasets as dset\n",
        "import torchvision.transforms as transforms\n",
        "import torchvision.models as models\n",
        "import numpy as np\n",
        "# import utils\n",
        "import math\n",
        "import random\n",
        "import pdb"
      ],
      "execution_count": 6,
      "outputs": [
        {
          "output_type": "stream",
          "text": [
            "Go to this URL in a browser: https://accounts.google.com/o/oauth2/auth?client_id=947318989803-6bn6qk8qdgf4n4g3pfee6491hc0brc4i.apps.googleusercontent.com&redirect_uri=urn%3aietf%3awg%3aoauth%3a2.0%3aoob&response_type=code&scope=email%20https%3a%2f%2fwww.googleapis.com%2fauth%2fdocs.test%20https%3a%2f%2fwww.googleapis.com%2fauth%2fdrive%20https%3a%2f%2fwww.googleapis.com%2fauth%2fdrive.photos.readonly%20https%3a%2f%2fwww.googleapis.com%2fauth%2fpeopleapi.readonly\n",
            "\n",
            "Enter your authorization code:\n",
            "··········\n",
            "Mounted at /content/gdrive\n"
          ],
          "name": "stdout"
        }
      ]
    },
    {
      "cell_type": "code",
      "metadata": {
        "id": "Ev-gbiX0ubBb",
        "colab_type": "code",
        "colab": {}
      },
      "source": [
        "# class containing parameters for CNN optimizer  \n",
        "kwargs={}\n",
        "class Args():\n",
        "  def __init__(self):\n",
        "      self.batch_size = 64\n",
        "      self.test_batch_size = 64\n",
        "      self.epochs = 10#10\n",
        "      self.lr = 0.01\n",
        "      self.momentum = 0.9\n",
        "      self.seed = 1\n",
        "      self.log_interval = int(10000 / self.batch_size)\n",
        "      self.cuda = False\n",
        "\n",
        "args = Args()\n",
        "use_cuda = torch.cuda.is_available()\n",
        "torch.manual_seed(args.seed)\n",
        "device = torch.device(\"cuda\" if use_cuda else \"cpu\")\n",
        "kwargs = {'num_workers': 1, 'pin_memory': True} if use_cuda else {}"
      ],
      "execution_count": 7,
      "outputs": []
    },
    {
      "cell_type": "code",
      "metadata": {
        "id": "9biApUT_ud1a",
        "colab_type": "code",
        "colab": {
          "base_uri": "https://localhost:8080/",
          "height": 402,
          "referenced_widgets": [
            "41d26f52b7104adfa7d3b684d30365bd",
            "7b055f5ce74245d2bb74ebd3c1c976ee",
            "cae30dcc2bb041988c7e3ab4d0a7d72b",
            "e0411d78a6a74483bbe97320673e2775",
            "bfe99a8026a741fb94828f80a8d0a0fa",
            "44904fd514fd430992984c52868884a0",
            "3b56afc7b0e04c1ea9a66555d2ebb6e4",
            "a510e8e1ef9441c9acc0ab98813d2822",
            "a48ff32f96c54ef5acf4c8dbb7a19ec8",
            "4585423337804858b4ef2492642b827e",
            "6e4b2e60daee4e5ebdbe10868e132c40",
            "ca577b98a68d43168780fc327ae07c1f",
            "11e498a5d7ee4c51a5f1295daf73a8e7",
            "318ba4016bbc45e29d328328e46b3a4e",
            "8ca3bdbc18974820b068bf7dfcc9353c",
            "61b18f83a4124ae68ddd7cfda4941d05",
            "271b1962bb5f4f03bab038300ae71206",
            "2376458c13cf4bc69a92b5d9890ccc94",
            "bca40772df8e47258abe41e04aaaa413",
            "ca4417f60a104bf598b5fbf24f523c39",
            "684c32e600184838ba0dbe2ebe0a2008",
            "a22d0de2778c40998a43a165ee0b33eb",
            "5dc77f5a966a4938a462b7e00ce64a3d",
            "f1180827fc1648178c33ca89a93bd495",
            "f7529909f38746f19c4d431203c13c26",
            "74859a0b5d96496b8b7ce36d99ac58bf",
            "ec26d0130be9451eacd704095d86222f",
            "55cb7305572d47f2a7e2268863efa3b6",
            "b8ddd7bc4b0d4f4c97b9f4a6bc008003",
            "5d4813fffcd04a579e424c902118195e",
            "b1d0c1cf702f48a18a9a25bd5b114c1f",
            "0091c8c63901490a8e2248ab866b277c"
          ]
        },
        "outputId": "131bc710-b81a-4cf7-b64a-c73bab366a1c"
      },
      "source": [
        "# code to download MNIST datasets for first method\n",
        "# loaders for train and test data, respectively\n",
        "# the data will be in pytorch tensor format\n",
        "\n",
        "train_loader = torch.utils.data.DataLoader(\n",
        "    dset.MNIST('../data', train=True, download=True,\n",
        "                   transform=transforms.Compose([\n",
        "                       transforms.ToTensor(),\n",
        "                   ])),\n",
        "    batch_size=args.batch_size, shuffle=True,drop_last=True, **kwargs)\n",
        "\n",
        "test_loader = torch.utils.data.DataLoader(\n",
        "    dset.MNIST('../data', train=False, transform=transforms.Compose([\n",
        "                       transforms.ToTensor(),\n",
        "                   ])),\n",
        "    batch_size=args.test_batch_size, shuffle=True,drop_last=True, **kwargs)"
      ],
      "execution_count": 8,
      "outputs": [
        {
          "output_type": "stream",
          "text": [
            "Downloading http://yann.lecun.com/exdb/mnist/train-images-idx3-ubyte.gz to ../data/MNIST/raw/train-images-idx3-ubyte.gz\n"
          ],
          "name": "stdout"
        },
        {
          "output_type": "display_data",
          "data": {
            "application/vnd.jupyter.widget-view+json": {
              "model_id": "41d26f52b7104adfa7d3b684d30365bd",
              "version_minor": 0,
              "version_major": 2
            },
            "text/plain": [
              "HBox(children=(FloatProgress(value=1.0, bar_style='info', max=1.0), HTML(value='')))"
            ]
          },
          "metadata": {
            "tags": []
          }
        },
        {
          "output_type": "stream",
          "text": [
            "Extracting ../data/MNIST/raw/train-images-idx3-ubyte.gz to ../data/MNIST/raw\n",
            "\n",
            "Downloading http://yann.lecun.com/exdb/mnist/train-labels-idx1-ubyte.gz to ../data/MNIST/raw/train-labels-idx1-ubyte.gz\n"
          ],
          "name": "stdout"
        },
        {
          "output_type": "display_data",
          "data": {
            "application/vnd.jupyter.widget-view+json": {
              "model_id": "a48ff32f96c54ef5acf4c8dbb7a19ec8",
              "version_minor": 0,
              "version_major": 2
            },
            "text/plain": [
              "HBox(children=(FloatProgress(value=1.0, bar_style='info', max=1.0), HTML(value='')))"
            ]
          },
          "metadata": {
            "tags": []
          }
        },
        {
          "output_type": "stream",
          "text": [
            "Extracting ../data/MNIST/raw/train-labels-idx1-ubyte.gz to ../data/MNIST/raw\n",
            "Downloading http://yann.lecun.com/exdb/mnist/t10k-images-idx3-ubyte.gz to ../data/MNIST/raw/t10k-images-idx3-ubyte.gz\n"
          ],
          "name": "stdout"
        },
        {
          "output_type": "display_data",
          "data": {
            "application/vnd.jupyter.widget-view+json": {
              "model_id": "271b1962bb5f4f03bab038300ae71206",
              "version_minor": 0,
              "version_major": 2
            },
            "text/plain": [
              "HBox(children=(FloatProgress(value=1.0, bar_style='info', max=1.0), HTML(value='')))"
            ]
          },
          "metadata": {
            "tags": []
          }
        },
        {
          "output_type": "stream",
          "text": [
            "Extracting ../data/MNIST/raw/t10k-images-idx3-ubyte.gz to ../data/MNIST/raw\n",
            "Downloading http://yann.lecun.com/exdb/mnist/t10k-labels-idx1-ubyte.gz to ../data/MNIST/raw/t10k-labels-idx1-ubyte.gz\n"
          ],
          "name": "stdout"
        },
        {
          "output_type": "display_data",
          "data": {
            "application/vnd.jupyter.widget-view+json": {
              "model_id": "f7529909f38746f19c4d431203c13c26",
              "version_minor": 0,
              "version_major": 2
            },
            "text/plain": [
              "HBox(children=(FloatProgress(value=1.0, bar_style='info', max=1.0), HTML(value='')))"
            ]
          },
          "metadata": {
            "tags": []
          }
        },
        {
          "output_type": "stream",
          "text": [
            "Extracting ../data/MNIST/raw/t10k-labels-idx1-ubyte.gz to ../data/MNIST/raw\n",
            "Processing...\n"
          ],
          "name": "stdout"
        },
        {
          "output_type": "stream",
          "text": [
            "/usr/local/lib/python3.6/dist-packages/torchvision/datasets/mnist.py:469: UserWarning: The given NumPy array is not writeable, and PyTorch does not support non-writeable tensors. This means you can write to the underlying (supposedly non-writeable) NumPy array using the tensor. You may want to copy the array to protect its data or make it writeable before converting it to a tensor. This type of warning will be suppressed for the rest of this program. (Triggered internally at  /pytorch/torch/csrc/utils/tensor_numpy.cpp:141.)\n",
            "  return torch.from_numpy(parsed.astype(m[2], copy=False)).view(*s)\n"
          ],
          "name": "stderr"
        },
        {
          "output_type": "stream",
          "text": [
            "Done!\n"
          ],
          "name": "stdout"
        }
      ]
    },
    {
      "cell_type": "code",
      "metadata": {
        "id": "osnAVmLKueKY",
        "colab_type": "code",
        "colab": {}
      },
      "source": [
        "# change folder to keep track later on\n",
        "# note - don't change before downloading the MINST data\n",
        "os.chdir(\"/content/gdrive/My Drive/\")\n",
        "# data is saved in the main directory in google drive"
      ],
      "execution_count": 9,
      "outputs": []
    },
    {
      "cell_type": "code",
      "metadata": {
        "id": "2Be06nLjueUP",
        "colab_type": "code",
        "colab": {}
      },
      "source": [
        "# arhitecture for CNN\n",
        "# will use those same parameters in the following cells\n",
        "# serves as a starting point for fully connected CNN\n",
        "number_of_filters_1 = 20\n",
        "number_of_filters_2 = 50\n",
        "nn1 = 500\n",
        "class CNN(nn.Module):\n",
        "    def __init__(self):\n",
        "        super().__init__()\n",
        "        self.conv1 = nn.Conv2d(1, number_of_filters_1, 5, 1)\n",
        "        self.conv2 = nn.Conv2d(number_of_filters_1, number_of_filters_2, 5, 1)\n",
        "        self.fc1 = nn.Linear(4*4*number_of_filters_2, nn1)\n",
        "        # 10 classes, one for each digit\n",
        "        self.fc2 = nn.Linear(nn1, 10)\n",
        "\n",
        "    def forward(self, x):\n",
        "        # activation functions\n",
        "        x = F.relu(self.conv1(x))\n",
        "        x = F.max_pool2d(x, 2, 2)\n",
        "        x = F.relu(self.conv2(x))\n",
        "        x = F.max_pool2d(x, 2, 2)\n",
        "        x = x.view(-1, 4*4*number_of_filters_2)\n",
        "        x = F.relu(self.fc1(x))\n",
        "        x = self.fc2(x)\n",
        "        return F.log_softmax(x, dim=1)"
      ],
      "execution_count": 10,
      "outputs": []
    },
    {
      "cell_type": "code",
      "metadata": {
        "id": "0vJkpvOOuecT",
        "colab_type": "code",
        "colab": {}
      },
      "source": [
        "# define a function for training and testing, respectively\n",
        "# similar to what we have done in the laboratory\n",
        "def train(args, model, device, train_loader, optimizer, epoch):\n",
        "    model.train()\n",
        "    # use batches\n",
        "    for batch_idx, (data, target) in enumerate(train_loader):\n",
        "        data, target = data.to(device), target.to(device)\n",
        "        optimizer.zero_grad()\n",
        "        output = model(data)\n",
        "        loss = F.nll_loss(output, target)\n",
        "        loss.backward()\n",
        "        optimizer.step()\n",
        "        # print loss at every step of the way\n",
        "        if batch_idx % args.log_interval == 0:\n",
        "            print('Train data performance for epoch {}:  for {:.0f}% of the data we have loss: {:.6f}'.format(epoch, 100. * batch_idx / len(train_loader), loss.item()))\n",
        "            \n",
        "def test(args, model, device, test_loader):\n",
        "    model.eval()\n",
        "    test_loss = 0\n",
        "    # for accuracy we will\n",
        "    # keep track of how many correct items classified as a percentage of total\n",
        "    correct = 0\n",
        "    with torch.no_grad():\n",
        "        for data, target in test_loader:\n",
        "            data, target = data.to(device), target.to(device)\n",
        "            output = model(data)\n",
        "            # sum up batch loss\n",
        "            test_loss += F.nll_loss(output, target, reduction='sum').item() \n",
        "            # get the index of the max log-probability\n",
        "            pred = output.argmax(dim=1, keepdim=True) \n",
        "            # increment correctly classified items\n",
        "            correct += pred.eq(target.view_as(pred)).sum().item()\n",
        "\n",
        "    # divide by the number of examples to get average loss\n",
        "    test_loss /= len(test_loader.dataset)\n",
        "    # print average loss and accuracy on test data\n",
        "    print('Computing accuracy on the test data: Average loss: {:.4f}, Accuracy: {}/{} ({:.0f}%)'.format(test_loss, correct, len(test_loader.dataset), 100. * correct / len(test_loader.dataset)))"
      ],
      "execution_count": null,
      "outputs": []
    },
    {
      "cell_type": "code",
      "metadata": {
        "id": "vnwD42UbuekK",
        "colab_type": "code",
        "colab": {
          "base_uri": "https://localhost:8080/",
          "height": 1000
        },
        "outputId": "7e8f78d5-f501-4403-8d8f-fcd28b7d1f39"
      },
      "source": [
        "# create and train, test our CNN\n",
        "model = CNN().to(device)\n",
        "\n",
        "optimizer = optim.SGD(model.parameters(), lr=args.lr, momentum=args.momentum)\n",
        "\n",
        "for epoch in range(1, args.epochs + 1):\n",
        "    train(args, model, device, train_loader, optimizer, epoch)\n",
        "    test(args, model, device, test_loader)\n",
        "\n",
        "# we save the model to save parameters for later\n",
        "torch.save(model.state_dict(),\"conv_net.pt\")"
      ],
      "execution_count": null,
      "outputs": [
        {
          "output_type": "stream",
          "text": [
            "Train data performance for epoch 1:  for 0% of the data we have loss: 2.301512\n",
            "Train data performance for epoch 1:  for 17% of the data we have loss: 0.418920\n",
            "Train data performance for epoch 1:  for 33% of the data we have loss: 0.218822\n",
            "Train data performance for epoch 1:  for 50% of the data we have loss: 0.129434\n",
            "Train data performance for epoch 1:  for 67% of the data we have loss: 0.006026\n",
            "Train data performance for epoch 1:  for 83% of the data we have loss: 0.042212\n",
            "Train data performance for epoch 1:  for 100% of the data we have loss: 0.069779\n",
            "Computing accuracy on the test data: Average loss: 0.0671, Accuracy: 9764/10000 (98%)\n",
            "Train data performance for epoch 2:  for 0% of the data we have loss: 0.082649\n",
            "Train data performance for epoch 2:  for 17% of the data we have loss: 0.011427\n",
            "Train data performance for epoch 2:  for 33% of the data we have loss: 0.018786\n",
            "Train data performance for epoch 2:  for 50% of the data we have loss: 0.198629\n",
            "Train data performance for epoch 2:  for 67% of the data we have loss: 0.012334\n",
            "Train data performance for epoch 2:  for 83% of the data we have loss: 0.036155\n",
            "Train data performance for epoch 2:  for 100% of the data we have loss: 0.051425\n",
            "Computing accuracy on the test data: Average loss: 0.0463, Accuracy: 9834/10000 (98%)\n",
            "Train data performance for epoch 3:  for 0% of the data we have loss: 0.013803\n",
            "Train data performance for epoch 3:  for 17% of the data we have loss: 0.033005\n",
            "Train data performance for epoch 3:  for 33% of the data we have loss: 0.027125\n",
            "Train data performance for epoch 3:  for 50% of the data we have loss: 0.006849\n",
            "Train data performance for epoch 3:  for 67% of the data we have loss: 0.141934\n",
            "Train data performance for epoch 3:  for 83% of the data we have loss: 0.189080\n",
            "Train data performance for epoch 3:  for 100% of the data we have loss: 0.002773\n",
            "Computing accuracy on the test data: Average loss: 0.0342, Accuracy: 9863/10000 (99%)\n",
            "Train data performance for epoch 4:  for 0% of the data we have loss: 0.003885\n",
            "Train data performance for epoch 4:  for 17% of the data we have loss: 0.014116\n",
            "Train data performance for epoch 4:  for 33% of the data we have loss: 0.057835\n",
            "Train data performance for epoch 4:  for 50% of the data we have loss: 0.068401\n",
            "Train data performance for epoch 4:  for 67% of the data we have loss: 0.045570\n",
            "Train data performance for epoch 4:  for 83% of the data we have loss: 0.007218\n",
            "Train data performance for epoch 4:  for 100% of the data we have loss: 0.007902\n",
            "Computing accuracy on the test data: Average loss: 0.0363, Accuracy: 9852/10000 (99%)\n",
            "Train data performance for epoch 5:  for 0% of the data we have loss: 0.004699\n",
            "Train data performance for epoch 5:  for 17% of the data we have loss: 0.003379\n",
            "Train data performance for epoch 5:  for 33% of the data we have loss: 0.086132\n",
            "Train data performance for epoch 5:  for 50% of the data we have loss: 0.002328\n",
            "Train data performance for epoch 5:  for 67% of the data we have loss: 0.087221\n",
            "Train data performance for epoch 5:  for 83% of the data we have loss: 0.007770\n",
            "Train data performance for epoch 5:  for 100% of the data we have loss: 0.040242\n",
            "Computing accuracy on the test data: Average loss: 0.0297, Accuracy: 9882/10000 (99%)\n",
            "Train data performance for epoch 6:  for 0% of the data we have loss: 0.086141\n",
            "Train data performance for epoch 6:  for 17% of the data we have loss: 0.003122\n",
            "Train data performance for epoch 6:  for 33% of the data we have loss: 0.021306\n",
            "Train data performance for epoch 6:  for 50% of the data we have loss: 0.002705\n",
            "Train data performance for epoch 6:  for 67% of the data we have loss: 0.009509\n",
            "Train data performance for epoch 6:  for 83% of the data we have loss: 0.025510\n",
            "Train data performance for epoch 6:  for 100% of the data we have loss: 0.003833\n",
            "Computing accuracy on the test data: Average loss: 0.0282, Accuracy: 9891/10000 (99%)\n",
            "Train data performance for epoch 7:  for 0% of the data we have loss: 0.006170\n",
            "Train data performance for epoch 7:  for 17% of the data we have loss: 0.027144\n",
            "Train data performance for epoch 7:  for 33% of the data we have loss: 0.003386\n",
            "Train data performance for epoch 7:  for 50% of the data we have loss: 0.022121\n",
            "Train data performance for epoch 7:  for 67% of the data we have loss: 0.021031\n",
            "Train data performance for epoch 7:  for 83% of the data we have loss: 0.017624\n",
            "Train data performance for epoch 7:  for 100% of the data we have loss: 0.001279\n",
            "Computing accuracy on the test data: Average loss: 0.0302, Accuracy: 9885/10000 (99%)\n",
            "Train data performance for epoch 8:  for 0% of the data we have loss: 0.000871\n",
            "Train data performance for epoch 8:  for 17% of the data we have loss: 0.000522\n",
            "Train data performance for epoch 8:  for 33% of the data we have loss: 0.000809\n",
            "Train data performance for epoch 8:  for 50% of the data we have loss: 0.003982\n",
            "Train data performance for epoch 8:  for 67% of the data we have loss: 0.000313\n",
            "Train data performance for epoch 8:  for 83% of the data we have loss: 0.009610\n",
            "Train data performance for epoch 8:  for 100% of the data we have loss: 0.003091\n",
            "Computing accuracy on the test data: Average loss: 0.0247, Accuracy: 9909/10000 (99%)\n",
            "Train data performance for epoch 9:  for 0% of the data we have loss: 0.028068\n",
            "Train data performance for epoch 9:  for 17% of the data we have loss: 0.000300\n",
            "Train data performance for epoch 9:  for 33% of the data we have loss: 0.026242\n",
            "Train data performance for epoch 9:  for 50% of the data we have loss: 0.000457\n",
            "Train data performance for epoch 9:  for 67% of the data we have loss: 0.029997\n",
            "Train data performance for epoch 9:  for 83% of the data we have loss: 0.004921\n",
            "Train data performance for epoch 9:  for 100% of the data we have loss: 0.004191\n",
            "Computing accuracy on the test data: Average loss: 0.0277, Accuracy: 9903/10000 (99%)\n",
            "Train data performance for epoch 10:  for 0% of the data we have loss: 0.039706\n",
            "Train data performance for epoch 10:  for 17% of the data we have loss: 0.004764\n",
            "Train data performance for epoch 10:  for 33% of the data we have loss: 0.000115\n",
            "Train data performance for epoch 10:  for 50% of the data we have loss: 0.000539\n",
            "Train data performance for epoch 10:  for 67% of the data we have loss: 0.001436\n",
            "Train data performance for epoch 10:  for 83% of the data we have loss: 0.001003\n",
            "Train data performance for epoch 10:  for 100% of the data we have loss: 0.006195\n",
            "Computing accuracy on the test data: Average loss: 0.0365, Accuracy: 9872/10000 (99%)\n"
          ],
          "name": "stdout"
        }
      ]
    },
    {
      "cell_type": "markdown",
      "metadata": {
        "id": "po760b-Qu0U_",
        "colab_type": "text"
      },
      "source": [
        "Epsilons: List of epsilon values to use for the run. It is important to keep 0 in the list because it represents the model performance on the original test set. Also, intuitively we would expect the larger the epsilon, the more noticeable the perturbations but the more effective the attack in terms of degrading model accuracy. Since the data range here is [0,1], no epsilon value should exceed 1."
      ]
    },
    {
      "cell_type": "code",
      "metadata": {
        "id": "lcCk9jfrueq_",
        "colab_type": "code",
        "colab": {}
      },
      "source": [
        "pretrained_model = \"conv_net.pt\"\n",
        "use_cuda=True"
      ],
      "execution_count": null,
      "outputs": []
    },
    {
      "cell_type": "code",
      "metadata": {
        "id": "NaYlQoAhuexR",
        "colab_type": "code",
        "colab": {
          "base_uri": "https://localhost:8080/",
          "height": 148
        },
        "outputId": "0c1a6a1b-48c4-4569-9cc8-487016c0b701"
      },
      "source": [
        "print(\"CUDA Available: \",torch.cuda.is_available())\n",
        "device = torch.device(\"cuda\" if (use_cuda and torch.cuda.is_available()) else \"cpu\")\n",
        "\n",
        "# Initialize the network\n",
        "model = CNN().to(device)\n",
        "\n",
        "# Load the pretrained model\n",
        "model.load_state_dict(torch.load(pretrained_model, map_location='cpu'))\n",
        "\n",
        "# Set the model in evaluation mode. \n",
        "model.eval()"
      ],
      "execution_count": null,
      "outputs": [
        {
          "output_type": "stream",
          "text": [
            "CUDA Available:  False\n"
          ],
          "name": "stdout"
        },
        {
          "output_type": "execute_result",
          "data": {
            "text/plain": [
              "CNN(\n",
              "  (conv1): Conv2d(1, 20, kernel_size=(5, 5), stride=(1, 1))\n",
              "  (conv2): Conv2d(20, 50, kernel_size=(5, 5), stride=(1, 1))\n",
              "  (fc1): Linear(in_features=800, out_features=500, bias=True)\n",
              "  (fc2): Linear(in_features=500, out_features=10, bias=True)\n",
              ")"
            ]
          },
          "metadata": {
            "tags": []
          },
          "execution_count": 10
        }
      ]
    },
    {
      "cell_type": "code",
      "metadata": {
        "id": "EADj6Gs1ue8N",
        "colab_type": "code",
        "colab": {}
      },
      "source": [
        ""
      ],
      "execution_count": null,
      "outputs": []
    },
    {
      "cell_type": "code",
      "metadata": {
        "id": "5AiIvIfr4oY6",
        "colab_type": "code",
        "colab": {}
      },
      "source": [
        ""
      ],
      "execution_count": null,
      "outputs": []
    },
    {
      "cell_type": "code",
      "metadata": {
        "id": "HDKMFdca4od9",
        "colab_type": "code",
        "colab": {}
      },
      "source": [
        ""
      ],
      "execution_count": null,
      "outputs": []
    },
    {
      "cell_type": "code",
      "metadata": {
        "id": "q-vVDPJR4oi4",
        "colab_type": "code",
        "colab": {}
      },
      "source": [
        ""
      ],
      "execution_count": null,
      "outputs": []
    },
    {
      "cell_type": "code",
      "metadata": {
        "id": "lSNX3w7t4onC",
        "colab_type": "code",
        "colab": {}
      },
      "source": [
        ""
      ],
      "execution_count": null,
      "outputs": []
    },
    {
      "cell_type": "markdown",
      "metadata": {
        "id": "GvdC0Hj_aip1",
        "colab_type": "text"
      },
      "source": [
        "# Let's do a black box SimBa attack"
      ]
    },
    {
      "cell_type": "code",
      "metadata": {
        "id": "amo_iVKkQbOl",
        "colab_type": "code",
        "colab": {}
      },
      "source": [
        "#Here we add the element we need \n",
        "\n",
        "adv = []\n",
        "number_of_correct = 0\n",
        "accuracies = []"
      ],
      "execution_count": null,
      "outputs": []
    },
    {
      "cell_type": "code",
      "metadata": {
        "id": "a-5pcN4XeTwv",
        "colab_type": "code",
        "colab": {}
      },
      "source": [
        "def get_probs(model, x, y):\n",
        "    output = model(x)\n",
        "    probs = torch.nn.Softmax(dim=1)(output)[:, y]\n",
        "    return torch.diag(probs.data)\n",
        "\n",
        "# 20-line implementation of (untargeted) SimBA for single image input\n",
        "def simba_single(model, x, y, num_iters=10000, epsilon=0.2):\n",
        "    n_dims = x.view(1, -1).size(1)\n",
        "    perm = torch.randperm(n_dims)\n",
        "    last_prob = get_probs(model, x, y)\n",
        "    for i in range(num_iters):\n",
        "        diff = torch.zeros(n_dims)\n",
        "        diff[perm[i]] = epsilon\n",
        "        left_prob = get_probs(model, (x - diff.view(x.size())).clamp(0, 1), y)\n",
        "        if left_prob < last_prob:\n",
        "            x = (x - diff.view(x.size())).clamp(0, 1)\n",
        "            last_prob = left_prob\n",
        "        else:\n",
        "            right_prob = get_probs(model, (x + diff.view(x.size())).clamp(0, 1), y)\n",
        "            if right_prob < last_prob:\n",
        "                x = (x + diff.view(x.size())).clamp(0, 1)\n",
        "                last_prob = right_prob\n",
        "        # Here I want that if the model missclasify it to stop the procedure\n",
        "        prediction = model(x).argmax()\n",
        "        # We save the adversarial examples as a touple formed by initial label, predicted label, adversarial_image and epsioln\n",
        "        if prediction != y:\n",
        "          adv.append((y.item(), prediction.item(), x, epsilon))\n",
        "          break\n",
        "\n",
        "    return x"
      ],
      "execution_count": null,
      "outputs": []
    },
    {
      "cell_type": "markdown",
      "metadata": {
        "id": "PdDXhWvzfJS1",
        "colab_type": "text"
      },
      "source": [
        "We can attack now"
      ]
    },
    {
      "cell_type": "code",
      "metadata": {
        "id": "hk6rWA7tjoTi",
        "colab_type": "code",
        "colab": {}
      },
      "source": [
        "# This function should return the accouracy for a given epsilon\n",
        "def adversarial_attack(epsilon):\n",
        "  for batch_idx, (data, target) in enumerate(test_loader):\n",
        "          data, target = data.to(device), target.to(device)\n",
        "          initial_predictions = model(data)\n",
        "          initial_predictions = initial_predictions.argmax(dim=1, keepdim=True)\n",
        "          initial_correctness = 0\n",
        "          initial_correctness += initial_predictions.eq(target.view_as(initial_predictions)).sum().item()\n",
        "          \n",
        "          print(f'Initial accuracy for batch {batch_idx}/{ math.floor(len(test_loader.dataset)/len(data)) } was ', 100.  * initial_correctness / len(target), \"%\")\n",
        "\n",
        "          bigger_result = torch.zeros(1,1,28,28)\n",
        "          for x, y in zip(data,target):\n",
        "            x = x.unsqueeze(dim=0)\n",
        "            result = simba_single(model, x, y, 784, epsilon)\n",
        "            result.unsqueeze(dim=0)\n",
        "            bigger_result = torch.cat((bigger_result, result))\n",
        "\n",
        "          final_result = bigger_result[1:]\n",
        "          final_predictions = model(final_result).argmax(dim=1, keepdim=True)\n",
        "          final_corectness = 0\n",
        "          final_corectness += final_predictions.eq(target.view_as(final_predictions)).sum().item()\n",
        "          # number_of_correct += final_corectness\n",
        "          accouracy  = 100.  * final_corectness / len(target)\n",
        "          print(f'Final accuracy for batch {batch_idx}/{math.floor(len(test_loader.dataset)/len(data))  } was ', accouracy ,\"%\")\n",
        "          \n",
        "          return accouracy\n"
      ],
      "execution_count": null,
      "outputs": []
    },
    {
      "cell_type": "code",
      "metadata": {
        "id": "tLmDgkNSSNGW",
        "colab_type": "code",
        "colab": {
          "base_uri": "https://localhost:8080/",
          "height": 204
        },
        "outputId": "953e4dc5-6231-4747-98fa-001341a73c8c"
      },
      "source": [
        "epsilons = [0, .05, .1, .15, .2]\n",
        "\n",
        "for eps in epsilons:\n",
        "    acc = adversarial_attack(eps)\n",
        "    accuracies.append(acc)"
      ],
      "execution_count": null,
      "outputs": [
        {
          "output_type": "stream",
          "text": [
            "Initial accuracy for batch 0/156 was  100.0 %\n",
            "Final accuracy for batch 0/156 was  100.0 %\n",
            "Initial accuracy for batch 0/156 was  98.4375 %\n",
            "Final accuracy for batch 0/156 was  96.875 %\n",
            "Initial accuracy for batch 0/156 was  98.4375 %\n",
            "Final accuracy for batch 0/156 was  76.5625 %\n",
            "Initial accuracy for batch 0/156 was  96.875 %\n",
            "Final accuracy for batch 0/156 was  50.0 %\n",
            "Initial accuracy for batch 0/156 was  100.0 %\n",
            "Final accuracy for batch 0/156 was  29.6875 %\n"
          ],
          "name": "stdout"
        }
      ]
    },
    {
      "cell_type": "code",
      "metadata": {
        "id": "Vu9NsZoT1raJ",
        "colab_type": "code",
        "colab": {}
      },
      "source": [
        "tensor_accuracies = torch.tensor(accuracies)/100"
      ],
      "execution_count": null,
      "outputs": []
    },
    {
      "cell_type": "code",
      "metadata": {
        "id": "-yvSe24ZgOTv",
        "colab_type": "code",
        "colab": {
          "base_uri": "https://localhost:8080/",
          "height": 404
        },
        "outputId": "63629692-f6d9-4c96-a471-9e415e4b7e91"
      },
      "source": [
        "plt.figure(figsize=(6,6))\n",
        "# print(accuracies)\n",
        "plt.plot(epsilons, tensor_accuracies, \"*-\")\n",
        "plt.yticks(np.arange(0, 1.1, step=0.1))\n",
        "plt.xticks(np.arange(0, .25, step=0.05))\n",
        "plt.title(\"Accuracy vs Epsilon\")\n",
        "plt.xlabel(\"Epsilon\")\n",
        "plt.ylabel(\"Accuracy\")\n",
        "plt.show()"
      ],
      "execution_count": null,
      "outputs": [
        {
          "output_type": "display_data",
          "data": {
            "image/png": "[encoded data removed]",
            "text/plain": [
              "<Figure size 432x432 with 1 Axes>"
            ]
          },
          "metadata": {
            "tags": [],
            "needs_background": "light"
          }
        }
      ]
    },
    {
      "cell_type": "code",
      "metadata": {
        "id": "d0kDq_VS4kK9",
        "colab_type": "code",
        "colab": {}
      },
      "source": [
        "# We want to create an len(epsilons)*5 matrix for printing\n",
        "\n",
        "matrix = []"
      ],
      "execution_count": null,
      "outputs": []
    },
    {
      "cell_type": "code",
      "metadata": {
        "id": "r2QT4aho1e5b",
        "colab_type": "code",
        "colab": {
          "base_uri": "https://localhost:8080/",
          "height": 354
        },
        "outputId": "7176b56e-92dc-44d2-cdf3-8e087e3d0119"
      },
      "source": [
        "for epsilon in epsilons:\n",
        "  i = 0;\n",
        "  for item_adv in adv:\n",
        "    if item_adv[3] == epsilon and i<5:\n",
        "      matrix.append(item_adv)\n",
        "      i+=1\n",
        "      print(f\"am gaist unu pentru eps {epsilon}\")\n",
        "\n",
        "print(len(matrix))\n"
      ],
      "execution_count": null,
      "outputs": [
        {
          "output_type": "stream",
          "text": [
            "am gaist unu pentru eps 0.05\n",
            "am gaist unu pentru eps 0.05\n",
            "am gaist unu pentru eps 0.1\n",
            "am gaist unu pentru eps 0.1\n",
            "am gaist unu pentru eps 0.1\n",
            "am gaist unu pentru eps 0.1\n",
            "am gaist unu pentru eps 0.1\n",
            "am gaist unu pentru eps 0.15\n",
            "am gaist unu pentru eps 0.15\n",
            "am gaist unu pentru eps 0.15\n",
            "am gaist unu pentru eps 0.15\n",
            "am gaist unu pentru eps 0.15\n",
            "am gaist unu pentru eps 0.2\n",
            "am gaist unu pentru eps 0.2\n",
            "am gaist unu pentru eps 0.2\n",
            "am gaist unu pentru eps 0.2\n",
            "am gaist unu pentru eps 0.2\n",
            "34\n"
          ],
          "name": "stdout"
        }
      ]
    },
    {
      "cell_type": "code",
      "metadata": {
        "id": "HjwZG0PY81xi",
        "colab_type": "code",
        "colab": {}
      },
      "source": [
        "matrix[0]"
      ],
      "execution_count": null,
      "outputs": []
    },
    {
      "cell_type": "code",
      "metadata": {
        "id": "UAtT3nCMgN_W",
        "colab_type": "code",
        "colab": {
          "base_uri": "https://localhost:8080/",
          "height": 675
        },
        "outputId": "e8d2fe0a-78aa-41bd-ca14-db8d2f8ed34f"
      },
      "source": [
        "# Plot several examples of adversarial samples at each epsilon\n",
        "cnt = 0\n",
        "poz =0\n",
        "plt.figure(figsize=(8,10))\n",
        "for i in range(len(epsilons)-1):\n",
        "    for special in range(2):\n",
        "      if cnt > 3:\n",
        "        continue\n",
        "      cnt += 1\n",
        "      plt.subplot(4, 5, cnt)\n",
        "      plt.xticks([], [])\n",
        "      plt.yticks([], [])\n",
        "      if cnt == 1:\n",
        "        plt.ylabel(\"Eps: {}\".format(epsilons[i+1]), fontsize=14)\n",
        "      orig,adv,ex,_ = matrix[poz]\n",
        "      poz += 1\n",
        "      plt.title(\"{} -> {}\".format(orig, adv))\n",
        "      plt.imshow(ex[0][0], cmap=\"gray\")\n",
        "      if cnt == 2:\n",
        "        cnt += 3\n",
        "    for j in range(5):\n",
        "        if cnt < 5 or cnt >= 20:\n",
        "          continue\n",
        "        cnt += 1\n",
        "        plt.subplot(4, 5, cnt)\n",
        "        plt.xticks([], [])\n",
        "        plt.yticks([], [])\n",
        "        if j%5 == 0:\n",
        "            plt.ylabel(\"Eps: {}\".format(epsilons[i+2]), fontsize=14)\n",
        "        orig,adv,ex,_ = matrix[poz]\n",
        "        poz += 1\n",
        "        plt.title(\"{} -> {}\".format(orig, adv))\n",
        "        plt.imshow(ex[0][0], cmap=\"gray\")\n",
        "plt.tight_layout()\n",
        "plt.show() "
      ],
      "execution_count": null,
      "outputs": [
        {
          "output_type": "display_data",
          "data": {
            "image/png": "[encoded data removed]",
            "text/plain": [
              "<Figure size 576x720 with 17 Axes>"
            ]
          },
          "metadata": {
            "tags": []
          }
        }
      ]
    },
    {
      "cell_type": "markdown",
      "metadata": {
        "id": "dmUTi4OJh55-",
        "colab_type": "text"
      },
      "source": [
        "# Here we will add the second cnn called LeNet5 - 1990"
      ]
    },
    {
      "cell_type": "code",
      "metadata": {
        "id": "i-lZ00yurblg",
        "colab_type": "code",
        "colab": {}
      },
      "source": [
        "import numpy as np\n",
        "from datetime import datetime \n",
        "\n",
        "import torch\n",
        "import torch.nn as nn\n",
        "import torch.nn.functional as F\n",
        "from torch.utils.data import DataLoader\n",
        "\n",
        "from torchvision import datasets, transforms\n",
        "\n",
        "import matplotlib.pyplot as plt\n",
        "\n",
        "# check device\n",
        "DEVICE = 'cuda' if torch.cuda.is_available() else 'cpu'"
      ],
      "execution_count": 52,
      "outputs": []
    },
    {
      "cell_type": "code",
      "metadata": {
        "id": "3W7-5vhgh5aR",
        "colab_type": "code",
        "colab": {}
      },
      "source": [
        "# parameters\n",
        "RANDOM_SEED = 42\n",
        "LEARNING_RATE = 0.001\n",
        "BATCH_SIZE = 32\n",
        "N_EPOCHS = 15\n",
        "\n",
        "IMG_SIZE = 32\n",
        "N_CLASSES = 10"
      ],
      "execution_count": 53,
      "outputs": []
    },
    {
      "cell_type": "code",
      "metadata": {
        "id": "ojAv0W76p8nc",
        "colab_type": "code",
        "colab": {}
      },
      "source": [
        "# check device\n",
        "DEVICE = 'cuda' if torch.cuda.is_available() else 'cpu'"
      ],
      "execution_count": 54,
      "outputs": []
    },
    {
      "cell_type": "code",
      "metadata": {
        "id": "20CYmwdhh5YG",
        "colab_type": "code",
        "colab": {}
      },
      "source": [
        "def train(train_loader, model, criterion, optimizer, device):\n",
        "    '''\n",
        "    Function for the training step of the training loop\n",
        "    '''\n",
        "\n",
        "    model.train()\n",
        "    running_loss = 0\n",
        "    \n",
        "    for X, y_true in train_loader:\n",
        "\n",
        "        optimizer.zero_grad()\n",
        "        \n",
        "        X = X.to(device)\n",
        "        y_true = y_true.to(device)\n",
        "    \n",
        "        # Forward pass\n",
        "        y_hat, _ = model(X) \n",
        "        loss = criterion(y_hat, y_true) \n",
        "        running_loss += loss.item() * X.size(0)\n",
        "\n",
        "        # Backward pass\n",
        "        loss.backward()\n",
        "        optimizer.step()\n",
        "        \n",
        "    epoch_loss = running_loss / len(train_loader.dataset)\n",
        "    return model, optimizer, epoch_loss"
      ],
      "execution_count": 55,
      "outputs": []
    },
    {
      "cell_type": "code",
      "metadata": {
        "id": "tsdIKwU0h4-_",
        "colab_type": "code",
        "colab": {}
      },
      "source": [
        "def validate(valid_loader, model, criterion, device):\n",
        "    '''\n",
        "    Function for the validation step of the training loop\n",
        "    '''\n",
        "   \n",
        "    model.eval()\n",
        "    running_loss = 0\n",
        "    \n",
        "    for X, y_true in valid_loader:\n",
        "    \n",
        "        X = X.to(device)\n",
        "        y_true = y_true.to(device)\n",
        "\n",
        "        # Forward pass and record loss\n",
        "        y_hat, _ = model(X) \n",
        "        loss = criterion(y_hat, y_true) \n",
        "        running_loss += loss.item() * X.size(0)\n",
        "\n",
        "    epoch_loss = running_loss / len(valid_loader.dataset)\n",
        "        \n",
        "    return model, epoch_loss"
      ],
      "execution_count": 56,
      "outputs": []
    },
    {
      "cell_type": "code",
      "metadata": {
        "id": "E3kNsQ8-tsLH",
        "colab_type": "code",
        "colab": {}
      },
      "source": [
        "def get_accuracy(model, data_loader, device):\n",
        "    '''\n",
        "    Function for computing the accuracy of the predictions over the entire data_loader\n",
        "    '''\n",
        "    \n",
        "    correct_pred = 0 \n",
        "    n = 0\n",
        "    \n",
        "    with torch.no_grad():\n",
        "        model.eval()\n",
        "        for X, y_true in data_loader:\n",
        "\n",
        "            X = X.to(device)\n",
        "            y_true = y_true.to(device)\n",
        "\n",
        "            _, y_prob = model(X)\n",
        "            _, predicted_labels = torch.max(y_prob, 1)\n",
        "\n",
        "            n += y_true.size(0)\n",
        "            correct_pred += (predicted_labels == y_true).sum()\n",
        "\n",
        "    return correct_pred.float() / n"
      ],
      "execution_count": 57,
      "outputs": []
    },
    {
      "cell_type": "code",
      "metadata": {
        "id": "ptnAYv7qx9bD",
        "colab_type": "code",
        "colab": {}
      },
      "source": [
        "def plot_losses(train_losses, valid_losses):\n",
        "    '''\n",
        "    Function for plotting training and validation losses\n",
        "    '''\n",
        "    \n",
        "    # temporarily change the style of the plots to seaborn \n",
        "    plt.style.use('seaborn')\n",
        "\n",
        "    train_losses = np.array(train_losses) \n",
        "    valid_losses = np.array(valid_losses)\n",
        "\n",
        "    fig, ax = plt.subplots(figsize = (8, 4.5))\n",
        "\n",
        "    ax.plot(train_losses, color='blue', label='Training loss') \n",
        "    ax.plot(valid_losses, color='red', label='Validation loss')\n",
        "    ax.set(title=\"Loss over epochs\", \n",
        "            xlabel='Epoch',\n",
        "            ylabel='Loss') \n",
        "    ax.legend()\n",
        "    fig.show()\n",
        "    \n",
        "    # change the plot style to default\n",
        "    plt.style.use('default')"
      ],
      "execution_count": 63,
      "outputs": []
    },
    {
      "cell_type": "code",
      "metadata": {
        "id": "d5AOpHiRh47j",
        "colab_type": "code",
        "colab": {}
      },
      "source": [
        "def training_loop(model, criterion, optimizer, train_loader, valid_loader, epochs, device, print_every=1):\n",
        "    '''\n",
        "    Function defining the entire training loop\n",
        "    '''\n",
        "    \n",
        "    # set objects for storing metrics\n",
        "    best_loss = 1e10\n",
        "    train_losses = []\n",
        "    valid_losses = []\n",
        " \n",
        "    # Train model\n",
        "    for epoch in range(0, epochs):\n",
        "\n",
        "        # training\n",
        "        model, optimizer, train_loss = train(train_loader, model, criterion, optimizer, device)\n",
        "        train_losses.append(train_loss)\n",
        "\n",
        "        # validation\n",
        "        with torch.no_grad():\n",
        "            model, valid_loss = validate(valid_loader, model, criterion, device)\n",
        "            valid_losses.append(valid_loss)\n",
        "\n",
        "        if epoch % print_every == (print_every - 1):\n",
        "            \n",
        "            train_acc = get_accuracy(model, train_loader, device=device)\n",
        "            valid_acc = get_accuracy(model, valid_loader, device=device)\n",
        "                \n",
        "            print(f'{datetime.now().time().replace(microsecond=0)} --- '\n",
        "                  f'Epoch: {epoch}\\t'\n",
        "                  f'Train loss: {train_loss:.4f}\\t'\n",
        "                  f'Valid loss: {valid_loss:.4f}\\t'\n",
        "                  f'Train accuracy: {100 * train_acc:.2f}\\t'\n",
        "                  f'Valid accuracy: {100 * valid_acc:.2f}')\n",
        "\n",
        "    plot_losses(train_losses, valid_losses)\n",
        "    \n",
        "    return model, optimizer, (train_losses, valid_losses)"
      ],
      "execution_count": 58,
      "outputs": []
    },
    {
      "cell_type": "code",
      "metadata": {
        "id": "VVp3sm1Tqgyb",
        "colab_type": "code",
        "colab": {}
      },
      "source": [
        "# define transforms\n",
        "transforms = transforms.Compose([transforms.Resize((32, 32)),\n",
        "                                 transforms.ToTensor()])\n",
        "\n",
        "# download and create datasets\n",
        "train_dataset = datasets.MNIST(root='mnist_data', \n",
        "                               train=True, \n",
        "                               transform=transforms,\n",
        "                               download=True)\n",
        "\n",
        "valid_dataset = datasets.MNIST(root='mnist_data', \n",
        "                               train=False, \n",
        "                               transform=transforms)\n",
        "\n",
        "# define the data loaders\n",
        "train_loader = DataLoader(dataset=train_dataset, \n",
        "                          batch_size=BATCH_SIZE, \n",
        "                          shuffle=True)\n",
        "\n",
        "valid_loader = DataLoader(dataset=valid_dataset, \n",
        "                          batch_size=BATCH_SIZE, \n",
        "                          shuffle=False)"
      ],
      "execution_count": 59,
      "outputs": []
    },
    {
      "cell_type": "code",
      "metadata": {
        "id": "NimWrXMCh45S",
        "colab_type": "code",
        "colab": {}
      },
      "source": [
        "class LeNet5(nn.Module):\n",
        "\n",
        "    def __init__(self, n_classes):\n",
        "        super(LeNet5, self).__init__()\n",
        "        \n",
        "        self.feature_extractor = nn.Sequential(            \n",
        "            nn.Conv2d(in_channels=1, out_channels=6, kernel_size=5, stride=1),\n",
        "            nn.Tanh(),\n",
        "            nn.AvgPool2d(kernel_size=2),\n",
        "            nn.Conv2d(in_channels=6, out_channels=16, kernel_size=5, stride=1),\n",
        "            nn.Tanh(),\n",
        "            nn.AvgPool2d(kernel_size=2),\n",
        "            nn.Conv2d(in_channels=16, out_channels=120, kernel_size=5, stride=1),\n",
        "            nn.Tanh()\n",
        "        )\n",
        "\n",
        "        self.classifier = nn.Sequential(\n",
        "            nn.Linear(in_features=120, out_features=84),\n",
        "            nn.Tanh(),\n",
        "            nn.Linear(in_features=84, out_features=n_classes),\n",
        "        )\n",
        "\n",
        "\n",
        "    def forward(self, x):\n",
        "        x = self.feature_extractor(x)\n",
        "        x = torch.flatten(x, 1)\n",
        "        logits = self.classifier(x)\n",
        "        probs = F.softmax(logits, dim=1)\n",
        "        return logits, probs"
      ],
      "execution_count": 60,
      "outputs": []
    },
    {
      "cell_type": "code",
      "metadata": {
        "id": "DIIWJTzLpFlX",
        "colab_type": "code",
        "colab": {}
      },
      "source": [
        "torch.manual_seed(RANDOM_SEED)\n",
        "\n",
        "model = LeNet5(N_CLASSES).to(DEVICE)\n",
        "optimizer = torch.optim.Adam(model.parameters(), lr=LEARNING_RATE)\n",
        "criterion = nn.CrossEntropyLoss()"
      ],
      "execution_count": 61,
      "outputs": []
    },
    {
      "cell_type": "code",
      "metadata": {
        "id": "I0zpS1vmh40j",
        "colab_type": "code",
        "colab": {
          "base_uri": "https://localhost:8080/",
          "height": 596
        },
        "outputId": "47c52c0b-1655-4611-87ad-a45fe649eb9e"
      },
      "source": [
        "model, optimizer, _ = training_loop(model, criterion, optimizer, train_loader, valid_loader, N_EPOCHS, DEVICE)"
      ],
      "execution_count": 64,
      "outputs": [
        {
          "output_type": "stream",
          "text": [
            "15:13:36 --- Epoch: 0\tTrain loss: 0.0115\tValid loss: 0.0420\tTrain accuracy: 99.77\tValid accuracy: 98.86\n",
            "15:14:18 --- Epoch: 1\tTrain loss: 0.0093\tValid loss: 0.0413\tTrain accuracy: 99.81\tValid accuracy: 98.80\n",
            "15:15:01 --- Epoch: 2\tTrain loss: 0.0095\tValid loss: 0.0471\tTrain accuracy: 99.70\tValid accuracy: 98.79\n",
            "15:15:44 --- Epoch: 3\tTrain loss: 0.0089\tValid loss: 0.0479\tTrain accuracy: 99.77\tValid accuracy: 98.83\n",
            "15:16:26 --- Epoch: 4\tTrain loss: 0.0089\tValid loss: 0.0419\tTrain accuracy: 99.83\tValid accuracy: 98.88\n",
            "15:17:09 --- Epoch: 5\tTrain loss: 0.0083\tValid loss: 0.0527\tTrain accuracy: 99.80\tValid accuracy: 98.77\n",
            "15:17:52 --- Epoch: 6\tTrain loss: 0.0083\tValid loss: 0.0529\tTrain accuracy: 99.70\tValid accuracy: 98.72\n",
            "15:18:35 --- Epoch: 7\tTrain loss: 0.0080\tValid loss: 0.0524\tTrain accuracy: 99.81\tValid accuracy: 98.81\n",
            "15:19:17 --- Epoch: 8\tTrain loss: 0.0076\tValid loss: 0.0522\tTrain accuracy: 99.76\tValid accuracy: 98.73\n",
            "15:20:00 --- Epoch: 9\tTrain loss: 0.0073\tValid loss: 0.0498\tTrain accuracy: 99.79\tValid accuracy: 98.75\n",
            "15:20:42 --- Epoch: 10\tTrain loss: 0.0062\tValid loss: 0.0533\tTrain accuracy: 99.77\tValid accuracy: 98.70\n",
            "15:21:24 --- Epoch: 11\tTrain loss: 0.0073\tValid loss: 0.0500\tTrain accuracy: 99.83\tValid accuracy: 98.83\n",
            "15:22:06 --- Epoch: 12\tTrain loss: 0.0062\tValid loss: 0.0540\tTrain accuracy: 99.76\tValid accuracy: 98.82\n",
            "15:22:48 --- Epoch: 13\tTrain loss: 0.0057\tValid loss: 0.0552\tTrain accuracy: 99.70\tValid accuracy: 98.71\n",
            "15:23:30 --- Epoch: 14\tTrain loss: 0.0066\tValid loss: 0.0542\tTrain accuracy: 99.85\tValid accuracy: 98.80\n"
          ],
          "name": "stdout"
        },
        {
          "output_type": "display_data",
          "data": {
            "image/png": "[encoded data removed]",
            "text/plain": [
              "<Figure size 576x324 with 1 Axes>"
            ]
          },
          "metadata": {
            "tags": []
          }
        }
      ]
    },
    {
      "cell_type": "code",
      "metadata": {
        "id": "VN4LEKpVh4yg",
        "colab_type": "code",
        "colab": {
          "base_uri": "https://localhost:8080/",
          "height": 443
        },
        "outputId": "4100b92d-7ab6-4cd0-d8ed-496a48b98024"
      },
      "source": [
        "ROW_IMG = 10\n",
        "N_ROWS = 5\n",
        "\n",
        "fig = plt.figure()\n",
        "for index in range(1, ROW_IMG * N_ROWS + 1):\n",
        "    plt.subplot(N_ROWS, ROW_IMG, index)\n",
        "    plt.axis('off')\n",
        "    plt.imshow(valid_dataset.data[index], cmap='gray_r')\n",
        "    \n",
        "    with torch.no_grad():\n",
        "        model.eval()\n",
        "        _, probs = model(valid_dataset[index][0].unsqueeze(0))\n",
        "        \n",
        "    title = f'{torch.argmax(probs)} ({torch.max(probs * 100):.0f}%)'\n",
        "    \n",
        "    plt.title(title, fontsize=7)\n",
        "fig.suptitle('LeNet-5 - predictions');"
      ],
      "execution_count": 65,
      "outputs": [
        {
          "output_type": "display_data",
          "data": {
            "image/png": "[encoded data removed]",
            "text/plain": [
              "<Figure size 640x480 with 50 Axes>"
            ]
          },
          "metadata": {
            "tags": []
          }
        }
      ]
    },
    {
      "cell_type": "code",
      "metadata": {
        "id": "KmbP1L8Oh4vy",
        "colab_type": "code",
        "colab": {}
      },
      "source": [
        ""
      ],
      "execution_count": null,
      "outputs": []
    }
  ]
}