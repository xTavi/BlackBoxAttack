{
  "nbformat": 4,
  "nbformat_minor": 0,
  "metadata": {
    "colab": {
      "name": "Copie a fișierului Proiect",
      "provenance": [],
      "collapsed_sections": [],
      "toc_visible": true,
      "authorship_tag": "ABX9TyN3o10AhJ2iCy2hCAqHV1Ys",
      "include_colab_link": true
    },
    "kernelspec": {
      "name": "python3",
      "display_name": "Python 3"
    },
    "widgets": {
      "application/vnd.jupyter.widget-state+json": {
        "d9d0eaa897bb45ecb32b58381cc23a94": {
          "model_module": "@jupyter-widgets/controls",
          "model_name": "HBoxModel",
          "state": {
            "_view_name": "HBoxView",
            "_dom_classes": [],
            "_model_name": "HBoxModel",
            "_view_module": "@jupyter-widgets/controls",
            "_model_module_version": "1.5.0",
            "_view_count": null,
            "_view_module_version": "1.5.0",
            "box_style": "",
            "layout": "IPY_MODEL_78095813fd3d4b148119eabbca8a5c56",
            "_model_module": "@jupyter-widgets/controls",
            "children": [
              "IPY_MODEL_1763fe1539fb42e89f2687b0e532adce",
              "IPY_MODEL_3e1bb62d3513409f8dc1cdf5029d3456"
            ]
          }
        },
        "78095813fd3d4b148119eabbca8a5c56": {
          "model_module": "@jupyter-widgets/base",
          "model_name": "LayoutModel",
          "state": {
            "_view_name": "LayoutView",
            "grid_template_rows": null,
            "right": null,
            "justify_content": null,
            "_view_module": "@jupyter-widgets/base",
            "overflow": null,
            "_model_module_version": "1.2.0",
            "_view_count": null,
            "flex_flow": null,
            "width": null,
            "min_width": null,
            "border": null,
            "align_items": null,
            "bottom": null,
            "_model_module": "@jupyter-widgets/base",
            "top": null,
            "grid_column": null,
            "overflow_y": null,
            "overflow_x": null,
            "grid_auto_flow": null,
            "grid_area": null,
            "grid_template_columns": null,
            "flex": null,
            "_model_name": "LayoutModel",
            "justify_items": null,
            "grid_row": null,
            "max_height": null,
            "align_content": null,
            "visibility": null,
            "align_self": null,
            "height": null,
            "min_height": null,
            "padding": null,
            "grid_auto_rows": null,
            "grid_gap": null,
            "max_width": null,
            "order": null,
            "_view_module_version": "1.2.0",
            "grid_template_areas": null,
            "object_position": null,
            "object_fit": null,
            "grid_auto_columns": null,
            "margin": null,
            "display": null,
            "left": null
          }
        },
        "1763fe1539fb42e89f2687b0e532adce": {
          "model_module": "@jupyter-widgets/controls",
          "model_name": "FloatProgressModel",
          "state": {
            "_view_name": "ProgressView",
            "style": "IPY_MODEL_881ae153f93f478d841099b3ce0348df",
            "_dom_classes": [],
            "description": "",
            "_model_name": "FloatProgressModel",
            "bar_style": "success",
            "max": 1,
            "_view_module": "@jupyter-widgets/controls",
            "_model_module_version": "1.5.0",
            "value": 1,
            "_view_count": null,
            "_view_module_version": "1.5.0",
            "orientation": "horizontal",
            "min": 0,
            "description_tooltip": null,
            "_model_module": "@jupyter-widgets/controls",
            "layout": "IPY_MODEL_32fcf89a59624644aee61883c16da38d"
          }
        },
        "3e1bb62d3513409f8dc1cdf5029d3456": {
          "model_module": "@jupyter-widgets/controls",
          "model_name": "HTMLModel",
          "state": {
            "_view_name": "HTMLView",
            "style": "IPY_MODEL_795b40f12e7947979495a1b4cb4795b8",
            "_dom_classes": [],
            "description": "",
            "_model_name": "HTMLModel",
            "placeholder": "​",
            "_view_module": "@jupyter-widgets/controls",
            "_model_module_version": "1.5.0",
            "value": " 9920512/? [00:00&lt;00:00, 10714202.11it/s]",
            "_view_count": null,
            "_view_module_version": "1.5.0",
            "description_tooltip": null,
            "_model_module": "@jupyter-widgets/controls",
            "layout": "IPY_MODEL_2ef9deb859ce4553b2ccae7e8457374b"
          }
        },
        "881ae153f93f478d841099b3ce0348df": {
          "model_module": "@jupyter-widgets/controls",
          "model_name": "ProgressStyleModel",
          "state": {
            "_view_name": "StyleView",
            "_model_name": "ProgressStyleModel",
            "description_width": "initial",
            "_view_module": "@jupyter-widgets/base",
            "_model_module_version": "1.5.0",
            "_view_count": null,
            "_view_module_version": "1.2.0",
            "bar_color": null,
            "_model_module": "@jupyter-widgets/controls"
          }
        },
        "32fcf89a59624644aee61883c16da38d": {
          "model_module": "@jupyter-widgets/base",
          "model_name": "LayoutModel",
          "state": {
            "_view_name": "LayoutView",
            "grid_template_rows": null,
            "right": null,
            "justify_content": null,
            "_view_module": "@jupyter-widgets/base",
            "overflow": null,
            "_model_module_version": "1.2.0",
            "_view_count": null,
            "flex_flow": null,
            "width": null,
            "min_width": null,
            "border": null,
            "align_items": null,
            "bottom": null,
            "_model_module": "@jupyter-widgets/base",
            "top": null,
            "grid_column": null,
            "overflow_y": null,
            "overflow_x": null,
            "grid_auto_flow": null,
            "grid_area": null,
            "grid_template_columns": null,
            "flex": null,
            "_model_name": "LayoutModel",
            "justify_items": null,
            "grid_row": null,
            "max_height": null,
            "align_content": null,
            "visibility": null,
            "align_self": null,
            "height": null,
            "min_height": null,
            "padding": null,
            "grid_auto_rows": null,
            "grid_gap": null,
            "max_width": null,
            "order": null,
            "_view_module_version": "1.2.0",
            "grid_template_areas": null,
            "object_position": null,
            "object_fit": null,
            "grid_auto_columns": null,
            "margin": null,
            "display": null,
            "left": null
          }
        },
        "795b40f12e7947979495a1b4cb4795b8": {
          "model_module": "@jupyter-widgets/controls",
          "model_name": "DescriptionStyleModel",
          "state": {
            "_view_name": "StyleView",
            "_model_name": "DescriptionStyleModel",
            "description_width": "",
            "_view_module": "@jupyter-widgets/base",
            "_model_module_version": "1.5.0",
            "_view_count": null,
            "_view_module_version": "1.2.0",
            "_model_module": "@jupyter-widgets/controls"
          }
        },
        "2ef9deb859ce4553b2ccae7e8457374b": {
          "model_module": "@jupyter-widgets/base",
          "model_name": "LayoutModel",
          "state": {
            "_view_name": "LayoutView",
            "grid_template_rows": null,
            "right": null,
            "justify_content": null,
            "_view_module": "@jupyter-widgets/base",
            "overflow": null,
            "_model_module_version": "1.2.0",
            "_view_count": null,
            "flex_flow": null,
            "width": null,
            "min_width": null,
            "border": null,
            "align_items": null,
            "bottom": null,
            "_model_module": "@jupyter-widgets/base",
            "top": null,
            "grid_column": null,
            "overflow_y": null,
            "overflow_x": null,
            "grid_auto_flow": null,
            "grid_area": null,
            "grid_template_columns": null,
            "flex": null,
            "_model_name": "LayoutModel",
            "justify_items": null,
            "grid_row": null,
            "max_height": null,
            "align_content": null,
            "visibility": null,
            "align_self": null,
            "height": null,
            "min_height": null,
            "padding": null,
            "grid_auto_rows": null,
            "grid_gap": null,
            "max_width": null,
            "order": null,
            "_view_module_version": "1.2.0",
            "grid_template_areas": null,
            "object_position": null,
            "object_fit": null,
            "grid_auto_columns": null,
            "margin": null,
            "display": null,
            "left": null
          }
        },
        "20f3c5c2381f4fe6aa521528384d4b0a": {
          "model_module": "@jupyter-widgets/controls",
          "model_name": "HBoxModel",
          "state": {
            "_view_name": "HBoxView",
            "_dom_classes": [],
            "_model_name": "HBoxModel",
            "_view_module": "@jupyter-widgets/controls",
            "_model_module_version": "1.5.0",
            "_view_count": null,
            "_view_module_version": "1.5.0",
            "box_style": "",
            "layout": "IPY_MODEL_b26160b6db3d477bbd27697b534252e1",
            "_model_module": "@jupyter-widgets/controls",
            "children": [
              "IPY_MODEL_9e760ca09f394ce9903e04f8380dae15",
              "IPY_MODEL_dde62a96defc432eb405c8bec6681d64"
            ]
          }
        },
        "b26160b6db3d477bbd27697b534252e1": {
          "model_module": "@jupyter-widgets/base",
          "model_name": "LayoutModel",
          "state": {
            "_view_name": "LayoutView",
            "grid_template_rows": null,
            "right": null,
            "justify_content": null,
            "_view_module": "@jupyter-widgets/base",
            "overflow": null,
            "_model_module_version": "1.2.0",
            "_view_count": null,
            "flex_flow": null,
            "width": null,
            "min_width": null,
            "border": null,
            "align_items": null,
            "bottom": null,
            "_model_module": "@jupyter-widgets/base",
            "top": null,
            "grid_column": null,
            "overflow_y": null,
            "overflow_x": null,
            "grid_auto_flow": null,
            "grid_area": null,
            "grid_template_columns": null,
            "flex": null,
            "_model_name": "LayoutModel",
            "justify_items": null,
            "grid_row": null,
            "max_height": null,
            "align_content": null,
            "visibility": null,
            "align_self": null,
            "height": null,
            "min_height": null,
            "padding": null,
            "grid_auto_rows": null,
            "grid_gap": null,
            "max_width": null,
            "order": null,
            "_view_module_version": "1.2.0",
            "grid_template_areas": null,
            "object_position": null,
            "object_fit": null,
            "grid_auto_columns": null,
            "margin": null,
            "display": null,
            "left": null
          }
        },
        "9e760ca09f394ce9903e04f8380dae15": {
          "model_module": "@jupyter-widgets/controls",
          "model_name": "FloatProgressModel",
          "state": {
            "_view_name": "ProgressView",
            "style": "IPY_MODEL_82d03136577e43968e04db3fe015524b",
            "_dom_classes": [],
            "description": "",
            "_model_name": "FloatProgressModel",
            "bar_style": "success",
            "max": 1,
            "_view_module": "@jupyter-widgets/controls",
            "_model_module_version": "1.5.0",
            "value": 1,
            "_view_count": null,
            "_view_module_version": "1.5.0",
            "orientation": "horizontal",
            "min": 0,
            "description_tooltip": null,
            "_model_module": "@jupyter-widgets/controls",
            "layout": "IPY_MODEL_0e5aeec5d3e446c280adbb844a97c455"
          }
        },
        "dde62a96defc432eb405c8bec6681d64": {
          "model_module": "@jupyter-widgets/controls",
          "model_name": "HTMLModel",
          "state": {
            "_view_name": "HTMLView",
            "style": "IPY_MODEL_b3bad04c9f8a41b4bc9fceeefe343258",
            "_dom_classes": [],
            "description": "",
            "_model_name": "HTMLModel",
            "placeholder": "​",
            "_view_module": "@jupyter-widgets/controls",
            "_model_module_version": "1.5.0",
            "value": " 32768/? [00:00&lt;00:00, 195235.22it/s]",
            "_view_count": null,
            "_view_module_version": "1.5.0",
            "description_tooltip": null,
            "_model_module": "@jupyter-widgets/controls",
            "layout": "IPY_MODEL_8d0a7d1987ad4beab81d67c33490ee7a"
          }
        },
        "82d03136577e43968e04db3fe015524b": {
          "model_module": "@jupyter-widgets/controls",
          "model_name": "ProgressStyleModel",
          "state": {
            "_view_name": "StyleView",
            "_model_name": "ProgressStyleModel",
            "description_width": "initial",
            "_view_module": "@jupyter-widgets/base",
            "_model_module_version": "1.5.0",
            "_view_count": null,
            "_view_module_version": "1.2.0",
            "bar_color": null,
            "_model_module": "@jupyter-widgets/controls"
          }
        },
        "0e5aeec5d3e446c280adbb844a97c455": {
          "model_module": "@jupyter-widgets/base",
          "model_name": "LayoutModel",
          "state": {
            "_view_name": "LayoutView",
            "grid_template_rows": null,
            "right": null,
            "justify_content": null,
            "_view_module": "@jupyter-widgets/base",
            "overflow": null,
            "_model_module_version": "1.2.0",
            "_view_count": null,
            "flex_flow": null,
            "width": null,
            "min_width": null,
            "border": null,
            "align_items": null,
            "bottom": null,
            "_model_module": "@jupyter-widgets/base",
            "top": null,
            "grid_column": null,
            "overflow_y": null,
            "overflow_x": null,
            "grid_auto_flow": null,
            "grid_area": null,
            "grid_template_columns": null,
            "flex": null,
            "_model_name": "LayoutModel",
            "justify_items": null,
            "grid_row": null,
            "max_height": null,
            "align_content": null,
            "visibility": null,
            "align_self": null,
            "height": null,
            "min_height": null,
            "padding": null,
            "grid_auto_rows": null,
            "grid_gap": null,
            "max_width": null,
            "order": null,
            "_view_module_version": "1.2.0",
            "grid_template_areas": null,
            "object_position": null,
            "object_fit": null,
            "grid_auto_columns": null,
            "margin": null,
            "display": null,
            "left": null
          }
        },
        "b3bad04c9f8a41b4bc9fceeefe343258": {
          "model_module": "@jupyter-widgets/controls",
          "model_name": "DescriptionStyleModel",
          "state": {
            "_view_name": "StyleView",
            "_model_name": "DescriptionStyleModel",
            "description_width": "",
            "_view_module": "@jupyter-widgets/base",
            "_model_module_version": "1.5.0",
            "_view_count": null,
            "_view_module_version": "1.2.0",
            "_model_module": "@jupyter-widgets/controls"
          }
        },
        "8d0a7d1987ad4beab81d67c33490ee7a": {
          "model_module": "@jupyter-widgets/base",
          "model_name": "LayoutModel",
          "state": {
            "_view_name": "LayoutView",
            "grid_template_rows": null,
            "right": null,
            "justify_content": null,
            "_view_module": "@jupyter-widgets/base",
            "overflow": null,
            "_model_module_version": "1.2.0",
            "_view_count": null,
            "flex_flow": null,
            "width": null,
            "min_width": null,
            "border": null,
            "align_items": null,
            "bottom": null,
            "_model_module": "@jupyter-widgets/base",
            "top": null,
            "grid_column": null,
            "overflow_y": null,
            "overflow_x": null,
            "grid_auto_flow": null,
            "grid_area": null,
            "grid_template_columns": null,
            "flex": null,
            "_model_name": "LayoutModel",
            "justify_items": null,
            "grid_row": null,
            "max_height": null,
            "align_content": null,
            "visibility": null,
            "align_self": null,
            "height": null,
            "min_height": null,
            "padding": null,
            "grid_auto_rows": null,
            "grid_gap": null,
            "max_width": null,
            "order": null,
            "_view_module_version": "1.2.0",
            "grid_template_areas": null,
            "object_position": null,
            "object_fit": null,
            "grid_auto_columns": null,
            "margin": null,
            "display": null,
            "left": null
          }
        },
        "a561f78764f648ac9c9a0b29559ef5d3": {
          "model_module": "@jupyter-widgets/controls",
          "model_name": "HBoxModel",
          "state": {
            "_view_name": "HBoxView",
            "_dom_classes": [],
            "_model_name": "HBoxModel",
            "_view_module": "@jupyter-widgets/controls",
            "_model_module_version": "1.5.0",
            "_view_count": null,
            "_view_module_version": "1.5.0",
            "box_style": "",
            "layout": "IPY_MODEL_3bd59040c8a34e82aac8923c53f2782a",
            "_model_module": "@jupyter-widgets/controls",
            "children": [
              "IPY_MODEL_a1424bfe3c4c434db4a09bab2e6f0f10",
              "IPY_MODEL_9cca039134814796a750a1b374814099"
            ]
          }
        },
        "3bd59040c8a34e82aac8923c53f2782a": {
          "model_module": "@jupyter-widgets/base",
          "model_name": "LayoutModel",
          "state": {
            "_view_name": "LayoutView",
            "grid_template_rows": null,
            "right": null,
            "justify_content": null,
            "_view_module": "@jupyter-widgets/base",
            "overflow": null,
            "_model_module_version": "1.2.0",
            "_view_count": null,
            "flex_flow": null,
            "width": null,
            "min_width": null,
            "border": null,
            "align_items": null,
            "bottom": null,
            "_model_module": "@jupyter-widgets/base",
            "top": null,
            "grid_column": null,
            "overflow_y": null,
            "overflow_x": null,
            "grid_auto_flow": null,
            "grid_area": null,
            "grid_template_columns": null,
            "flex": null,
            "_model_name": "LayoutModel",
            "justify_items": null,
            "grid_row": null,
            "max_height": null,
            "align_content": null,
            "visibility": null,
            "align_self": null,
            "height": null,
            "min_height": null,
            "padding": null,
            "grid_auto_rows": null,
            "grid_gap": null,
            "max_width": null,
            "order": null,
            "_view_module_version": "1.2.0",
            "grid_template_areas": null,
            "object_position": null,
            "object_fit": null,
            "grid_auto_columns": null,
            "margin": null,
            "display": null,
            "left": null
          }
        },
        "a1424bfe3c4c434db4a09bab2e6f0f10": {
          "model_module": "@jupyter-widgets/controls",
          "model_name": "FloatProgressModel",
          "state": {
            "_view_name": "ProgressView",
            "style": "IPY_MODEL_9adeb931546f4594a49c18a2d231d561",
            "_dom_classes": [],
            "description": "",
            "_model_name": "FloatProgressModel",
            "bar_style": "info",
            "max": 1,
            "_view_module": "@jupyter-widgets/controls",
            "_model_module_version": "1.5.0",
            "value": 1,
            "_view_count": null,
            "_view_module_version": "1.5.0",
            "orientation": "horizontal",
            "min": 0,
            "description_tooltip": null,
            "_model_module": "@jupyter-widgets/controls",
            "layout": "IPY_MODEL_0049d420a1a84d579ffc6f824e86a227"
          }
        },
        "9cca039134814796a750a1b374814099": {
          "model_module": "@jupyter-widgets/controls",
          "model_name": "HTMLModel",
          "state": {
            "_view_name": "HTMLView",
            "style": "IPY_MODEL_2768e48cd92f428db65d281cd211b0fe",
            "_dom_classes": [],
            "description": "",
            "_model_name": "HTMLModel",
            "placeholder": "​",
            "_view_module": "@jupyter-widgets/controls",
            "_model_module_version": "1.5.0",
            "value": " 1654784/? [00:17&lt;00:00, 1575573.80it/s]",
            "_view_count": null,
            "_view_module_version": "1.5.0",
            "description_tooltip": null,
            "_model_module": "@jupyter-widgets/controls",
            "layout": "IPY_MODEL_5fed8d07abdc48b99a4da8e97e924d1c"
          }
        },
        "9adeb931546f4594a49c18a2d231d561": {
          "model_module": "@jupyter-widgets/controls",
          "model_name": "ProgressStyleModel",
          "state": {
            "_view_name": "StyleView",
            "_model_name": "ProgressStyleModel",
            "description_width": "initial",
            "_view_module": "@jupyter-widgets/base",
            "_model_module_version": "1.5.0",
            "_view_count": null,
            "_view_module_version": "1.2.0",
            "bar_color": null,
            "_model_module": "@jupyter-widgets/controls"
          }
        },
        "0049d420a1a84d579ffc6f824e86a227": {
          "model_module": "@jupyter-widgets/base",
          "model_name": "LayoutModel",
          "state": {
            "_view_name": "LayoutView",
            "grid_template_rows": null,
            "right": null,
            "justify_content": null,
            "_view_module": "@jupyter-widgets/base",
            "overflow": null,
            "_model_module_version": "1.2.0",
            "_view_count": null,
            "flex_flow": null,
            "width": null,
            "min_width": null,
            "border": null,
            "align_items": null,
            "bottom": null,
            "_model_module": "@jupyter-widgets/base",
            "top": null,
            "grid_column": null,
            "overflow_y": null,
            "overflow_x": null,
            "grid_auto_flow": null,
            "grid_area": null,
            "grid_template_columns": null,
            "flex": null,
            "_model_name": "LayoutModel",
            "justify_items": null,
            "grid_row": null,
            "max_height": null,
            "align_content": null,
            "visibility": null,
            "align_self": null,
            "height": null,
            "min_height": null,
            "padding": null,
            "grid_auto_rows": null,
            "grid_gap": null,
            "max_width": null,
            "order": null,
            "_view_module_version": "1.2.0",
            "grid_template_areas": null,
            "object_position": null,
            "object_fit": null,
            "grid_auto_columns": null,
            "margin": null,
            "display": null,
            "left": null
          }
        },
        "2768e48cd92f428db65d281cd211b0fe": {
          "model_module": "@jupyter-widgets/controls",
          "model_name": "DescriptionStyleModel",
          "state": {
            "_view_name": "StyleView",
            "_model_name": "DescriptionStyleModel",
            "description_width": "",
            "_view_module": "@jupyter-widgets/base",
            "_model_module_version": "1.5.0",
            "_view_count": null,
            "_view_module_version": "1.2.0",
            "_model_module": "@jupyter-widgets/controls"
          }
        },
        "5fed8d07abdc48b99a4da8e97e924d1c": {
          "model_module": "@jupyter-widgets/base",
          "model_name": "LayoutModel",
          "state": {
            "_view_name": "LayoutView",
            "grid_template_rows": null,
            "right": null,
            "justify_content": null,
            "_view_module": "@jupyter-widgets/base",
            "overflow": null,
            "_model_module_version": "1.2.0",
            "_view_count": null,
            "flex_flow": null,
            "width": null,
            "min_width": null,
            "border": null,
            "align_items": null,
            "bottom": null,
            "_model_module": "@jupyter-widgets/base",
            "top": null,
            "grid_column": null,
            "overflow_y": null,
            "overflow_x": null,
            "grid_auto_flow": null,
            "grid_area": null,
            "grid_template_columns": null,
            "flex": null,
            "_model_name": "LayoutModel",
            "justify_items": null,
            "grid_row": null,
            "max_height": null,
            "align_content": null,
            "visibility": null,
            "align_self": null,
            "height": null,
            "min_height": null,
            "padding": null,
            "grid_auto_rows": null,
            "grid_gap": null,
            "max_width": null,
            "order": null,
            "_view_module_version": "1.2.0",
            "grid_template_areas": null,
            "object_position": null,
            "object_fit": null,
            "grid_auto_columns": null,
            "margin": null,
            "display": null,
            "left": null
          }
        },
        "40b3a6b9057244c88df72c4afc130ee3": {
          "model_module": "@jupyter-widgets/controls",
          "model_name": "HBoxModel",
          "state": {
            "_view_name": "HBoxView",
            "_dom_classes": [],
            "_model_name": "HBoxModel",
            "_view_module": "@jupyter-widgets/controls",
            "_model_module_version": "1.5.0",
            "_view_count": null,
            "_view_module_version": "1.5.0",
            "box_style": "",
            "layout": "IPY_MODEL_c173ccd8d1974ba29b071a4a9910da71",
            "_model_module": "@jupyter-widgets/controls",
            "children": [
              "IPY_MODEL_6fad23fcbe3642b49c9f201176c628a2",
              "IPY_MODEL_b552fdc54f9d42d784141be7ab1febba"
            ]
          }
        },
        "c173ccd8d1974ba29b071a4a9910da71": {
          "model_module": "@jupyter-widgets/base",
          "model_name": "LayoutModel",
          "state": {
            "_view_name": "LayoutView",
            "grid_template_rows": null,
            "right": null,
            "justify_content": null,
            "_view_module": "@jupyter-widgets/base",
            "overflow": null,
            "_model_module_version": "1.2.0",
            "_view_count": null,
            "flex_flow": null,
            "width": null,
            "min_width": null,
            "border": null,
            "align_items": null,
            "bottom": null,
            "_model_module": "@jupyter-widgets/base",
            "top": null,
            "grid_column": null,
            "overflow_y": null,
            "overflow_x": null,
            "grid_auto_flow": null,
            "grid_area": null,
            "grid_template_columns": null,
            "flex": null,
            "_model_name": "LayoutModel",
            "justify_items": null,
            "grid_row": null,
            "max_height": null,
            "align_content": null,
            "visibility": null,
            "align_self": null,
            "height": null,
            "min_height": null,
            "padding": null,
            "grid_auto_rows": null,
            "grid_gap": null,
            "max_width": null,
            "order": null,
            "_view_module_version": "1.2.0",
            "grid_template_areas": null,
            "object_position": null,
            "object_fit": null,
            "grid_auto_columns": null,
            "margin": null,
            "display": null,
            "left": null
          }
        },
        "6fad23fcbe3642b49c9f201176c628a2": {
          "model_module": "@jupyter-widgets/controls",
          "model_name": "FloatProgressModel",
          "state": {
            "_view_name": "ProgressView",
            "style": "IPY_MODEL_5c40790a5b134611a35cac30e2b2122b",
            "_dom_classes": [],
            "description": "  0%",
            "_model_name": "FloatProgressModel",
            "bar_style": "info",
            "max": 1,
            "_view_module": "@jupyter-widgets/controls",
            "_model_module_version": "1.5.0",
            "value": 0,
            "_view_count": null,
            "_view_module_version": "1.5.0",
            "orientation": "horizontal",
            "min": 0,
            "description_tooltip": null,
            "_model_module": "@jupyter-widgets/controls",
            "layout": "IPY_MODEL_ce6ae56942354a3391307f113d39a006"
          }
        },
        "b552fdc54f9d42d784141be7ab1febba": {
          "model_module": "@jupyter-widgets/controls",
          "model_name": "HTMLModel",
          "state": {
            "_view_name": "HTMLView",
            "style": "IPY_MODEL_f5ad0c6be00a4c83b9cb53de77ef28f2",
            "_dom_classes": [],
            "description": "",
            "_model_name": "HTMLModel",
            "placeholder": "​",
            "_view_module": "@jupyter-widgets/controls",
            "_model_module_version": "1.5.0",
            "value": " 0/4542 [00:00&lt;?, ?it/s]",
            "_view_count": null,
            "_view_module_version": "1.5.0",
            "description_tooltip": null,
            "_model_module": "@jupyter-widgets/controls",
            "layout": "IPY_MODEL_772661016bf14ca0a85d0470d8cbbfde"
          }
        },
        "5c40790a5b134611a35cac30e2b2122b": {
          "model_module": "@jupyter-widgets/controls",
          "model_name": "ProgressStyleModel",
          "state": {
            "_view_name": "StyleView",
            "_model_name": "ProgressStyleModel",
            "description_width": "initial",
            "_view_module": "@jupyter-widgets/base",
            "_model_module_version": "1.5.0",
            "_view_count": null,
            "_view_module_version": "1.2.0",
            "bar_color": null,
            "_model_module": "@jupyter-widgets/controls"
          }
        },
        "ce6ae56942354a3391307f113d39a006": {
          "model_module": "@jupyter-widgets/base",
          "model_name": "LayoutModel",
          "state": {
            "_view_name": "LayoutView",
            "grid_template_rows": null,
            "right": null,
            "justify_content": null,
            "_view_module": "@jupyter-widgets/base",
            "overflow": null,
            "_model_module_version": "1.2.0",
            "_view_count": null,
            "flex_flow": null,
            "width": null,
            "min_width": null,
            "border": null,
            "align_items": null,
            "bottom": null,
            "_model_module": "@jupyter-widgets/base",
            "top": null,
            "grid_column": null,
            "overflow_y": null,
            "overflow_x": null,
            "grid_auto_flow": null,
            "grid_area": null,
            "grid_template_columns": null,
            "flex": null,
            "_model_name": "LayoutModel",
            "justify_items": null,
            "grid_row": null,
            "max_height": null,
            "align_content": null,
            "visibility": null,
            "align_self": null,
            "height": null,
            "min_height": null,
            "padding": null,
            "grid_auto_rows": null,
            "grid_gap": null,
            "max_width": null,
            "order": null,
            "_view_module_version": "1.2.0",
            "grid_template_areas": null,
            "object_position": null,
            "object_fit": null,
            "grid_auto_columns": null,
            "margin": null,
            "display": null,
            "left": null
          }
        },
        "f5ad0c6be00a4c83b9cb53de77ef28f2": {
          "model_module": "@jupyter-widgets/controls",
          "model_name": "DescriptionStyleModel",
          "state": {
            "_view_name": "StyleView",
            "_model_name": "DescriptionStyleModel",
            "description_width": "",
            "_view_module": "@jupyter-widgets/base",
            "_model_module_version": "1.5.0",
            "_view_count": null,
            "_view_module_version": "1.2.0",
            "_model_module": "@jupyter-widgets/controls"
          }
        },
        "772661016bf14ca0a85d0470d8cbbfde": {
          "model_module": "@jupyter-widgets/base",
          "model_name": "LayoutModel",
          "state": {
            "_view_name": "LayoutView",
            "grid_template_rows": null,
            "right": null,
            "justify_content": null,
            "_view_module": "@jupyter-widgets/base",
            "overflow": null,
            "_model_module_version": "1.2.0",
            "_view_count": null,
            "flex_flow": null,
            "width": null,
            "min_width": null,
            "border": null,
            "align_items": null,
            "bottom": null,
            "_model_module": "@jupyter-widgets/base",
            "top": null,
            "grid_column": null,
            "overflow_y": null,
            "overflow_x": null,
            "grid_auto_flow": null,
            "grid_area": null,
            "grid_template_columns": null,
            "flex": null,
            "_model_name": "LayoutModel",
            "justify_items": null,
            "grid_row": null,
            "max_height": null,
            "align_content": null,
            "visibility": null,
            "align_self": null,
            "height": null,
            "min_height": null,
            "padding": null,
            "grid_auto_rows": null,
            "grid_gap": null,
            "max_width": null,
            "order": null,
            "_view_module_version": "1.2.0",
            "grid_template_areas": null,
            "object_position": null,
            "object_fit": null,
            "grid_auto_columns": null,
            "margin": null,
            "display": null,
            "left": null
          }
        }
      }
    }
  },
  "cells": [
    {
      "cell_type": "markdown",
      "metadata": {
        "id": "view-in-github",
        "colab_type": "text"
      },
      "source": [
        "<a href=\"https://colab.research.google.com/github/xTavi/BlackBoxAttack/blob/master/BlackBoxAttack.ipynb\" target=\"_parent\"><img src=\"https://colab.research.google.com/assets/colab-badge.svg\" alt=\"Open In Colab\"/></a>"
      ]
    },
    {
      "cell_type": "code",
      "metadata": {
        "id": "-gn2_nTFp9lA",
        "colab_type": "code",
        "colab": {
          "base_uri": "https://localhost:8080/",
          "height": 55
        },
        "outputId": "10856169-5d3a-4110-e73d-e4b9070fd0e4"
      },
      "source": [
        "from __future__ import print_function\n",
        "import os\n",
        "import argparse\n",
        "import torch\n",
        "import torch.nn as nn\n",
        "import torch.nn.functional as F\n",
        "import torch.optim as optim\n",
        "from IPython.core.debugger import set_trace\n",
        "from matplotlib import pyplot\n",
        "from google.colab import drive\n",
        "import matplotlib.pyplot as plt\n",
        "drive.mount('/content/gdrive')\n",
        "import torch.onnx\n",
        "import torchvision.datasets as dset\n",
        "import torchvision.transforms as transforms\n",
        "import torchvision.models as models\n",
        "import numpy as np\n",
        "# import utils\n",
        "import math\n",
        "import random\n",
        "import pdb"
      ],
      "execution_count": 3,
      "outputs": [
        {
          "output_type": "stream",
          "text": [
            "Drive already mounted at /content/gdrive; to attempt to forcibly remount, call drive.mount(\"/content/gdrive\", force_remount=True).\n"
          ],
          "name": "stdout"
        }
      ]
    },
    {
      "cell_type": "code",
      "metadata": {
        "id": "Ev-gbiX0ubBb",
        "colab_type": "code",
        "colab": {}
      },
      "source": [
        "# class containing parameters for CNN optimizer  \n",
        "kwargs={}\n",
        "class Args():\n",
        "  def __init__(self):\n",
        "      self.batch_size = 64\n",
        "      self.test_batch_size = 64\n",
        "      self.epochs = 10#10\n",
        "      self.lr = 0.01\n",
        "      self.momentum = 0.9\n",
        "      self.seed = 1\n",
        "      self.log_interval = int(10000 / self.batch_size)\n",
        "      self.cuda = False\n",
        "\n",
        "args = Args()\n",
        "use_cuda = torch.cuda.is_available()\n",
        "torch.manual_seed(args.seed)\n",
        "device = torch.device(\"cuda\" if use_cuda else \"cpu\")\n",
        "kwargs = {'num_workers': 1, 'pin_memory': True} if use_cuda else {}"
      ],
      "execution_count": 5,
      "outputs": []
    },
    {
      "cell_type": "code",
      "metadata": {
        "id": "9biApUT_ud1a",
        "colab_type": "code",
        "colab": {}
      },
      "source": [
        "# code to download MNIST datasets for first method\n",
        "# loaders for train and test data, respectively\n",
        "# the data will be in pytorch tensor format\n",
        "\n",
        "train_loader = torch.utils.data.DataLoader(\n",
        "    dset.MNIST('../data', train=True, download=True,\n",
        "                   transform=transforms.Compose([\n",
        "                       transforms.ToTensor(),\n",
        "                   ])),\n",
        "    batch_size=args.batch_size, shuffle=True,drop_last=True, **kwargs)\n",
        "\n",
        "test_loader = torch.utils.data.DataLoader(\n",
        "    dset.MNIST('../data', train=False, transform=transforms.Compose([\n",
        "                       transforms.ToTensor(),\n",
        "                   ])),\n",
        "    batch_size=args.test_batch_size, shuffle=True,drop_last=True, **kwargs)"
      ],
      "execution_count": 6,
      "outputs": []
    },
    {
      "cell_type": "code",
      "metadata": {
        "id": "osnAVmLKueKY",
        "colab_type": "code",
        "colab": {}
      },
      "source": [
        "# change folder to keep track later on\n",
        "# note - don't change before downloading the MINST data\n",
        "os.chdir(\"/content/gdrive/My Drive/\")\n",
        "# data is saved in the main directory in google drive"
      ],
      "execution_count": 7,
      "outputs": []
    },
    {
      "cell_type": "code",
      "metadata": {
        "id": "2Be06nLjueUP",
        "colab_type": "code",
        "colab": {}
      },
      "source": [
        "# arhitecture for CNN\n",
        "# will use those same parameters in the following cells\n",
        "# serves as a starting point for fully connected CNN\n",
        "number_of_filters_1 = 20\n",
        "number_of_filters_2 = 50\n",
        "nn1 = 500\n",
        "class CNN(nn.Module):\n",
        "    def __init__(self):\n",
        "        super().__init__()\n",
        "        self.conv1 = nn.Conv2d(1, number_of_filters_1, 5, 1)\n",
        "        self.conv2 = nn.Conv2d(number_of_filters_1, number_of_filters_2, 5, 1)\n",
        "        self.fc1 = nn.Linear(4*4*number_of_filters_2, nn1)\n",
        "        # 10 classes, one for each digit\n",
        "        self.fc2 = nn.Linear(nn1, 10)\n",
        "\n",
        "    def forward(self, x):\n",
        "        # activation functions\n",
        "        x = F.relu(self.conv1(x))\n",
        "        x = F.max_pool2d(x, 2, 2)\n",
        "        x = F.relu(self.conv2(x))\n",
        "        x = F.max_pool2d(x, 2, 2)\n",
        "        x = x.view(-1, 4*4*number_of_filters_2)\n",
        "        x = F.relu(self.fc1(x))\n",
        "        x = self.fc2(x)\n",
        "        return nn.LogSoftmax(dim=1)(x)+35"
      ],
      "execution_count": 8,
      "outputs": []
    },
    {
      "cell_type": "code",
      "metadata": {
        "id": "0vJkpvOOuecT",
        "colab_type": "code",
        "colab": {}
      },
      "source": [
        "# define a function for training and testing, respectively\n",
        "# similar to what we have done in the laboratory\n",
        "def train(args, model, device, train_loader, optimizer, epoch):\n",
        "    model.train()\n",
        "    # use batches\n",
        "    for batch_idx, (data, target) in enumerate(train_loader):\n",
        "        data, target = data.to(device), target.to(device)\n",
        "        optimizer.zero_grad()\n",
        "        output = model(data)\n",
        "        loss = F.nll_loss(output, target)\n",
        "        loss.backward()\n",
        "        optimizer.step()\n",
        "        # print loss at every step of the way\n",
        "        if batch_idx % args.log_interval == 0:\n",
        "            print('Train data performance for epoch {}:  for {:.0f}% of the data we have loss: {:.6f}'.format(epoch, 100. * batch_idx / len(train_loader), loss.item()))\n",
        "            \n",
        "def test(args, model, device, test_loader):\n",
        "    model.eval()\n",
        "    test_loss = 0\n",
        "    # for accuracy we will\n",
        "    # keep track of how many correct items classified as a percentage of total\n",
        "    correct = 0\n",
        "    with torch.no_grad():\n",
        "        for data, target in test_loader:\n",
        "            data, target = data.to(device), target.to(device)\n",
        "            output = model(data)\n",
        "            # sum up batch loss\n",
        "            test_loss += F.nll_loss(output, target, reduction='sum').item() \n",
        "            # get the index of the max log-probability\n",
        "            pred = output.argmax(dim=1, keepdim=True) \n",
        "            # increment correctly classified items\n",
        "            correct += pred.eq(target.view_as(pred)).sum().item()\n",
        "\n",
        "    # divide by the number of examples to get average loss\n",
        "    test_loss /= len(test_loader.dataset)\n",
        "    # print average loss and accuracy on test data\n",
        "    print('Computing accuracy on the test data: Average loss: {:.4f}, Accuracy: {}/{} ({:.0f}%)'.format(test_loss, correct, len(test_loader.dataset), 100. * correct / len(test_loader.dataset)))"
      ],
      "execution_count": null,
      "outputs": []
    },
    {
      "cell_type": "code",
      "metadata": {
        "id": "vnwD42UbuekK",
        "colab_type": "code",
        "colab": {
          "base_uri": "https://localhost:8080/",
          "height": 1000
        },
        "outputId": "873385cf-835d-41f3-ce13-3fd5d99af31b"
      },
      "source": [
        "# # create and train, test our CNN\n",
        "# model = CNN().to(device)\n",
        "\n",
        "# optimizer = optim.SGD(model.parameters(), lr=args.lr, momentum=args.momentum)\n",
        "\n",
        "# for epoch in range(1, args.epochs + 1):\n",
        "#     train(args, model, device, train_loader, optimizer, epoch)\n",
        "#     test(args, model, device, test_loader)\n",
        "\n",
        "# # we save the model to save parameters for later\n",
        "# torch.save(model.state_dict(),\"conv_net.pt\")"
      ],
      "execution_count": null,
      "outputs": [
        {
          "output_type": "stream",
          "text": [
            "Train data performance for epoch 1:  for 0% of the data we have loss: -32.698490\n",
            "Train data performance for epoch 1:  for 17% of the data we have loss: -34.579052\n",
            "Train data performance for epoch 1:  for 33% of the data we have loss: -34.778152\n",
            "Train data performance for epoch 1:  for 50% of the data we have loss: -34.868176\n",
            "Train data performance for epoch 1:  for 67% of the data we have loss: -34.994038\n",
            "Train data performance for epoch 1:  for 83% of the data we have loss: -34.956245\n",
            "Train data performance for epoch 1:  for 100% of the data we have loss: -34.932899\n",
            "Computing accuracy on the test data: Average loss: -34.8767, Accuracy: 9760/10000 (98%)\n",
            "Train data performance for epoch 2:  for 0% of the data we have loss: -34.922314\n",
            "Train data performance for epoch 2:  for 17% of the data we have loss: -34.987942\n",
            "Train data performance for epoch 2:  for 33% of the data we have loss: -34.983002\n",
            "Train data performance for epoch 2:  for 50% of the data we have loss: -34.799370\n",
            "Train data performance for epoch 2:  for 67% of the data we have loss: -34.985691\n",
            "Train data performance for epoch 2:  for 83% of the data we have loss: -34.961403\n",
            "Train data performance for epoch 2:  for 100% of the data we have loss: -34.947990\n",
            "Computing accuracy on the test data: Average loss: -34.8984, Accuracy: 9834/10000 (98%)\n",
            "Train data performance for epoch 3:  for 0% of the data we have loss: -34.987869\n",
            "Train data performance for epoch 3:  for 17% of the data we have loss: -34.970390\n",
            "Train data performance for epoch 3:  for 33% of the data we have loss: -34.976395\n",
            "Train data performance for epoch 3:  for 50% of the data we have loss: -34.994797\n",
            "Train data performance for epoch 3:  for 67% of the data we have loss: -34.847134\n",
            "Train data performance for epoch 3:  for 83% of the data we have loss: -34.806976\n",
            "Train data performance for epoch 3:  for 100% of the data we have loss: -34.996037\n",
            "Computing accuracy on the test data: Average loss: -34.9100, Accuracy: 9866/10000 (99%)\n",
            "Train data performance for epoch 4:  for 0% of the data we have loss: -34.994400\n",
            "Train data performance for epoch 4:  for 17% of the data we have loss: -34.987888\n",
            "Train data performance for epoch 4:  for 33% of the data we have loss: -34.943237\n",
            "Train data performance for epoch 4:  for 50% of the data we have loss: -34.925278\n",
            "Train data performance for epoch 4:  for 67% of the data we have loss: -34.962635\n",
            "Train data performance for epoch 4:  for 83% of the data we have loss: -34.994057\n",
            "Train data performance for epoch 4:  for 100% of the data we have loss: -34.991676\n",
            "Computing accuracy on the test data: Average loss: -34.9088, Accuracy: 9859/10000 (99%)\n",
            "Train data performance for epoch 5:  for 0% of the data we have loss: -34.995190\n",
            "Train data performance for epoch 5:  for 17% of the data we have loss: -34.997234\n",
            "Train data performance for epoch 5:  for 33% of the data we have loss: -34.917076\n",
            "Train data performance for epoch 5:  for 50% of the data we have loss: -34.997604\n",
            "Train data performance for epoch 5:  for 67% of the data we have loss: -34.911358\n",
            "Train data performance for epoch 5:  for 83% of the data we have loss: -34.994015\n",
            "Train data performance for epoch 5:  for 100% of the data we have loss: -34.963047\n",
            "Computing accuracy on the test data: Average loss: -34.9148, Accuracy: 9887/10000 (99%)\n",
            "Train data performance for epoch 6:  for 0% of the data we have loss: -34.899273\n",
            "Train data performance for epoch 6:  for 17% of the data we have loss: -34.996174\n",
            "Train data performance for epoch 6:  for 33% of the data we have loss: -34.974617\n",
            "Train data performance for epoch 6:  for 50% of the data we have loss: -34.997284\n",
            "Train data performance for epoch 6:  for 67% of the data we have loss: -34.985962\n",
            "Train data performance for epoch 6:  for 83% of the data we have loss: -34.975433\n",
            "Train data performance for epoch 6:  for 100% of the data we have loss: -34.995296\n",
            "Computing accuracy on the test data: Average loss: -34.9162, Accuracy: 9887/10000 (99%)\n",
            "Train data performance for epoch 7:  for 0% of the data we have loss: -34.992771\n",
            "Train data performance for epoch 7:  for 17% of the data we have loss: -34.971588\n",
            "Train data performance for epoch 7:  for 33% of the data we have loss: -34.995964\n",
            "Train data performance for epoch 7:  for 50% of the data we have loss: -34.971756\n",
            "Train data performance for epoch 7:  for 67% of the data we have loss: -34.980133\n",
            "Train data performance for epoch 7:  for 83% of the data we have loss: -34.984287\n",
            "Train data performance for epoch 7:  for 100% of the data we have loss: -34.998158\n",
            "Computing accuracy on the test data: Average loss: -34.9149, Accuracy: 9879/10000 (99%)\n",
            "Train data performance for epoch 8:  for 0% of the data we have loss: -34.999130\n",
            "Train data performance for epoch 8:  for 17% of the data we have loss: -34.999130\n",
            "Train data performance for epoch 8:  for 33% of the data we have loss: -34.998978\n",
            "Train data performance for epoch 8:  for 50% of the data we have loss: -34.995155\n",
            "Train data performance for epoch 8:  for 67% of the data we have loss: -34.999611\n",
            "Train data performance for epoch 8:  for 83% of the data we have loss: -34.992588\n",
            "Train data performance for epoch 8:  for 100% of the data we have loss: -34.996605\n",
            "Computing accuracy on the test data: Average loss: -34.9181, Accuracy: 9904/10000 (99%)\n",
            "Train data performance for epoch 9:  for 0% of the data we have loss: -34.933498\n",
            "Train data performance for epoch 9:  for 17% of the data we have loss: -34.999535\n",
            "Train data performance for epoch 9:  for 33% of the data we have loss: -34.976856\n",
            "Train data performance for epoch 9:  for 50% of the data we have loss: -34.999546\n",
            "Train data performance for epoch 9:  for 67% of the data we have loss: -34.974697\n",
            "Train data performance for epoch 9:  for 83% of the data we have loss: -34.996098\n",
            "Train data performance for epoch 9:  for 100% of the data we have loss: -34.996986\n",
            "Computing accuracy on the test data: Average loss: -34.9174, Accuracy: 9900/10000 (99%)\n",
            "Train data performance for epoch 10:  for 0% of the data we have loss: -34.953312\n",
            "Train data performance for epoch 10:  for 17% of the data we have loss: -34.992523\n",
            "Train data performance for epoch 10:  for 33% of the data we have loss: -34.999722\n",
            "Train data performance for epoch 10:  for 50% of the data we have loss: -34.999317\n",
            "Train data performance for epoch 10:  for 67% of the data we have loss: -34.997665\n",
            "Train data performance for epoch 10:  for 83% of the data we have loss: -34.998924\n",
            "Train data performance for epoch 10:  for 100% of the data we have loss: -34.996658\n",
            "Computing accuracy on the test data: Average loss: -34.9095, Accuracy: 9871/10000 (99%)\n"
          ],
          "name": "stdout"
        }
      ]
    },
    {
      "cell_type": "markdown",
      "metadata": {
        "id": "po760b-Qu0U_",
        "colab_type": "text"
      },
      "source": [
        "Epsilons: List of epsilon values to use for the run. It is important to keep 0 in the list because it represents the model performance on the original test set. Also, intuitively we would expect the larger the epsilon, the more noticeable the perturbations but the more effective the attack in terms of degrading model accuracy. Since the data range here is [0,1], no epsilon value should exceed 1."
      ]
    },
    {
      "cell_type": "code",
      "metadata": {
        "id": "lcCk9jfrueq_",
        "colab_type": "code",
        "colab": {}
      },
      "source": [
        "pretrained_model = \"conv_net.pt\"\n",
        "use_cuda=True"
      ],
      "execution_count": 9,
      "outputs": []
    },
    {
      "cell_type": "code",
      "metadata": {
        "id": "NaYlQoAhuexR",
        "colab_type": "code",
        "colab": {
          "base_uri": "https://localhost:8080/",
          "height": 144
        },
        "outputId": "b797726c-bcfc-4e10-edf9-0480cdf44dff"
      },
      "source": [
        "print(\"CUDA Available: \",torch.cuda.is_available())\n",
        "device = torch.device(\"cuda\" if (use_cuda and torch.cuda.is_available()) else \"cpu\")\n",
        "\n",
        "# Initialize the network\n",
        "model = CNN().to(device)\n",
        "\n",
        "# Load the pretrained model\n",
        "model.load_state_dict(torch.load(pretrained_model, map_location='cpu'))\n",
        "\n",
        "# Set the model in evaluation mode. \n",
        "model.eval()"
      ],
      "execution_count": 10,
      "outputs": [
        {
          "output_type": "stream",
          "text": [
            "CUDA Available:  False\n"
          ],
          "name": "stdout"
        },
        {
          "output_type": "execute_result",
          "data": {
            "text/plain": [
              "CNN(\n",
              "  (conv1): Conv2d(1, 20, kernel_size=(5, 5), stride=(1, 1))\n",
              "  (conv2): Conv2d(20, 50, kernel_size=(5, 5), stride=(1, 1))\n",
              "  (fc1): Linear(in_features=800, out_features=500, bias=True)\n",
              "  (fc2): Linear(in_features=500, out_features=10, bias=True)\n",
              ")"
            ]
          },
          "metadata": {
            "tags": []
          },
          "execution_count": 10
        }
      ]
    },
    {
      "cell_type": "code",
      "metadata": {
        "id": "EADj6Gs1ue8N",
        "colab_type": "code",
        "colab": {}
      },
      "source": [
        ""
      ],
      "execution_count": null,
      "outputs": []
    },
    {
      "cell_type": "code",
      "metadata": {
        "id": "5AiIvIfr4oY6",
        "colab_type": "code",
        "colab": {}
      },
      "source": [
        ""
      ],
      "execution_count": null,
      "outputs": []
    },
    {
      "cell_type": "code",
      "metadata": {
        "id": "HDKMFdca4od9",
        "colab_type": "code",
        "colab": {}
      },
      "source": [
        ""
      ],
      "execution_count": null,
      "outputs": []
    },
    {
      "cell_type": "code",
      "metadata": {
        "id": "q-vVDPJR4oi4",
        "colab_type": "code",
        "colab": {}
      },
      "source": [
        ""
      ],
      "execution_count": null,
      "outputs": []
    },
    {
      "cell_type": "code",
      "metadata": {
        "id": "lSNX3w7t4onC",
        "colab_type": "code",
        "colab": {}
      },
      "source": [
        ""
      ],
      "execution_count": null,
      "outputs": []
    },
    {
      "cell_type": "markdown",
      "metadata": {
        "id": "GvdC0Hj_aip1",
        "colab_type": "text"
      },
      "source": [
        "# Let's do a black box SimBa attack"
      ]
    },
    {
      "cell_type": "code",
      "metadata": {
        "id": "amo_iVKkQbOl",
        "colab_type": "code",
        "colab": {}
      },
      "source": [
        "#Here we add the element we need \n",
        "\n",
        "adv = []\n",
        "number_of_correct = 0\n",
        "accuracies = []"
      ],
      "execution_count": null,
      "outputs": []
    },
    {
      "cell_type": "code",
      "metadata": {
        "id": "a-5pcN4XeTwv",
        "colab_type": "code",
        "colab": {}
      },
      "source": [
        "def get_probs(model, x, y):\n",
        "    output = model(x)\n",
        "    probs = torch.nn.Softmax(dim=1)(output)[:, y]\n",
        "    return torch.diag(probs.data)\n",
        "\n",
        "# 20-line implementation of (untargeted) SimBA for single image input\n",
        "def simba_single(model, x, y, num_iters=10000, epsilon=0.2):\n",
        "    n_dims = x.view(1, -1).size(1)\n",
        "    perm = torch.randperm(n_dims)\n",
        "    last_prob = get_probs(model, x, y)\n",
        "    for i in range(num_iters):\n",
        "        diff = torch.zeros(n_dims)\n",
        "        diff[perm[i]] = epsilon\n",
        "        left_prob = get_probs(model, (x - diff.view(x.size())).clamp(0, 1), y)\n",
        "        if left_prob < last_prob:\n",
        "            x = (x - diff.view(x.size())).clamp(0, 1)\n",
        "            last_prob = left_prob\n",
        "        else:\n",
        "            right_prob = get_probs(model, (x + diff.view(x.size())).clamp(0, 1), y)\n",
        "            if right_prob < last_prob:\n",
        "                x = (x + diff.view(x.size())).clamp(0, 1)\n",
        "                last_prob = right_prob\n",
        "        # Here I want that if the model missclasify it to stop the procedure\n",
        "        prediction = model(x).argmax()\n",
        "        # We save the adversarial examples as a touple formed by initial label, predicted label, adversarial_image and epsioln\n",
        "        if prediction != y:\n",
        "          adv.append((y.item(), prediction.item(), x, epsilon))\n",
        "          break\n",
        "\n",
        "    return x"
      ],
      "execution_count": null,
      "outputs": []
    },
    {
      "cell_type": "markdown",
      "metadata": {
        "id": "PdDXhWvzfJS1",
        "colab_type": "text"
      },
      "source": [
        "We can attack now"
      ]
    },
    {
      "cell_type": "code",
      "metadata": {
        "id": "hk6rWA7tjoTi",
        "colab_type": "code",
        "colab": {}
      },
      "source": [
        "# This function should return the accouracy for a given epsilon\n",
        "def adversarial_attack(epsilon):\n",
        "  for batch_idx, (data, target) in enumerate(test_loader):\n",
        "          data, target = data.to(device), target.to(device)\n",
        "          initial_predictions = model(data)\n",
        "          initial_predictions = initial_predictions.argmax(dim=1, keepdim=True)\n",
        "          initial_correctness = 0\n",
        "          initial_correctness += initial_predictions.eq(target.view_as(initial_predictions)).sum().item()\n",
        "          \n",
        "          print(f'Initial accuracy for batch {batch_idx}/{ math.floor(len(test_loader.dataset)/len(data)) } was ', 100.  * initial_correctness / len(target), \"%\")\n",
        "\n",
        "          bigger_result = torch.zeros(1,1,28,28)\n",
        "          for x, y in zip(data,target):\n",
        "            x = x.unsqueeze(dim=0)\n",
        "            result = simba_single(model, x, y, 784, epsilon)\n",
        "            result.unsqueeze(dim=0)\n",
        "            bigger_result = torch.cat((bigger_result, result))\n",
        "\n",
        "          final_result = bigger_result[1:]\n",
        "          final_predictions = model(final_result).argmax(dim=1, keepdim=True)\n",
        "          final_corectness = 0\n",
        "          final_corectness += final_predictions.eq(target.view_as(final_predictions)).sum().item()\n",
        "          # number_of_correct += final_corectness\n",
        "          accouracy  = 100.  * final_corectness / len(target)\n",
        "          print(f'Final accuracy for batch {batch_idx}/{math.floor(len(test_loader.dataset)/len(data))  } was ', accouracy ,\"%\")\n",
        "          \n",
        "          return accouracy\n"
      ],
      "execution_count": null,
      "outputs": []
    },
    {
      "cell_type": "code",
      "metadata": {
        "id": "tLmDgkNSSNGW",
        "colab_type": "code",
        "colab": {}
      },
      "source": [
        "epsilons = [0, .05, .1, .15, .2]\n",
        "\n",
        "for eps in epsilons:\n",
        "    acc = adversarial_attack(eps)\n",
        "    accuracies.append(acc)"
      ],
      "execution_count": null,
      "outputs": []
    },
    {
      "cell_type": "code",
      "metadata": {
        "id": "Vu9NsZoT1raJ",
        "colab_type": "code",
        "colab": {}
      },
      "source": [
        "tensor_accuracies = torch.tensor(accuracies)/100"
      ],
      "execution_count": null,
      "outputs": []
    },
    {
      "cell_type": "code",
      "metadata": {
        "id": "-yvSe24ZgOTv",
        "colab_type": "code",
        "colab": {
          "base_uri": "https://localhost:8080/",
          "height": 564
        },
        "outputId": "e2659694-b491-47de-92f5-774a72e6aeb3"
      },
      "source": [
        "plt.figure(figsize=(6,6))\n",
        "# print(accuracies)\n",
        "plt.plot(epsilons, tensor_accuracies, \"*-\")\n",
        "plt.yticks(np.arange(0, 1.1, step=0.1))\n",
        "plt.xticks(np.arange(0, .25, step=0.05))\n",
        "plt.title(\"Accuracy vs Epsilon\")\n",
        "plt.xlabel(\"Epsilon\")\n",
        "plt.ylabel(\"Accuracy\")\n",
        "plt.show()"
      ],
      "execution_count": null,
      "outputs": [
        {
          "output_type": "display_data",
          "data": {
            "image/png": "[encoded data removed]",
            "text/plain": [
              "<Figure size 600x600 with 1 Axes>"
            ]
          },
          "metadata": {
            "tags": []
          }
        }
      ]
    },
    {
      "cell_type": "code",
      "metadata": {
        "id": "d0kDq_VS4kK9",
        "colab_type": "code",
        "colab": {}
      },
      "source": [
        "# We want to create an len(epsilons)*5 matrix for printing\n",
        "\n",
        "matrix = []"
      ],
      "execution_count": null,
      "outputs": []
    },
    {
      "cell_type": "code",
      "metadata": {
        "id": "r2QT4aho1e5b",
        "colab_type": "code",
        "colab": {
          "base_uri": "https://localhost:8080/",
          "height": 363
        },
        "outputId": "6f5a6685-879d-4a71-e1b9-5b0304dd2ba9"
      },
      "source": [
        "for epsilon in epsilons:\n",
        "  i = 0;\n",
        "  for item_adv in adv:\n",
        "    if item_adv[3] == epsilon and i<5:\n",
        "      matrix.append(item_adv)\n",
        "      i+=1\n",
        "      print(f\"am gaist unu pentru eps {epsilon}\")\n",
        "\n",
        "print(len(matrix))\n"
      ],
      "execution_count": null,
      "outputs": [
        {
          "output_type": "stream",
          "text": [
            "am gaist unu pentru eps 0\n",
            "am gaist unu pentru eps 0.05\n",
            "am gaist unu pentru eps 0.05\n",
            "am gaist unu pentru eps 0.1\n",
            "am gaist unu pentru eps 0.1\n",
            "am gaist unu pentru eps 0.1\n",
            "am gaist unu pentru eps 0.1\n",
            "am gaist unu pentru eps 0.1\n",
            "am gaist unu pentru eps 0.15\n",
            "am gaist unu pentru eps 0.15\n",
            "am gaist unu pentru eps 0.15\n",
            "am gaist unu pentru eps 0.15\n",
            "am gaist unu pentru eps 0.15\n",
            "am gaist unu pentru eps 0.2\n",
            "am gaist unu pentru eps 0.2\n",
            "am gaist unu pentru eps 0.2\n",
            "am gaist unu pentru eps 0.2\n",
            "am gaist unu pentru eps 0.2\n",
            "18\n"
          ],
          "name": "stdout"
        }
      ]
    },
    {
      "cell_type": "code",
      "metadata": {
        "id": "HjwZG0PY81xi",
        "colab_type": "code",
        "colab": {}
      },
      "source": [
        "matrix[0]"
      ],
      "execution_count": null,
      "outputs": []
    },
    {
      "cell_type": "code",
      "metadata": {
        "id": "UAtT3nCMgN_W",
        "colab_type": "code",
        "colab": {
          "base_uri": "https://localhost:8080/",
          "height": 675
        },
        "outputId": "e8d2fe0a-78aa-41bd-ca14-db8d2f8ed34f"
      },
      "source": [
        "# Plot several examples of adversarial samples at each epsilon\n",
        "cnt = 0\n",
        "poz =0\n",
        "plt.figure(figsize=(8,10))\n",
        "for i in range(len(epsilons)-1):\n",
        "    for special in range(2):\n",
        "      if cnt > 3:\n",
        "        continue\n",
        "      cnt += 1\n",
        "      plt.subplot(4, 5, cnt)\n",
        "      plt.xticks([], [])\n",
        "      plt.yticks([], [])\n",
        "      if cnt == 1:\n",
        "        plt.ylabel(\"Eps: {}\".format(epsilons[i+1]), fontsize=14)\n",
        "      orig,adv,ex,_ = matrix[poz]\n",
        "      poz += 1\n",
        "      plt.title(\"{} -> {}\".format(orig, adv))\n",
        "      plt.imshow(ex[0][0], cmap=\"gray\")\n",
        "      if cnt == 2:\n",
        "        cnt += 3\n",
        "    for j in range(5):\n",
        "        if cnt < 5 or cnt >= 20:\n",
        "          continue\n",
        "        cnt += 1\n",
        "        plt.subplot(4, 5, cnt)\n",
        "        plt.xticks([], [])\n",
        "        plt.yticks([], [])\n",
        "        if j%5 == 0:\n",
        "            plt.ylabel(\"Eps: {}\".format(epsilons[i+2]), fontsize=14)\n",
        "        orig,adv,ex,_ = matrix[poz]\n",
        "        poz += 1\n",
        "        plt.title(\"{} -> {}\".format(orig, adv))\n",
        "        plt.imshow(ex[0][0], cmap=\"gray\")\n",
        "plt.tight_layout()\n",
        "plt.show() "
      ],
      "execution_count": null,
      "outputs": [
        {
          "output_type": "display_data",
          "data": {
            "image/png": "[encoded data removed]",
            "text/plain": [
              "<Figure size 576x720 with 17 Axes>"
            ]
          },
          "metadata": {
            "tags": []
          }
        }
      ]
    },
    {
      "cell_type": "markdown",
      "metadata": {
        "id": "dmUTi4OJh55-",
        "colab_type": "text"
      },
      "source": [
        "# Here we will add the second cnn called LeNet5 - 1990"
      ]
    },
    {
      "cell_type": "code",
      "metadata": {
        "id": "i-lZ00yurblg",
        "colab_type": "code",
        "colab": {}
      },
      "source": [
        "import numpy as np\n",
        "from datetime import datetime \n",
        "\n",
        "import torch\n",
        "import torch.nn as nn\n",
        "import torch.nn.functional as F\n",
        "from torch.utils.data import DataLoader\n",
        "\n",
        "from torchvision import datasets, transforms\n",
        "\n",
        "import matplotlib.pyplot as plt\n",
        "\n",
        "# check device\n",
        "DEVICE = 'cuda' if torch.cuda.is_available() else 'cpu'"
      ],
      "execution_count": 11,
      "outputs": []
    },
    {
      "cell_type": "code",
      "metadata": {
        "id": "3W7-5vhgh5aR",
        "colab_type": "code",
        "colab": {}
      },
      "source": [
        "# parameters\n",
        "RANDOM_SEED = 42\n",
        "LEARNING_RATE = 0.001\n",
        "BATCH_SIZE = 32\n",
        "N_EPOCHS = 10\n",
        "\n",
        "IMG_SIZE = 32\n",
        "N_CLASSES = 10"
      ],
      "execution_count": 12,
      "outputs": []
    },
    {
      "cell_type": "code",
      "metadata": {
        "id": "ojAv0W76p8nc",
        "colab_type": "code",
        "colab": {}
      },
      "source": [
        "# check device\n",
        "DEVICE = 'cuda' if torch.cuda.is_available() else 'cpu'"
      ],
      "execution_count": 13,
      "outputs": []
    },
    {
      "cell_type": "code",
      "metadata": {
        "id": "20CYmwdhh5YG",
        "colab_type": "code",
        "colab": {}
      },
      "source": [
        "def train(train_loader, model, criterion, optimizer, device):\n",
        "    '''\n",
        "    Function for the training step of the training loop\n",
        "    '''\n",
        "\n",
        "    model.train()\n",
        "    running_loss = 0\n",
        "    \n",
        "    for X, y_true in train_loader:\n",
        "\n",
        "        optimizer.zero_grad()\n",
        "        \n",
        "        X = X.to(device)\n",
        "        y_true = y_true.to(device)\n",
        "    \n",
        "        # Forward pass\n",
        "        y_hat, _ = model(X) \n",
        "        loss = criterion(y_hat, y_true) \n",
        "        running_loss += loss.item() * X.size(0)\n",
        "\n",
        "        # Backward pass\n",
        "        loss.backward()\n",
        "        optimizer.step()\n",
        "        \n",
        "    epoch_loss = running_loss / len(train_loader.dataset)\n",
        "    return model, optimizer, epoch_loss"
      ],
      "execution_count": null,
      "outputs": []
    },
    {
      "cell_type": "code",
      "metadata": {
        "id": "tsdIKwU0h4-_",
        "colab_type": "code",
        "colab": {}
      },
      "source": [
        "def validate(valid_loader, model, criterion, device):\n",
        "    '''\n",
        "    Function for the validation step of the training loop\n",
        "    '''\n",
        "   \n",
        "    model.eval()\n",
        "    running_loss = 0\n",
        "    \n",
        "    for X, y_true in valid_loader:\n",
        "    \n",
        "        X = X.to(device)\n",
        "        y_true = y_true.to(device)\n",
        "\n",
        "        # Forward pass and record loss\n",
        "        y_hat, _ = model(X) \n",
        "        loss = criterion(y_hat, y_true) \n",
        "        running_loss += loss.item() * X.size(0)\n",
        "\n",
        "    epoch_loss = running_loss / len(valid_loader.dataset)\n",
        "        \n",
        "    return model, epoch_loss"
      ],
      "execution_count": null,
      "outputs": []
    },
    {
      "cell_type": "code",
      "metadata": {
        "id": "E3kNsQ8-tsLH",
        "colab_type": "code",
        "colab": {}
      },
      "source": [
        "def get_accuracy(model, data_loader, device):\n",
        "    '''\n",
        "    Function for computing the accuracy of the predictions over the entire data_loader\n",
        "    '''\n",
        "    \n",
        "    correct_pred = 0 \n",
        "    n = 0\n",
        "    \n",
        "    with torch.no_grad():\n",
        "        model.eval()\n",
        "        for X, y_true in data_loader:\n",
        "            #print(X.size())\n",
        "            X = X.to(device)\n",
        "            y_true = y_true.to(device)\n",
        "\n",
        "            _, y_prob = model(X)\n",
        "            _, predicted_labels = torch.max(y_prob, 1)\n",
        "\n",
        "            n += y_true.size(0)\n",
        "            correct_pred += (predicted_labels == y_true).sum()\n",
        "\n",
        "    return correct_pred.float() / n"
      ],
      "execution_count": null,
      "outputs": []
    },
    {
      "cell_type": "code",
      "metadata": {
        "id": "ptnAYv7qx9bD",
        "colab_type": "code",
        "colab": {}
      },
      "source": [
        "def plot_losses(train_losses, valid_losses):\n",
        "    '''\n",
        "    Function for plotting training and validation losses\n",
        "    '''\n",
        "    \n",
        "    # temporarily change the style of the plots to seaborn \n",
        "    plt.style.use('seaborn')\n",
        "\n",
        "    train_losses = np.array(train_losses) \n",
        "    valid_losses = np.array(valid_losses)\n",
        "\n",
        "    fig, ax = plt.subplots(figsize = (8, 4.5))\n",
        "\n",
        "    ax.plot(train_losses, color='blue', label='Training loss') \n",
        "    ax.plot(valid_losses, color='red', label='Validation loss')\n",
        "    ax.set(title=\"Loss over epochs\", \n",
        "            xlabel='Epoch',\n",
        "            ylabel='Loss') \n",
        "    ax.legend()\n",
        "    fig.show()\n",
        "    \n",
        "    # change the plot style to default\n",
        "    plt.style.use('default')"
      ],
      "execution_count": null,
      "outputs": []
    },
    {
      "cell_type": "code",
      "metadata": {
        "id": "d5AOpHiRh47j",
        "colab_type": "code",
        "colab": {}
      },
      "source": [
        "def training_loop(model, criterion, optimizer, train_loader, valid_loader, epochs, device, print_every=1):\n",
        "    '''\n",
        "    Function defining the entire training loop\n",
        "    '''\n",
        "    \n",
        "    # set objects for storing metrics\n",
        "    best_loss = 1e10\n",
        "    train_losses = []\n",
        "    valid_losses = []\n",
        " \n",
        "    # Train model\n",
        "    for epoch in range(0, epochs):\n",
        "\n",
        "        # training\n",
        "        model, optimizer, train_loss = train(train_loader, model, criterion, optimizer, device)\n",
        "        train_losses.append(train_loss)\n",
        "\n",
        "        # validation\n",
        "        with torch.no_grad():\n",
        "            model, valid_loss = validate(valid_loader, model, criterion, device)\n",
        "            valid_losses.append(valid_loss)\n",
        "\n",
        "        if epoch % print_every == (print_every - 1):\n",
        "            \n",
        "            train_acc = get_accuracy(model, train_loader, device=device)\n",
        "            valid_acc = get_accuracy(model, valid_loader, device=device)\n",
        "                \n",
        "            print(f'{datetime.now().time().replace(microsecond=0)} --- '\n",
        "                  f'Epoch: {epoch}\\t'\n",
        "                  f'Train loss: {train_loss:.4f}\\t'\n",
        "                  f'Valid loss: {valid_loss:.4f}\\t'\n",
        "                  f'Train accuracy: {100 * train_acc:.2f}\\t'\n",
        "                  f'Valid accuracy: {100 * valid_acc:.2f}')\n",
        "\n",
        "    plot_losses(train_losses, valid_losses)\n",
        "    \n",
        "    return model, optimizer, (train_losses, valid_losses)"
      ],
      "execution_count": null,
      "outputs": []
    },
    {
      "cell_type": "code",
      "metadata": {
        "id": "VVp3sm1Tqgyb",
        "colab_type": "code",
        "colab": {}
      },
      "source": [
        "# define transforms\n",
        "transforms1 = transforms.Compose([transforms.Resize((32, 32)),\n",
        "                                 transforms.ToTensor()])\n",
        "\n",
        "# download and create datasets\n",
        "train_dataset = datasets.MNIST(root='mnist_data', \n",
        "                               train=True, \n",
        "                               transform=transforms1,\n",
        "                               download=True)\n",
        "\n",
        "valid_dataset = datasets.MNIST(root='mnist_data', \n",
        "                               train=False, \n",
        "                               transform=transforms1)\n",
        "\n",
        "# define the data loaders\n",
        "train_loader = DataLoader(dataset=train_dataset, \n",
        "                          batch_size=BATCH_SIZE, \n",
        "                          shuffle=True)\n",
        "\n",
        "valid_loader = DataLoader(dataset=valid_dataset, \n",
        "                          batch_size=BATCH_SIZE, \n",
        "                          shuffle=False)"
      ],
      "execution_count": 14,
      "outputs": []
    },
    {
      "cell_type": "code",
      "metadata": {
        "id": "5qCKcOpIzDf0",
        "colab_type": "code",
        "colab": {}
      },
      "source": [
        "trans = transforms.ToPILImage()"
      ],
      "execution_count": null,
      "outputs": []
    },
    {
      "cell_type": "code",
      "metadata": {
        "id": "1ft2KDNl1EZn",
        "colab_type": "code",
        "colab": {}
      },
      "source": [
        "trans1 = transforms.ToTensor()\n"
      ],
      "execution_count": null,
      "outputs": []
    },
    {
      "cell_type": "code",
      "metadata": {
        "id": "NimWrXMCh45S",
        "colab_type": "code",
        "colab": {}
      },
      "source": [
        "class LeNet5(nn.Module):\n",
        "\n",
        "    def __init__(self, n_classes):\n",
        "        super(LeNet5, self).__init__()\n",
        "        \n",
        "        self.feature_extractor = nn.Sequential(            \n",
        "            nn.Conv2d(in_channels=1, out_channels=6, kernel_size=5, stride=1),\n",
        "            nn.Tanh(),\n",
        "            nn.AvgPool2d(kernel_size=2),\n",
        "            nn.Conv2d(in_channels=6, out_channels=16, kernel_size=5, stride=1),\n",
        "            nn.Tanh(),\n",
        "            nn.AvgPool2d(kernel_size=2),\n",
        "            nn.Conv2d(in_channels=16, out_channels=120, kernel_size=5, stride=1),\n",
        "            nn.Tanh()\n",
        "        )\n",
        "\n",
        "        self.classifier = nn.Sequential(\n",
        "            nn.Linear(in_features=120, out_features=84),\n",
        "            nn.Tanh(),\n",
        "            nn.Linear(in_features=84, out_features=n_classes),\n",
        "        )\n",
        "\n",
        "\n",
        "    def forward(self, x):\n",
        "        x = self.feature_extractor(x)\n",
        "        x = torch.flatten(x, 1)\n",
        "        logits = self.classifier(x)\n",
        "        probs = F.softmax(logits, dim=1)\n",
        "        return logits, probs"
      ],
      "execution_count": 15,
      "outputs": []
    },
    {
      "cell_type": "code",
      "metadata": {
        "id": "DIIWJTzLpFlX",
        "colab_type": "code",
        "colab": {}
      },
      "source": [
        "torch.manual_seed(RANDOM_SEED)\n",
        "\n",
        "model = LeNet5(N_CLASSES).to(DEVICE)\n",
        "optimizer = torch.optim.Adam(model.parameters(), lr=LEARNING_RATE)\n",
        "criterion = nn.CrossEntropyLoss()"
      ],
      "execution_count": 12,
      "outputs": []
    },
    {
      "cell_type": "code",
      "metadata": {
        "id": "I0zpS1vmh40j",
        "colab_type": "code",
        "colab": {
          "base_uri": "https://localhost:8080/",
          "height": 505
        },
        "outputId": "54d02229-034e-4972-a0c2-3296d3ada8aa"
      },
      "source": [
        "model, optimizer, _ = training_loop(model, criterion, optimizer, train_loader, valid_loader, N_EPOCHS, DEVICE)"
      ],
      "execution_count": null,
      "outputs": [
        {
          "output_type": "stream",
          "text": [
            "11:04:09 --- Epoch: 0\tTrain loss: 0.2300\tValid loss: 0.0898\tTrain accuracy: 97.33\tValid accuracy: 97.27\n",
            "11:04:53 --- Epoch: 1\tTrain loss: 0.0789\tValid loss: 0.0808\tTrain accuracy: 97.85\tValid accuracy: 97.59\n",
            "11:05:37 --- Epoch: 2\tTrain loss: 0.0555\tValid loss: 0.0553\tTrain accuracy: 98.60\tValid accuracy: 98.28\n",
            "11:06:22 --- Epoch: 3\tTrain loss: 0.0444\tValid loss: 0.0491\tTrain accuracy: 98.93\tValid accuracy: 98.47\n",
            "11:07:06 --- Epoch: 4\tTrain loss: 0.0348\tValid loss: 0.0465\tTrain accuracy: 99.21\tValid accuracy: 98.54\n",
            "11:07:51 --- Epoch: 5\tTrain loss: 0.0297\tValid loss: 0.0435\tTrain accuracy: 99.25\tValid accuracy: 98.70\n",
            "11:08:35 --- Epoch: 6\tTrain loss: 0.0260\tValid loss: 0.0434\tTrain accuracy: 99.50\tValid accuracy: 98.74\n",
            "11:09:19 --- Epoch: 7\tTrain loss: 0.0213\tValid loss: 0.0478\tTrain accuracy: 99.39\tValid accuracy: 98.55\n",
            "11:10:04 --- Epoch: 8\tTrain loss: 0.0198\tValid loss: 0.0423\tTrain accuracy: 99.59\tValid accuracy: 98.78\n",
            "11:10:48 --- Epoch: 9\tTrain loss: 0.0170\tValid loss: 0.0481\tTrain accuracy: 99.62\tValid accuracy: 98.71\n"
          ],
          "name": "stdout"
        },
        {
          "output_type": "display_data",
          "data": {
            "image/png": "[encoded data removed]",
            "text/plain": [
              "<Figure size 576x324 with 1 Axes>"
            ]
          },
          "metadata": {
            "tags": []
          }
        }
      ]
    },
    {
      "cell_type": "code",
      "metadata": {
        "id": "VN4LEKpVh4yg",
        "colab_type": "code",
        "colab": {
          "base_uri": "https://localhost:8080/",
          "height": 273
        },
        "outputId": "06f886fe-3b13-4f3d-d019-165b7bfbcdc8"
      },
      "source": [
        "ROW_IMG = 10\n",
        "N_ROWS = 5\n",
        "\n",
        "fig = plt.figure()\n",
        "for index in range(1, ROW_IMG * N_ROWS + 1):\n",
        "    plt.subplot(N_ROWS, ROW_IMG, index)\n",
        "    plt.axis('off')\n",
        "    plt.imshow(valid_dataset.data[index], cmap='gray_r')\n",
        "    \n",
        "    with torch.no_grad():\n",
        "        model.eval()\n",
        "        _, probs = model(valid_dataset[index][0].unsqueeze(0))\n",
        "        \n",
        "    title = f'{torch.argmax(probs)} ({torch.max(probs * 100):.0f}%)'\n",
        "    \n",
        "    plt.title(title, fontsize=7)\n",
        "fig.suptitle('LeNet-5 - predictions');"
      ],
      "execution_count": null,
      "outputs": [
        {
          "output_type": "display_data",
          "data": {
            "image/png": "[encoded data removed]",
            "text/plain": [
              "<Figure size 432x288 with 50 Axes>"
            ]
          },
          "metadata": {
            "tags": [],
            "needs_background": "light"
          }
        }
      ]
    },
    {
      "cell_type": "code",
      "metadata": {
        "id": "qvg_MysgnTqZ",
        "colab_type": "code",
        "colab": {}
      },
      "source": [
        "# # we save the model to save parameters for later\n",
        "# torch.save(model.state_dict(),\"LeNet5.pt\")\n",
        "\n",
        "# use_cuda = True "
      ],
      "execution_count": null,
      "outputs": []
    },
    {
      "cell_type": "code",
      "metadata": {
        "id": "KmbP1L8Oh4vy",
        "colab_type": "code",
        "colab": {
          "base_uri": "https://localhost:8080/",
          "height": 345
        },
        "outputId": "117bffb2-6664-4efc-f498-1cfeedea7259"
      },
      "source": [
        "pretrained_model = \"LeNet5.pt\"\n",
        "\n",
        "# Here we load the model \n",
        "print(\"CUDA Available: \",torch.cuda.is_available())\n",
        "device = torch.device(\"cuda\" if (use_cuda and torch.cuda.is_available()) else \"cpu\")\n",
        "\n",
        "# Initialize the network\n",
        "model1 = LeNet5(10).to(device)\n",
        "\n",
        "# Load the pretrained model\n",
        "model1.load_state_dict(torch.load(pretrained_model, map_location='cpu'))\n",
        "\n",
        "# Set the model in evaluation mode. \n",
        "model1.eval()"
      ],
      "execution_count": 16,
      "outputs": [
        {
          "output_type": "stream",
          "text": [
            "CUDA Available:  False\n"
          ],
          "name": "stdout"
        },
        {
          "output_type": "execute_result",
          "data": {
            "text/plain": [
              "LeNet5(\n",
              "  (feature_extractor): Sequential(\n",
              "    (0): Conv2d(1, 6, kernel_size=(5, 5), stride=(1, 1))\n",
              "    (1): Tanh()\n",
              "    (2): AvgPool2d(kernel_size=2, stride=2, padding=0)\n",
              "    (3): Conv2d(6, 16, kernel_size=(5, 5), stride=(1, 1))\n",
              "    (4): Tanh()\n",
              "    (5): AvgPool2d(kernel_size=2, stride=2, padding=0)\n",
              "    (6): Conv2d(16, 120, kernel_size=(5, 5), stride=(1, 1))\n",
              "    (7): Tanh()\n",
              "  )\n",
              "  (classifier): Sequential(\n",
              "    (0): Linear(in_features=120, out_features=84, bias=True)\n",
              "    (1): Tanh()\n",
              "    (2): Linear(in_features=84, out_features=10, bias=True)\n",
              "  )\n",
              ")"
            ]
          },
          "metadata": {
            "tags": []
          },
          "execution_count": 16
        }
      ]
    },
    {
      "cell_type": "code",
      "metadata": {
        "id": "uU3uCRYL17DZ",
        "colab_type": "code",
        "colab": {}
      },
      "source": [
        "def transform_image(image):\n",
        "  # we get a [1, 1, 28, 28] tensor and we return a [1, 1, 32, 32]\n",
        "  new_image = image.squeeze(dim=0).squeeze(dim=0)\n",
        "  trans = transforms.ToPILImage()\n",
        "  new_image = transforms1(trans(new_image))\n",
        "  new_image = new_image.unsqueeze(dim=0)\n",
        "  return new_image"
      ],
      "execution_count": 17,
      "outputs": []
    },
    {
      "cell_type": "code",
      "metadata": {
        "id": "ZwcUgZx917AL",
        "colab_type": "code",
        "colab": {
          "base_uri": "https://localhost:8080/",
          "height": 485
        },
        "outputId": "5799ae3e-dba9-4007-8c56-35d0444076e9"
      },
      "source": [
        "image = adv[1][2]\n",
        "\n",
        "print(adv[1][1])\n",
        "print(transform_image(image).size())\n",
        "\n",
        "image2 = transform_image(image)\n",
        "\n",
        "plt.imshow(image2.squeeze(dim=0).squeeze(dim=0), cmap='gray')\n",
        "\n",
        "model1(image2)[1].argmax()"
      ],
      "execution_count": null,
      "outputs": [
        {
          "output_type": "stream",
          "text": [
            "3\n",
            "torch.Size([1, 1, 32, 32])\n"
          ],
          "name": "stdout"
        },
        {
          "output_type": "execute_result",
          "data": {
            "text/plain": [
              "tensor(5)"
            ]
          },
          "metadata": {
            "tags": []
          },
          "execution_count": 39
        },
        {
          "output_type": "display_data",
          "data": {
            "image/png": "[encoded data removed]",
            "text/plain": [
              "<Figure size 640x480 with 1 Axes>"
            ]
          },
          "metadata": {
            "tags": []
          }
        }
      ]
    },
    {
      "cell_type": "code",
      "metadata": {
        "id": "AR0agYMX7wKX",
        "colab_type": "code",
        "colab": {
          "base_uri": "https://localhost:8080/",
          "height": 448
        },
        "outputId": "98f0ee8c-e075-4a52-d56a-191583318c15"
      },
      "source": [
        "plt.imshow(adv[len(adv)-1][2][0][0])"
      ],
      "execution_count": null,
      "outputs": [
        {
          "output_type": "execute_result",
          "data": {
            "text/plain": [
              "<matplotlib.image.AxesImage at 0x7ff034272630>"
            ]
          },
          "metadata": {
            "tags": []
          },
          "execution_count": 46
        },
        {
          "output_type": "display_data",
          "data": {
            "image/png": "[encoded data removed]",
            "text/plain": [
              "<Figure size 640x480 with 1 Axes>"
            ]
          },
          "metadata": {
            "tags": []
          }
        }
      ]
    },
    {
      "cell_type": "markdown",
      "metadata": {
        "id": "I6ZYeM5-JdqC",
        "colab_type": "text"
      },
      "source": [
        "# Here is the last and the 3rd network - ResNet18"
      ]
    },
    {
      "cell_type": "code",
      "metadata": {
        "id": "kTH__RZB7wI2",
        "colab_type": "code",
        "colab": {}
      },
      "source": [
        "\n",
        "\n",
        "import pandas as pd\n",
        "import numpy as np\n",
        "\n",
        "import torch\n",
        "import torch.nn as nn\n",
        "import torch.optim as optim\n",
        "from torch.optim import lr_scheduler\n",
        "from torch.utils.data import DataLoader, Dataset\n",
        "from torchvision import transforms, models\n",
        "\n",
        "from torchvision.utils import make_grid\n",
        "import matplotlib.pyplot as plt\n",
        "%matplotlib inline\n",
        "\n",
        "\n"
      ],
      "execution_count": 18,
      "outputs": []
    },
    {
      "cell_type": "code",
      "metadata": {
        "id": "px2ESwQYLxrI",
        "colab_type": "code",
        "colab": {
          "base_uri": "https://localhost:8080/",
          "height": 55
        },
        "outputId": "e866f07e-ebb3-4400-e3fa-44358341cc55"
      },
      "source": [
        "drive.mount('/content/gdrive')\n",
        "os.chdir(\"/content/gdrive/My Drive/\")\n"
      ],
      "execution_count": 19,
      "outputs": [
        {
          "output_type": "stream",
          "text": [
            "Drive already mounted at /content/gdrive; to attempt to forcibly remount, call drive.mount(\"/content/gdrive\", force_remount=True).\n"
          ],
          "name": "stdout"
        }
      ]
    },
    {
      "cell_type": "code",
      "metadata": {
        "id": "qe7VLrBnKKkz",
        "colab_type": "code",
        "colab": {
          "base_uri": "https://localhost:8080/",
          "height": 399
        },
        "outputId": "81733e69-9dac-443d-9fc1-df8b66fc0b0d"
      },
      "source": [
        "train_csv_path = 'train.csv'\n",
        "test_csv_path = 'test.csv'\n",
        "\n",
        "train_df = pd.read_csv(train_csv_path)\n",
        "test_df = pd.read_csv(test_csv_path)\n",
        "\n",
        "# have a glimpse of train dataframe structure\n",
        "n_train = len(train_df)\n",
        "n_pixels = len(train_df.columns) - 1\n",
        "n_class = len(set(train_df['label']))\n",
        "print('Number of training samples: {0}'.format(n_train))\n",
        "print('Number of training pixels: {0}'.format(n_pixels))\n",
        "print('Number of classes: {0}'.format(n_class))\n",
        "print(train_df.head())\n",
        "\n",
        "# have a glimpse of test dataframe structure\n",
        "n_test = len(test_df)\n",
        "n_pixels = len(test_df.columns)\n",
        "print('Number of test samples: {0}'.format(n_test))\n",
        "print('Number of test pixels: {0}'.format(n_pixels))\n",
        "print(test_df.head())"
      ],
      "execution_count": null,
      "outputs": [
        {
          "output_type": "stream",
          "text": [
            "Number of training samples: 42000\n",
            "Number of training pixels: 784\n",
            "Number of classes: 10\n",
            "   label  pixel0  pixel1  pixel2  ...  pixel780  pixel781  pixel782  pixel783\n",
            "0      1       0       0       0  ...         0         0         0         0\n",
            "1      0       0       0       0  ...         0         0         0         0\n",
            "2      1       0       0       0  ...         0         0         0         0\n",
            "3      4       0       0       0  ...         0         0         0         0\n",
            "4      0       0       0       0  ...         0         0         0         0\n",
            "\n",
            "[5 rows x 785 columns]\n",
            "Number of test samples: 28000\n",
            "Number of test pixels: 784\n",
            "   pixel0  pixel1  pixel2  pixel3  ...  pixel780  pixel781  pixel782  pixel783\n",
            "0       0       0       0       0  ...         0         0         0         0\n",
            "1       0       0       0       0  ...         0         0         0         0\n",
            "2       0       0       0       0  ...         0         0         0         0\n",
            "3       0       0       0       0  ...         0         0         0         0\n",
            "4       0       0       0       0  ...         0         0         0         0\n",
            "\n",
            "[5 rows x 784 columns]\n"
          ],
          "name": "stdout"
        }
      ]
    },
    {
      "cell_type": "code",
      "metadata": {
        "id": "-55onhnnKKby",
        "colab_type": "code",
        "colab": {
          "base_uri": "https://localhost:8080/",
          "height": 158
        },
        "outputId": "afdffeaa-8f75-451e-acbc-2af816093d35"
      },
      "source": [
        "random_sel = np.random.randint(n_train, size=8)\n",
        "\n",
        "grid = make_grid(torch.Tensor((train_df.iloc[random_sel, 1:].values/255.).reshape((-1, 28, 28))).unsqueeze(1), nrow=8)\n",
        "plt.rcParams['figure.figsize'] = (16, 2)\n",
        "plt.imshow(grid.numpy().transpose((1,2,0)))\n",
        "plt.axis('off')\n",
        "print(*list(train_df.iloc[random_sel, 0].values), sep = ', ')"
      ],
      "execution_count": null,
      "outputs": [
        {
          "output_type": "stream",
          "text": [
            "4, 6, 6, 4, 3, 6, 6, 1\n"
          ],
          "name": "stdout"
        },
        {
          "output_type": "display_data",
          "data": {
            "image/png": "[encoded data removed]",
            "text/plain": [
              "<Figure size 1152x144 with 1 Axes>"
            ]
          },
          "metadata": {
            "tags": [],
            "needs_background": "light"
          }
        }
      ]
    },
    {
      "cell_type": "code",
      "metadata": {
        "id": "w74RQ3Ky7wHo",
        "colab_type": "code",
        "colab": {}
      },
      "source": [
        "class MNISTDataset(Dataset):\n",
        "    \"\"\"MNIST dtaa set\"\"\"\n",
        "    \n",
        "    def __init__(self, dataframe, \n",
        "                 transform = transforms.Compose([transforms.ToPILImage(),\n",
        "                                                 transforms.ToTensor(),\n",
        "                                                 transforms.Normalize(mean=(0.5,), std=(0.5,))])\n",
        "                ):\n",
        "        df = dataframe\n",
        "        # for MNIST dataset n_pixels should be 784\n",
        "        self.n_pixels = 784\n",
        "        \n",
        "        if len(df.columns) == self.n_pixels:\n",
        "            # test data\n",
        "            self.X = df.values.reshape((-1,28,28)).astype(np.uint8)[:,:,:,None]\n",
        "            self.y = None\n",
        "        else:\n",
        "            # training data\n",
        "            self.X = df.iloc[:,1:].values.reshape((-1,28,28)).astype(np.uint8)[:,:,:,None]\n",
        "            self.y = torch.from_numpy(df.iloc[:,0].values)\n",
        "            \n",
        "        self.transform = transform\n",
        "    \n",
        "    def __len__(self):\n",
        "        return len(self.X)\n",
        "\n",
        "    def __getitem__(self, idx):\n",
        "        if self.y is not None:\n",
        "            return self.transform(self.X[idx]), self.y[idx]\n",
        "        else:\n",
        "            return self.transform(self.X[idx])"
      ],
      "execution_count": 20,
      "outputs": []
    },
    {
      "cell_type": "code",
      "metadata": {
        "id": "2g912FrC7wF2",
        "colab_type": "code",
        "colab": {}
      },
      "source": [
        "RandAffine = transforms.RandomAffine(degrees=45, translate=(0.1, 0.1), scale=(0.8, 1.2))"
      ],
      "execution_count": null,
      "outputs": []
    },
    {
      "cell_type": "code",
      "metadata": {
        "id": "X6Fvl-Yv7wAh",
        "colab_type": "code",
        "colab": {
          "base_uri": "https://localhost:8080/",
          "height": 153
        },
        "outputId": "b2b47198-850c-4a9b-fd82-b7881f69cbf3"
      },
      "source": [
        "rotate = transforms.RandomRotation(degrees=45)\n",
        "shift = RandAffine\n",
        "composed = transforms.Compose([rotate,\n",
        "                               shift])\n",
        "\n",
        "# Apply each of the above transforms on sample.\n",
        "fig = plt.figure()\n",
        "sample = transforms.ToPILImage()(train_df.iloc[65,1:].values.reshape((28,28)).astype(np.uint8)[:,:,None])\n",
        "for i, tsfrm in enumerate([rotate, shift, composed]):\n",
        "    transformed_sample = tsfrm(sample)\n",
        "\n",
        "    ax = plt.subplot(1, 3, i + 1)\n",
        "    plt.tight_layout()\n",
        "    ax.set_title(type(tsfrm).__name__)\n",
        "    ax.imshow(np.reshape(np.array(list(transformed_sample.getdata())), (-1,28)), cmap='gray')    \n",
        "\n",
        "plt.show()"
      ],
      "execution_count": null,
      "outputs": [
        {
          "output_type": "display_data",
          "data": {
            "image/png": "[encoded data removed]",
            "text/plain": [
              "<Figure size 1152x144 with 3 Axes>"
            ]
          },
          "metadata": {
            "tags": [],
            "needs_background": "light"
          }
        }
      ]
    },
    {
      "cell_type": "code",
      "metadata": {
        "id": "SjxA52FE7v-d",
        "colab_type": "code",
        "colab": {}
      },
      "source": [
        "batch_size = 64\n",
        "\n",
        "train_transforms = transforms.Compose(\n",
        "    [transforms.ToPILImage(),\n",
        "     RandAffine,\n",
        "     transforms.ToTensor(),\n",
        "     transforms.Normalize(mean=(0.5,), std=(0.5,))])\n",
        "\n",
        "val_test_transforms = transforms.Compose(\n",
        "    [transforms.ToPILImage(),\n",
        "     transforms.ToTensor(),\n",
        "     transforms.Normalize(mean=(0.5,), std=(0.5,))])\n",
        "\n",
        "def get_dataset(dataframe, dataset=MNISTDataset,\n",
        "                transform=transforms.Compose([transforms.ToPILImage(),\n",
        "                                              transforms.ToTensor(),\n",
        "                                              transforms.Normalize(mean=(0.5,), std=(0.5,))])):\n",
        "    return dataset(dataframe, transform=transform)"
      ],
      "execution_count": null,
      "outputs": []
    },
    {
      "cell_type": "code",
      "metadata": {
        "id": "jieJbrgwKKTZ",
        "colab_type": "code",
        "colab": {
          "base_uri": "https://localhost:8080/",
          "height": 1000
        },
        "outputId": "79e05bfd-8ac0-4aa8-eb03-9a5918ee7d4a"
      },
      "source": [
        "from torchvision.models.resnet import ResNet, BasicBlock, Bottleneck\n",
        "\n",
        "class MNISTResNet(ResNet):\n",
        "    def __init__(self):\n",
        "        super(MNISTResNet, self).__init__(BasicBlock, [2, 2, 2, 2], num_classes=10) # Based on ResNet18\n",
        "        # super(MNISTResNet, self).__init__(BasicBlock, [3, 4, 6, 3], num_classes=10) # Based on ResNet34\n",
        "        # super(MNISTResNet, self).__init__(Bottleneck, [3, 4, 6, 3], num_classes=10) # Based on ResNet50\n",
        "        self.conv1 = nn.Conv2d(1, 64, kernel_size=7, stride=1, padding=3,bias=False)\n",
        "\n",
        "model = MNISTResNet()\n",
        "print(model)"
      ],
      "execution_count": 21,
      "outputs": [
        {
          "output_type": "stream",
          "text": [
            "MNISTResNet(\n",
            "  (conv1): Conv2d(1, 64, kernel_size=(7, 7), stride=(1, 1), padding=(3, 3), bias=False)\n",
            "  (bn1): BatchNorm2d(64, eps=1e-05, momentum=0.1, affine=True, track_running_stats=True)\n",
            "  (relu): ReLU(inplace=True)\n",
            "  (maxpool): MaxPool2d(kernel_size=3, stride=2, padding=1, dilation=1, ceil_mode=False)\n",
            "  (layer1): Sequential(\n",
            "    (0): BasicBlock(\n",
            "      (conv1): Conv2d(64, 64, kernel_size=(3, 3), stride=(1, 1), padding=(1, 1), bias=False)\n",
            "      (bn1): BatchNorm2d(64, eps=1e-05, momentum=0.1, affine=True, track_running_stats=True)\n",
            "      (relu): ReLU(inplace=True)\n",
            "      (conv2): Conv2d(64, 64, kernel_size=(3, 3), stride=(1, 1), padding=(1, 1), bias=False)\n",
            "      (bn2): BatchNorm2d(64, eps=1e-05, momentum=0.1, affine=True, track_running_stats=True)\n",
            "    )\n",
            "    (1): BasicBlock(\n",
            "      (conv1): Conv2d(64, 64, kernel_size=(3, 3), stride=(1, 1), padding=(1, 1), bias=False)\n",
            "      (bn1): BatchNorm2d(64, eps=1e-05, momentum=0.1, affine=True, track_running_stats=True)\n",
            "      (relu): ReLU(inplace=True)\n",
            "      (conv2): Conv2d(64, 64, kernel_size=(3, 3), stride=(1, 1), padding=(1, 1), bias=False)\n",
            "      (bn2): BatchNorm2d(64, eps=1e-05, momentum=0.1, affine=True, track_running_stats=True)\n",
            "    )\n",
            "  )\n",
            "  (layer2): Sequential(\n",
            "    (0): BasicBlock(\n",
            "      (conv1): Conv2d(64, 128, kernel_size=(3, 3), stride=(2, 2), padding=(1, 1), bias=False)\n",
            "      (bn1): BatchNorm2d(128, eps=1e-05, momentum=0.1, affine=True, track_running_stats=True)\n",
            "      (relu): ReLU(inplace=True)\n",
            "      (conv2): Conv2d(128, 128, kernel_size=(3, 3), stride=(1, 1), padding=(1, 1), bias=False)\n",
            "      (bn2): BatchNorm2d(128, eps=1e-05, momentum=0.1, affine=True, track_running_stats=True)\n",
            "      (downsample): Sequential(\n",
            "        (0): Conv2d(64, 128, kernel_size=(1, 1), stride=(2, 2), bias=False)\n",
            "        (1): BatchNorm2d(128, eps=1e-05, momentum=0.1, affine=True, track_running_stats=True)\n",
            "      )\n",
            "    )\n",
            "    (1): BasicBlock(\n",
            "      (conv1): Conv2d(128, 128, kernel_size=(3, 3), stride=(1, 1), padding=(1, 1), bias=False)\n",
            "      (bn1): BatchNorm2d(128, eps=1e-05, momentum=0.1, affine=True, track_running_stats=True)\n",
            "      (relu): ReLU(inplace=True)\n",
            "      (conv2): Conv2d(128, 128, kernel_size=(3, 3), stride=(1, 1), padding=(1, 1), bias=False)\n",
            "      (bn2): BatchNorm2d(128, eps=1e-05, momentum=0.1, affine=True, track_running_stats=True)\n",
            "    )\n",
            "  )\n",
            "  (layer3): Sequential(\n",
            "    (0): BasicBlock(\n",
            "      (conv1): Conv2d(128, 256, kernel_size=(3, 3), stride=(2, 2), padding=(1, 1), bias=False)\n",
            "      (bn1): BatchNorm2d(256, eps=1e-05, momentum=0.1, affine=True, track_running_stats=True)\n",
            "      (relu): ReLU(inplace=True)\n",
            "      (conv2): Conv2d(256, 256, kernel_size=(3, 3), stride=(1, 1), padding=(1, 1), bias=False)\n",
            "      (bn2): BatchNorm2d(256, eps=1e-05, momentum=0.1, affine=True, track_running_stats=True)\n",
            "      (downsample): Sequential(\n",
            "        (0): Conv2d(128, 256, kernel_size=(1, 1), stride=(2, 2), bias=False)\n",
            "        (1): BatchNorm2d(256, eps=1e-05, momentum=0.1, affine=True, track_running_stats=True)\n",
            "      )\n",
            "    )\n",
            "    (1): BasicBlock(\n",
            "      (conv1): Conv2d(256, 256, kernel_size=(3, 3), stride=(1, 1), padding=(1, 1), bias=False)\n",
            "      (bn1): BatchNorm2d(256, eps=1e-05, momentum=0.1, affine=True, track_running_stats=True)\n",
            "      (relu): ReLU(inplace=True)\n",
            "      (conv2): Conv2d(256, 256, kernel_size=(3, 3), stride=(1, 1), padding=(1, 1), bias=False)\n",
            "      (bn2): BatchNorm2d(256, eps=1e-05, momentum=0.1, affine=True, track_running_stats=True)\n",
            "    )\n",
            "  )\n",
            "  (layer4): Sequential(\n",
            "    (0): BasicBlock(\n",
            "      (conv1): Conv2d(256, 512, kernel_size=(3, 3), stride=(2, 2), padding=(1, 1), bias=False)\n",
            "      (bn1): BatchNorm2d(512, eps=1e-05, momentum=0.1, affine=True, track_running_stats=True)\n",
            "      (relu): ReLU(inplace=True)\n",
            "      (conv2): Conv2d(512, 512, kernel_size=(3, 3), stride=(1, 1), padding=(1, 1), bias=False)\n",
            "      (bn2): BatchNorm2d(512, eps=1e-05, momentum=0.1, affine=True, track_running_stats=True)\n",
            "      (downsample): Sequential(\n",
            "        (0): Conv2d(256, 512, kernel_size=(1, 1), stride=(2, 2), bias=False)\n",
            "        (1): BatchNorm2d(512, eps=1e-05, momentum=0.1, affine=True, track_running_stats=True)\n",
            "      )\n",
            "    )\n",
            "    (1): BasicBlock(\n",
            "      (conv1): Conv2d(512, 512, kernel_size=(3, 3), stride=(1, 1), padding=(1, 1), bias=False)\n",
            "      (bn1): BatchNorm2d(512, eps=1e-05, momentum=0.1, affine=True, track_running_stats=True)\n",
            "      (relu): ReLU(inplace=True)\n",
            "      (conv2): Conv2d(512, 512, kernel_size=(3, 3), stride=(1, 1), padding=(1, 1), bias=False)\n",
            "      (bn2): BatchNorm2d(512, eps=1e-05, momentum=0.1, affine=True, track_running_stats=True)\n",
            "    )\n",
            "  )\n",
            "  (avgpool): AdaptiveAvgPool2d(output_size=(1, 1))\n",
            "  (fc): Linear(in_features=512, out_features=10, bias=True)\n",
            ")\n"
          ],
          "name": "stdout"
        }
      ]
    },
    {
      "cell_type": "code",
      "metadata": {
        "id": "7OXcMTjhKKKh",
        "colab_type": "code",
        "colab": {}
      },
      "source": [
        "def train(train_loader, model, criterion, optimizer, epoch):\n",
        "    model.train()\n",
        "\n",
        "    for batch_idx, (data, target) in enumerate(train_loader):\n",
        "        # if GPU available, move data and target to GPU\n",
        "        if torch.cuda.is_available():\n",
        "            data = data.cuda()\n",
        "            target = target.cuda()\n",
        "        \n",
        "        # compute output and loss\n",
        "        output = model(data)\n",
        "        loss = criterion(output, target)\n",
        "        \n",
        "        # TODO:\n",
        "        # 1. add batch metric (acc1, acc5)\n",
        "        # 2. add average metric top1=sum(acc1)/batch_idx, top5 = sum(acc5)/batch_idx\n",
        "        \n",
        "        # backward and update model\n",
        "        optimizer.zero_grad()\n",
        "        loss.backward()\n",
        "        optimizer.step()\n",
        "        \n",
        "        if (batch_idx + 1)% 100 == 0:\n",
        "            print('Train Epoch: {} [{}/{} ({:.0f}%)]\\tLoss: {:.6f}'.format(\n",
        "                epoch, (batch_idx + 1) * len(data), len(train_loader.dataset),\n",
        "                100. * (batch_idx + 1) / len(train_loader), loss.data.item()))"
      ],
      "execution_count": null,
      "outputs": []
    },
    {
      "cell_type": "code",
      "metadata": {
        "id": "hSHruG037v7h",
        "colab_type": "code",
        "colab": {}
      },
      "source": [
        "def validate(val_loader, model, criterion):\n",
        "    model.eval()\n",
        "    loss = 0\n",
        "    correct = 0\n",
        "    \n",
        "    for _, (data, target) in enumerate(val_loader):\n",
        "        if torch.cuda.is_available():\n",
        "            data = data.cuda()\n",
        "            target = target.cuda()\n",
        "        \n",
        "        output = model(data)\n",
        "        \n",
        "        loss += criterion(output, target).data.item()\n",
        "\n",
        "        pred = output.data.max(1, keepdim=True)[1]\n",
        "        correct += pred.eq(target.data.view_as(pred)).cpu().sum()\n",
        "        \n",
        "    loss /= len(val_loader.dataset)\n",
        "        \n",
        "    print('\\nOn Val set Average loss: {:.4f}, Accuracy: {}/{} ({:.3f}%)\\n'.format(\n",
        "        loss, correct, len(val_loader.dataset),\n",
        "        100.0 * float(correct) / len(val_loader.dataset)))"
      ],
      "execution_count": null,
      "outputs": []
    },
    {
      "cell_type": "code",
      "metadata": {
        "id": "h6Q2qWB2HUCr",
        "colab_type": "code",
        "colab": {}
      },
      "source": [
        "# example config, use the comments to get higher accuracy\n",
        "total_epoches = 5 # 50\n",
        "step_size = 10     # 10\n",
        "base_lr = 0.01    # 0.01\n",
        "\n",
        "optimizer = optim.Adam(model.parameters(), lr=base_lr)\n",
        "criterion = nn.CrossEntropyLoss()\n",
        "exp_lr_scheduler = lr_scheduler.StepLR(optimizer, step_size=step_size, gamma=0.1)\n",
        "\n",
        "if torch.cuda.is_available():\n",
        "    model = model.cuda()\n",
        "    criterion = criterion.cuda()"
      ],
      "execution_count": null,
      "outputs": []
    },
    {
      "cell_type": "code",
      "metadata": {
        "id": "4ywSEEsUHT6S",
        "colab_type": "code",
        "colab": {
          "base_uri": "https://localhost:8080/",
          "height": 963
        },
        "outputId": "64bf5e49-ac06-484d-e693-70d7f97c3d0f"
      },
      "source": [
        "def split_dataframe(dataframe=None, fraction=0.9, rand_seed=1):\n",
        "    df_1 = dataframe.sample(frac=fraction, random_state=rand_seed)\n",
        "    df_2 = dataframe.drop(df_1.index)\n",
        "    return df_1, df_2\n",
        "\n",
        "for epoch in range(total_epoches):\n",
        "    print(\"\\nTrain Epoch {}: lr = {}\".format(epoch, exp_lr_scheduler.get_lr()[0]))\n",
        "\n",
        "    train_df_new, val_df = split_dataframe(dataframe=train_df, fraction=0.9, rand_seed=epoch)\n",
        "    \n",
        "    train_dataset = get_dataset(train_df_new, transform=train_transforms)\n",
        "    val_dataset = get_dataset(val_df, transform=val_test_transforms)\n",
        "\n",
        "    train_loader = torch.utils.data.DataLoader(dataset=train_dataset,\n",
        "                                               batch_size=batch_size, shuffle=True)\n",
        "    val_loader = torch.utils.data.DataLoader(dataset=val_dataset,\n",
        "                                             batch_size=batch_size, shuffle=False)\n",
        "\n",
        "    train(train_loader=train_loader, model=model, criterion=criterion, optimizer=optimizer, epoch=epoch)\n",
        "    validate(val_loader=val_loader, model=model, criterion=criterion)\n",
        "    exp_lr_scheduler.step()"
      ],
      "execution_count": null,
      "outputs": [
        {
          "output_type": "stream",
          "text": [
            "/usr/local/lib/python3.6/dist-packages/torch/optim/lr_scheduler.py:351: UserWarning: To get the last learning rate computed by the scheduler, please use `get_last_lr()`.\n",
            "  \"please use `get_last_lr()`.\", UserWarning)\n"
          ],
          "name": "stderr"
        },
        {
          "output_type": "stream",
          "text": [
            "\n",
            "Train Epoch 0: lr = 0.01\n",
            "Train Epoch: 0 [6400/37800 (17%)]\tLoss: 0.329609\n",
            "Train Epoch: 0 [12800/37800 (34%)]\tLoss: 0.417190\n",
            "Train Epoch: 0 [19200/37800 (51%)]\tLoss: 0.254208\n",
            "Train Epoch: 0 [25600/37800 (68%)]\tLoss: 0.253631\n",
            "Train Epoch: 0 [32000/37800 (85%)]\tLoss: 0.282886\n",
            "\n",
            "On Val set Average loss: 0.0019, Accuracy: 4031/4200 (95.976%)\n",
            "\n",
            "\n",
            "Train Epoch 1: lr = 0.01\n",
            "Train Epoch: 1 [6400/37800 (17%)]\tLoss: 0.215688\n",
            "Train Epoch: 1 [12800/37800 (34%)]\tLoss: 0.147227\n",
            "Train Epoch: 1 [19200/37800 (51%)]\tLoss: 0.158586\n",
            "Train Epoch: 1 [25600/37800 (68%)]\tLoss: 0.023017\n",
            "Train Epoch: 1 [32000/37800 (85%)]\tLoss: 0.105355\n",
            "\n",
            "On Val set Average loss: 0.0014, Accuracy: 4075/4200 (97.024%)\n",
            "\n",
            "\n",
            "Train Epoch 2: lr = 0.01\n",
            "Train Epoch: 2 [6400/37800 (17%)]\tLoss: 0.147845\n",
            "Train Epoch: 2 [12800/37800 (34%)]\tLoss: 0.074943\n",
            "Train Epoch: 2 [19200/37800 (51%)]\tLoss: 0.146451\n",
            "Train Epoch: 2 [25600/37800 (68%)]\tLoss: 0.171136\n",
            "Train Epoch: 2 [32000/37800 (85%)]\tLoss: 0.216073\n",
            "\n",
            "On Val set Average loss: 0.0010, Accuracy: 4114/4200 (97.952%)\n",
            "\n",
            "\n",
            "Train Epoch 3: lr = 0.01\n",
            "Train Epoch: 3 [6400/37800 (17%)]\tLoss: 0.079224\n",
            "Train Epoch: 3 [12800/37800 (34%)]\tLoss: 0.190195\n",
            "Train Epoch: 3 [19200/37800 (51%)]\tLoss: 0.059442\n",
            "Train Epoch: 3 [25600/37800 (68%)]\tLoss: 0.113409\n",
            "Train Epoch: 3 [32000/37800 (85%)]\tLoss: 0.103311\n",
            "\n",
            "On Val set Average loss: 0.0015, Accuracy: 4064/4200 (96.762%)\n",
            "\n",
            "\n",
            "Train Epoch 4: lr = 0.01\n",
            "Train Epoch: 4 [6400/37800 (17%)]\tLoss: 0.240110\n",
            "Train Epoch: 4 [12800/37800 (34%)]\tLoss: 0.139316\n",
            "Train Epoch: 4 [19200/37800 (51%)]\tLoss: 0.042661\n",
            "Train Epoch: 4 [25600/37800 (68%)]\tLoss: 0.064064\n",
            "Train Epoch: 4 [32000/37800 (85%)]\tLoss: 0.117608\n",
            "\n",
            "On Val set Average loss: 0.0008, Accuracy: 4144/4200 (98.667%)\n",
            "\n"
          ],
          "name": "stdout"
        }
      ]
    },
    {
      "cell_type": "code",
      "metadata": {
        "id": "JTMXA-XsHTnq",
        "colab_type": "code",
        "colab": {}
      },
      "source": [
        "def print_image(image):\n",
        "  plt.imshow(image.squeeze(dim=0).squeeze(dim=0), cmap='gray')"
      ],
      "execution_count": 23,
      "outputs": []
    },
    {
      "cell_type": "code",
      "metadata": {
        "id": "NXvIIA2HHTiT",
        "colab_type": "code",
        "colab": {}
      },
      "source": [
        "# # we save the model to save parameters for later\n",
        "# torch.save(model.state_dict(),\"ResNet.pt\")\n",
        "\n",
        "# use_cuda = True "
      ],
      "execution_count": null,
      "outputs": []
    },
    {
      "cell_type": "code",
      "metadata": {
        "id": "BKujizkkHTgH",
        "colab_type": "code",
        "colab": {
          "base_uri": "https://localhost:8080/",
          "height": 1000
        },
        "outputId": "fb42095f-8638-4afd-e122-59cdf93bd584"
      },
      "source": [
        "pretrained_model = \"ResNet.pt\"\n",
        "\n",
        "# Here we load the model \n",
        "print(\"CUDA Available: \",torch.cuda.is_available())\n",
        "device = torch.device(\"cuda\" if (use_cuda and torch.cuda.is_available()) else \"cpu\")\n",
        "\n",
        "# Initialize the network\n",
        "model1 = MNISTResNet().to(device)\n",
        "\n",
        "# Load the pretrained model\n",
        "model1.load_state_dict(torch.load(pretrained_model, map_location='cpu'))\n",
        "\n",
        "# Set the model in evaluation mode. \n",
        "model1.eval()"
      ],
      "execution_count": 24,
      "outputs": [
        {
          "output_type": "stream",
          "text": [
            "CUDA Available:  False\n"
          ],
          "name": "stdout"
        },
        {
          "output_type": "execute_result",
          "data": {
            "text/plain": [
              "MNISTResNet(\n",
              "  (conv1): Conv2d(1, 64, kernel_size=(7, 7), stride=(1, 1), padding=(3, 3), bias=False)\n",
              "  (bn1): BatchNorm2d(64, eps=1e-05, momentum=0.1, affine=True, track_running_stats=True)\n",
              "  (relu): ReLU(inplace=True)\n",
              "  (maxpool): MaxPool2d(kernel_size=3, stride=2, padding=1, dilation=1, ceil_mode=False)\n",
              "  (layer1): Sequential(\n",
              "    (0): BasicBlock(\n",
              "      (conv1): Conv2d(64, 64, kernel_size=(3, 3), stride=(1, 1), padding=(1, 1), bias=False)\n",
              "      (bn1): BatchNorm2d(64, eps=1e-05, momentum=0.1, affine=True, track_running_stats=True)\n",
              "      (relu): ReLU(inplace=True)\n",
              "      (conv2): Conv2d(64, 64, kernel_size=(3, 3), stride=(1, 1), padding=(1, 1), bias=False)\n",
              "      (bn2): BatchNorm2d(64, eps=1e-05, momentum=0.1, affine=True, track_running_stats=True)\n",
              "    )\n",
              "    (1): BasicBlock(\n",
              "      (conv1): Conv2d(64, 64, kernel_size=(3, 3), stride=(1, 1), padding=(1, 1), bias=False)\n",
              "      (bn1): BatchNorm2d(64, eps=1e-05, momentum=0.1, affine=True, track_running_stats=True)\n",
              "      (relu): ReLU(inplace=True)\n",
              "      (conv2): Conv2d(64, 64, kernel_size=(3, 3), stride=(1, 1), padding=(1, 1), bias=False)\n",
              "      (bn2): BatchNorm2d(64, eps=1e-05, momentum=0.1, affine=True, track_running_stats=True)\n",
              "    )\n",
              "  )\n",
              "  (layer2): Sequential(\n",
              "    (0): BasicBlock(\n",
              "      (conv1): Conv2d(64, 128, kernel_size=(3, 3), stride=(2, 2), padding=(1, 1), bias=False)\n",
              "      (bn1): BatchNorm2d(128, eps=1e-05, momentum=0.1, affine=True, track_running_stats=True)\n",
              "      (relu): ReLU(inplace=True)\n",
              "      (conv2): Conv2d(128, 128, kernel_size=(3, 3), stride=(1, 1), padding=(1, 1), bias=False)\n",
              "      (bn2): BatchNorm2d(128, eps=1e-05, momentum=0.1, affine=True, track_running_stats=True)\n",
              "      (downsample): Sequential(\n",
              "        (0): Conv2d(64, 128, kernel_size=(1, 1), stride=(2, 2), bias=False)\n",
              "        (1): BatchNorm2d(128, eps=1e-05, momentum=0.1, affine=True, track_running_stats=True)\n",
              "      )\n",
              "    )\n",
              "    (1): BasicBlock(\n",
              "      (conv1): Conv2d(128, 128, kernel_size=(3, 3), stride=(1, 1), padding=(1, 1), bias=False)\n",
              "      (bn1): BatchNorm2d(128, eps=1e-05, momentum=0.1, affine=True, track_running_stats=True)\n",
              "      (relu): ReLU(inplace=True)\n",
              "      (conv2): Conv2d(128, 128, kernel_size=(3, 3), stride=(1, 1), padding=(1, 1), bias=False)\n",
              "      (bn2): BatchNorm2d(128, eps=1e-05, momentum=0.1, affine=True, track_running_stats=True)\n",
              "    )\n",
              "  )\n",
              "  (layer3): Sequential(\n",
              "    (0): BasicBlock(\n",
              "      (conv1): Conv2d(128, 256, kernel_size=(3, 3), stride=(2, 2), padding=(1, 1), bias=False)\n",
              "      (bn1): BatchNorm2d(256, eps=1e-05, momentum=0.1, affine=True, track_running_stats=True)\n",
              "      (relu): ReLU(inplace=True)\n",
              "      (conv2): Conv2d(256, 256, kernel_size=(3, 3), stride=(1, 1), padding=(1, 1), bias=False)\n",
              "      (bn2): BatchNorm2d(256, eps=1e-05, momentum=0.1, affine=True, track_running_stats=True)\n",
              "      (downsample): Sequential(\n",
              "        (0): Conv2d(128, 256, kernel_size=(1, 1), stride=(2, 2), bias=False)\n",
              "        (1): BatchNorm2d(256, eps=1e-05, momentum=0.1, affine=True, track_running_stats=True)\n",
              "      )\n",
              "    )\n",
              "    (1): BasicBlock(\n",
              "      (conv1): Conv2d(256, 256, kernel_size=(3, 3), stride=(1, 1), padding=(1, 1), bias=False)\n",
              "      (bn1): BatchNorm2d(256, eps=1e-05, momentum=0.1, affine=True, track_running_stats=True)\n",
              "      (relu): ReLU(inplace=True)\n",
              "      (conv2): Conv2d(256, 256, kernel_size=(3, 3), stride=(1, 1), padding=(1, 1), bias=False)\n",
              "      (bn2): BatchNorm2d(256, eps=1e-05, momentum=0.1, affine=True, track_running_stats=True)\n",
              "    )\n",
              "  )\n",
              "  (layer4): Sequential(\n",
              "    (0): BasicBlock(\n",
              "      (conv1): Conv2d(256, 512, kernel_size=(3, 3), stride=(2, 2), padding=(1, 1), bias=False)\n",
              "      (bn1): BatchNorm2d(512, eps=1e-05, momentum=0.1, affine=True, track_running_stats=True)\n",
              "      (relu): ReLU(inplace=True)\n",
              "      (conv2): Conv2d(512, 512, kernel_size=(3, 3), stride=(1, 1), padding=(1, 1), bias=False)\n",
              "      (bn2): BatchNorm2d(512, eps=1e-05, momentum=0.1, affine=True, track_running_stats=True)\n",
              "      (downsample): Sequential(\n",
              "        (0): Conv2d(256, 512, kernel_size=(1, 1), stride=(2, 2), bias=False)\n",
              "        (1): BatchNorm2d(512, eps=1e-05, momentum=0.1, affine=True, track_running_stats=True)\n",
              "      )\n",
              "    )\n",
              "    (1): BasicBlock(\n",
              "      (conv1): Conv2d(512, 512, kernel_size=(3, 3), stride=(1, 1), padding=(1, 1), bias=False)\n",
              "      (bn1): BatchNorm2d(512, eps=1e-05, momentum=0.1, affine=True, track_running_stats=True)\n",
              "      (relu): ReLU(inplace=True)\n",
              "      (conv2): Conv2d(512, 512, kernel_size=(3, 3), stride=(1, 1), padding=(1, 1), bias=False)\n",
              "      (bn2): BatchNorm2d(512, eps=1e-05, momentum=0.1, affine=True, track_running_stats=True)\n",
              "    )\n",
              "  )\n",
              "  (avgpool): AdaptiveAvgPool2d(output_size=(1, 1))\n",
              "  (fc): Linear(in_features=512, out_features=10, bias=True)\n",
              ")"
            ]
          },
          "metadata": {
            "tags": []
          },
          "execution_count": 24
        }
      ]
    },
    {
      "cell_type": "code",
      "metadata": {
        "id": "YzdKFEQTHTcm",
        "colab_type": "code",
        "colab": {}
      },
      "source": [
        "def choose(a, b, c):\n",
        "  # print(a)\n",
        "  # sigm = nn.Sigmoid()\n",
        "  # # print(\"This is 1\", soft(a))\n",
        "  # # print(\"This is 2\", soft(b))\n",
        "  # # print(\"This is 3\", soft(c))\n",
        "  # #print(a.squeeze(dim=0).size(),b.size(),c.size())\n",
        "  # none = (sigm(a) + sigm(b) + sigm(c))\n",
        "  # none = torch.nn.Softmax(dim=1)(none)\n",
        "  none = a + b + c\n",
        "  return none"
      ],
      "execution_count": 25,
      "outputs": []
    },
    {
      "cell_type": "code",
      "metadata": {
        "id": "lenp1untm04V",
        "colab_type": "code",
        "colab": {}
      },
      "source": [
        "def ensamble_prediction(image):\n",
        "  # First we load the models\n",
        "  pretrained_model1 = \"conv_net.pt\"\n",
        "  pretrained_model2 = \"LeNet5.pt\"\n",
        "  pretrained_model3 = \"ResNet.pt\"\n",
        "  # Here we load the model \n",
        "  \n",
        "  device = torch.device(\"cuda\" if (use_cuda and torch.cuda.is_available()) else \"cpu\")\n",
        "\n",
        "  # Initialize the network\n",
        "  model1 = CNN().to(device)\n",
        "  model2 = LeNet5(10).to(device)\n",
        "  model3 = MNISTResNet().to(device)\n",
        "\n",
        "  # Load the pretrained model\n",
        "  model1.load_state_dict(torch.load(pretrained_model1, map_location='cpu'))\n",
        "  model2.load_state_dict(torch.load(pretrained_model2, map_location='cpu'))\n",
        "  model3.load_state_dict(torch.load(pretrained_model3, map_location='cpu'))\n",
        "  # Set the model in evaluation mode. \n",
        "  model1.eval()\n",
        "  model2.eval()\n",
        "  model3.eval()\n",
        "\n",
        "  # We save the adversarial examples as a touple formed by initial label, predicted label, adversarial_image and epsioln\n",
        "  #print_image(image[2])\n",
        "  #print('Labelul initial este:', image[0] )\n",
        "\n",
        "  # first_prediction = model1(image[2]).argmax()\n",
        "  # second_prediction = model2(transform_image(image[2]))[1].argmax()\n",
        "  # third_prediction = model3(image[2]).argmax()\n",
        "\n",
        "  first_prediction = model1(image)\n",
        "  second_prediction = model2(transform_image(image))[0]\n",
        "  third_prediction = model3(image)\n",
        "\n",
        "  predicted_label = choose(first_prediction, second_prediction, third_prediction)\n",
        "\n",
        "  #print('Labelul prezis este: ', predicted_label.argmax())\n",
        "  return predicted_label"
      ],
      "execution_count": 26,
      "outputs": []
    },
    {
      "cell_type": "code",
      "metadata": {
        "id": "rU0tKQOSm01V",
        "colab_type": "code",
        "colab": {}
      },
      "source": [
        "correct_predictions = 0\n",
        "for image in adv:\n",
        "  if image[0] == ensamble_prediction(image).item():\n",
        "    correct_predictions+=1\n",
        "\n",
        "print(len(adv))\n",
        "print(correct_predictions)\n"
      ],
      "execution_count": null,
      "outputs": []
    },
    {
      "cell_type": "code",
      "metadata": {
        "id": "og1H5TFXm0v2",
        "colab_type": "code",
        "colab": {
          "base_uri": "https://localhost:8080/",
          "height": 35
        },
        "outputId": "706caf17-6367-4b30-d613-dc5e2e6b7a57"
      },
      "source": [
        "accuracy = correct_predictions * 100 / len(adv)\n",
        "print(accuracy)"
      ],
      "execution_count": null,
      "outputs": [
        {
          "output_type": "stream",
          "text": [
            "34.5679012345679\n"
          ],
          "name": "stdout"
        }
      ]
    },
    {
      "cell_type": "markdown",
      "metadata": {
        "id": "MYYG-j0B0D1v",
        "colab_type": "text"
      },
      "source": [
        "# Aici o sa pun finalul proiectului "
      ]
    },
    {
      "cell_type": "code",
      "metadata": {
        "id": "sEYnjNhipvtG",
        "colab_type": "code",
        "colab": {}
      },
      "source": [
        "train_loaderr = torch.utils.data.DataLoader(\n",
        "    dset.MNIST('/', train=True, download=True,\n",
        "                   transform=transforms.Compose([\n",
        "                       transforms.ToTensor(),\n",
        "                   ])),\n",
        "    batch_size=args.batch_size, shuffle=True,drop_last=True, **kwargs)\n",
        "\n",
        "test_loaderr = torch.utils.data.DataLoader(\n",
        "    dset.MNIST('/', train=False, transform=transforms.Compose([\n",
        "                       transforms.ToTensor(),\n",
        "                   ])),\n",
        "    batch_size=args.test_batch_size, shuffle=True,drop_last=True, **kwargs)"
      ],
      "execution_count": 27,
      "outputs": []
    },
    {
      "cell_type": "code",
      "metadata": {
        "id": "azzVwc1epviY",
        "colab_type": "code",
        "colab": {}
      },
      "source": [
        "# AICI DAM RUN DOAR DACA VREAU\n",
        "# bunch_of_digits = torch.zeros(1,1,28,28)\n",
        "# bunch_of_labels = torch.zeros(1)\n",
        "# for batch_idx, (data,label) in enumerate(test_loaderr):\n",
        "#   if batch_idx > 1:\n",
        "#     break\n",
        "#   else:\n",
        "#     bunch_of_digits = torch.cat((bunch_of_digits, data))\n",
        "#     bunch_of_labels = torch.cat((bunch_of_labels, label))\n",
        "\n",
        "# bunch_of_digits = bunch_of_digits[1:101]\n",
        "# bunch_of_labels = bunch_of_labels[1:101]\n",
        "  "
      ],
      "execution_count": null,
      "outputs": []
    },
    {
      "cell_type": "markdown",
      "metadata": {
        "id": "vo_XUv4qNHXc",
        "colab_type": "text"
      },
      "source": [
        "# Load the data "
      ]
    },
    {
      "cell_type": "code",
      "metadata": {
        "id": "SF2ziYTzKPHN",
        "colab_type": "code",
        "colab": {
          "base_uri": "https://localhost:8080/",
          "height": 414
        },
        "outputId": "88fb900c-3310-4821-a817-9e72b53969c0"
      },
      "source": [
        "photos_path = '100photos.csv'\n",
        "labels_path = '100labels.csv'\n",
        "\n",
        "bunch_of_digits = torch.load(photos_path)\n",
        "bunch_of_labels = torch.load(labels_path)\n",
        "\n",
        "# assert bunch_of_labels.size() == torch.Size([100, 1, 28, 28]) , f\"{bunch_of_digits.size()}\"\n",
        "assert bunch_of_labels.size() == torch.Size([100]) , f\"{bunch_of_labels.size()}\"\n",
        "\n",
        "device = torch.device(\"cuda:0\" if torch.cuda.is_available() else \"cpu\")\n",
        "\n",
        "bunch_of_digits, bunch_of_labels = bunch_of_digits.to(device), bunch_of_labels.to(device)"
      ],
      "execution_count": 8,
      "outputs": [
        {
          "output_type": "error",
          "ename": "FileNotFoundError",
          "evalue": "ignored",
          "traceback": [
            "\u001b[0;31m---------------------------------------------------------------------------\u001b[0m",
            "\u001b[0;31mFileNotFoundError\u001b[0m                         Traceback (most recent call last)",
            "\u001b[0;32m<ipython-input-8-c9998a84b42e>\u001b[0m in \u001b[0;36m<module>\u001b[0;34m()\u001b[0m\n\u001b[1;32m      2\u001b[0m \u001b[0mlabels_path\u001b[0m \u001b[0;34m=\u001b[0m \u001b[0;34m'100labels.csv'\u001b[0m\u001b[0;34m\u001b[0m\u001b[0;34m\u001b[0m\u001b[0m\n\u001b[1;32m      3\u001b[0m \u001b[0;34m\u001b[0m\u001b[0m\n\u001b[0;32m----> 4\u001b[0;31m \u001b[0mbunch_of_digits\u001b[0m \u001b[0;34m=\u001b[0m \u001b[0mtorch\u001b[0m\u001b[0;34m.\u001b[0m\u001b[0mload\u001b[0m\u001b[0;34m(\u001b[0m\u001b[0mphotos_path\u001b[0m\u001b[0;34m)\u001b[0m\u001b[0;34m\u001b[0m\u001b[0;34m\u001b[0m\u001b[0m\n\u001b[0m\u001b[1;32m      5\u001b[0m \u001b[0mbunch_of_labels\u001b[0m \u001b[0;34m=\u001b[0m \u001b[0mtorch\u001b[0m\u001b[0;34m.\u001b[0m\u001b[0mload\u001b[0m\u001b[0;34m(\u001b[0m\u001b[0mlabels_path\u001b[0m\u001b[0;34m)\u001b[0m\u001b[0;34m\u001b[0m\u001b[0;34m\u001b[0m\u001b[0m\n\u001b[1;32m      6\u001b[0m \u001b[0;34m\u001b[0m\u001b[0m\n",
            "\u001b[0;32m/usr/local/lib/python3.6/dist-packages/torch/serialization.py\u001b[0m in \u001b[0;36mload\u001b[0;34m(f, map_location, pickle_module, **pickle_load_args)\u001b[0m\n\u001b[1;32m    569\u001b[0m         \u001b[0mpickle_load_args\u001b[0m\u001b[0;34m[\u001b[0m\u001b[0;34m'encoding'\u001b[0m\u001b[0;34m]\u001b[0m \u001b[0;34m=\u001b[0m \u001b[0;34m'utf-8'\u001b[0m\u001b[0;34m\u001b[0m\u001b[0;34m\u001b[0m\u001b[0m\n\u001b[1;32m    570\u001b[0m \u001b[0;34m\u001b[0m\u001b[0m\n\u001b[0;32m--> 571\u001b[0;31m     \u001b[0;32mwith\u001b[0m \u001b[0m_open_file_like\u001b[0m\u001b[0;34m(\u001b[0m\u001b[0mf\u001b[0m\u001b[0;34m,\u001b[0m \u001b[0;34m'rb'\u001b[0m\u001b[0;34m)\u001b[0m \u001b[0;32mas\u001b[0m \u001b[0mopened_file\u001b[0m\u001b[0;34m:\u001b[0m\u001b[0;34m\u001b[0m\u001b[0;34m\u001b[0m\u001b[0m\n\u001b[0m\u001b[1;32m    572\u001b[0m         \u001b[0;32mif\u001b[0m \u001b[0m_is_zipfile\u001b[0m\u001b[0;34m(\u001b[0m\u001b[0mopened_file\u001b[0m\u001b[0;34m)\u001b[0m\u001b[0;34m:\u001b[0m\u001b[0;34m\u001b[0m\u001b[0;34m\u001b[0m\u001b[0m\n\u001b[1;32m    573\u001b[0m             \u001b[0;31m# The zipfile reader is going to advance the current file position.\u001b[0m\u001b[0;34m\u001b[0m\u001b[0;34m\u001b[0m\u001b[0;34m\u001b[0m\u001b[0m\n",
            "\u001b[0;32m/usr/local/lib/python3.6/dist-packages/torch/serialization.py\u001b[0m in \u001b[0;36m_open_file_like\u001b[0;34m(name_or_buffer, mode)\u001b[0m\n\u001b[1;32m    227\u001b[0m \u001b[0;32mdef\u001b[0m \u001b[0m_open_file_like\u001b[0m\u001b[0;34m(\u001b[0m\u001b[0mname_or_buffer\u001b[0m\u001b[0;34m,\u001b[0m \u001b[0mmode\u001b[0m\u001b[0;34m)\u001b[0m\u001b[0;34m:\u001b[0m\u001b[0;34m\u001b[0m\u001b[0;34m\u001b[0m\u001b[0m\n\u001b[1;32m    228\u001b[0m     \u001b[0;32mif\u001b[0m \u001b[0m_is_path\u001b[0m\u001b[0;34m(\u001b[0m\u001b[0mname_or_buffer\u001b[0m\u001b[0;34m)\u001b[0m\u001b[0;34m:\u001b[0m\u001b[0;34m\u001b[0m\u001b[0;34m\u001b[0m\u001b[0m\n\u001b[0;32m--> 229\u001b[0;31m         \u001b[0;32mreturn\u001b[0m \u001b[0m_open_file\u001b[0m\u001b[0;34m(\u001b[0m\u001b[0mname_or_buffer\u001b[0m\u001b[0;34m,\u001b[0m \u001b[0mmode\u001b[0m\u001b[0;34m)\u001b[0m\u001b[0;34m\u001b[0m\u001b[0;34m\u001b[0m\u001b[0m\n\u001b[0m\u001b[1;32m    230\u001b[0m     \u001b[0;32melse\u001b[0m\u001b[0;34m:\u001b[0m\u001b[0;34m\u001b[0m\u001b[0;34m\u001b[0m\u001b[0m\n\u001b[1;32m    231\u001b[0m         \u001b[0;32mif\u001b[0m \u001b[0;34m'w'\u001b[0m \u001b[0;32min\u001b[0m \u001b[0mmode\u001b[0m\u001b[0;34m:\u001b[0m\u001b[0;34m\u001b[0m\u001b[0;34m\u001b[0m\u001b[0m\n",
            "\u001b[0;32m/usr/local/lib/python3.6/dist-packages/torch/serialization.py\u001b[0m in \u001b[0;36m__init__\u001b[0;34m(self, name, mode)\u001b[0m\n\u001b[1;32m    208\u001b[0m \u001b[0;32mclass\u001b[0m \u001b[0m_open_file\u001b[0m\u001b[0;34m(\u001b[0m\u001b[0m_opener\u001b[0m\u001b[0;34m)\u001b[0m\u001b[0;34m:\u001b[0m\u001b[0;34m\u001b[0m\u001b[0;34m\u001b[0m\u001b[0m\n\u001b[1;32m    209\u001b[0m     \u001b[0;32mdef\u001b[0m \u001b[0m__init__\u001b[0m\u001b[0;34m(\u001b[0m\u001b[0mself\u001b[0m\u001b[0;34m,\u001b[0m \u001b[0mname\u001b[0m\u001b[0;34m,\u001b[0m \u001b[0mmode\u001b[0m\u001b[0;34m)\u001b[0m\u001b[0;34m:\u001b[0m\u001b[0;34m\u001b[0m\u001b[0;34m\u001b[0m\u001b[0m\n\u001b[0;32m--> 210\u001b[0;31m         \u001b[0msuper\u001b[0m\u001b[0;34m(\u001b[0m\u001b[0m_open_file\u001b[0m\u001b[0;34m,\u001b[0m \u001b[0mself\u001b[0m\u001b[0;34m)\u001b[0m\u001b[0;34m.\u001b[0m\u001b[0m__init__\u001b[0m\u001b[0;34m(\u001b[0m\u001b[0mopen\u001b[0m\u001b[0;34m(\u001b[0m\u001b[0mname\u001b[0m\u001b[0;34m,\u001b[0m \u001b[0mmode\u001b[0m\u001b[0;34m)\u001b[0m\u001b[0;34m)\u001b[0m\u001b[0;34m\u001b[0m\u001b[0;34m\u001b[0m\u001b[0m\n\u001b[0m\u001b[1;32m    211\u001b[0m \u001b[0;34m\u001b[0m\u001b[0m\n\u001b[1;32m    212\u001b[0m     \u001b[0;32mdef\u001b[0m \u001b[0m__exit__\u001b[0m\u001b[0;34m(\u001b[0m\u001b[0mself\u001b[0m\u001b[0;34m,\u001b[0m \u001b[0;34m*\u001b[0m\u001b[0margs\u001b[0m\u001b[0;34m)\u001b[0m\u001b[0;34m:\u001b[0m\u001b[0;34m\u001b[0m\u001b[0;34m\u001b[0m\u001b[0m\n",
            "\u001b[0;31mFileNotFoundError\u001b[0m: [Errno 2] No such file or directory: '100photos.csv'"
          ]
        }
      ]
    },
    {
      "cell_type": "code",
      "metadata": {
        "id": "vyllI-mGzMs4",
        "colab_type": "code",
        "colab": {
          "base_uri": "https://localhost:8080/",
          "height": 35
        },
        "outputId": "b2d8efd8-0769-46c4-cc53-1ef7d47bb588"
      },
      "source": [
        "bunch_of_digits.size()"
      ],
      "execution_count": 25,
      "outputs": [
        {
          "output_type": "execute_result",
          "data": {
            "text/plain": [
              "torch.Size([100, 1, 28, 28])"
            ]
          },
          "metadata": {
            "tags": []
          },
          "execution_count": 25
        }
      ]
    },
    {
      "cell_type": "code",
      "metadata": {
        "id": "RxYuQ7T4ZS5Y",
        "colab_type": "code",
        "colab": {}
      },
      "source": [
        ""
      ],
      "execution_count": null,
      "outputs": []
    },
    {
      "cell_type": "code",
      "metadata": {
        "id": "Uwg4dS9pzMq5",
        "colab_type": "code",
        "colab": {
          "base_uri": "https://localhost:8080/",
          "height": 581
        },
        "outputId": "ef44ae65-4cf6-4598-e184-a8c35ff0d7c7"
      },
      "source": [
        "for i in range(10):\n",
        "  a = ensamble_prediction(bunch_of_digits[i].unsqueeze(dim=0))\n",
        "  print(a.argmax())\n",
        "  print(a)\n",
        "print(bunch_of_labels[:10])"
      ],
      "execution_count": 29,
      "outputs": [
        {
          "output_type": "stream",
          "text": [
            "tensor(4)\n",
            "tensor([[-3.5172, 13.7926, 15.1888,  4.5089, 52.3962,  0.2647,  0.2339, 15.0667,\n",
            "          6.2176, 27.4456]], grad_fn=<AddBackward0>)\n",
            "tensor(6)\n",
            "tensor([[ 18.3323,   7.4913,  16.1292,  -0.4590,  27.2479,  15.7971,  53.5743,\n",
            "         -11.8844,  11.2971,   6.8753]], grad_fn=<AddBackward0>)\n",
            "tensor(8)\n",
            "tensor([[ 4.0393, 13.6226,  8.0954, 15.3626,  6.5439, 15.6352,  4.2676,  7.5326,\n",
            "         53.6111, 13.9565]], grad_fn=<AddBackward0>)\n",
            "tensor(5)\n",
            "tensor([[  2.4877,  -1.1673, -20.7319,  20.7592,  -6.3201,  55.7819,   3.9264,\n",
            "           9.2528,  18.9631,  17.1188]], grad_fn=<AddBackward0>)\n",
            "tensor(4)\n",
            "tensor([[-6.3609,  9.7048,  5.4031,  2.5176, 54.0379,  5.2129,  7.7497, 19.3984,\n",
            "         20.9174, 24.9919]], grad_fn=<AddBackward0>)\n",
            "tensor(8)\n",
            "tensor([[ 0.3953,  7.8269,  5.6521, 16.3551,  6.1461, 11.6545, 12.6940, -3.5182,\n",
            "         53.8419,  9.5217]], grad_fn=<AddBackward0>)\n",
            "tensor(1)\n",
            "tensor([[ 3.9256, 55.1246, 15.8696,  2.2939, 25.2083,  0.6881,  7.9654, 27.4106,\n",
            "         20.3763, 11.5181]], grad_fn=<AddBackward0>)\n",
            "tensor(3)\n",
            "tensor([[  2.6189,  14.8856,  14.2696,  44.9496,  -2.8421,   5.5197, -18.0351,\n",
            "          33.9055,  18.6282,  21.4167]], grad_fn=<AddBackward0>)\n",
            "tensor(9)\n",
            "tensor([[ -9.7437,   1.0506,  -5.4817,  16.9795,  20.6707,   6.1132, -21.0161,\n",
            "           9.4080,  11.2356,  53.1802]], grad_fn=<AddBackward0>)\n",
            "tensor(9)\n",
            "tensor([[  0.8079,  -0.8184,   0.0758,  19.2481,  20.6468,   7.2418, -11.1448,\n",
            "          20.6336,  22.9113,  51.9688]], grad_fn=<AddBackward0>)\n",
            "tensor([4., 6., 8., 5., 4., 8., 1., 3., 9., 9.])\n"
          ],
          "name": "stdout"
        }
      ]
    },
    {
      "cell_type": "markdown",
      "metadata": {
        "id": "oPaFMqnM1LHk",
        "colab_type": "text"
      },
      "source": [
        "# Aici o sa punem distributia cifrelor "
      ]
    },
    {
      "cell_type": "code",
      "metadata": {
        "id": "4bCOC5Ty1Lpk",
        "colab_type": "code",
        "colab": {
          "base_uri": "https://localhost:8080/",
          "height": 217
        },
        "outputId": "40393319-7421-468e-870e-9c3fb7070a9e"
      },
      "source": [
        "frequency = torch.zeros(10)\n",
        "for item in bunch_of_labels:\n",
        "  frequency[int(item.item())] += 1\n",
        "print(frequency)\n",
        "\n",
        "for idx, item in enumerate(frequency):\n",
        "  print(f\"{idx} ---> { int(item) } times\")"
      ],
      "execution_count": 27,
      "outputs": [
        {
          "output_type": "stream",
          "text": [
            "tensor([11., 11.,  9., 10., 11.,  7.,  8., 10., 13., 10.])\n",
            "0 ---> 11 times\n",
            "1 ---> 11 times\n",
            "2 ---> 9 times\n",
            "3 ---> 10 times\n",
            "4 ---> 11 times\n",
            "5 ---> 7 times\n",
            "6 ---> 8 times\n",
            "7 ---> 10 times\n",
            "8 ---> 13 times\n",
            "9 ---> 10 times\n"
          ],
          "name": "stdout"
        }
      ]
    },
    {
      "cell_type": "markdown",
      "metadata": {
        "id": "iCa59obp3PqE",
        "colab_type": "text"
      },
      "source": [
        "Here we want to save the numbers and labels "
      ]
    },
    {
      "cell_type": "code",
      "metadata": {
        "id": "PVwnMd-vboAm",
        "colab_type": "code",
        "colab": {}
      },
      "source": [
        "import csv\n",
        "####################################################################################\n",
        "\n",
        "\n",
        "torch.save(bunch_of_digits, photos_path)\n",
        "torch.save(bunch_of_labels, labels_path)\n",
        "\n",
        "####################################################################################"
      ],
      "execution_count": null,
      "outputs": []
    },
    {
      "cell_type": "code",
      "metadata": {
        "id": "IYd4WP4Ht373",
        "colab_type": "code",
        "colab": {}
      },
      "source": [
        "adv = []\n",
        "number_or_tries_model1 = []"
      ],
      "execution_count": 30,
      "outputs": []
    },
    {
      "cell_type": "code",
      "metadata": {
        "id": "D9dFL4P1CnEi",
        "colab_type": "code",
        "colab": {}
      },
      "source": [
        "def get_probs1(model, x, y):\n",
        "    output = model(x)\n",
        "    probs = (output)[:, y]\n",
        "    return torch.diag(probs.data)\n",
        "\n",
        "# 20-line implementation of (untargeted) SimBA for single image input\n",
        "def simba_single1(model, x, y, num_iters=10000, epsilon=0.2, tries=1):\n",
        "    n_dims = x.view(1, -1).size(1)\n",
        "    perm = torch.randperm(n_dims)\n",
        "    last_prob = get_probs1(model, x, y)\n",
        "    number_of_tries = tries\n",
        "    for i in range(num_iters):\n",
        "        diff = torch.zeros(n_dims)\n",
        "        diff[perm[i]] = epsilon\n",
        "        left_prob = get_probs1(model, (x - diff.view(x.size())).clamp(0, 1), y)\n",
        "        # print(left_prob)\n",
        "        number_of_tries += 1\n",
        "        if left_prob < last_prob:\n",
        "            x = (x - diff.view(x.size())).clamp(0, 1)\n",
        "            last_prob = left_prob\n",
        "        else:\n",
        "            right_prob = get_probs1(model, (x + diff.view(x.size())).clamp(0, 1), y)\n",
        "            number_of_tries += 1\n",
        "            if right_prob < last_prob:\n",
        "                x = (x + diff.view(x.size())).clamp(0, 1)\n",
        "                last_prob = right_prob\n",
        "        # Here I want that if the model missclasify it to stop the procedure\n",
        "        prediction = model(x).argmax()\n",
        "        # We save the adversarial examples as a touple formed by initial label, predicted label, adversarial_image and epsioln\n",
        "        if prediction != y:\n",
        "          adv.append((y.item(), prediction.item(), x, epsilon))\n",
        "          break\n",
        "\n",
        "    return x, number_of_tries"
      ],
      "execution_count": 31,
      "outputs": []
    },
    {
      "cell_type": "code",
      "metadata": {
        "id": "zr54oHHizMpo",
        "colab_type": "code",
        "colab": {
          "base_uri": "https://localhost:8080/",
          "height": 1000
        },
        "outputId": "89590f98-91ab-46ef-8168-9f0ca28a0624"
      },
      "source": [
        " # First we load the models\n",
        "pretrained_model1 = \"conv_net.pt\"\n",
        "pretrained_model2 = \"LeNet5.pt\"\n",
        "pretrained_model3 = \"ResNet.pt\"\n",
        "# Here we load the model \n",
        "\n",
        "device = torch.device(\"cuda\" if (use_cuda and torch.cuda.is_available()) else \"cpu\")\n",
        "\n",
        "# Initialize the network\n",
        "model1 = CNN().to(device)\n",
        "model2 = LeNet5(10).to(device)\n",
        "model3 = MNISTResNet().to(device)\n",
        "\n",
        "# Load the pretrained model\n",
        "model1.load_state_dict(torch.load(pretrained_model1, map_location='cpu'))\n",
        "model2.load_state_dict(torch.load(pretrained_model2, map_location='cpu'))\n",
        "model3.load_state_dict(torch.load(pretrained_model3, map_location='cpu'))\n",
        "# Set the model in evaluation mode. \n",
        "model1.eval()\n",
        "model2.eval()\n",
        "model3.eval()"
      ],
      "execution_count": 32,
      "outputs": [
        {
          "output_type": "execute_result",
          "data": {
            "text/plain": [
              "MNISTResNet(\n",
              "  (conv1): Conv2d(1, 64, kernel_size=(7, 7), stride=(1, 1), padding=(3, 3), bias=False)\n",
              "  (bn1): BatchNorm2d(64, eps=1e-05, momentum=0.1, affine=True, track_running_stats=True)\n",
              "  (relu): ReLU(inplace=True)\n",
              "  (maxpool): MaxPool2d(kernel_size=3, stride=2, padding=1, dilation=1, ceil_mode=False)\n",
              "  (layer1): Sequential(\n",
              "    (0): BasicBlock(\n",
              "      (conv1): Conv2d(64, 64, kernel_size=(3, 3), stride=(1, 1), padding=(1, 1), bias=False)\n",
              "      (bn1): BatchNorm2d(64, eps=1e-05, momentum=0.1, affine=True, track_running_stats=True)\n",
              "      (relu): ReLU(inplace=True)\n",
              "      (conv2): Conv2d(64, 64, kernel_size=(3, 3), stride=(1, 1), padding=(1, 1), bias=False)\n",
              "      (bn2): BatchNorm2d(64, eps=1e-05, momentum=0.1, affine=True, track_running_stats=True)\n",
              "    )\n",
              "    (1): BasicBlock(\n",
              "      (conv1): Conv2d(64, 64, kernel_size=(3, 3), stride=(1, 1), padding=(1, 1), bias=False)\n",
              "      (bn1): BatchNorm2d(64, eps=1e-05, momentum=0.1, affine=True, track_running_stats=True)\n",
              "      (relu): ReLU(inplace=True)\n",
              "      (conv2): Conv2d(64, 64, kernel_size=(3, 3), stride=(1, 1), padding=(1, 1), bias=False)\n",
              "      (bn2): BatchNorm2d(64, eps=1e-05, momentum=0.1, affine=True, track_running_stats=True)\n",
              "    )\n",
              "  )\n",
              "  (layer2): Sequential(\n",
              "    (0): BasicBlock(\n",
              "      (conv1): Conv2d(64, 128, kernel_size=(3, 3), stride=(2, 2), padding=(1, 1), bias=False)\n",
              "      (bn1): BatchNorm2d(128, eps=1e-05, momentum=0.1, affine=True, track_running_stats=True)\n",
              "      (relu): ReLU(inplace=True)\n",
              "      (conv2): Conv2d(128, 128, kernel_size=(3, 3), stride=(1, 1), padding=(1, 1), bias=False)\n",
              "      (bn2): BatchNorm2d(128, eps=1e-05, momentum=0.1, affine=True, track_running_stats=True)\n",
              "      (downsample): Sequential(\n",
              "        (0): Conv2d(64, 128, kernel_size=(1, 1), stride=(2, 2), bias=False)\n",
              "        (1): BatchNorm2d(128, eps=1e-05, momentum=0.1, affine=True, track_running_stats=True)\n",
              "      )\n",
              "    )\n",
              "    (1): BasicBlock(\n",
              "      (conv1): Conv2d(128, 128, kernel_size=(3, 3), stride=(1, 1), padding=(1, 1), bias=False)\n",
              "      (bn1): BatchNorm2d(128, eps=1e-05, momentum=0.1, affine=True, track_running_stats=True)\n",
              "      (relu): ReLU(inplace=True)\n",
              "      (conv2): Conv2d(128, 128, kernel_size=(3, 3), stride=(1, 1), padding=(1, 1), bias=False)\n",
              "      (bn2): BatchNorm2d(128, eps=1e-05, momentum=0.1, affine=True, track_running_stats=True)\n",
              "    )\n",
              "  )\n",
              "  (layer3): Sequential(\n",
              "    (0): BasicBlock(\n",
              "      (conv1): Conv2d(128, 256, kernel_size=(3, 3), stride=(2, 2), padding=(1, 1), bias=False)\n",
              "      (bn1): BatchNorm2d(256, eps=1e-05, momentum=0.1, affine=True, track_running_stats=True)\n",
              "      (relu): ReLU(inplace=True)\n",
              "      (conv2): Conv2d(256, 256, kernel_size=(3, 3), stride=(1, 1), padding=(1, 1), bias=False)\n",
              "      (bn2): BatchNorm2d(256, eps=1e-05, momentum=0.1, affine=True, track_running_stats=True)\n",
              "      (downsample): Sequential(\n",
              "        (0): Conv2d(128, 256, kernel_size=(1, 1), stride=(2, 2), bias=False)\n",
              "        (1): BatchNorm2d(256, eps=1e-05, momentum=0.1, affine=True, track_running_stats=True)\n",
              "      )\n",
              "    )\n",
              "    (1): BasicBlock(\n",
              "      (conv1): Conv2d(256, 256, kernel_size=(3, 3), stride=(1, 1), padding=(1, 1), bias=False)\n",
              "      (bn1): BatchNorm2d(256, eps=1e-05, momentum=0.1, affine=True, track_running_stats=True)\n",
              "      (relu): ReLU(inplace=True)\n",
              "      (conv2): Conv2d(256, 256, kernel_size=(3, 3), stride=(1, 1), padding=(1, 1), bias=False)\n",
              "      (bn2): BatchNorm2d(256, eps=1e-05, momentum=0.1, affine=True, track_running_stats=True)\n",
              "    )\n",
              "  )\n",
              "  (layer4): Sequential(\n",
              "    (0): BasicBlock(\n",
              "      (conv1): Conv2d(256, 512, kernel_size=(3, 3), stride=(2, 2), padding=(1, 1), bias=False)\n",
              "      (bn1): BatchNorm2d(512, eps=1e-05, momentum=0.1, affine=True, track_running_stats=True)\n",
              "      (relu): ReLU(inplace=True)\n",
              "      (conv2): Conv2d(512, 512, kernel_size=(3, 3), stride=(1, 1), padding=(1, 1), bias=False)\n",
              "      (bn2): BatchNorm2d(512, eps=1e-05, momentum=0.1, affine=True, track_running_stats=True)\n",
              "      (downsample): Sequential(\n",
              "        (0): Conv2d(256, 512, kernel_size=(1, 1), stride=(2, 2), bias=False)\n",
              "        (1): BatchNorm2d(512, eps=1e-05, momentum=0.1, affine=True, track_running_stats=True)\n",
              "      )\n",
              "    )\n",
              "    (1): BasicBlock(\n",
              "      (conv1): Conv2d(512, 512, kernel_size=(3, 3), stride=(1, 1), padding=(1, 1), bias=False)\n",
              "      (bn1): BatchNorm2d(512, eps=1e-05, momentum=0.1, affine=True, track_running_stats=True)\n",
              "      (relu): ReLU(inplace=True)\n",
              "      (conv2): Conv2d(512, 512, kernel_size=(3, 3), stride=(1, 1), padding=(1, 1), bias=False)\n",
              "      (bn2): BatchNorm2d(512, eps=1e-05, momentum=0.1, affine=True, track_running_stats=True)\n",
              "    )\n",
              "  )\n",
              "  (avgpool): AdaptiveAvgPool2d(output_size=(1, 1))\n",
              "  (fc): Linear(in_features=512, out_features=10, bias=True)\n",
              ")"
            ]
          },
          "metadata": {
            "tags": []
          },
          "execution_count": 32
        }
      ]
    },
    {
      "cell_type": "code",
      "metadata": {
        "id": "Dvzy1Rd-e8-y",
        "colab_type": "code",
        "colab": {}
      },
      "source": [
        "sigm = nn.LogSigmoid()\n",
        "for i in range(1):\n",
        "  a = (model1(bunch_of_digits[i].unsqueeze(dim=0)))\n",
        "  print(a)\n",
        "\n",
        "  b = (model2(transform_image(bunch_of_digits[i].unsqueeze(dim=0))))[0]\n",
        "  print((b))\n",
        "  \n",
        "  c = model3(bunch_of_digits[i].unsqueeze(dim=0))\n",
        "  print(c)\n",
        "\n",
        "  d = ensamble_prediction(bunch_of_digits[i].unsqueeze(dim=0))\n",
        "print(d)\n",
        "print(bunch_of_labels[:10])"
      ],
      "execution_count": null,
      "outputs": []
    },
    {
      "cell_type": "code",
      "metadata": {
        "id": "lkGschPj4grh",
        "colab_type": "code",
        "colab": {
          "base_uri": "https://localhost:8080/",
          "height": 244
        },
        "outputId": "c1b651d8-5085-4446-8ae8-847a38f66b98"
      },
      "source": [
        "# Let s calculate how many queries we are doing for model1\n",
        "queries = torch.zeros(1)\n",
        "adversarial = torch.zeros(1, 1, 28, 28)\n",
        "for idx, (data,label) in enumerate(zip(bunch_of_digits, bunch_of_labels)):\n",
        "  if idx % 10 == 0:\n",
        "    print(idx, \"/\", len(bunch_of_digits))\n",
        "  x, tries = simba_single1(model1, data.unsqueeze(dim=1), torch.Tensor.long(label), 784, 0.2)\n",
        "  print(model1(x).argmax(), label)\n",
        "  while model1(x).argmax() == label:\n",
        "     x, tries = simba_single1(model1, x, torch.Tensor.long(label), 784, 0.2, tries)\n",
        "     if tries > 12000:\n",
        "       break\n",
        "  print(idx, \"---->\", tries)\n",
        "  adversarial = torch.cat((adversarial, x))\n",
        "  queries = torch.cat((queries, torch.Tensor([tries])))\n",
        "  torch.save(adversarial[1:], \"1first1.csv\")\n",
        "  torch.save(queries[1:] ,\"1queries1.csv\")\n",
        "\n"
      ],
      "execution_count": 7,
      "outputs": [
        {
          "output_type": "error",
          "ename": "NameError",
          "evalue": "ignored",
          "traceback": [
            "\u001b[0;31m---------------------------------------------------------------------------\u001b[0m",
            "\u001b[0;31mNameError\u001b[0m                                 Traceback (most recent call last)",
            "\u001b[0;32m<ipython-input-7-8877d7b2e7c1>\u001b[0m in \u001b[0;36m<module>\u001b[0;34m()\u001b[0m\n\u001b[1;32m      2\u001b[0m \u001b[0mqueries\u001b[0m \u001b[0;34m=\u001b[0m \u001b[0mtorch\u001b[0m\u001b[0;34m.\u001b[0m\u001b[0mzeros\u001b[0m\u001b[0;34m(\u001b[0m\u001b[0;36m1\u001b[0m\u001b[0;34m)\u001b[0m\u001b[0;34m\u001b[0m\u001b[0;34m\u001b[0m\u001b[0m\n\u001b[1;32m      3\u001b[0m \u001b[0madversarial\u001b[0m \u001b[0;34m=\u001b[0m \u001b[0mtorch\u001b[0m\u001b[0;34m.\u001b[0m\u001b[0mzeros\u001b[0m\u001b[0;34m(\u001b[0m\u001b[0;36m1\u001b[0m\u001b[0;34m,\u001b[0m \u001b[0;36m1\u001b[0m\u001b[0;34m,\u001b[0m \u001b[0;36m28\u001b[0m\u001b[0;34m,\u001b[0m \u001b[0;36m28\u001b[0m\u001b[0;34m)\u001b[0m\u001b[0;34m\u001b[0m\u001b[0;34m\u001b[0m\u001b[0m\n\u001b[0;32m----> 4\u001b[0;31m \u001b[0;32mfor\u001b[0m \u001b[0midx\u001b[0m\u001b[0;34m,\u001b[0m \u001b[0;34m(\u001b[0m\u001b[0mdata\u001b[0m\u001b[0;34m,\u001b[0m\u001b[0mlabel\u001b[0m\u001b[0;34m)\u001b[0m \u001b[0;32min\u001b[0m \u001b[0menumerate\u001b[0m\u001b[0;34m(\u001b[0m\u001b[0mzip\u001b[0m\u001b[0;34m(\u001b[0m\u001b[0mbunch_of_digits\u001b[0m\u001b[0;34m,\u001b[0m \u001b[0mbunch_of_labels\u001b[0m\u001b[0;34m)\u001b[0m\u001b[0;34m)\u001b[0m\u001b[0;34m:\u001b[0m\u001b[0;34m\u001b[0m\u001b[0;34m\u001b[0m\u001b[0m\n\u001b[0m\u001b[1;32m      5\u001b[0m   \u001b[0;32mif\u001b[0m \u001b[0midx\u001b[0m \u001b[0;34m%\u001b[0m \u001b[0;36m10\u001b[0m \u001b[0;34m==\u001b[0m \u001b[0;36m0\u001b[0m\u001b[0;34m:\u001b[0m\u001b[0;34m\u001b[0m\u001b[0;34m\u001b[0m\u001b[0m\n\u001b[1;32m      6\u001b[0m     \u001b[0mprint\u001b[0m\u001b[0;34m(\u001b[0m\u001b[0midx\u001b[0m\u001b[0;34m,\u001b[0m \u001b[0;34m\"/\"\u001b[0m\u001b[0;34m,\u001b[0m \u001b[0mlen\u001b[0m\u001b[0;34m(\u001b[0m\u001b[0mbunch_of_digits\u001b[0m\u001b[0;34m)\u001b[0m\u001b[0;34m)\u001b[0m\u001b[0;34m\u001b[0m\u001b[0;34m\u001b[0m\u001b[0m\n",
            "\u001b[0;31mNameError\u001b[0m: name 'bunch_of_digits' is not defined"
          ]
        }
      ]
    },
    {
      "cell_type": "code",
      "metadata": {
        "id": "bXG4_Amr4gnS",
        "colab_type": "code",
        "colab": {
          "base_uri": "https://localhost:8080/",
          "height": 35
        },
        "outputId": "f22adaec-2d50-4b79-ee6e-177a6f9844ab"
      },
      "source": [
        "fwe = 3\n",
        "gg = torch.tensor([fwe])\n",
        "print(gg)"
      ],
      "execution_count": 6,
      "outputs": [
        {
          "output_type": "stream",
          "text": [
            "tensor([3])\n"
          ],
          "name": "stdout"
        }
      ]
    },
    {
      "cell_type": "code",
      "metadata": {
        "id": "ZVBcSIyn4gl5",
        "colab_type": "code",
        "colab": {
          "base_uri": "https://localhost:8080/",
          "height": 265
        },
        "outputId": "0710c579-5701-47c2-9468-73bf6bbc30e8"
      },
      "source": [
        "print_image(adversarial[3])"
      ],
      "execution_count": null,
      "outputs": [
        {
          "output_type": "display_data",
          "data": {
            "image/png": "[encoded data removed]",
            "text/plain": [
              "<Figure size 432x288 with 1 Axes>"
            ]
          },
          "metadata": {
            "tags": [],
            "needs_background": "light"
          }
        }
      ]
    },
    {
      "cell_type": "code",
      "metadata": {
        "id": "jlHPudtL4gkg",
        "colab_type": "code",
        "colab": {}
      },
      "source": [
        "# import csv\n",
        "\n",
        "# with open(\"1first1.csv\", 'w', newline='') as myfile:\n",
        "#      wr = csv.writer(myfile, quoting=csv.QUOTE_ALL)\n",
        "#      wr.writerow(queries)"
      ],
      "execution_count": null,
      "outputs": []
    },
    {
      "cell_type": "markdown",
      "metadata": {
        "id": "dgj1NXkdD5Xg",
        "colab_type": "text"
      },
      "source": [
        "# This is for the second network"
      ]
    },
    {
      "cell_type": "code",
      "metadata": {
        "id": "CyvoeMtqD5Px",
        "colab_type": "code",
        "colab": {}
      },
      "source": [
        "def get_probs2(model, x, y):\n",
        "    output = model(x)[0]\n",
        "    probs = (output)[:, y]\n",
        "    return torch.diag(probs.data)\n",
        "\n",
        "# 20-line implementation of (untargeted) SimBA for single image input\n",
        "def simba_single2(model, x, y, num_iters=10000, epsilon=0.2, tries=1):\n",
        "    n_dims = x.view(1, -1).size(1)\n",
        "    perm = torch.randperm(n_dims)\n",
        "    last_prob = get_probs2(model, x, y)\n",
        "    number_of_tries = tries\n",
        "    for i in range(num_iters):\n",
        "        diff = torch.zeros(n_dims)\n",
        "        diff[perm[i]] = epsilon\n",
        "        left_prob = get_probs2(model, (x - diff.view(x.size())).clamp(0, 1), y)\n",
        "        number_of_tries += 1\n",
        "        if left_prob < last_prob:\n",
        "            x = (x - diff.view(x.size())).clamp(0, 1)\n",
        "            last_prob = left_prob\n",
        "        else:\n",
        "            right_prob = get_probs2(model, (x + diff.view(x.size())).clamp(0, 1), y)\n",
        "            number_of_tries += 1\n",
        "            if right_prob < last_prob:\n",
        "                x = (x + diff.view(x.size())).clamp(0, 1)\n",
        "                last_prob = right_prob\n",
        "        # Here I want that if the model missclasify it to stop the procedure\n",
        "        prediction = model(x)[0].argmax()\n",
        "        # We save the adversarial examples as a touple formed by initial label, predicted label, adversarial_image and epsioln\n",
        "        if prediction != y:\n",
        "          adv.append((y.item(), prediction.item(), x, epsilon))\n",
        "          break\n",
        "\n",
        "    return x, number_of_tries"
      ],
      "execution_count": null,
      "outputs": []
    },
    {
      "cell_type": "code",
      "metadata": {
        "id": "W5m84A3OD5M4",
        "colab_type": "code",
        "colab": {
          "base_uri": "https://localhost:8080/",
          "height": 1000
        },
        "outputId": "10ca63ec-ad14-4b4a-b571-da239e8ed3e6"
      },
      "source": [
        "# Let s calculate how many queries we are doing for model2\n",
        "queries2 = torch.zeros(1)\n",
        "adversarial2 = torch.zeros(1, 1, 28, 28)\n",
        "for idx, (data,label) in enumerate(zip(bunch_of_digits, bunch_of_labels)):\n",
        "  if idx % 10 == 0:\n",
        "    print(idx, \"/\", len(bunch_of_digits))\n",
        "  x, tries = simba_single2(model2, transform_image(data.unsqueeze(dim=1)), torch.Tensor.long(label), 1024, 0.15)\n",
        "  print(model2(x)[0].argmax(), label)\n",
        "  while model2(x)[0].argmax() == label:\n",
        "     x, tries = simba_single2(model2, x, torch.Tensor.long(label), 1024, 0.15, tries)\n",
        "     if tries > 12000:\n",
        "       break\n",
        "  print(idx, \"---->\", tries)\n",
        "  adversarial2 = torch.cat((adversarial2, x))\n",
        "  queries2 = torch.cat((queries2, torch.Tensor(tries)))\n",
        "  torch.save(adversarial2[1:], \"2second2.csv\")\n",
        "  torch.save(queries2[1:] ,\"2queries2.csv\")\n",
        " "
      ],
      "execution_count": null,
      "outputs": [
        {
          "output_type": "stream",
          "text": [
            "0 / 64\n",
            "tensor(3) tensor(2.)\n",
            "0 ----> 1899\n",
            "tensor(9) tensor(1.)\n",
            "1 ----> 653\n",
            "tensor(7) tensor(9.)\n",
            "2 ----> 886\n",
            "tensor(8) tensor(1.)\n",
            "3 ----> 356\n",
            "tensor(2) tensor(2.)\n",
            "4 ----> 2506\n",
            "tensor(7) tensor(8.)\n",
            "5 ----> 1104\n",
            "tensor(8) tensor(1.)\n",
            "6 ----> 669\n",
            "tensor(3) tensor(3.)\n",
            "7 ----> 2110\n",
            "tensor(3) tensor(2.)\n",
            "8 ----> 886\n",
            "tensor(8) tensor(7.)\n",
            "9 ----> 575\n",
            "10 / 64\n",
            "tensor(3) tensor(5.)\n",
            "10 ----> 574\n",
            "tensor(7) tensor(9.)\n",
            "11 ----> 735\n",
            "tensor(9) tensor(7.)\n",
            "12 ----> 1196\n",
            "tensor(6) tensor(4.)\n",
            "13 ----> 448\n",
            "tensor(5) tensor(6.)\n",
            "14 ----> 975\n",
            "tensor(5) tensor(8.)\n",
            "15 ----> 1453\n",
            "tensor(8) tensor(7.)\n",
            "16 ----> 540\n",
            "tensor(9) tensor(4.)\n",
            "17 ----> 409\n",
            "tensor(3) tensor(5.)\n",
            "18 ----> 885\n",
            "tensor(5) tensor(0.)\n",
            "19 ----> 1745\n",
            "20 / 64\n",
            "tensor(8) tensor(1.)\n",
            "20 ----> 677\n",
            "tensor(4) tensor(0.)\n",
            "21 ----> 756\n",
            "tensor(3) tensor(7.)\n",
            "22 ----> 635\n",
            "tensor(4) tensor(9.)\n",
            "23 ----> 981\n",
            "tensor(9) tensor(4.)\n",
            "24 ----> 798\n",
            "tensor(8) tensor(7.)\n",
            "25 ----> 285\n",
            "tensor(2) tensor(0.)\n",
            "26 ----> 493\n",
            "tensor(9) tensor(8.)\n",
            "27 ----> 293\n",
            "tensor(4) tensor(1.)\n",
            "28 ----> 792\n",
            "tensor(9) tensor(4.)\n",
            "29 ----> 1565\n",
            "30 / 64\n",
            "tensor(0) tensor(0.)\n",
            "30 ----> 1956\n",
            "tensor(8) tensor(7.)\n",
            "31 ----> 654\n",
            "tensor(9) tensor(1.)\n",
            "32 ----> 658\n",
            "tensor(6) tensor(1.)\n",
            "33 ----> 754\n",
            "tensor(5) tensor(8.)\n",
            "34 ----> 561\n",
            "tensor(8) tensor(7.)\n",
            "35 ----> 948\n",
            "tensor(9) tensor(0.)\n",
            "36 ----> 526\n",
            "tensor(4) tensor(9.)\n",
            "37 ----> 408\n",
            "tensor(3) tensor(5.)\n",
            "38 ----> 468\n",
            "tensor(5) tensor(8.)\n",
            "39 ----> 1428\n",
            "40 / 64\n",
            "tensor(6) tensor(6.)\n",
            "40 ----> 2159\n",
            "tensor(2) tensor(8.)\n",
            "41 ----> 1298\n",
            "tensor(5) tensor(5.)\n",
            "42 ----> 2310\n",
            "tensor(3) tensor(5.)\n",
            "43 ----> 658\n",
            "tensor(8) tensor(7.)\n",
            "44 ----> 608\n",
            "tensor(4) tensor(0.)\n",
            "45 ----> 1407\n",
            "tensor(8) tensor(7.)\n",
            "46 ----> 899\n",
            "tensor(2) tensor(7.)\n",
            "47 ----> 350\n",
            "tensor(8) tensor(9.)\n",
            "48 ----> 733\n",
            "tensor(9) tensor(3.)\n",
            "49 ----> 967\n",
            "50 / 64\n",
            "tensor(9) tensor(0.)\n",
            "50 ----> 1645\n",
            "tensor(9) tensor(7.)\n",
            "51 ----> 946\n",
            "tensor(5) tensor(8.)\n",
            "52 ----> 308\n",
            "tensor(2) tensor(2.)\n",
            "53 ----> 2048\n",
            "tensor(8) tensor(1.)\n",
            "54 ----> 548\n",
            "tensor(4) tensor(1.)\n",
            "55 ----> 327\n",
            "tensor(3) tensor(8.)\n",
            "56 ----> 1096\n",
            "tensor(4) tensor(1.)\n",
            "57 ----> 685\n",
            "tensor(8) tensor(9.)\n",
            "58 ----> 493\n",
            "tensor(8) tensor(7.)\n",
            "59 ----> 1291\n",
            "60 / 64\n",
            "tensor(9) tensor(7.)\n",
            "60 ----> 725\n",
            "tensor(9) tensor(1.)\n",
            "61 ----> 583\n",
            "tensor(4) tensor(6.)\n",
            "62 ----> 1223\n",
            "tensor(4) tensor(2.)\n",
            "63 ----> 996\n"
          ],
          "name": "stdout"
        }
      ]
    },
    {
      "cell_type": "code",
      "metadata": {
        "id": "Wo1QceqID5Lg",
        "colab_type": "code",
        "colab": {
          "base_uri": "https://localhost:8080/",
          "height": 35
        },
        "outputId": "5df6f3d7-aaf0-4d47-c49d-39baed513b61"
      },
      "source": [
        "len(adversarial2)"
      ],
      "execution_count": null,
      "outputs": [
        {
          "output_type": "execute_result",
          "data": {
            "text/plain": [
              "64"
            ]
          },
          "metadata": {
            "tags": []
          },
          "execution_count": 69
        }
      ]
    },
    {
      "cell_type": "code",
      "metadata": {
        "id": "OIRmE3RBD5Ke",
        "colab_type": "code",
        "colab": {
          "base_uri": "https://localhost:8080/",
          "height": 35
        },
        "outputId": "360c1a94-d532-47e5-9179-8fe39df40d8a"
      },
      "source": [
        "len(queries2)"
      ],
      "execution_count": null,
      "outputs": [
        {
          "output_type": "execute_result",
          "data": {
            "text/plain": [
              "64"
            ]
          },
          "metadata": {
            "tags": []
          },
          "execution_count": 70
        }
      ]
    },
    {
      "cell_type": "code",
      "metadata": {
        "id": "upCoxoqGD5D1",
        "colab_type": "code",
        "colab": {
          "base_uri": "https://localhost:8080/",
          "height": 35
        },
        "outputId": "6543c12e-e7a6-4035-ddb5-03f9546354f7"
      },
      "source": [
        "b = torch.Tensor(queries2)\n",
        "print(torch.mean(b))"
      ],
      "execution_count": null,
      "outputs": [
        {
          "output_type": "stream",
          "text": [
            "tensor(1058.3125)\n"
          ],
          "name": "stdout"
        }
      ]
    },
    {
      "cell_type": "code",
      "metadata": {
        "id": "pElIceCRH2tS",
        "colab_type": "code",
        "colab": {}
      },
      "source": [
        "import csv\n",
        "\n",
        "with open(\"2second2.csv\", 'w', newline='') as myfile:\n",
        "     wr = csv.writer(myfile, quoting=csv.QUOTE_ALL)\n",
        "     wr.writerow(queries2)"
      ],
      "execution_count": null,
      "outputs": []
    },
    {
      "cell_type": "markdown",
      "metadata": {
        "id": "9xepZDjTY_G2",
        "colab_type": "text"
      },
      "source": [
        "# Let s do the same for model 3"
      ]
    },
    {
      "cell_type": "code",
      "metadata": {
        "id": "6f2vaUtEJNYx",
        "colab_type": "code",
        "colab": {}
      },
      "source": [
        "def get_probs3(model, x, y):\n",
        "    output = model(x)\n",
        "    probs = output[:, y]\n",
        "    return torch.diag(probs.data)\n",
        "\n",
        "# 20-line implementation of (untargeted) SimBA for single image input\n",
        "def simba_single3(model, x, y, num_iters=10000, epsilon=0.2, tries=1):\n",
        "    n_dims = x.view(1, -1).size(1)\n",
        "    perm = torch.randperm(n_dims)\n",
        "    last_prob = get_probs3(model, x, y)\n",
        "    number_of_tries = tries\n",
        "    for i in range(num_iters):\n",
        "        diff = torch.zeros(n_dims)\n",
        "        diff[perm[i]] = epsilon\n",
        "        left_prob = get_probs3(model, (x - diff.view(x.size())).clamp(0, 1), y)\n",
        "        number_of_tries += 1\n",
        "        if left_prob < last_prob:\n",
        "            x = (x - diff.view(x.size())).clamp(0, 1)\n",
        "            last_prob = left_prob\n",
        "        else:\n",
        "            right_prob = get_probs3(model, (x + diff.view(x.size())).clamp(0, 1), y)\n",
        "            number_of_tries += 1\n",
        "            if right_prob < last_prob:\n",
        "                x = (x + diff.view(x.size())).clamp(0, 1)\n",
        "                last_prob = right_prob\n",
        "        # Here I want that if the model missclasify it to stop the procedure\n",
        "        prediction = model(x).argmax()\n",
        "        # We save the adversarial examples as a touple formed by initial label, predicted label, adversarial_image and epsioln\n",
        "        if prediction != y:\n",
        "          adv.append((y.item(), prediction.item(), x, epsilon))\n",
        "          break\n",
        "\n",
        "    return x, number_of_tries"
      ],
      "execution_count": null,
      "outputs": []
    },
    {
      "cell_type": "code",
      "metadata": {
        "id": "B5tZO7XDD5BO",
        "colab_type": "code",
        "colab": {
          "base_uri": "https://localhost:8080/",
          "height": 1000
        },
        "outputId": "eea78102-5da5-48ac-b11c-47d7474a473f"
      },
      "source": [
        "# Let s calculate how many queries we are doing for model3\n",
        "queries3 = []\n",
        "adversarial3 = []\n",
        "for idx, (data,label) in enumerate(zip(bunch_of_digits, bunch_of_labels)):\n",
        "  if idx % 10 == 0:\n",
        "    print(idx, \"/\", len(bunch_of_digits))\n",
        "  x, tries = simba_single3(model3, transform_image(data.unsqueeze(dim=1)), torch.Tensor.long(label), 784, 0.15)\n",
        "  print(model3(x).argmax(), label)\n",
        "  while model3(x).argmax() == label:\n",
        "     x, tries = simba_single3(model3, x, torch.Tensor.long(label), 784, 0.15, tries)\n",
        "     if tries > 12000:\n",
        "       break\n",
        "  adversarial3.append(x)\n",
        "  queries3.append(tries)"
      ],
      "execution_count": null,
      "outputs": [
        {
          "output_type": "stream",
          "text": [
            "0 / 64\n",
            "tensor(1) tensor(2.)\n",
            "tensor(1) tensor(1.)\n",
            "tensor(4) tensor(9.)\n",
            "tensor(1) tensor(1.)\n",
            "tensor(1) tensor(2.)\n",
            "tensor(1) tensor(8.)\n",
            "tensor(1) tensor(1.)\n",
            "tensor(1) tensor(3.)\n",
            "tensor(1) tensor(2.)\n",
            "tensor(1) tensor(7.)\n",
            "10 / 64\n",
            "tensor(1) tensor(5.)\n",
            "tensor(4) tensor(9.)\n",
            "tensor(1) tensor(7.)\n",
            "tensor(1) tensor(4.)\n",
            "tensor(1) tensor(6.)\n",
            "tensor(1) tensor(8.)\n",
            "tensor(1) tensor(7.)\n",
            "tensor(1) tensor(4.)\n",
            "tensor(1) tensor(5.)\n",
            "tensor(1) tensor(0.)\n",
            "20 / 64\n",
            "tensor(1) tensor(1.)\n",
            "tensor(1) tensor(0.)\n",
            "tensor(1) tensor(7.)\n",
            "tensor(4) tensor(9.)\n",
            "tensor(1) tensor(4.)\n",
            "tensor(1) tensor(7.)\n",
            "tensor(1) tensor(0.)\n",
            "tensor(1) tensor(8.)\n",
            "tensor(1) tensor(1.)\n",
            "tensor(1) tensor(4.)\n",
            "30 / 64\n",
            "tensor(1) tensor(0.)\n",
            "tensor(1) tensor(7.)\n",
            "tensor(1) tensor(1.)\n",
            "tensor(1) tensor(1.)\n",
            "tensor(1) tensor(8.)\n",
            "tensor(1) tensor(7.)\n",
            "tensor(1) tensor(0.)\n",
            "tensor(1) tensor(9.)\n",
            "tensor(1) tensor(5.)\n",
            "tensor(1) tensor(8.)\n",
            "40 / 64\n",
            "tensor(1) tensor(6.)\n",
            "tensor(1) tensor(8.)\n",
            "tensor(1) tensor(5.)\n",
            "tensor(1) tensor(5.)\n",
            "tensor(1) tensor(7.)\n",
            "tensor(1) tensor(0.)\n",
            "tensor(1) tensor(7.)\n",
            "tensor(1) tensor(7.)\n",
            "tensor(1) tensor(9.)\n",
            "tensor(1) tensor(3.)\n",
            "50 / 64\n",
            "tensor(1) tensor(0.)\n",
            "tensor(1) tensor(7.)\n",
            "tensor(1) tensor(8.)\n",
            "tensor(1) tensor(2.)\n",
            "tensor(1) tensor(1.)\n",
            "tensor(1) tensor(1.)\n",
            "tensor(1) tensor(8.)\n",
            "tensor(1) tensor(1.)\n",
            "tensor(4) tensor(9.)\n",
            "tensor(1) tensor(7.)\n",
            "60 / 64\n",
            "tensor(1) tensor(7.)\n",
            "tensor(1) tensor(1.)\n",
            "tensor(1) tensor(6.)\n",
            "tensor(1) tensor(2.)\n"
          ],
          "name": "stdout"
        }
      ]
    },
    {
      "cell_type": "code",
      "metadata": {
        "id": "bDLy7aIaItg6",
        "colab_type": "code",
        "colab": {
          "base_uri": "https://localhost:8080/",
          "height": 35
        },
        "outputId": "b814dffc-59b8-48c4-fe79-b9380adc352a"
      },
      "source": [
        "c = torch.Tensor(queries3)\n",
        "print(torch.mean(c))"
      ],
      "execution_count": null,
      "outputs": [
        {
          "output_type": "stream",
          "text": [
            "tensor(970.0625)\n"
          ],
          "name": "stdout"
        }
      ]
    },
    {
      "cell_type": "code",
      "metadata": {
        "id": "3NcxTDjFyszE",
        "colab_type": "code",
        "colab": {
          "base_uri": "https://localhost:8080/",
          "height": 53
        },
        "outputId": "c09e69c3-aa67-4805-c770-5afdda8a934f"
      },
      "source": [
        "model3(adversarial3[1])"
      ],
      "execution_count": null,
      "outputs": [
        {
          "output_type": "execute_result",
          "data": {
            "text/plain": [
              "tensor([[-3.1556,  1.3081, -2.9530,  0.3567,  0.1009,  1.3099, -1.8184, -1.8912,\n",
              "         -1.3716, -2.2043]], grad_fn=<AddmmBackward>)"
            ]
          },
          "metadata": {
            "tags": []
          },
          "execution_count": 75
        }
      ]
    },
    {
      "cell_type": "code",
      "metadata": {
        "id": "neG_ydjtysus",
        "colab_type": "code",
        "colab": {
          "base_uri": "https://localhost:8080/",
          "height": 266
        },
        "outputId": "47686c52-d86d-45e5-af44-4b32714f012a"
      },
      "source": [
        "print_image(adversarial3[1])"
      ],
      "execution_count": null,
      "outputs": [
        {
          "output_type": "display_data",
          "data": {
            "image/png": "[encoded data removed]",
            "text/plain": [
              "<Figure size 432x288 with 1 Axes>"
            ]
          },
          "metadata": {
            "tags": [],
            "needs_background": "light"
          }
        }
      ]
    },
    {
      "cell_type": "code",
      "metadata": {
        "id": "uLvLir3ZD4sC",
        "colab_type": "code",
        "colab": {}
      },
      "source": [
        "import csv\n",
        "\n",
        "with open(\"3third3.csv\", 'w', newline='') as myfile:\n",
        "     wr = csv.writer(myfile, quoting=csv.QUOTE_ALL)\n",
        "     wr.writerow(queries3)"
      ],
      "execution_count": null,
      "outputs": []
    },
    {
      "cell_type": "markdown",
      "metadata": {
        "id": "MVXIYOW_M5Ui",
        "colab_type": "text"
      },
      "source": [
        "# For the entire ensamble"
      ]
    },
    {
      "cell_type": "code",
      "metadata": {
        "id": "19ujJ_CfM5ER",
        "colab_type": "code",
        "colab": {}
      },
      "source": [
        "def get_probs4(model, x, y):\n",
        "    output = model(x)\n",
        "    probs = (output)[:, y]\n",
        "    return torch.diag(probs.data)\n",
        "\n",
        "# 20-line implementation of (untargeted) SimBA for single image input\n",
        "def simba_single4(model, x, y, num_iters=10000, epsilon=0.2, tries=1):\n",
        "    n_dims = x.view(1, -1).size(1)\n",
        "    perm = torch.randperm(n_dims)\n",
        "    last_prob = get_probs4(model, x, y)\n",
        "    #print(last_prob)\n",
        "    number_of_tries = tries\n",
        "    for i in range(num_iters):\n",
        "        diff = torch.zeros(n_dims)\n",
        "        diff[perm[i]] = epsilon\n",
        "        left_prob = get_probs4(model, (x - diff.view(x.size())).clamp(0, 1), y)\n",
        "        number_of_tries += 1\n",
        "        if left_prob < last_prob:\n",
        "            x = (x - diff.view(x.size())).clamp(0, 1)\n",
        "            last_prob = left_prob\n",
        "        else:\n",
        "            right_prob = get_probs4(model, (x + diff.view(x.size())).clamp(0, 1), y)\n",
        "            number_of_tries += 1\n",
        "            if right_prob < last_prob:\n",
        "                x = (x + diff.view(x.size())).clamp(0, 1)\n",
        "                last_prob = right_prob\n",
        "        # Here I want that if the model missclasify it to stop the procedure\n",
        "        prediction = model(x).argmax()\n",
        "        # We save the adversarial examples as a touple formed by initial label, predicted label, adversarial_image and epsioln\n",
        "        if prediction != y:\n",
        "          adv.append((y.item(), prediction.item(), x, epsilon))\n",
        "          break\n",
        "\n",
        "    return x, number_of_tries"
      ],
      "execution_count": null,
      "outputs": []
    },
    {
      "cell_type": "code",
      "metadata": {
        "id": "2GLWi31L4gjC",
        "colab_type": "code",
        "colab": {
          "base_uri": "https://localhost:8080/",
          "height": 181
        },
        "outputId": "5e996a53-f108-4954-c8c0-225f521c216c"
      },
      "source": [
        "# Let s calculate how many queries we are doing for model3\n",
        "queries4 = []\n",
        "adversarial4 = []\n",
        "for idx, (data,label) in enumerate(zip(bunch_of_digits, bunch_of_labels)):\n",
        "  if idx % 10 == 0:\n",
        "    print(idx, \"/\", len(bunch_of_digits))\n",
        "  x, tries = simba_single4(ensamble_prediction, data.unsqueeze(dim=1), torch.Tensor.long(label), 784, 0.15)\n",
        "  print(ensamble_prediction(x).argmax(), label)\n",
        "  while ensamble_prediction(x).argmax() == label:\n",
        "     x, tries = simba_single4(ensamble_prediction, x, torch.Tensor.long(label), 784, 0.15, tries)\n",
        "     if tries > 12000:\n",
        "       break\n",
        "  print(idx, \"--->\", tries)\n",
        "  adversarial4.append(x)\n",
        "  queries4.append(tries)"
      ],
      "execution_count": null,
      "outputs": [
        {
          "output_type": "stream",
          "text": [
            "0 / 64\n",
            "tensor(2) tensor(2.)\n",
            "0 ---> 3368\n",
            "tensor(1) tensor(1.)\n",
            "1 ---> 1758\n",
            "tensor(7) tensor(9.)\n",
            "2 ---> 1132\n",
            "tensor(1) tensor(1.)\n",
            "3 ---> 2805\n"
          ],
          "name": "stdout"
        }
      ]
    },
    {
      "cell_type": "code",
      "metadata": {
        "id": "vyJCb255M5Bq",
        "colab_type": "code",
        "colab": {}
      },
      "source": [
        "d = torch.Tensor(queries4)\n",
        "print(torch.mean(d))"
      ],
      "execution_count": null,
      "outputs": []
    },
    {
      "cell_type": "code",
      "metadata": {
        "id": "oZiAi1Pv4gVl",
        "colab_type": "code",
        "colab": {}
      },
      "source": [
        "import csv\n",
        "\n",
        "with open(\"4forth4.csv\", 'w', newline='') as myfile:\n",
        "     wr = csv.writer(myfile, quoting=csv.QUOTE_ALL)\n",
        "     wr.writerow(queries4)"
      ],
      "execution_count": null,
      "outputs": []
    },
    {
      "cell_type": "code",
      "metadata": {
        "id": "is6rpURNM46z",
        "colab_type": "code",
        "colab": {
          "base_uri": "https://localhost:8080/",
          "height": 217
        },
        "outputId": "4736ef4e-b32c-40ef-b3e2-196e632d8c9e"
      },
      "source": [
        "!df -h"
      ],
      "execution_count": null,
      "outputs": [
        {
          "output_type": "stream",
          "text": [
            "Filesystem      Size  Used Avail Use% Mounted on\n",
            "overlay         108G   31G   72G  30% /\n",
            "tmpfs            64M     0   64M   0% /dev\n",
            "tmpfs           6.4G     0  6.4G   0% /sys/fs/cgroup\n",
            "shm             5.9G  4.0K  5.9G   1% /dev/shm\n",
            "tmpfs           6.4G   12K  6.4G   1% /var/colab\n",
            "/dev/sda1       114G   32G   83G  28% /etc/hosts\n",
            "tmpfs           6.4G     0  6.4G   0% /proc/acpi\n",
            "tmpfs           6.4G     0  6.4G   0% /proc/scsi\n",
            "tmpfs           6.4G     0  6.4G   0% /sys/firmware\n",
            "drive            15G  2.8G   13G  19% /content/gdrive\n"
          ],
          "name": "stdout"
        }
      ]
    },
    {
      "cell_type": "code",
      "metadata": {
        "id": "9ESFdALqM4u7",
        "colab_type": "code",
        "colab": {}
      },
      "source": [
        "len(queries4)"
      ],
      "execution_count": null,
      "outputs": []
    },
    {
      "cell_type": "code",
      "metadata": {
        "id": "kggz53yLM4q6",
        "colab_type": "code",
        "colab": {}
      },
      "source": [
        "df = pd.DataFrame({'CNN' : queries[:17], 'LeNet5' : queries2[:17], 'ResNet' : queries3[:17], 'Ensamble' : queries4[:17]})   "
      ],
      "execution_count": null,
      "outputs": []
    },
    {
      "cell_type": "code",
      "metadata": {
        "id": "2R2COSZz4ghh",
        "colab_type": "code",
        "colab": {}
      },
      "source": [
        "df"
      ],
      "execution_count": null,
      "outputs": []
    },
    {
      "cell_type": "code",
      "metadata": {
        "id": "4bL_t0mr1d-b",
        "colab_type": "code",
        "colab": {
          "base_uri": "https://localhost:8080/",
          "height": 53
        },
        "outputId": "93140517-696b-4633-df5a-03c4aa814409"
      },
      "source": [
        "(model1(bunch_of_digits[1].unsqueeze(dim=0)))"
      ],
      "execution_count": null,
      "outputs": [
        {
          "output_type": "execute_result",
          "data": {
            "text/plain": [
              "tensor([[-34.8951, -44.0737, -55.3008, -21.4912, -47.0383,   0.0000, -35.3120,\n",
              "         -47.4496, -28.0580, -21.7311]], grad_fn=<LogSoftmaxBackward>)"
            ]
          },
          "metadata": {
            "tags": []
          },
          "execution_count": 169
        }
      ]
    },
    {
      "cell_type": "code",
      "metadata": {
        "id": "ORK0amEv1d2H",
        "colab_type": "code",
        "colab": {
          "base_uri": "https://localhost:8080/",
          "height": 108
        },
        "outputId": "adf623fc-90d2-4260-d854-bcf9072fc866"
      },
      "source": [
        "model2(transform_image( bunch_of_digits[0].unsqueeze(dim=0)))"
      ],
      "execution_count": null,
      "outputs": [
        {
          "output_type": "execute_result",
          "data": {
            "text/plain": [
              "(tensor([[ -3.7797,  -1.5941,  -1.3959,  15.1659,  -5.2504,   3.3005, -10.6694,\n",
              "           -3.1311,   1.0678,   0.7172]], grad_fn=<AddmmBackward>),\n",
              " tensor([[5.9161e-09, 5.2630e-08, 6.4167e-08, 9.9999e-01, 1.3593e-09, 7.0293e-06,\n",
              "          6.0239e-12, 1.1317e-08, 7.5383e-07, 5.3087e-07]],\n",
              "        grad_fn=<SoftmaxBackward>))"
            ]
          },
          "metadata": {
            "tags": []
          },
          "execution_count": 49
        }
      ]
    },
    {
      "cell_type": "code",
      "metadata": {
        "id": "8ispF-QM1dhK",
        "colab_type": "code",
        "colab": {}
      },
      "source": [
        ""
      ],
      "execution_count": null,
      "outputs": []
    },
    {
      "cell_type": "code",
      "metadata": {
        "id": "v8nGYwDG1ddJ",
        "colab_type": "code",
        "colab": {}
      },
      "source": [
        "def get_probs4(model, x, y):\n",
        "    output = model(x)\n",
        "    print(output)\n",
        "    probs = (output)[:, y]\n",
        "    return torch.diag(probs.data)\n",
        "\n",
        "# 20-line implementation of (untargeted) SimBA for single image input\n",
        "def simba_single4(model, x, y, num_iters=10000, epsilon=0.2, tries=1):\n",
        "    n_dims = x.view(1, -1).size(1)\n",
        "    perm = torch.randperm(n_dims)\n",
        "    last_prob = get_probs4(model, x, y)\n",
        "    #print(last_prob)\n",
        "    number_of_tries = tries\n",
        "    for i in range(num_iters):\n",
        "        print(i)\n",
        "        diff = torch.zeros(n_dims)\n",
        "        diff[perm[i]] = epsilon\n",
        "        left_prob = get_probs4(model, (x - diff.view(x.size())).clamp(0, 1), y)\n",
        "        number_of_tries += 1\n",
        "        if left_prob < last_prob:\n",
        "            x = (x - diff.view(x.size())).clamp(0, 1)\n",
        "            last_prob = left_prob\n",
        "        else:\n",
        "            right_prob = get_probs4(model, (x + diff.view(x.size())).clamp(0, 1), y)\n",
        "            number_of_tries += 1\n",
        "            if right_prob < last_prob:\n",
        "                x = (x + diff.view(x.size())).clamp(0, 1)\n",
        "                last_prob = right_prob\n",
        "        # Here I want that if the model missclasify it to stop the procedure\n",
        "        prediction = model(x).argmax()\n",
        "        # We save the adversarial examples as a touple formed by initial label, predicted label, adversarial_image and epsioln\n",
        "        if prediction != y:\n",
        "          adv.append((y.item(), prediction.item(), x, epsilon))\n",
        "          break\n",
        "\n",
        "    return x, number_of_tries"
      ],
      "execution_count": null,
      "outputs": []
    },
    {
      "cell_type": "code",
      "metadata": {
        "id": "nQYyuIO62zY4",
        "colab_type": "code",
        "colab": {}
      },
      "source": [
        "# Let s calculate how many queries we are doing for model3\n",
        "queries4 = []\n",
        "adversarial4 = []\n",
        "for idx, (data,label) in enumerate(zip(bunch_of_digits, bunch_of_labels)):\n",
        "  if idx < 1:\n",
        "    x, tries = simba_single4(ensamble_prediction, data.unsqueeze(dim=1), torch.Tensor.long(label), 784, 0.15)\n",
        "    break"
      ],
      "execution_count": null,
      "outputs": []
    },
    {
      "cell_type": "code",
      "metadata": {
        "id": "GieJpg3K2zW3",
        "colab_type": "code",
        "colab": {
          "base_uri": "https://localhost:8080/",
          "height": 53
        },
        "outputId": "d3c9d783-86d8-4303-8bac-1d8d085218da"
      },
      "source": [
        "model1(bunch_of_digits[0].unsqueeze(dim=1))"
      ],
      "execution_count": null,
      "outputs": [
        {
          "output_type": "execute_result",
          "data": {
            "text/plain": [
              "tensor([[-46.8521, -38.3113, -41.7048, -18.6058, -54.0454,   0.0000, -44.1428,\n",
              "         -60.2645, -21.2151, -29.3145]], grad_fn=<LogSoftmaxBackward>)"
            ]
          },
          "metadata": {
            "tags": []
          },
          "execution_count": 120
        }
      ]
    },
    {
      "cell_type": "code",
      "metadata": {
        "id": "KDL8_qSK2zU_",
        "colab_type": "code",
        "colab": {
          "base_uri": "https://localhost:8080/",
          "height": 72
        },
        "outputId": "14dd2349-d2bc-4ed9-eb34-5267c04bfc4c"
      },
      "source": [
        "torch.nn.Softmax(dim=1)(model1(bunch_of_digits[0].unsqueeze(dim=1)))"
      ],
      "execution_count": null,
      "outputs": [
        {
          "output_type": "execute_result",
          "data": {
            "text/plain": [
              "tensor([[4.4914e-21, 2.2993e-17, 7.7241e-19, 8.3102e-09, 3.3759e-24, 1.0000e+00,\n",
              "         6.7458e-20, 6.7212e-27, 6.1150e-10, 1.8573e-13]],\n",
              "       grad_fn=<SoftmaxBackward>)"
            ]
          },
          "metadata": {
            "tags": []
          },
          "execution_count": 121
        }
      ]
    },
    {
      "cell_type": "code",
      "metadata": {
        "id": "xq6-uI7a2zTd",
        "colab_type": "code",
        "colab": {
          "base_uri": "https://localhost:8080/",
          "height": 265
        },
        "outputId": "13734c15-7e0c-43c0-8d43-3d81e81f45ee"
      },
      "source": [
        "print_image(adversarial[7])"
      ],
      "execution_count": null,
      "outputs": [
        {
          "output_type": "display_data",
          "data": {
            "image/png": "[encoded data removed]",
            "text/plain": [
              "<Figure size 432x288 with 1 Axes>"
            ]
          },
          "metadata": {
            "tags": [],
            "needs_background": "light"
          }
        }
      ]
    },
    {
      "cell_type": "markdown",
      "metadata": {
        "id": "cbvPNVluZxoI",
        "colab_type": "text"
      },
      "source": [
        "# RETEAUA 1 UPGRADATA "
      ]
    },
    {
      "cell_type": "code",
      "metadata": {
        "id": "3Ehf9mhBZxVA",
        "colab_type": "code",
        "colab": {
          "base_uri": "https://localhost:8080/",
          "height": 172
        },
        "outputId": "6444989c-77c5-496d-c94c-9d629b21dc12"
      },
      "source": [
        "print_image(adversarial[7])"
      ],
      "execution_count": null,
      "outputs": [
        {
          "output_type": "error",
          "ename": "NameError",
          "evalue": "ignored",
          "traceback": [
            "\u001b[0;31m---------------------------------------------------------------------------\u001b[0m",
            "\u001b[0;31mNameError\u001b[0m                                 Traceback (most recent call last)",
            "\u001b[0;32m<ipython-input-2-fa63ee7f8318>\u001b[0m in \u001b[0;36m<module>\u001b[0;34m()\u001b[0m\n\u001b[0;32m----> 1\u001b[0;31m \u001b[0mprint_image\u001b[0m\u001b[0;34m(\u001b[0m\u001b[0madversarial\u001b[0m\u001b[0;34m[\u001b[0m\u001b[0;36m7\u001b[0m\u001b[0;34m]\u001b[0m\u001b[0;34m)\u001b[0m\u001b[0;34m\u001b[0m\u001b[0;34m\u001b[0m\u001b[0m\n\u001b[0m",
            "\u001b[0;31mNameError\u001b[0m: name 'print_image' is not defined"
          ]
        }
      ]
    },
    {
      "cell_type": "code",
      "metadata": {
        "id": "8KwP80_1cfZi",
        "colab_type": "code",
        "colab": {}
      },
      "source": [
        "import numpy as np\n",
        "from datetime import datetime \n",
        "\n",
        "import torch\n",
        "import torch.nn as nn\n",
        "import torch.nn.functional as F\n",
        "from torch.utils.data import DataLoader\n",
        "\n",
        "from torchvision import datasets, transforms\n",
        "\n",
        "import matplotlib.pyplot as plt\n",
        "\n",
        "# check device\n",
        "DEVICE = 'cuda' if torch.cuda.is_available() else 'cpu'"
      ],
      "execution_count": null,
      "outputs": []
    },
    {
      "cell_type": "code",
      "metadata": {
        "id": "4DFXZmeH2zP3",
        "colab_type": "code",
        "colab": {}
      },
      "source": [
        "# parameters\n",
        "RANDOM_SEED = 57\n",
        "LEARNING_RATE = 0.01\n",
        "BATCH_SIZE = 64\n",
        "N_EPOCHS = 10\n",
        "\n",
        "IMG_SIZE = 28\n",
        "N_CLASSES = 10"
      ],
      "execution_count": null,
      "outputs": []
    },
    {
      "cell_type": "code",
      "metadata": {
        "id": "yfEXPomZcfX7",
        "colab_type": "code",
        "colab": {}
      },
      "source": [
        "# check device\n",
        "DEVICE = 'cuda' if torch.cuda.is_available() else 'cpu'"
      ],
      "execution_count": null,
      "outputs": []
    },
    {
      "cell_type": "code",
      "metadata": {
        "id": "k8vZqNUacfU_",
        "colab_type": "code",
        "colab": {}
      },
      "source": [
        "def train(train_loader, model, criterion, optimizer, device):\n",
        "    '''\n",
        "    Function for the training step of the training loop\n",
        "    '''\n",
        "\n",
        "    model.train()\n",
        "    running_loss = 0\n",
        "    \n",
        "    for X, y_true in train_loader:\n",
        "\n",
        "        optimizer.zero_grad()\n",
        "        \n",
        "        X = X.to(device)\n",
        "        y_true = y_true.to(device)\n",
        "    \n",
        "        # Forward pass\n",
        "        y_hat, _ = model(X) \n",
        "        loss = criterion(y_hat, y_true) \n",
        "        running_loss += loss.item() * X.size(0)\n",
        "\n",
        "        # Backward pass\n",
        "        loss.backward()\n",
        "        optimizer.step()\n",
        "        \n",
        "    epoch_loss = running_loss / len(train_loader.dataset)\n",
        "    return model, optimizer, epoch_loss"
      ],
      "execution_count": null,
      "outputs": []
    },
    {
      "cell_type": "code",
      "metadata": {
        "id": "XrVc0kmZcfTH",
        "colab_type": "code",
        "colab": {}
      },
      "source": [
        "def validate(valid_loader, model, criterion, device):\n",
        "    '''\n",
        "    Function for the validation step of the training loop\n",
        "    '''\n",
        "   \n",
        "    model.eval()\n",
        "    running_loss = 0\n",
        "    \n",
        "    for X, y_true in valid_loader:\n",
        "    \n",
        "        X = X.to(device)\n",
        "        y_true = y_true.to(device)\n",
        "\n",
        "        # Forward pass and record loss\n",
        "        y_hat, _ = model(X) \n",
        "        loss = criterion(y_hat, y_true) \n",
        "        running_loss += loss.item() * X.size(0)\n",
        "\n",
        "    epoch_loss = running_loss / len(valid_loader.dataset)\n",
        "        \n",
        "    return model, epoch_loss"
      ],
      "execution_count": null,
      "outputs": []
    },
    {
      "cell_type": "code",
      "metadata": {
        "id": "hO-nedIQcfN-",
        "colab_type": "code",
        "colab": {}
      },
      "source": [
        "def get_accuracy(model, data_loader, device):\n",
        "    '''\n",
        "    Function for computing the accuracy of the predictions over the entire data_loader\n",
        "    '''\n",
        "    \n",
        "    correct_pred = 0 \n",
        "    n = 0\n",
        "    \n",
        "    with torch.no_grad():\n",
        "        model.eval()\n",
        "        for X, y_true in data_loader:\n",
        "            #print(X.size())\n",
        "            X = X.to(device)\n",
        "            y_true = y_true.to(device)\n",
        "\n",
        "            _, y_prob = model(X)\n",
        "            _, predicted_labels = torch.max(y_prob, 1)\n",
        "\n",
        "            n += y_true.size(0)\n",
        "            correct_pred += (predicted_labels == y_true).sum()\n",
        "\n",
        "    return correct_pred.float() / n"
      ],
      "execution_count": null,
      "outputs": []
    },
    {
      "cell_type": "code",
      "metadata": {
        "id": "nLi-17HDZxNh",
        "colab_type": "code",
        "colab": {}
      },
      "source": [
        "def plot_losses(train_losses, valid_losses):\n",
        "    '''\n",
        "    Function for plotting training and validation losses\n",
        "    '''\n",
        "    \n",
        "    # temporarily change the style of the plots to seaborn \n",
        "    plt.style.use('seaborn')\n",
        "\n",
        "    train_losses = np.array(train_losses) \n",
        "    valid_losses = np.array(valid_losses)\n",
        "\n",
        "    fig, ax = plt.subplots(figsize = (8, 4.5))\n",
        "\n",
        "    ax.plot(train_losses, color='blue', label='Training loss') \n",
        "    ax.plot(valid_losses, color='red', label='Validation loss')\n",
        "    ax.set(title=\"Loss over epochs\", \n",
        "            xlabel='Epoch',\n",
        "            ylabel='Loss') \n",
        "    ax.legend()\n",
        "    fig.show()\n",
        "    \n",
        "    # change the plot style to default\n",
        "    plt.style.use('default')"
      ],
      "execution_count": null,
      "outputs": []
    },
    {
      "cell_type": "code",
      "metadata": {
        "id": "bO0acdKAcyax",
        "colab_type": "code",
        "colab": {}
      },
      "source": [
        "def training_loop(model, criterion, optimizer, train_loader, valid_loader, epochs, device, print_every=1):\n",
        "    '''\n",
        "    Function defining the entire training loop\n",
        "    '''\n",
        "    \n",
        "    # set objects for storing metrics\n",
        "    best_loss = 1e10\n",
        "    train_losses = []\n",
        "    valid_losses = []\n",
        " \n",
        "    # Train model\n",
        "    for epoch in range(0, epochs):\n",
        "\n",
        "        # training\n",
        "        model, optimizer, train_loss = train(train_loader, model, criterion, optimizer, device)\n",
        "        train_losses.append(train_loss)\n",
        "\n",
        "        # validation\n",
        "        with torch.no_grad():\n",
        "            model, valid_loss = validate(valid_loader, model, criterion, device)\n",
        "            valid_losses.append(valid_loss)\n",
        "\n",
        "        if epoch % print_every == (print_every - 1):\n",
        "            \n",
        "            train_acc = get_accuracy(model, train_loader, device=device)\n",
        "            valid_acc = get_accuracy(model, valid_loader, device=device)\n",
        "                \n",
        "            print(f'{datetime.now().time().replace(microsecond=0)} --- '\n",
        "                  f'Epoch: {epoch}\\t'\n",
        "                  f'Train loss: {train_loss:.4f}\\t'\n",
        "                  f'Valid loss: {valid_loss:.4f}\\t'\n",
        "                  f'Train accuracy: {100 * train_acc:.2f}\\t'\n",
        "                  f'Valid accuracy: {100 * valid_acc:.2f}')\n",
        "\n",
        "    plot_losses(train_losses, valid_losses)\n",
        "    \n",
        "    return model, optimizer, (train_losses, valid_losses)"
      ],
      "execution_count": null,
      "outputs": []
    },
    {
      "cell_type": "code",
      "metadata": {
        "id": "lcU2zjXi2zN3",
        "colab_type": "code",
        "colab": {
          "base_uri": "https://localhost:8080/",
          "height": 363,
          "referenced_widgets": [
            "d9d0eaa897bb45ecb32b58381cc23a94",
            "78095813fd3d4b148119eabbca8a5c56",
            "1763fe1539fb42e89f2687b0e532adce",
            "3e1bb62d3513409f8dc1cdf5029d3456",
            "881ae153f93f478d841099b3ce0348df",
            "32fcf89a59624644aee61883c16da38d",
            "795b40f12e7947979495a1b4cb4795b8",
            "2ef9deb859ce4553b2ccae7e8457374b",
            "20f3c5c2381f4fe6aa521528384d4b0a",
            "b26160b6db3d477bbd27697b534252e1",
            "9e760ca09f394ce9903e04f8380dae15",
            "dde62a96defc432eb405c8bec6681d64",
            "82d03136577e43968e04db3fe015524b",
            "0e5aeec5d3e446c280adbb844a97c455",
            "b3bad04c9f8a41b4bc9fceeefe343258",
            "8d0a7d1987ad4beab81d67c33490ee7a",
            "a561f78764f648ac9c9a0b29559ef5d3",
            "3bd59040c8a34e82aac8923c53f2782a",
            "a1424bfe3c4c434db4a09bab2e6f0f10",
            "9cca039134814796a750a1b374814099",
            "9adeb931546f4594a49c18a2d231d561",
            "0049d420a1a84d579ffc6f824e86a227",
            "2768e48cd92f428db65d281cd211b0fe",
            "5fed8d07abdc48b99a4da8e97e924d1c",
            "40b3a6b9057244c88df72c4afc130ee3",
            "c173ccd8d1974ba29b071a4a9910da71",
            "6fad23fcbe3642b49c9f201176c628a2",
            "b552fdc54f9d42d784141be7ab1febba",
            "5c40790a5b134611a35cac30e2b2122b",
            "ce6ae56942354a3391307f113d39a006",
            "f5ad0c6be00a4c83b9cb53de77ef28f2",
            "772661016bf14ca0a85d0470d8cbbfde"
          ]
        },
        "outputId": "e67371fd-fbf6-4728-9904-20827099e027"
      },
      "source": [
        "transforms1 = transforms.Compose([transforms.Resize((32, 32)),\n",
        "                                 transforms.ToTensor()])\n",
        "\n",
        "# download and create datasets\n",
        "train_dataset = datasets.MNIST(root='mnist_data', \n",
        "                               train=True, \n",
        "                               transform=transforms1,\n",
        "                               download=True)\n",
        "\n",
        "valid_dataset = datasets.MNIST(root='mnist_data', \n",
        "                               train=False, \n",
        "                               transform=transforms1)\n",
        "\n",
        "# define the data loaders\n",
        "train_loader = DataLoader(dataset=train_dataset, \n",
        "                          batch_size=BATCH_SIZE, \n",
        "                          shuffle=True)\n",
        "\n",
        "valid_loader = DataLoader(dataset=valid_dataset, \n",
        "                          batch_size=BATCH_SIZE, \n",
        "                          shuffle=False)"
      ],
      "execution_count": null,
      "outputs": [
        {
          "output_type": "stream",
          "text": [
            "Downloading http://yann.lecun.com/exdb/mnist/train-images-idx3-ubyte.gz to mnist_data/MNIST/raw/train-images-idx3-ubyte.gz\n"
          ],
          "name": "stdout"
        },
        {
          "output_type": "display_data",
          "data": {
            "application/vnd.jupyter.widget-view+json": {
              "model_id": "d9d0eaa897bb45ecb32b58381cc23a94",
              "version_minor": 0,
              "version_major": 2
            },
            "text/plain": [
              "HBox(children=(FloatProgress(value=1.0, bar_style='info', max=1.0), HTML(value='')))"
            ]
          },
          "metadata": {
            "tags": []
          }
        },
        {
          "output_type": "stream",
          "text": [
            "Extracting mnist_data/MNIST/raw/train-images-idx3-ubyte.gz to mnist_data/MNIST/raw\n",
            "Downloading http://yann.lecun.com/exdb/mnist/train-labels-idx1-ubyte.gz to mnist_data/MNIST/raw/train-labels-idx1-ubyte.gz\n"
          ],
          "name": "stdout"
        },
        {
          "output_type": "display_data",
          "data": {
            "application/vnd.jupyter.widget-view+json": {
              "model_id": "20f3c5c2381f4fe6aa521528384d4b0a",
              "version_minor": 0,
              "version_major": 2
            },
            "text/plain": [
              "HBox(children=(FloatProgress(value=1.0, bar_style='info', max=1.0), HTML(value='')))"
            ]
          },
          "metadata": {
            "tags": []
          }
        },
        {
          "output_type": "stream",
          "text": [
            "Extracting mnist_data/MNIST/raw/train-labels-idx1-ubyte.gz to mnist_data/MNIST/raw\n",
            "Downloading http://yann.lecun.com/exdb/mnist/t10k-images-idx3-ubyte.gz to mnist_data/MNIST/raw/t10k-images-idx3-ubyte.gz\n",
            "\n",
            "\n"
          ],
          "name": "stdout"
        },
        {
          "output_type": "display_data",
          "data": {
            "application/vnd.jupyter.widget-view+json": {
              "model_id": "a561f78764f648ac9c9a0b29559ef5d3",
              "version_minor": 0,
              "version_major": 2
            },
            "text/plain": [
              "HBox(children=(FloatProgress(value=1.0, bar_style='info', max=1.0), HTML(value='')))"
            ]
          },
          "metadata": {
            "tags": []
          }
        },
        {
          "output_type": "stream",
          "text": [
            "Extracting mnist_data/MNIST/raw/t10k-images-idx3-ubyte.gz to mnist_data/MNIST/raw\n",
            "Downloading http://yann.lecun.com/exdb/mnist/t10k-labels-idx1-ubyte.gz to mnist_data/MNIST/raw/t10k-labels-idx1-ubyte.gz\n"
          ],
          "name": "stdout"
        },
        {
          "output_type": "display_data",
          "data": {
            "application/vnd.jupyter.widget-view+json": {
              "model_id": "40b3a6b9057244c88df72c4afc130ee3",
              "version_minor": 0,
              "version_major": 2
            },
            "text/plain": [
              "HBox(children=(FloatProgress(value=1.0, bar_style='info', max=1.0), HTML(value='')))"
            ]
          },
          "metadata": {
            "tags": []
          }
        },
        {
          "output_type": "stream",
          "text": [
            "Extracting mnist_data/MNIST/raw/t10k-labels-idx1-ubyte.gz to mnist_data/MNIST/raw\n",
            "Processing...\n",
            "Done!\n"
          ],
          "name": "stdout"
        }
      ]
    },
    {
      "cell_type": "code",
      "metadata": {
        "id": "c1MW8zRl2zKX",
        "colab_type": "code",
        "colab": {}
      },
      "source": [
        "class LeNet555(nn.Module):\n",
        "\n",
        "    def __init__(self, n_classes):\n",
        "        super(LeNet555, self).__init__()\n",
        "        \n",
        "        self.feature_extractor = nn.Sequential(            \n",
        "            nn.Conv2d(in_channels=1, out_channels=6, kernel_size=5, stride=1),\n",
        "            nn.Tanh(),\n",
        "            nn.AvgPool2d(kernel_size=2),\n",
        "            nn.Conv2d(in_channels=6, out_channels=16, kernel_size=5, stride=1),\n",
        "            nn.Tanh(),\n",
        "            nn.AvgPool2d(kernel_size=2),\n",
        "            nn.Conv2d(in_channels=16, out_channels=120, kernel_size=5, stride=1),\n",
        "            nn.Tanh()\n",
        "        )\n",
        "\n",
        "        self.classifier = nn.Sequential(\n",
        "            nn.Linear(in_features=120, out_features=84),\n",
        "            nn.Tanh(),\n",
        "            nn.Linear(in_features=84, out_features=n_classes),\n",
        "        )\n",
        "\n",
        "\n",
        "    def forward(self, x):\n",
        "        x = self.feature_extractor(x)\n",
        "        x = torch.flatten(x, 1)\n",
        "        logits = self.classifier(x)\n",
        "        probs = F.softmax(logits, dim=1)\n",
        "        return logits, probs"
      ],
      "execution_count": null,
      "outputs": []
    },
    {
      "cell_type": "code",
      "metadata": {
        "id": "CJDqnXjxZmhp",
        "colab_type": "code",
        "colab": {}
      },
      "source": [
        "torch.manual_seed(RANDOM_SEED)\n",
        "\n",
        "model = LeNet555(N_CLASSES).to(DEVICE)\n",
        "optimizer = torch.optim.Adam(model.parameters(), lr=LEARNING_RATE)\n",
        "criterion = nn.CrossEntropyLoss()"
      ],
      "execution_count": null,
      "outputs": []
    },
    {
      "cell_type": "code",
      "metadata": {
        "id": "bVo8jjRPZmdI",
        "colab_type": "code",
        "colab": {
          "base_uri": "https://localhost:8080/",
          "height": 505
        },
        "outputId": "bc086c89-a413-4381-b783-d70e90db82bb"
      },
      "source": [
        "model, optimizer, _ = training_loop(model, criterion, optimizer, train_loader, valid_loader, N_EPOCHS, DEVICE)"
      ],
      "execution_count": null,
      "outputs": [
        {
          "output_type": "stream",
          "text": [
            "22:05:19 --- Epoch: 0\tTrain loss: 0.2390\tValid loss: 0.1720\tTrain accuracy: 94.54\tValid accuracy: 94.71\n",
            "22:06:02 --- Epoch: 1\tTrain loss: 0.1658\tValid loss: 0.1482\tTrain accuracy: 95.60\tValid accuracy: 95.45\n",
            "22:06:46 --- Epoch: 2\tTrain loss: 0.1589\tValid loss: 0.1423\tTrain accuracy: 95.96\tValid accuracy: 95.91\n",
            "22:07:29 --- Epoch: 3\tTrain loss: 0.1428\tValid loss: 0.1525\tTrain accuracy: 95.73\tValid accuracy: 95.54\n",
            "22:08:12 --- Epoch: 4\tTrain loss: 0.1409\tValid loss: 0.1508\tTrain accuracy: 95.73\tValid accuracy: 95.34\n",
            "22:08:56 --- Epoch: 5\tTrain loss: 0.1416\tValid loss: 0.1357\tTrain accuracy: 96.24\tValid accuracy: 96.08\n",
            "22:09:42 --- Epoch: 6\tTrain loss: 0.1405\tValid loss: 0.1362\tTrain accuracy: 96.06\tValid accuracy: 95.79\n",
            "22:10:27 --- Epoch: 7\tTrain loss: 0.1366\tValid loss: 0.1408\tTrain accuracy: 96.17\tValid accuracy: 95.86\n",
            "22:11:10 --- Epoch: 8\tTrain loss: 0.1365\tValid loss: 0.1324\tTrain accuracy: 96.25\tValid accuracy: 96.06\n",
            "22:11:53 --- Epoch: 9\tTrain loss: 0.1421\tValid loss: 0.1261\tTrain accuracy: 96.50\tValid accuracy: 96.42\n"
          ],
          "name": "stdout"
        },
        {
          "output_type": "display_data",
          "data": {
            "image/png": "[encoded data removed]",
            "text/plain": [
              "<Figure size 576x324 with 1 Axes>"
            ]
          },
          "metadata": {
            "tags": []
          }
        }
      ]
    },
    {
      "cell_type": "code",
      "metadata": {
        "id": "77UXxzYDZmSO",
        "colab_type": "code",
        "colab": {}
      },
      "source": [
        "# create and train, test our CNN\n",
        "model = LeNet555(10).to(device)\n",
        "\n",
        "\n",
        "# we save the model to save parameters for later\n",
        "torch.save(model.state_dict(),\"conv_net.pt\")"
      ],
      "execution_count": null,
      "outputs": []
    },
    {
      "cell_type": "code",
      "metadata": {
        "id": "3UTdDPavZmQ1",
        "colab_type": "code",
        "colab": {}
      },
      "source": [
        "pretrained_model = \"conv_net.pt\"\n",
        "use_cuda=True"
      ],
      "execution_count": null,
      "outputs": []
    },
    {
      "cell_type": "code",
      "metadata": {
        "id": "q3vYKd_XZmPe",
        "colab_type": "code",
        "colab": {
          "base_uri": "https://localhost:8080/",
          "height": 345
        },
        "outputId": "aeed7c6c-1bb2-490d-8c2d-48bdf023159c"
      },
      "source": [
        "print(\"CUDA Available: \",torch.cuda.is_available())\n",
        "device = torch.device(\"cuda\" if (use_cuda and torch.cuda.is_available()) else \"cpu\")\n",
        "\n",
        "# Initialize the network\n",
        "model = LeNet555(10).to(device)\n",
        "\n",
        "# Load the pretrained model\n",
        "model.load_state_dict(torch.load(pretrained_model, map_location='cpu'))\n",
        "\n",
        "# Set the model in evaluation mode. \n",
        "model.eval()"
      ],
      "execution_count": null,
      "outputs": [
        {
          "output_type": "stream",
          "text": [
            "CUDA Available:  False\n"
          ],
          "name": "stdout"
        },
        {
          "output_type": "execute_result",
          "data": {
            "text/plain": [
              "LeNet555(\n",
              "  (feature_extractor): Sequential(\n",
              "    (0): Conv2d(1, 6, kernel_size=(5, 5), stride=(1, 1))\n",
              "    (1): Tanh()\n",
              "    (2): AvgPool2d(kernel_size=2, stride=2, padding=0)\n",
              "    (3): Conv2d(6, 16, kernel_size=(5, 5), stride=(1, 1))\n",
              "    (4): Tanh()\n",
              "    (5): AvgPool2d(kernel_size=2, stride=2, padding=0)\n",
              "    (6): Conv2d(16, 120, kernel_size=(5, 5), stride=(1, 1))\n",
              "    (7): Tanh()\n",
              "  )\n",
              "  (classifier): Sequential(\n",
              "    (0): Linear(in_features=120, out_features=84, bias=True)\n",
              "    (1): Tanh()\n",
              "    (2): Linear(in_features=84, out_features=10, bias=True)\n",
              "  )\n",
              ")"
            ]
          },
          "metadata": {
            "tags": []
          },
          "execution_count": 30
        }
      ]
    },
    {
      "cell_type": "markdown",
      "metadata": {
        "id": "koRxOSM-dlqh",
        "colab_type": "text"
      },
      "source": [
        "#sfarsit"
      ]
    },
    {
      "cell_type": "code",
      "metadata": {
        "id": "MqmxV1thdla2",
        "colab_type": "code",
        "colab": {}
      },
      "source": [
        ""
      ],
      "execution_count": null,
      "outputs": []
    },
    {
      "cell_type": "code",
      "metadata": {
        "id": "8Dfmw-yTZmN7",
        "colab_type": "code",
        "colab": {}
      },
      "source": [
        ""
      ],
      "execution_count": null,
      "outputs": []
    },
    {
      "cell_type": "code",
      "metadata": {
        "id": "at1MeDw4ZmMW",
        "colab_type": "code",
        "colab": {}
      },
      "source": [
        ""
      ],
      "execution_count": null,
      "outputs": []
    },
    {
      "cell_type": "code",
      "metadata": {
        "id": "ObJXXhOaZmJR",
        "colab_type": "code",
        "colab": {}
      },
      "source": [
        ""
      ],
      "execution_count": null,
      "outputs": []
    },
    {
      "cell_type": "code",
      "metadata": {
        "id": "2sxOSFjbZmG6",
        "colab_type": "code",
        "colab": {}
      },
      "source": [
        ""
      ],
      "execution_count": null,
      "outputs": []
    }
  ]
}