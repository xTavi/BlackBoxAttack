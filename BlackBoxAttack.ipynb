{
  "nbformat": 4,
  "nbformat_minor": 0,
  "metadata": {
    "colab": {
      "name": "Copie a fișierului Proiect",
      "provenance": [],
      "collapsed_sections": [],
      "toc_visible": true,
      "authorship_tag": "ABX9TyN7oy0n94R543Q1H95lfm3B",
      "include_colab_link": true
    },
    "kernelspec": {
      "name": "python3",
      "display_name": "Python 3"
    },
    "widgets": {
      "application/vnd.jupyter.widget-state+json": {
        "d7d7022f94b3482fbd4947f1b7966420": {
          "model_module": "@jupyter-widgets/controls",
          "model_name": "HBoxModel",
          "state": {
            "_view_name": "HBoxView",
            "_dom_classes": [],
            "_model_name": "HBoxModel",
            "_view_module": "@jupyter-widgets/controls",
            "_model_module_version": "1.5.0",
            "_view_count": null,
            "_view_module_version": "1.5.0",
            "box_style": "",
            "layout": "IPY_MODEL_62c82400c52c4982ac0ef16a7a1466db",
            "_model_module": "@jupyter-widgets/controls",
            "children": [
              "IPY_MODEL_8ea103fcf1b34be3807402e6493ebdf1",
              "IPY_MODEL_aeab41628f444982923ee41da33f4e6e"
            ]
          }
        },
        "62c82400c52c4982ac0ef16a7a1466db": {
          "model_module": "@jupyter-widgets/base",
          "model_name": "LayoutModel",
          "state": {
            "_view_name": "LayoutView",
            "grid_template_rows": null,
            "right": null,
            "justify_content": null,
            "_view_module": "@jupyter-widgets/base",
            "overflow": null,
            "_model_module_version": "1.2.0",
            "_view_count": null,
            "flex_flow": null,
            "width": null,
            "min_width": null,
            "border": null,
            "align_items": null,
            "bottom": null,
            "_model_module": "@jupyter-widgets/base",
            "top": null,
            "grid_column": null,
            "overflow_y": null,
            "overflow_x": null,
            "grid_auto_flow": null,
            "grid_area": null,
            "grid_template_columns": null,
            "flex": null,
            "_model_name": "LayoutModel",
            "justify_items": null,
            "grid_row": null,
            "max_height": null,
            "align_content": null,
            "visibility": null,
            "align_self": null,
            "height": null,
            "min_height": null,
            "padding": null,
            "grid_auto_rows": null,
            "grid_gap": null,
            "max_width": null,
            "order": null,
            "_view_module_version": "1.2.0",
            "grid_template_areas": null,
            "object_position": null,
            "object_fit": null,
            "grid_auto_columns": null,
            "margin": null,
            "display": null,
            "left": null
          }
        },
        "8ea103fcf1b34be3807402e6493ebdf1": {
          "model_module": "@jupyter-widgets/controls",
          "model_name": "FloatProgressModel",
          "state": {
            "_view_name": "ProgressView",
            "style": "IPY_MODEL_1a1aec0023ce484cbcd6e77b76c9e957",
            "_dom_classes": [],
            "description": "",
            "_model_name": "FloatProgressModel",
            "bar_style": "info",
            "max": 1,
            "_view_module": "@jupyter-widgets/controls",
            "_model_module_version": "1.5.0",
            "value": 1,
            "_view_count": null,
            "_view_module_version": "1.5.0",
            "orientation": "horizontal",
            "min": 0,
            "description_tooltip": null,
            "_model_module": "@jupyter-widgets/controls",
            "layout": "IPY_MODEL_988895c8276b4d92a92bdcec225b0ef0"
          }
        },
        "aeab41628f444982923ee41da33f4e6e": {
          "model_module": "@jupyter-widgets/controls",
          "model_name": "HTMLModel",
          "state": {
            "_view_name": "HTMLView",
            "style": "IPY_MODEL_14962b3c28ea451f99e3136d9e3b9c13",
            "_dom_classes": [],
            "description": "",
            "_model_name": "HTMLModel",
            "placeholder": "​",
            "_view_module": "@jupyter-widgets/controls",
            "_model_module_version": "1.5.0",
            "value": " 9920512/? [00:20&lt;00:00, 16889524.39it/s]",
            "_view_count": null,
            "_view_module_version": "1.5.0",
            "description_tooltip": null,
            "_model_module": "@jupyter-widgets/controls",
            "layout": "IPY_MODEL_826cf138d7a3418ab6eafc2707f94c6f"
          }
        },
        "1a1aec0023ce484cbcd6e77b76c9e957": {
          "model_module": "@jupyter-widgets/controls",
          "model_name": "ProgressStyleModel",
          "state": {
            "_view_name": "StyleView",
            "_model_name": "ProgressStyleModel",
            "description_width": "initial",
            "_view_module": "@jupyter-widgets/base",
            "_model_module_version": "1.5.0",
            "_view_count": null,
            "_view_module_version": "1.2.0",
            "bar_color": null,
            "_model_module": "@jupyter-widgets/controls"
          }
        },
        "988895c8276b4d92a92bdcec225b0ef0": {
          "model_module": "@jupyter-widgets/base",
          "model_name": "LayoutModel",
          "state": {
            "_view_name": "LayoutView",
            "grid_template_rows": null,
            "right": null,
            "justify_content": null,
            "_view_module": "@jupyter-widgets/base",
            "overflow": null,
            "_model_module_version": "1.2.0",
            "_view_count": null,
            "flex_flow": null,
            "width": null,
            "min_width": null,
            "border": null,
            "align_items": null,
            "bottom": null,
            "_model_module": "@jupyter-widgets/base",
            "top": null,
            "grid_column": null,
            "overflow_y": null,
            "overflow_x": null,
            "grid_auto_flow": null,
            "grid_area": null,
            "grid_template_columns": null,
            "flex": null,
            "_model_name": "LayoutModel",
            "justify_items": null,
            "grid_row": null,
            "max_height": null,
            "align_content": null,
            "visibility": null,
            "align_self": null,
            "height": null,
            "min_height": null,
            "padding": null,
            "grid_auto_rows": null,
            "grid_gap": null,
            "max_width": null,
            "order": null,
            "_view_module_version": "1.2.0",
            "grid_template_areas": null,
            "object_position": null,
            "object_fit": null,
            "grid_auto_columns": null,
            "margin": null,
            "display": null,
            "left": null
          }
        },
        "14962b3c28ea451f99e3136d9e3b9c13": {
          "model_module": "@jupyter-widgets/controls",
          "model_name": "DescriptionStyleModel",
          "state": {
            "_view_name": "StyleView",
            "_model_name": "DescriptionStyleModel",
            "description_width": "",
            "_view_module": "@jupyter-widgets/base",
            "_model_module_version": "1.5.0",
            "_view_count": null,
            "_view_module_version": "1.2.0",
            "_model_module": "@jupyter-widgets/controls"
          }
        },
        "826cf138d7a3418ab6eafc2707f94c6f": {
          "model_module": "@jupyter-widgets/base",
          "model_name": "LayoutModel",
          "state": {
            "_view_name": "LayoutView",
            "grid_template_rows": null,
            "right": null,
            "justify_content": null,
            "_view_module": "@jupyter-widgets/base",
            "overflow": null,
            "_model_module_version": "1.2.0",
            "_view_count": null,
            "flex_flow": null,
            "width": null,
            "min_width": null,
            "border": null,
            "align_items": null,
            "bottom": null,
            "_model_module": "@jupyter-widgets/base",
            "top": null,
            "grid_column": null,
            "overflow_y": null,
            "overflow_x": null,
            "grid_auto_flow": null,
            "grid_area": null,
            "grid_template_columns": null,
            "flex": null,
            "_model_name": "LayoutModel",
            "justify_items": null,
            "grid_row": null,
            "max_height": null,
            "align_content": null,
            "visibility": null,
            "align_self": null,
            "height": null,
            "min_height": null,
            "padding": null,
            "grid_auto_rows": null,
            "grid_gap": null,
            "max_width": null,
            "order": null,
            "_view_module_version": "1.2.0",
            "grid_template_areas": null,
            "object_position": null,
            "object_fit": null,
            "grid_auto_columns": null,
            "margin": null,
            "display": null,
            "left": null
          }
        },
        "a85624cf97c145979935c3b7ce6ab615": {
          "model_module": "@jupyter-widgets/controls",
          "model_name": "HBoxModel",
          "state": {
            "_view_name": "HBoxView",
            "_dom_classes": [],
            "_model_name": "HBoxModel",
            "_view_module": "@jupyter-widgets/controls",
            "_model_module_version": "1.5.0",
            "_view_count": null,
            "_view_module_version": "1.5.0",
            "box_style": "",
            "layout": "IPY_MODEL_7dc17096416248c19dc2d70d2a1c8cf5",
            "_model_module": "@jupyter-widgets/controls",
            "children": [
              "IPY_MODEL_333d79099c6e43fb83d1afbaf43f1ccc",
              "IPY_MODEL_bdd61b53f0eb4ad1ba4f49bfb18efa9f"
            ]
          }
        },
        "7dc17096416248c19dc2d70d2a1c8cf5": {
          "model_module": "@jupyter-widgets/base",
          "model_name": "LayoutModel",
          "state": {
            "_view_name": "LayoutView",
            "grid_template_rows": null,
            "right": null,
            "justify_content": null,
            "_view_module": "@jupyter-widgets/base",
            "overflow": null,
            "_model_module_version": "1.2.0",
            "_view_count": null,
            "flex_flow": null,
            "width": null,
            "min_width": null,
            "border": null,
            "align_items": null,
            "bottom": null,
            "_model_module": "@jupyter-widgets/base",
            "top": null,
            "grid_column": null,
            "overflow_y": null,
            "overflow_x": null,
            "grid_auto_flow": null,
            "grid_area": null,
            "grid_template_columns": null,
            "flex": null,
            "_model_name": "LayoutModel",
            "justify_items": null,
            "grid_row": null,
            "max_height": null,
            "align_content": null,
            "visibility": null,
            "align_self": null,
            "height": null,
            "min_height": null,
            "padding": null,
            "grid_auto_rows": null,
            "grid_gap": null,
            "max_width": null,
            "order": null,
            "_view_module_version": "1.2.0",
            "grid_template_areas": null,
            "object_position": null,
            "object_fit": null,
            "grid_auto_columns": null,
            "margin": null,
            "display": null,
            "left": null
          }
        },
        "333d79099c6e43fb83d1afbaf43f1ccc": {
          "model_module": "@jupyter-widgets/controls",
          "model_name": "FloatProgressModel",
          "state": {
            "_view_name": "ProgressView",
            "style": "IPY_MODEL_b69ba0a3f281435488ed4acc1f656e6e",
            "_dom_classes": [],
            "description": "",
            "_model_name": "FloatProgressModel",
            "bar_style": "info",
            "max": 1,
            "_view_module": "@jupyter-widgets/controls",
            "_model_module_version": "1.5.0",
            "value": 1,
            "_view_count": null,
            "_view_module_version": "1.5.0",
            "orientation": "horizontal",
            "min": 0,
            "description_tooltip": null,
            "_model_module": "@jupyter-widgets/controls",
            "layout": "IPY_MODEL_1b15a9b611434998b06b019b7d2c9232"
          }
        },
        "bdd61b53f0eb4ad1ba4f49bfb18efa9f": {
          "model_module": "@jupyter-widgets/controls",
          "model_name": "HTMLModel",
          "state": {
            "_view_name": "HTMLView",
            "style": "IPY_MODEL_bcb37fa47d67497e866e060b38ee599d",
            "_dom_classes": [],
            "description": "",
            "_model_name": "HTMLModel",
            "placeholder": "​",
            "_view_module": "@jupyter-widgets/controls",
            "_model_module_version": "1.5.0",
            "value": " 32768/? [00:19&lt;00:00, 149455.80it/s]",
            "_view_count": null,
            "_view_module_version": "1.5.0",
            "description_tooltip": null,
            "_model_module": "@jupyter-widgets/controls",
            "layout": "IPY_MODEL_a2acf81d7d494b8cb84665976522cb1e"
          }
        },
        "b69ba0a3f281435488ed4acc1f656e6e": {
          "model_module": "@jupyter-widgets/controls",
          "model_name": "ProgressStyleModel",
          "state": {
            "_view_name": "StyleView",
            "_model_name": "ProgressStyleModel",
            "description_width": "initial",
            "_view_module": "@jupyter-widgets/base",
            "_model_module_version": "1.5.0",
            "_view_count": null,
            "_view_module_version": "1.2.0",
            "bar_color": null,
            "_model_module": "@jupyter-widgets/controls"
          }
        },
        "1b15a9b611434998b06b019b7d2c9232": {
          "model_module": "@jupyter-widgets/base",
          "model_name": "LayoutModel",
          "state": {
            "_view_name": "LayoutView",
            "grid_template_rows": null,
            "right": null,
            "justify_content": null,
            "_view_module": "@jupyter-widgets/base",
            "overflow": null,
            "_model_module_version": "1.2.0",
            "_view_count": null,
            "flex_flow": null,
            "width": null,
            "min_width": null,
            "border": null,
            "align_items": null,
            "bottom": null,
            "_model_module": "@jupyter-widgets/base",
            "top": null,
            "grid_column": null,
            "overflow_y": null,
            "overflow_x": null,
            "grid_auto_flow": null,
            "grid_area": null,
            "grid_template_columns": null,
            "flex": null,
            "_model_name": "LayoutModel",
            "justify_items": null,
            "grid_row": null,
            "max_height": null,
            "align_content": null,
            "visibility": null,
            "align_self": null,
            "height": null,
            "min_height": null,
            "padding": null,
            "grid_auto_rows": null,
            "grid_gap": null,
            "max_width": null,
            "order": null,
            "_view_module_version": "1.2.0",
            "grid_template_areas": null,
            "object_position": null,
            "object_fit": null,
            "grid_auto_columns": null,
            "margin": null,
            "display": null,
            "left": null
          }
        },
        "bcb37fa47d67497e866e060b38ee599d": {
          "model_module": "@jupyter-widgets/controls",
          "model_name": "DescriptionStyleModel",
          "state": {
            "_view_name": "StyleView",
            "_model_name": "DescriptionStyleModel",
            "description_width": "",
            "_view_module": "@jupyter-widgets/base",
            "_model_module_version": "1.5.0",
            "_view_count": null,
            "_view_module_version": "1.2.0",
            "_model_module": "@jupyter-widgets/controls"
          }
        },
        "a2acf81d7d494b8cb84665976522cb1e": {
          "model_module": "@jupyter-widgets/base",
          "model_name": "LayoutModel",
          "state": {
            "_view_name": "LayoutView",
            "grid_template_rows": null,
            "right": null,
            "justify_content": null,
            "_view_module": "@jupyter-widgets/base",
            "overflow": null,
            "_model_module_version": "1.2.0",
            "_view_count": null,
            "flex_flow": null,
            "width": null,
            "min_width": null,
            "border": null,
            "align_items": null,
            "bottom": null,
            "_model_module": "@jupyter-widgets/base",
            "top": null,
            "grid_column": null,
            "overflow_y": null,
            "overflow_x": null,
            "grid_auto_flow": null,
            "grid_area": null,
            "grid_template_columns": null,
            "flex": null,
            "_model_name": "LayoutModel",
            "justify_items": null,
            "grid_row": null,
            "max_height": null,
            "align_content": null,
            "visibility": null,
            "align_self": null,
            "height": null,
            "min_height": null,
            "padding": null,
            "grid_auto_rows": null,
            "grid_gap": null,
            "max_width": null,
            "order": null,
            "_view_module_version": "1.2.0",
            "grid_template_areas": null,
            "object_position": null,
            "object_fit": null,
            "grid_auto_columns": null,
            "margin": null,
            "display": null,
            "left": null
          }
        },
        "a79a981f595a40bba4168f84d0823135": {
          "model_module": "@jupyter-widgets/controls",
          "model_name": "HBoxModel",
          "state": {
            "_view_name": "HBoxView",
            "_dom_classes": [],
            "_model_name": "HBoxModel",
            "_view_module": "@jupyter-widgets/controls",
            "_model_module_version": "1.5.0",
            "_view_count": null,
            "_view_module_version": "1.5.0",
            "box_style": "",
            "layout": "IPY_MODEL_c251f97064c147b6bb86c4b8f7ad01ef",
            "_model_module": "@jupyter-widgets/controls",
            "children": [
              "IPY_MODEL_5506c05c4194446592a054d762332de5",
              "IPY_MODEL_9ed65009ed134a338c49e9d7cbedf2c1"
            ]
          }
        },
        "c251f97064c147b6bb86c4b8f7ad01ef": {
          "model_module": "@jupyter-widgets/base",
          "model_name": "LayoutModel",
          "state": {
            "_view_name": "LayoutView",
            "grid_template_rows": null,
            "right": null,
            "justify_content": null,
            "_view_module": "@jupyter-widgets/base",
            "overflow": null,
            "_model_module_version": "1.2.0",
            "_view_count": null,
            "flex_flow": null,
            "width": null,
            "min_width": null,
            "border": null,
            "align_items": null,
            "bottom": null,
            "_model_module": "@jupyter-widgets/base",
            "top": null,
            "grid_column": null,
            "overflow_y": null,
            "overflow_x": null,
            "grid_auto_flow": null,
            "grid_area": null,
            "grid_template_columns": null,
            "flex": null,
            "_model_name": "LayoutModel",
            "justify_items": null,
            "grid_row": null,
            "max_height": null,
            "align_content": null,
            "visibility": null,
            "align_self": null,
            "height": null,
            "min_height": null,
            "padding": null,
            "grid_auto_rows": null,
            "grid_gap": null,
            "max_width": null,
            "order": null,
            "_view_module_version": "1.2.0",
            "grid_template_areas": null,
            "object_position": null,
            "object_fit": null,
            "grid_auto_columns": null,
            "margin": null,
            "display": null,
            "left": null
          }
        },
        "5506c05c4194446592a054d762332de5": {
          "model_module": "@jupyter-widgets/controls",
          "model_name": "FloatProgressModel",
          "state": {
            "_view_name": "ProgressView",
            "style": "IPY_MODEL_a3bdea55bbd5450d9acf32fa735bff63",
            "_dom_classes": [],
            "description": "",
            "_model_name": "FloatProgressModel",
            "bar_style": "success",
            "max": 1,
            "_view_module": "@jupyter-widgets/controls",
            "_model_module_version": "1.5.0",
            "value": 1,
            "_view_count": null,
            "_view_module_version": "1.5.0",
            "orientation": "horizontal",
            "min": 0,
            "description_tooltip": null,
            "_model_module": "@jupyter-widgets/controls",
            "layout": "IPY_MODEL_9e0a9d133a9946b690b4f9987b3a0034"
          }
        },
        "9ed65009ed134a338c49e9d7cbedf2c1": {
          "model_module": "@jupyter-widgets/controls",
          "model_name": "HTMLModel",
          "state": {
            "_view_name": "HTMLView",
            "style": "IPY_MODEL_6a0361413da248d891752d0ed58420c4",
            "_dom_classes": [],
            "description": "",
            "_model_name": "HTMLModel",
            "placeholder": "​",
            "_view_module": "@jupyter-widgets/controls",
            "_model_module_version": "1.5.0",
            "value": " 1654784/? [00:00&lt;00:00, 2169140.15it/s]",
            "_view_count": null,
            "_view_module_version": "1.5.0",
            "description_tooltip": null,
            "_model_module": "@jupyter-widgets/controls",
            "layout": "IPY_MODEL_15bd3d46638440d3bb57d1b2160da7c8"
          }
        },
        "a3bdea55bbd5450d9acf32fa735bff63": {
          "model_module": "@jupyter-widgets/controls",
          "model_name": "ProgressStyleModel",
          "state": {
            "_view_name": "StyleView",
            "_model_name": "ProgressStyleModel",
            "description_width": "initial",
            "_view_module": "@jupyter-widgets/base",
            "_model_module_version": "1.5.0",
            "_view_count": null,
            "_view_module_version": "1.2.0",
            "bar_color": null,
            "_model_module": "@jupyter-widgets/controls"
          }
        },
        "9e0a9d133a9946b690b4f9987b3a0034": {
          "model_module": "@jupyter-widgets/base",
          "model_name": "LayoutModel",
          "state": {
            "_view_name": "LayoutView",
            "grid_template_rows": null,
            "right": null,
            "justify_content": null,
            "_view_module": "@jupyter-widgets/base",
            "overflow": null,
            "_model_module_version": "1.2.0",
            "_view_count": null,
            "flex_flow": null,
            "width": null,
            "min_width": null,
            "border": null,
            "align_items": null,
            "bottom": null,
            "_model_module": "@jupyter-widgets/base",
            "top": null,
            "grid_column": null,
            "overflow_y": null,
            "overflow_x": null,
            "grid_auto_flow": null,
            "grid_area": null,
            "grid_template_columns": null,
            "flex": null,
            "_model_name": "LayoutModel",
            "justify_items": null,
            "grid_row": null,
            "max_height": null,
            "align_content": null,
            "visibility": null,
            "align_self": null,
            "height": null,
            "min_height": null,
            "padding": null,
            "grid_auto_rows": null,
            "grid_gap": null,
            "max_width": null,
            "order": null,
            "_view_module_version": "1.2.0",
            "grid_template_areas": null,
            "object_position": null,
            "object_fit": null,
            "grid_auto_columns": null,
            "margin": null,
            "display": null,
            "left": null
          }
        },
        "6a0361413da248d891752d0ed58420c4": {
          "model_module": "@jupyter-widgets/controls",
          "model_name": "DescriptionStyleModel",
          "state": {
            "_view_name": "StyleView",
            "_model_name": "DescriptionStyleModel",
            "description_width": "",
            "_view_module": "@jupyter-widgets/base",
            "_model_module_version": "1.5.0",
            "_view_count": null,
            "_view_module_version": "1.2.0",
            "_model_module": "@jupyter-widgets/controls"
          }
        },
        "15bd3d46638440d3bb57d1b2160da7c8": {
          "model_module": "@jupyter-widgets/base",
          "model_name": "LayoutModel",
          "state": {
            "_view_name": "LayoutView",
            "grid_template_rows": null,
            "right": null,
            "justify_content": null,
            "_view_module": "@jupyter-widgets/base",
            "overflow": null,
            "_model_module_version": "1.2.0",
            "_view_count": null,
            "flex_flow": null,
            "width": null,
            "min_width": null,
            "border": null,
            "align_items": null,
            "bottom": null,
            "_model_module": "@jupyter-widgets/base",
            "top": null,
            "grid_column": null,
            "overflow_y": null,
            "overflow_x": null,
            "grid_auto_flow": null,
            "grid_area": null,
            "grid_template_columns": null,
            "flex": null,
            "_model_name": "LayoutModel",
            "justify_items": null,
            "grid_row": null,
            "max_height": null,
            "align_content": null,
            "visibility": null,
            "align_self": null,
            "height": null,
            "min_height": null,
            "padding": null,
            "grid_auto_rows": null,
            "grid_gap": null,
            "max_width": null,
            "order": null,
            "_view_module_version": "1.2.0",
            "grid_template_areas": null,
            "object_position": null,
            "object_fit": null,
            "grid_auto_columns": null,
            "margin": null,
            "display": null,
            "left": null
          }
        },
        "3ce6a64f59694d41a334159cd8b5db22": {
          "model_module": "@jupyter-widgets/controls",
          "model_name": "HBoxModel",
          "state": {
            "_view_name": "HBoxView",
            "_dom_classes": [],
            "_model_name": "HBoxModel",
            "_view_module": "@jupyter-widgets/controls",
            "_model_module_version": "1.5.0",
            "_view_count": null,
            "_view_module_version": "1.5.0",
            "box_style": "",
            "layout": "IPY_MODEL_aafd129de2b34683b95620974a418668",
            "_model_module": "@jupyter-widgets/controls",
            "children": [
              "IPY_MODEL_a6cf5ad6d3104e0a8f085866189c67e8",
              "IPY_MODEL_c1c5da75a8654a61ba2f617af1c13647"
            ]
          }
        },
        "aafd129de2b34683b95620974a418668": {
          "model_module": "@jupyter-widgets/base",
          "model_name": "LayoutModel",
          "state": {
            "_view_name": "LayoutView",
            "grid_template_rows": null,
            "right": null,
            "justify_content": null,
            "_view_module": "@jupyter-widgets/base",
            "overflow": null,
            "_model_module_version": "1.2.0",
            "_view_count": null,
            "flex_flow": null,
            "width": null,
            "min_width": null,
            "border": null,
            "align_items": null,
            "bottom": null,
            "_model_module": "@jupyter-widgets/base",
            "top": null,
            "grid_column": null,
            "overflow_y": null,
            "overflow_x": null,
            "grid_auto_flow": null,
            "grid_area": null,
            "grid_template_columns": null,
            "flex": null,
            "_model_name": "LayoutModel",
            "justify_items": null,
            "grid_row": null,
            "max_height": null,
            "align_content": null,
            "visibility": null,
            "align_self": null,
            "height": null,
            "min_height": null,
            "padding": null,
            "grid_auto_rows": null,
            "grid_gap": null,
            "max_width": null,
            "order": null,
            "_view_module_version": "1.2.0",
            "grid_template_areas": null,
            "object_position": null,
            "object_fit": null,
            "grid_auto_columns": null,
            "margin": null,
            "display": null,
            "left": null
          }
        },
        "a6cf5ad6d3104e0a8f085866189c67e8": {
          "model_module": "@jupyter-widgets/controls",
          "model_name": "FloatProgressModel",
          "state": {
            "_view_name": "ProgressView",
            "style": "IPY_MODEL_1e728e0babda4f889968e8ec45fe71df",
            "_dom_classes": [],
            "description": "",
            "_model_name": "FloatProgressModel",
            "bar_style": "success",
            "max": 1,
            "_view_module": "@jupyter-widgets/controls",
            "_model_module_version": "1.5.0",
            "value": 1,
            "_view_count": null,
            "_view_module_version": "1.5.0",
            "orientation": "horizontal",
            "min": 0,
            "description_tooltip": null,
            "_model_module": "@jupyter-widgets/controls",
            "layout": "IPY_MODEL_50b62c5601994dca946b306efe18af43"
          }
        },
        "c1c5da75a8654a61ba2f617af1c13647": {
          "model_module": "@jupyter-widgets/controls",
          "model_name": "HTMLModel",
          "state": {
            "_view_name": "HTMLView",
            "style": "IPY_MODEL_c87ddd56eb8b408baa91a976c79a6a72",
            "_dom_classes": [],
            "description": "",
            "_model_name": "HTMLModel",
            "placeholder": "​",
            "_view_module": "@jupyter-widgets/controls",
            "_model_module_version": "1.5.0",
            "value": " 8192/? [00:00&lt;00:00, 16545.71it/s]",
            "_view_count": null,
            "_view_module_version": "1.5.0",
            "description_tooltip": null,
            "_model_module": "@jupyter-widgets/controls",
            "layout": "IPY_MODEL_09391c553f4a4b44a5d3ec3287092a7e"
          }
        },
        "1e728e0babda4f889968e8ec45fe71df": {
          "model_module": "@jupyter-widgets/controls",
          "model_name": "ProgressStyleModel",
          "state": {
            "_view_name": "StyleView",
            "_model_name": "ProgressStyleModel",
            "description_width": "initial",
            "_view_module": "@jupyter-widgets/base",
            "_model_module_version": "1.5.0",
            "_view_count": null,
            "_view_module_version": "1.2.0",
            "bar_color": null,
            "_model_module": "@jupyter-widgets/controls"
          }
        },
        "50b62c5601994dca946b306efe18af43": {
          "model_module": "@jupyter-widgets/base",
          "model_name": "LayoutModel",
          "state": {
            "_view_name": "LayoutView",
            "grid_template_rows": null,
            "right": null,
            "justify_content": null,
            "_view_module": "@jupyter-widgets/base",
            "overflow": null,
            "_model_module_version": "1.2.0",
            "_view_count": null,
            "flex_flow": null,
            "width": null,
            "min_width": null,
            "border": null,
            "align_items": null,
            "bottom": null,
            "_model_module": "@jupyter-widgets/base",
            "top": null,
            "grid_column": null,
            "overflow_y": null,
            "overflow_x": null,
            "grid_auto_flow": null,
            "grid_area": null,
            "grid_template_columns": null,
            "flex": null,
            "_model_name": "LayoutModel",
            "justify_items": null,
            "grid_row": null,
            "max_height": null,
            "align_content": null,
            "visibility": null,
            "align_self": null,
            "height": null,
            "min_height": null,
            "padding": null,
            "grid_auto_rows": null,
            "grid_gap": null,
            "max_width": null,
            "order": null,
            "_view_module_version": "1.2.0",
            "grid_template_areas": null,
            "object_position": null,
            "object_fit": null,
            "grid_auto_columns": null,
            "margin": null,
            "display": null,
            "left": null
          }
        },
        "c87ddd56eb8b408baa91a976c79a6a72": {
          "model_module": "@jupyter-widgets/controls",
          "model_name": "DescriptionStyleModel",
          "state": {
            "_view_name": "StyleView",
            "_model_name": "DescriptionStyleModel",
            "description_width": "",
            "_view_module": "@jupyter-widgets/base",
            "_model_module_version": "1.5.0",
            "_view_count": null,
            "_view_module_version": "1.2.0",
            "_model_module": "@jupyter-widgets/controls"
          }
        },
        "09391c553f4a4b44a5d3ec3287092a7e": {
          "model_module": "@jupyter-widgets/base",
          "model_name": "LayoutModel",
          "state": {
            "_view_name": "LayoutView",
            "grid_template_rows": null,
            "right": null,
            "justify_content": null,
            "_view_module": "@jupyter-widgets/base",
            "overflow": null,
            "_model_module_version": "1.2.0",
            "_view_count": null,
            "flex_flow": null,
            "width": null,
            "min_width": null,
            "border": null,
            "align_items": null,
            "bottom": null,
            "_model_module": "@jupyter-widgets/base",
            "top": null,
            "grid_column": null,
            "overflow_y": null,
            "overflow_x": null,
            "grid_auto_flow": null,
            "grid_area": null,
            "grid_template_columns": null,
            "flex": null,
            "_model_name": "LayoutModel",
            "justify_items": null,
            "grid_row": null,
            "max_height": null,
            "align_content": null,
            "visibility": null,
            "align_self": null,
            "height": null,
            "min_height": null,
            "padding": null,
            "grid_auto_rows": null,
            "grid_gap": null,
            "max_width": null,
            "order": null,
            "_view_module_version": "1.2.0",
            "grid_template_areas": null,
            "object_position": null,
            "object_fit": null,
            "grid_auto_columns": null,
            "margin": null,
            "display": null,
            "left": null
          }
        },
        "7acee13835304205a3899e6f4698d5e3": {
          "model_module": "@jupyter-widgets/controls",
          "model_name": "HBoxModel",
          "state": {
            "_view_name": "HBoxView",
            "_dom_classes": [],
            "_model_name": "HBoxModel",
            "_view_module": "@jupyter-widgets/controls",
            "_model_module_version": "1.5.0",
            "_view_count": null,
            "_view_module_version": "1.5.0",
            "box_style": "",
            "layout": "IPY_MODEL_224e54a19c6c4104b2f7ba4fea234800",
            "_model_module": "@jupyter-widgets/controls",
            "children": [
              "IPY_MODEL_4eb3805c48ae478897fc89c7a4a221c1",
              "IPY_MODEL_3274421875294c428bfd4f49aa6fd107"
            ]
          }
        },
        "224e54a19c6c4104b2f7ba4fea234800": {
          "model_module": "@jupyter-widgets/base",
          "model_name": "LayoutModel",
          "state": {
            "_view_name": "LayoutView",
            "grid_template_rows": null,
            "right": null,
            "justify_content": null,
            "_view_module": "@jupyter-widgets/base",
            "overflow": null,
            "_model_module_version": "1.2.0",
            "_view_count": null,
            "flex_flow": null,
            "width": null,
            "min_width": null,
            "border": null,
            "align_items": null,
            "bottom": null,
            "_model_module": "@jupyter-widgets/base",
            "top": null,
            "grid_column": null,
            "overflow_y": null,
            "overflow_x": null,
            "grid_auto_flow": null,
            "grid_area": null,
            "grid_template_columns": null,
            "flex": null,
            "_model_name": "LayoutModel",
            "justify_items": null,
            "grid_row": null,
            "max_height": null,
            "align_content": null,
            "visibility": null,
            "align_self": null,
            "height": null,
            "min_height": null,
            "padding": null,
            "grid_auto_rows": null,
            "grid_gap": null,
            "max_width": null,
            "order": null,
            "_view_module_version": "1.2.0",
            "grid_template_areas": null,
            "object_position": null,
            "object_fit": null,
            "grid_auto_columns": null,
            "margin": null,
            "display": null,
            "left": null
          }
        },
        "4eb3805c48ae478897fc89c7a4a221c1": {
          "model_module": "@jupyter-widgets/controls",
          "model_name": "FloatProgressModel",
          "state": {
            "_view_name": "ProgressView",
            "style": "IPY_MODEL_1369ad37dd144b14801f7c52517ede0a",
            "_dom_classes": [],
            "description": "",
            "_model_name": "FloatProgressModel",
            "bar_style": "success",
            "max": 1,
            "_view_module": "@jupyter-widgets/controls",
            "_model_module_version": "1.5.0",
            "value": 1,
            "_view_count": null,
            "_view_module_version": "1.5.0",
            "orientation": "horizontal",
            "min": 0,
            "description_tooltip": null,
            "_model_module": "@jupyter-widgets/controls",
            "layout": "IPY_MODEL_06b9492646e94046a26dfbfd38130de3"
          }
        },
        "3274421875294c428bfd4f49aa6fd107": {
          "model_module": "@jupyter-widgets/controls",
          "model_name": "HTMLModel",
          "state": {
            "_view_name": "HTMLView",
            "style": "IPY_MODEL_4c45a617ba354ede8b11b73523df028d",
            "_dom_classes": [],
            "description": "",
            "_model_name": "HTMLModel",
            "placeholder": "​",
            "_view_module": "@jupyter-widgets/controls",
            "_model_module_version": "1.5.0",
            "value": " 9920512/? [00:01&lt;00:00, 9102441.11it/s]",
            "_view_count": null,
            "_view_module_version": "1.5.0",
            "description_tooltip": null,
            "_model_module": "@jupyter-widgets/controls",
            "layout": "IPY_MODEL_1d8a37bc2d5b4f199bd1d94a8f8f9311"
          }
        },
        "1369ad37dd144b14801f7c52517ede0a": {
          "model_module": "@jupyter-widgets/controls",
          "model_name": "ProgressStyleModel",
          "state": {
            "_view_name": "StyleView",
            "_model_name": "ProgressStyleModel",
            "description_width": "initial",
            "_view_module": "@jupyter-widgets/base",
            "_model_module_version": "1.5.0",
            "_view_count": null,
            "_view_module_version": "1.2.0",
            "bar_color": null,
            "_model_module": "@jupyter-widgets/controls"
          }
        },
        "06b9492646e94046a26dfbfd38130de3": {
          "model_module": "@jupyter-widgets/base",
          "model_name": "LayoutModel",
          "state": {
            "_view_name": "LayoutView",
            "grid_template_rows": null,
            "right": null,
            "justify_content": null,
            "_view_module": "@jupyter-widgets/base",
            "overflow": null,
            "_model_module_version": "1.2.0",
            "_view_count": null,
            "flex_flow": null,
            "width": null,
            "min_width": null,
            "border": null,
            "align_items": null,
            "bottom": null,
            "_model_module": "@jupyter-widgets/base",
            "top": null,
            "grid_column": null,
            "overflow_y": null,
            "overflow_x": null,
            "grid_auto_flow": null,
            "grid_area": null,
            "grid_template_columns": null,
            "flex": null,
            "_model_name": "LayoutModel",
            "justify_items": null,
            "grid_row": null,
            "max_height": null,
            "align_content": null,
            "visibility": null,
            "align_self": null,
            "height": null,
            "min_height": null,
            "padding": null,
            "grid_auto_rows": null,
            "grid_gap": null,
            "max_width": null,
            "order": null,
            "_view_module_version": "1.2.0",
            "grid_template_areas": null,
            "object_position": null,
            "object_fit": null,
            "grid_auto_columns": null,
            "margin": null,
            "display": null,
            "left": null
          }
        },
        "4c45a617ba354ede8b11b73523df028d": {
          "model_module": "@jupyter-widgets/controls",
          "model_name": "DescriptionStyleModel",
          "state": {
            "_view_name": "StyleView",
            "_model_name": "DescriptionStyleModel",
            "description_width": "",
            "_view_module": "@jupyter-widgets/base",
            "_model_module_version": "1.5.0",
            "_view_count": null,
            "_view_module_version": "1.2.0",
            "_model_module": "@jupyter-widgets/controls"
          }
        },
        "1d8a37bc2d5b4f199bd1d94a8f8f9311": {
          "model_module": "@jupyter-widgets/base",
          "model_name": "LayoutModel",
          "state": {
            "_view_name": "LayoutView",
            "grid_template_rows": null,
            "right": null,
            "justify_content": null,
            "_view_module": "@jupyter-widgets/base",
            "overflow": null,
            "_model_module_version": "1.2.0",
            "_view_count": null,
            "flex_flow": null,
            "width": null,
            "min_width": null,
            "border": null,
            "align_items": null,
            "bottom": null,
            "_model_module": "@jupyter-widgets/base",
            "top": null,
            "grid_column": null,
            "overflow_y": null,
            "overflow_x": null,
            "grid_auto_flow": null,
            "grid_area": null,
            "grid_template_columns": null,
            "flex": null,
            "_model_name": "LayoutModel",
            "justify_items": null,
            "grid_row": null,
            "max_height": null,
            "align_content": null,
            "visibility": null,
            "align_self": null,
            "height": null,
            "min_height": null,
            "padding": null,
            "grid_auto_rows": null,
            "grid_gap": null,
            "max_width": null,
            "order": null,
            "_view_module_version": "1.2.0",
            "grid_template_areas": null,
            "object_position": null,
            "object_fit": null,
            "grid_auto_columns": null,
            "margin": null,
            "display": null,
            "left": null
          }
        },
        "99817f1b944d48bf98f03e30ab542397": {
          "model_module": "@jupyter-widgets/controls",
          "model_name": "HBoxModel",
          "state": {
            "_view_name": "HBoxView",
            "_dom_classes": [],
            "_model_name": "HBoxModel",
            "_view_module": "@jupyter-widgets/controls",
            "_model_module_version": "1.5.0",
            "_view_count": null,
            "_view_module_version": "1.5.0",
            "box_style": "",
            "layout": "IPY_MODEL_d07e92863e464b199deced34c3203b7a",
            "_model_module": "@jupyter-widgets/controls",
            "children": [
              "IPY_MODEL_f749ec39008b4f32b65d00d05878d278",
              "IPY_MODEL_8aa80e420fba49babaecd8285a9dd281"
            ]
          }
        },
        "d07e92863e464b199deced34c3203b7a": {
          "model_module": "@jupyter-widgets/base",
          "model_name": "LayoutModel",
          "state": {
            "_view_name": "LayoutView",
            "grid_template_rows": null,
            "right": null,
            "justify_content": null,
            "_view_module": "@jupyter-widgets/base",
            "overflow": null,
            "_model_module_version": "1.2.0",
            "_view_count": null,
            "flex_flow": null,
            "width": null,
            "min_width": null,
            "border": null,
            "align_items": null,
            "bottom": null,
            "_model_module": "@jupyter-widgets/base",
            "top": null,
            "grid_column": null,
            "overflow_y": null,
            "overflow_x": null,
            "grid_auto_flow": null,
            "grid_area": null,
            "grid_template_columns": null,
            "flex": null,
            "_model_name": "LayoutModel",
            "justify_items": null,
            "grid_row": null,
            "max_height": null,
            "align_content": null,
            "visibility": null,
            "align_self": null,
            "height": null,
            "min_height": null,
            "padding": null,
            "grid_auto_rows": null,
            "grid_gap": null,
            "max_width": null,
            "order": null,
            "_view_module_version": "1.2.0",
            "grid_template_areas": null,
            "object_position": null,
            "object_fit": null,
            "grid_auto_columns": null,
            "margin": null,
            "display": null,
            "left": null
          }
        },
        "f749ec39008b4f32b65d00d05878d278": {
          "model_module": "@jupyter-widgets/controls",
          "model_name": "FloatProgressModel",
          "state": {
            "_view_name": "ProgressView",
            "style": "IPY_MODEL_65aef49bf9b0436c9830389337447228",
            "_dom_classes": [],
            "description": "",
            "_model_name": "FloatProgressModel",
            "bar_style": "success",
            "max": 1,
            "_view_module": "@jupyter-widgets/controls",
            "_model_module_version": "1.5.0",
            "value": 1,
            "_view_count": null,
            "_view_module_version": "1.5.0",
            "orientation": "horizontal",
            "min": 0,
            "description_tooltip": null,
            "_model_module": "@jupyter-widgets/controls",
            "layout": "IPY_MODEL_93a236b84e9d4a5780d70e78511ce27a"
          }
        },
        "8aa80e420fba49babaecd8285a9dd281": {
          "model_module": "@jupyter-widgets/controls",
          "model_name": "HTMLModel",
          "state": {
            "_view_name": "HTMLView",
            "style": "IPY_MODEL_76ce96e4aa2c438a9aaf1fbeb9ba04ae",
            "_dom_classes": [],
            "description": "",
            "_model_name": "HTMLModel",
            "placeholder": "​",
            "_view_module": "@jupyter-widgets/controls",
            "_model_module_version": "1.5.0",
            "value": " 32768/? [00:00&lt;00:00, 80018.35it/s]",
            "_view_count": null,
            "_view_module_version": "1.5.0",
            "description_tooltip": null,
            "_model_module": "@jupyter-widgets/controls",
            "layout": "IPY_MODEL_ef282fe386b54267aaa632b5a4eacfd0"
          }
        },
        "65aef49bf9b0436c9830389337447228": {
          "model_module": "@jupyter-widgets/controls",
          "model_name": "ProgressStyleModel",
          "state": {
            "_view_name": "StyleView",
            "_model_name": "ProgressStyleModel",
            "description_width": "initial",
            "_view_module": "@jupyter-widgets/base",
            "_model_module_version": "1.5.0",
            "_view_count": null,
            "_view_module_version": "1.2.0",
            "bar_color": null,
            "_model_module": "@jupyter-widgets/controls"
          }
        },
        "93a236b84e9d4a5780d70e78511ce27a": {
          "model_module": "@jupyter-widgets/base",
          "model_name": "LayoutModel",
          "state": {
            "_view_name": "LayoutView",
            "grid_template_rows": null,
            "right": null,
            "justify_content": null,
            "_view_module": "@jupyter-widgets/base",
            "overflow": null,
            "_model_module_version": "1.2.0",
            "_view_count": null,
            "flex_flow": null,
            "width": null,
            "min_width": null,
            "border": null,
            "align_items": null,
            "bottom": null,
            "_model_module": "@jupyter-widgets/base",
            "top": null,
            "grid_column": null,
            "overflow_y": null,
            "overflow_x": null,
            "grid_auto_flow": null,
            "grid_area": null,
            "grid_template_columns": null,
            "flex": null,
            "_model_name": "LayoutModel",
            "justify_items": null,
            "grid_row": null,
            "max_height": null,
            "align_content": null,
            "visibility": null,
            "align_self": null,
            "height": null,
            "min_height": null,
            "padding": null,
            "grid_auto_rows": null,
            "grid_gap": null,
            "max_width": null,
            "order": null,
            "_view_module_version": "1.2.0",
            "grid_template_areas": null,
            "object_position": null,
            "object_fit": null,
            "grid_auto_columns": null,
            "margin": null,
            "display": null,
            "left": null
          }
        },
        "76ce96e4aa2c438a9aaf1fbeb9ba04ae": {
          "model_module": "@jupyter-widgets/controls",
          "model_name": "DescriptionStyleModel",
          "state": {
            "_view_name": "StyleView",
            "_model_name": "DescriptionStyleModel",
            "description_width": "",
            "_view_module": "@jupyter-widgets/base",
            "_model_module_version": "1.5.0",
            "_view_count": null,
            "_view_module_version": "1.2.0",
            "_model_module": "@jupyter-widgets/controls"
          }
        },
        "ef282fe386b54267aaa632b5a4eacfd0": {
          "model_module": "@jupyter-widgets/base",
          "model_name": "LayoutModel",
          "state": {
            "_view_name": "LayoutView",
            "grid_template_rows": null,
            "right": null,
            "justify_content": null,
            "_view_module": "@jupyter-widgets/base",
            "overflow": null,
            "_model_module_version": "1.2.0",
            "_view_count": null,
            "flex_flow": null,
            "width": null,
            "min_width": null,
            "border": null,
            "align_items": null,
            "bottom": null,
            "_model_module": "@jupyter-widgets/base",
            "top": null,
            "grid_column": null,
            "overflow_y": null,
            "overflow_x": null,
            "grid_auto_flow": null,
            "grid_area": null,
            "grid_template_columns": null,
            "flex": null,
            "_model_name": "LayoutModel",
            "justify_items": null,
            "grid_row": null,
            "max_height": null,
            "align_content": null,
            "visibility": null,
            "align_self": null,
            "height": null,
            "min_height": null,
            "padding": null,
            "grid_auto_rows": null,
            "grid_gap": null,
            "max_width": null,
            "order": null,
            "_view_module_version": "1.2.0",
            "grid_template_areas": null,
            "object_position": null,
            "object_fit": null,
            "grid_auto_columns": null,
            "margin": null,
            "display": null,
            "left": null
          }
        },
        "1ecdd07caeac451c9bda85c8bc55070d": {
          "model_module": "@jupyter-widgets/controls",
          "model_name": "HBoxModel",
          "state": {
            "_view_name": "HBoxView",
            "_dom_classes": [],
            "_model_name": "HBoxModel",
            "_view_module": "@jupyter-widgets/controls",
            "_model_module_version": "1.5.0",
            "_view_count": null,
            "_view_module_version": "1.5.0",
            "box_style": "",
            "layout": "IPY_MODEL_51358cd84d7f4e3ea2b2eb571573c45c",
            "_model_module": "@jupyter-widgets/controls",
            "children": [
              "IPY_MODEL_d6e22b8e50a74061b03140ef755ede00",
              "IPY_MODEL_7b27b2fc5ed44f8080f1ab7e0f325b0c"
            ]
          }
        },
        "51358cd84d7f4e3ea2b2eb571573c45c": {
          "model_module": "@jupyter-widgets/base",
          "model_name": "LayoutModel",
          "state": {
            "_view_name": "LayoutView",
            "grid_template_rows": null,
            "right": null,
            "justify_content": null,
            "_view_module": "@jupyter-widgets/base",
            "overflow": null,
            "_model_module_version": "1.2.0",
            "_view_count": null,
            "flex_flow": null,
            "width": null,
            "min_width": null,
            "border": null,
            "align_items": null,
            "bottom": null,
            "_model_module": "@jupyter-widgets/base",
            "top": null,
            "grid_column": null,
            "overflow_y": null,
            "overflow_x": null,
            "grid_auto_flow": null,
            "grid_area": null,
            "grid_template_columns": null,
            "flex": null,
            "_model_name": "LayoutModel",
            "justify_items": null,
            "grid_row": null,
            "max_height": null,
            "align_content": null,
            "visibility": null,
            "align_self": null,
            "height": null,
            "min_height": null,
            "padding": null,
            "grid_auto_rows": null,
            "grid_gap": null,
            "max_width": null,
            "order": null,
            "_view_module_version": "1.2.0",
            "grid_template_areas": null,
            "object_position": null,
            "object_fit": null,
            "grid_auto_columns": null,
            "margin": null,
            "display": null,
            "left": null
          }
        },
        "d6e22b8e50a74061b03140ef755ede00": {
          "model_module": "@jupyter-widgets/controls",
          "model_name": "FloatProgressModel",
          "state": {
            "_view_name": "ProgressView",
            "style": "IPY_MODEL_381a7fe9df6148529bd5629fcd3fe057",
            "_dom_classes": [],
            "description": "",
            "_model_name": "FloatProgressModel",
            "bar_style": "success",
            "max": 1,
            "_view_module": "@jupyter-widgets/controls",
            "_model_module_version": "1.5.0",
            "value": 1,
            "_view_count": null,
            "_view_module_version": "1.5.0",
            "orientation": "horizontal",
            "min": 0,
            "description_tooltip": null,
            "_model_module": "@jupyter-widgets/controls",
            "layout": "IPY_MODEL_cbb0696702aa408f9b5f36a214d25ca1"
          }
        },
        "7b27b2fc5ed44f8080f1ab7e0f325b0c": {
          "model_module": "@jupyter-widgets/controls",
          "model_name": "HTMLModel",
          "state": {
            "_view_name": "HTMLView",
            "style": "IPY_MODEL_5581350808fc41b18ca361003c08c7b3",
            "_dom_classes": [],
            "description": "",
            "_model_name": "HTMLModel",
            "placeholder": "​",
            "_view_module": "@jupyter-widgets/controls",
            "_model_module_version": "1.5.0",
            "value": " 1654784/? [00:00&lt;00:00, 5665078.43it/s]",
            "_view_count": null,
            "_view_module_version": "1.5.0",
            "description_tooltip": null,
            "_model_module": "@jupyter-widgets/controls",
            "layout": "IPY_MODEL_97f4763b5d8546ac8d042ed0aeeaa3d9"
          }
        },
        "381a7fe9df6148529bd5629fcd3fe057": {
          "model_module": "@jupyter-widgets/controls",
          "model_name": "ProgressStyleModel",
          "state": {
            "_view_name": "StyleView",
            "_model_name": "ProgressStyleModel",
            "description_width": "initial",
            "_view_module": "@jupyter-widgets/base",
            "_model_module_version": "1.5.0",
            "_view_count": null,
            "_view_module_version": "1.2.0",
            "bar_color": null,
            "_model_module": "@jupyter-widgets/controls"
          }
        },
        "cbb0696702aa408f9b5f36a214d25ca1": {
          "model_module": "@jupyter-widgets/base",
          "model_name": "LayoutModel",
          "state": {
            "_view_name": "LayoutView",
            "grid_template_rows": null,
            "right": null,
            "justify_content": null,
            "_view_module": "@jupyter-widgets/base",
            "overflow": null,
            "_model_module_version": "1.2.0",
            "_view_count": null,
            "flex_flow": null,
            "width": null,
            "min_width": null,
            "border": null,
            "align_items": null,
            "bottom": null,
            "_model_module": "@jupyter-widgets/base",
            "top": null,
            "grid_column": null,
            "overflow_y": null,
            "overflow_x": null,
            "grid_auto_flow": null,
            "grid_area": null,
            "grid_template_columns": null,
            "flex": null,
            "_model_name": "LayoutModel",
            "justify_items": null,
            "grid_row": null,
            "max_height": null,
            "align_content": null,
            "visibility": null,
            "align_self": null,
            "height": null,
            "min_height": null,
            "padding": null,
            "grid_auto_rows": null,
            "grid_gap": null,
            "max_width": null,
            "order": null,
            "_view_module_version": "1.2.0",
            "grid_template_areas": null,
            "object_position": null,
            "object_fit": null,
            "grid_auto_columns": null,
            "margin": null,
            "display": null,
            "left": null
          }
        },
        "5581350808fc41b18ca361003c08c7b3": {
          "model_module": "@jupyter-widgets/controls",
          "model_name": "DescriptionStyleModel",
          "state": {
            "_view_name": "StyleView",
            "_model_name": "DescriptionStyleModel",
            "description_width": "",
            "_view_module": "@jupyter-widgets/base",
            "_model_module_version": "1.5.0",
            "_view_count": null,
            "_view_module_version": "1.2.0",
            "_model_module": "@jupyter-widgets/controls"
          }
        },
        "97f4763b5d8546ac8d042ed0aeeaa3d9": {
          "model_module": "@jupyter-widgets/base",
          "model_name": "LayoutModel",
          "state": {
            "_view_name": "LayoutView",
            "grid_template_rows": null,
            "right": null,
            "justify_content": null,
            "_view_module": "@jupyter-widgets/base",
            "overflow": null,
            "_model_module_version": "1.2.0",
            "_view_count": null,
            "flex_flow": null,
            "width": null,
            "min_width": null,
            "border": null,
            "align_items": null,
            "bottom": null,
            "_model_module": "@jupyter-widgets/base",
            "top": null,
            "grid_column": null,
            "overflow_y": null,
            "overflow_x": null,
            "grid_auto_flow": null,
            "grid_area": null,
            "grid_template_columns": null,
            "flex": null,
            "_model_name": "LayoutModel",
            "justify_items": null,
            "grid_row": null,
            "max_height": null,
            "align_content": null,
            "visibility": null,
            "align_self": null,
            "height": null,
            "min_height": null,
            "padding": null,
            "grid_auto_rows": null,
            "grid_gap": null,
            "max_width": null,
            "order": null,
            "_view_module_version": "1.2.0",
            "grid_template_areas": null,
            "object_position": null,
            "object_fit": null,
            "grid_auto_columns": null,
            "margin": null,
            "display": null,
            "left": null
          }
        },
        "0ecf34a0129946fb9722189f1415583e": {
          "model_module": "@jupyter-widgets/controls",
          "model_name": "HBoxModel",
          "state": {
            "_view_name": "HBoxView",
            "_dom_classes": [],
            "_model_name": "HBoxModel",
            "_view_module": "@jupyter-widgets/controls",
            "_model_module_version": "1.5.0",
            "_view_count": null,
            "_view_module_version": "1.5.0",
            "box_style": "",
            "layout": "IPY_MODEL_44dff70e88e14108b57b9c2abef98cf3",
            "_model_module": "@jupyter-widgets/controls",
            "children": [
              "IPY_MODEL_9d963a39fe7047e4a7657a7a3f4dc616",
              "IPY_MODEL_225a036b082948329a1851d30b4c76e3"
            ]
          }
        },
        "44dff70e88e14108b57b9c2abef98cf3": {
          "model_module": "@jupyter-widgets/base",
          "model_name": "LayoutModel",
          "state": {
            "_view_name": "LayoutView",
            "grid_template_rows": null,
            "right": null,
            "justify_content": null,
            "_view_module": "@jupyter-widgets/base",
            "overflow": null,
            "_model_module_version": "1.2.0",
            "_view_count": null,
            "flex_flow": null,
            "width": null,
            "min_width": null,
            "border": null,
            "align_items": null,
            "bottom": null,
            "_model_module": "@jupyter-widgets/base",
            "top": null,
            "grid_column": null,
            "overflow_y": null,
            "overflow_x": null,
            "grid_auto_flow": null,
            "grid_area": null,
            "grid_template_columns": null,
            "flex": null,
            "_model_name": "LayoutModel",
            "justify_items": null,
            "grid_row": null,
            "max_height": null,
            "align_content": null,
            "visibility": null,
            "align_self": null,
            "height": null,
            "min_height": null,
            "padding": null,
            "grid_auto_rows": null,
            "grid_gap": null,
            "max_width": null,
            "order": null,
            "_view_module_version": "1.2.0",
            "grid_template_areas": null,
            "object_position": null,
            "object_fit": null,
            "grid_auto_columns": null,
            "margin": null,
            "display": null,
            "left": null
          }
        },
        "9d963a39fe7047e4a7657a7a3f4dc616": {
          "model_module": "@jupyter-widgets/controls",
          "model_name": "FloatProgressModel",
          "state": {
            "_view_name": "ProgressView",
            "style": "IPY_MODEL_107ee9edd02e41b5972a17279e6bcf4d",
            "_dom_classes": [],
            "description": "  0%",
            "_model_name": "FloatProgressModel",
            "bar_style": "info",
            "max": 1,
            "_view_module": "@jupyter-widgets/controls",
            "_model_module_version": "1.5.0",
            "value": 0,
            "_view_count": null,
            "_view_module_version": "1.5.0",
            "orientation": "horizontal",
            "min": 0,
            "description_tooltip": null,
            "_model_module": "@jupyter-widgets/controls",
            "layout": "IPY_MODEL_4bca004c8cac4bfd8110f5f8be40f9ef"
          }
        },
        "225a036b082948329a1851d30b4c76e3": {
          "model_module": "@jupyter-widgets/controls",
          "model_name": "HTMLModel",
          "state": {
            "_view_name": "HTMLView",
            "style": "IPY_MODEL_3c87d694764144eba1b9b22e52ad247a",
            "_dom_classes": [],
            "description": "",
            "_model_name": "HTMLModel",
            "placeholder": "​",
            "_view_module": "@jupyter-widgets/controls",
            "_model_module_version": "1.5.0",
            "value": " 0/4542 [00:00&lt;?, ?it/s]",
            "_view_count": null,
            "_view_module_version": "1.5.0",
            "description_tooltip": null,
            "_model_module": "@jupyter-widgets/controls",
            "layout": "IPY_MODEL_0e956a444f70473e950c5dc4295407a9"
          }
        },
        "107ee9edd02e41b5972a17279e6bcf4d": {
          "model_module": "@jupyter-widgets/controls",
          "model_name": "ProgressStyleModel",
          "state": {
            "_view_name": "StyleView",
            "_model_name": "ProgressStyleModel",
            "description_width": "initial",
            "_view_module": "@jupyter-widgets/base",
            "_model_module_version": "1.5.0",
            "_view_count": null,
            "_view_module_version": "1.2.0",
            "bar_color": null,
            "_model_module": "@jupyter-widgets/controls"
          }
        },
        "4bca004c8cac4bfd8110f5f8be40f9ef": {
          "model_module": "@jupyter-widgets/base",
          "model_name": "LayoutModel",
          "state": {
            "_view_name": "LayoutView",
            "grid_template_rows": null,
            "right": null,
            "justify_content": null,
            "_view_module": "@jupyter-widgets/base",
            "overflow": null,
            "_model_module_version": "1.2.0",
            "_view_count": null,
            "flex_flow": null,
            "width": null,
            "min_width": null,
            "border": null,
            "align_items": null,
            "bottom": null,
            "_model_module": "@jupyter-widgets/base",
            "top": null,
            "grid_column": null,
            "overflow_y": null,
            "overflow_x": null,
            "grid_auto_flow": null,
            "grid_area": null,
            "grid_template_columns": null,
            "flex": null,
            "_model_name": "LayoutModel",
            "justify_items": null,
            "grid_row": null,
            "max_height": null,
            "align_content": null,
            "visibility": null,
            "align_self": null,
            "height": null,
            "min_height": null,
            "padding": null,
            "grid_auto_rows": null,
            "grid_gap": null,
            "max_width": null,
            "order": null,
            "_view_module_version": "1.2.0",
            "grid_template_areas": null,
            "object_position": null,
            "object_fit": null,
            "grid_auto_columns": null,
            "margin": null,
            "display": null,
            "left": null
          }
        },
        "3c87d694764144eba1b9b22e52ad247a": {
          "model_module": "@jupyter-widgets/controls",
          "model_name": "DescriptionStyleModel",
          "state": {
            "_view_name": "StyleView",
            "_model_name": "DescriptionStyleModel",
            "description_width": "",
            "_view_module": "@jupyter-widgets/base",
            "_model_module_version": "1.5.0",
            "_view_count": null,
            "_view_module_version": "1.2.0",
            "_model_module": "@jupyter-widgets/controls"
          }
        },
        "0e956a444f70473e950c5dc4295407a9": {
          "model_module": "@jupyter-widgets/base",
          "model_name": "LayoutModel",
          "state": {
            "_view_name": "LayoutView",
            "grid_template_rows": null,
            "right": null,
            "justify_content": null,
            "_view_module": "@jupyter-widgets/base",
            "overflow": null,
            "_model_module_version": "1.2.0",
            "_view_count": null,
            "flex_flow": null,
            "width": null,
            "min_width": null,
            "border": null,
            "align_items": null,
            "bottom": null,
            "_model_module": "@jupyter-widgets/base",
            "top": null,
            "grid_column": null,
            "overflow_y": null,
            "overflow_x": null,
            "grid_auto_flow": null,
            "grid_area": null,
            "grid_template_columns": null,
            "flex": null,
            "_model_name": "LayoutModel",
            "justify_items": null,
            "grid_row": null,
            "max_height": null,
            "align_content": null,
            "visibility": null,
            "align_self": null,
            "height": null,
            "min_height": null,
            "padding": null,
            "grid_auto_rows": null,
            "grid_gap": null,
            "max_width": null,
            "order": null,
            "_view_module_version": "1.2.0",
            "grid_template_areas": null,
            "object_position": null,
            "object_fit": null,
            "grid_auto_columns": null,
            "margin": null,
            "display": null,
            "left": null
          }
        }
      }
    }
  },
  "cells": [
    {
      "cell_type": "markdown",
      "metadata": {
        "id": "view-in-github",
        "colab_type": "text"
      },
      "source": [
        "<a href=\"https://colab.research.google.com/github/xTavi/BlackBoxAttack/blob/master/BlackBoxAttack.ipynb\" target=\"_parent\"><img src=\"https://colab.research.google.com/assets/colab-badge.svg\" alt=\"Open In Colab\"/></a>"
      ]
    },
    {
      "cell_type": "code",
      "metadata": {
        "id": "-gn2_nTFp9lA",
        "colab_type": "code",
        "colab": {
          "base_uri": "https://localhost:8080/",
          "height": 128
        },
        "outputId": "5ae757f5-8b28-458d-c4b2-09cff38beef3"
      },
      "source": [
        "from __future__ import print_function\n",
        "import os\n",
        "import argparse\n",
        "import torch\n",
        "import torch.nn as nn\n",
        "import torch.nn.functional as F\n",
        "import torch.optim as optim\n",
        "from IPython.core.debugger import set_trace\n",
        "from matplotlib import pyplot\n",
        "from google.colab import drive\n",
        "import matplotlib.pyplot as plt\n",
        "drive.mount('/content/gdrive')\n",
        "import torch.onnx\n",
        "import torchvision.datasets as dset\n",
        "import torchvision.transforms as transforms\n",
        "import torchvision.models as models\n",
        "import numpy as np\n",
        "# import utils\n",
        "import math\n",
        "import random\n",
        "import pdb"
      ],
      "execution_count": 1,
      "outputs": [
        {
          "output_type": "stream",
          "text": [
            "Go to this URL in a browser: https://accounts.google.com/o/oauth2/auth?client_id=947318989803-6bn6qk8qdgf4n4g3pfee6491hc0brc4i.apps.googleusercontent.com&redirect_uri=urn%3aietf%3awg%3aoauth%3a2.0%3aoob&scope=email%20https%3a%2f%2fwww.googleapis.com%2fauth%2fdocs.test%20https%3a%2f%2fwww.googleapis.com%2fauth%2fdrive%20https%3a%2f%2fwww.googleapis.com%2fauth%2fdrive.photos.readonly%20https%3a%2f%2fwww.googleapis.com%2fauth%2fpeopleapi.readonly&response_type=code\n",
            "\n",
            "Enter your authorization code:\n",
            "··········\n",
            "Mounted at /content/gdrive\n"
          ],
          "name": "stdout"
        }
      ]
    },
    {
      "cell_type": "code",
      "metadata": {
        "id": "Ev-gbiX0ubBb",
        "colab_type": "code",
        "colab": {}
      },
      "source": [
        "# class containing parameters for CNN optimizer  \n",
        "kwargs={}\n",
        "class Args():\n",
        "  def __init__(self):\n",
        "      self.batch_size = 64\n",
        "      self.test_batch_size = 64\n",
        "      self.epochs = 10#10\n",
        "      self.lr = 0.01\n",
        "      self.momentum = 0.9\n",
        "      self.seed = 1\n",
        "      self.log_interval = int(10000 / self.batch_size)\n",
        "      self.cuda = False\n",
        "\n",
        "args = Args()\n",
        "use_cuda = torch.cuda.is_available()\n",
        "torch.manual_seed(args.seed)\n",
        "device = torch.device(\"cuda\" if use_cuda else \"cpu\")\n",
        "kwargs = {'num_workers': 1, 'pin_memory': True} if use_cuda else {}"
      ],
      "execution_count": 2,
      "outputs": []
    },
    {
      "cell_type": "code",
      "metadata": {
        "id": "9biApUT_ud1a",
        "colab_type": "code",
        "colab": {
          "base_uri": "https://localhost:8080/",
          "height": 383,
          "referenced_widgets": [
            "d7d7022f94b3482fbd4947f1b7966420",
            "62c82400c52c4982ac0ef16a7a1466db",
            "8ea103fcf1b34be3807402e6493ebdf1",
            "aeab41628f444982923ee41da33f4e6e",
            "1a1aec0023ce484cbcd6e77b76c9e957",
            "988895c8276b4d92a92bdcec225b0ef0",
            "14962b3c28ea451f99e3136d9e3b9c13",
            "826cf138d7a3418ab6eafc2707f94c6f",
            "a85624cf97c145979935c3b7ce6ab615",
            "7dc17096416248c19dc2d70d2a1c8cf5",
            "333d79099c6e43fb83d1afbaf43f1ccc",
            "bdd61b53f0eb4ad1ba4f49bfb18efa9f",
            "b69ba0a3f281435488ed4acc1f656e6e",
            "1b15a9b611434998b06b019b7d2c9232",
            "bcb37fa47d67497e866e060b38ee599d",
            "a2acf81d7d494b8cb84665976522cb1e",
            "a79a981f595a40bba4168f84d0823135",
            "c251f97064c147b6bb86c4b8f7ad01ef",
            "5506c05c4194446592a054d762332de5",
            "9ed65009ed134a338c49e9d7cbedf2c1",
            "a3bdea55bbd5450d9acf32fa735bff63",
            "9e0a9d133a9946b690b4f9987b3a0034",
            "6a0361413da248d891752d0ed58420c4",
            "15bd3d46638440d3bb57d1b2160da7c8",
            "3ce6a64f59694d41a334159cd8b5db22",
            "aafd129de2b34683b95620974a418668",
            "a6cf5ad6d3104e0a8f085866189c67e8",
            "c1c5da75a8654a61ba2f617af1c13647",
            "1e728e0babda4f889968e8ec45fe71df",
            "50b62c5601994dca946b306efe18af43",
            "c87ddd56eb8b408baa91a976c79a6a72",
            "09391c553f4a4b44a5d3ec3287092a7e"
          ]
        },
        "outputId": "b9c288ef-e99e-481c-ee1e-7aa02548d85d"
      },
      "source": [
        "# code to download MNIST datasets for first method\n",
        "# loaders for train and test data, respectively\n",
        "# the data will be in pytorch tensor format\n",
        "\n",
        "train_loader = torch.utils.data.DataLoader(\n",
        "    dset.MNIST('../data', train=True, download=True,\n",
        "                   transform=transforms.Compose([\n",
        "                       transforms.ToTensor(),\n",
        "                   ])),\n",
        "    batch_size=args.batch_size, shuffle=True,drop_last=True, **kwargs)\n",
        "\n",
        "test_loader = torch.utils.data.DataLoader(\n",
        "    dset.MNIST('../data', train=False, transform=transforms.Compose([\n",
        "                       transforms.ToTensor(),\n",
        "                   ])),\n",
        "    batch_size=args.test_batch_size, shuffle=True,drop_last=True, **kwargs)"
      ],
      "execution_count": 3,
      "outputs": [
        {
          "output_type": "stream",
          "text": [
            "Downloading http://yann.lecun.com/exdb/mnist/train-images-idx3-ubyte.gz to ../data/MNIST/raw/train-images-idx3-ubyte.gz\n"
          ],
          "name": "stdout"
        },
        {
          "output_type": "display_data",
          "data": {
            "application/vnd.jupyter.widget-view+json": {
              "model_id": "d7d7022f94b3482fbd4947f1b7966420",
              "version_minor": 0,
              "version_major": 2
            },
            "text/plain": [
              "HBox(children=(FloatProgress(value=1.0, bar_style='info', max=1.0), HTML(value='')))"
            ]
          },
          "metadata": {
            "tags": []
          }
        },
        {
          "output_type": "stream",
          "text": [
            "Extracting ../data/MNIST/raw/train-images-idx3-ubyte.gz to ../data/MNIST/raw\n",
            "Downloading http://yann.lecun.com/exdb/mnist/train-labels-idx1-ubyte.gz to ../data/MNIST/raw/train-labels-idx1-ubyte.gz\n"
          ],
          "name": "stdout"
        },
        {
          "output_type": "display_data",
          "data": {
            "application/vnd.jupyter.widget-view+json": {
              "model_id": "a85624cf97c145979935c3b7ce6ab615",
              "version_minor": 0,
              "version_major": 2
            },
            "text/plain": [
              "HBox(children=(FloatProgress(value=1.0, bar_style='info', max=1.0), HTML(value='')))"
            ]
          },
          "metadata": {
            "tags": []
          }
        },
        {
          "output_type": "stream",
          "text": [
            "Extracting ../data/MNIST/raw/train-labels-idx1-ubyte.gz to ../data/MNIST/raw\n",
            "Downloading http://yann.lecun.com/exdb/mnist/t10k-images-idx3-ubyte.gz to ../data/MNIST/raw/t10k-images-idx3-ubyte.gz\n"
          ],
          "name": "stdout"
        },
        {
          "output_type": "display_data",
          "data": {
            "application/vnd.jupyter.widget-view+json": {
              "model_id": "a79a981f595a40bba4168f84d0823135",
              "version_minor": 0,
              "version_major": 2
            },
            "text/plain": [
              "HBox(children=(FloatProgress(value=1.0, bar_style='info', max=1.0), HTML(value='')))"
            ]
          },
          "metadata": {
            "tags": []
          }
        },
        {
          "output_type": "stream",
          "text": [
            "Extracting ../data/MNIST/raw/t10k-images-idx3-ubyte.gz to ../data/MNIST/raw\n",
            "Downloading http://yann.lecun.com/exdb/mnist/t10k-labels-idx1-ubyte.gz to ../data/MNIST/raw/t10k-labels-idx1-ubyte.gz\n"
          ],
          "name": "stdout"
        },
        {
          "output_type": "display_data",
          "data": {
            "application/vnd.jupyter.widget-view+json": {
              "model_id": "3ce6a64f59694d41a334159cd8b5db22",
              "version_minor": 0,
              "version_major": 2
            },
            "text/plain": [
              "HBox(children=(FloatProgress(value=1.0, bar_style='info', max=1.0), HTML(value='')))"
            ]
          },
          "metadata": {
            "tags": []
          }
        },
        {
          "output_type": "stream",
          "text": [
            "Extracting ../data/MNIST/raw/t10k-labels-idx1-ubyte.gz to ../data/MNIST/raw\n",
            "Processing...\n",
            "Done!\n"
          ],
          "name": "stdout"
        },
        {
          "output_type": "stream",
          "text": [
            "/usr/local/lib/python3.6/dist-packages/torchvision/datasets/mnist.py:469: UserWarning: The given NumPy array is not writeable, and PyTorch does not support non-writeable tensors. This means you can write to the underlying (supposedly non-writeable) NumPy array using the tensor. You may want to copy the array to protect its data or make it writeable before converting it to a tensor. This type of warning will be suppressed for the rest of this program. (Triggered internally at  /pytorch/torch/csrc/utils/tensor_numpy.cpp:141.)\n",
            "  return torch.from_numpy(parsed.astype(m[2], copy=False)).view(*s)\n"
          ],
          "name": "stderr"
        }
      ]
    },
    {
      "cell_type": "code",
      "metadata": {
        "id": "osnAVmLKueKY",
        "colab_type": "code",
        "colab": {}
      },
      "source": [
        "# change folder to keep track later on\n",
        "# note - don't change before downloading the MINST data\n",
        "os.chdir(\"/content/gdrive/My Drive/\")\n",
        "# data is saved in the main directory in google drive"
      ],
      "execution_count": 4,
      "outputs": []
    },
    {
      "cell_type": "code",
      "metadata": {
        "id": "2Be06nLjueUP",
        "colab_type": "code",
        "colab": {
          "base_uri": "https://localhost:8080/",
          "height": 53
        },
        "outputId": "d8a6951c-4a34-4b02-f017-ee4b41b37b7c"
      },
      "source": [
        "# arhitecture for CNN\n",
        "# will use those same parameters in the following cells\n",
        "# serves as a starting point for fully connected CNN\n",
        "number_of_filters_1 = 20\n",
        "number_of_filters_2 = 50\n",
        "nn1 = 500\n",
        "class CNN(nn.Module):\n",
        "    def __init__(self):\n",
        "        super().__init__()\n",
        "        self.conv1 = nn.Conv2d(1, number_of_filters_1, 5, 1)\n",
        "        self.conv2 = nn.Conv2d(number_of_filters_1, number_of_filters_2, 5, 1)\n",
        "        self.fc1 = nn.Linear(4*4*number_of_filters_2, nn1)\n",
        "        # 10 classes, one for each digit\n",
        "        self.fc2 = nn.Linear(nn1, 10)\n",
        "\n",
        "    def forward(self, x):\n",
        "        # activation functions\n",
        "        x = F.relu(self.conv1(x))\n",
        "        x = F.max_pool2d(x, 2, 2)\n",
        "        x = F.relu(self.conv2(x))\n",
        "        x = F.max_pool2d(x, 2, 2)\n",
        "        x = x.view(-1, 4*4*number_of_filters_2)\n",
        "        x = F.relu(self.fc1(x))\n",
        "        x = self.fc2(x)\n",
        "        return nn.LogSoftmax(dim=1)(x)+35"
      ],
      "execution_count": 5,
      "outputs": [
        {
          "output_type": "stream",
          "text": [
            "\n",
            "\n"
          ],
          "name": "stdout"
        }
      ]
    },
    {
      "cell_type": "code",
      "metadata": {
        "id": "0vJkpvOOuecT",
        "colab_type": "code",
        "colab": {}
      },
      "source": [
        "# define a function for training and testing, respectively\n",
        "# similar to what we have done in the laboratory\n",
        "def train(args, model, device, train_loader, optimizer, epoch):\n",
        "    model.train()\n",
        "    # use batches\n",
        "    for batch_idx, (data, target) in enumerate(train_loader):\n",
        "        data, target = data.to(device), target.to(device)\n",
        "        optimizer.zero_grad()\n",
        "        output = model(data)\n",
        "        loss = F.nll_loss(output, target)\n",
        "        loss.backward()\n",
        "        optimizer.step()\n",
        "        # print loss at every step of the way\n",
        "        if batch_idx % args.log_interval == 0:\n",
        "            print('Train data performance for epoch {}:  for {:.0f}% of the data we have loss: {:.6f}'.format(epoch, 100. * batch_idx / len(train_loader), loss.item()))\n",
        "            \n",
        "def test(args, model, device, test_loader):\n",
        "    model.eval()\n",
        "    test_loss = 0\n",
        "    # for accuracy we will\n",
        "    # keep track of how many correct items classified as a percentage of total\n",
        "    correct = 0\n",
        "    with torch.no_grad():\n",
        "        for data, target in test_loader:\n",
        "            data, target = data.to(device), target.to(device)\n",
        "            output = model(data)\n",
        "            # sum up batch loss\n",
        "            test_loss += F.nll_loss(output, target, reduction='sum').item() \n",
        "            # get the index of the max log-probability\n",
        "            pred = output.argmax(dim=1, keepdim=True) \n",
        "            # increment correctly classified items\n",
        "            correct += pred.eq(target.view_as(pred)).sum().item()\n",
        "\n",
        "    # divide by the number of examples to get average loss\n",
        "    test_loss /= len(test_loader.dataset)\n",
        "    # print average loss and accuracy on test data\n",
        "    print('Computing accuracy on the test data: Average loss: {:.4f}, Accuracy: {}/{} ({:.0f}%)'.format(test_loss, correct, len(test_loader.dataset), 100. * correct / len(test_loader.dataset)))"
      ],
      "execution_count": null,
      "outputs": []
    },
    {
      "cell_type": "code",
      "metadata": {
        "id": "vnwD42UbuekK",
        "colab_type": "code",
        "colab": {
          "base_uri": "https://localhost:8080/",
          "height": 1000
        },
        "outputId": "873385cf-835d-41f3-ce13-3fd5d99af31b"
      },
      "source": [
        "# # create and train, test our CNN\n",
        "# model = CNN().to(device)\n",
        "\n",
        "# optimizer = optim.SGD(model.parameters(), lr=args.lr, momentum=args.momentum)\n",
        "\n",
        "# for epoch in range(1, args.epochs + 1):\n",
        "#     train(args, model, device, train_loader, optimizer, epoch)\n",
        "#     test(args, model, device, test_loader)\n",
        "\n",
        "# # we save the model to save parameters for later\n",
        "# torch.save(model.state_dict(),\"conv_net.pt\")"
      ],
      "execution_count": null,
      "outputs": [
        {
          "output_type": "stream",
          "text": [
            "Train data performance for epoch 1:  for 0% of the data we have loss: -32.698490\n",
            "Train data performance for epoch 1:  for 17% of the data we have loss: -34.579052\n",
            "Train data performance for epoch 1:  for 33% of the data we have loss: -34.778152\n",
            "Train data performance for epoch 1:  for 50% of the data we have loss: -34.868176\n",
            "Train data performance for epoch 1:  for 67% of the data we have loss: -34.994038\n",
            "Train data performance for epoch 1:  for 83% of the data we have loss: -34.956245\n",
            "Train data performance for epoch 1:  for 100% of the data we have loss: -34.932899\n",
            "Computing accuracy on the test data: Average loss: -34.8767, Accuracy: 9760/10000 (98%)\n",
            "Train data performance for epoch 2:  for 0% of the data we have loss: -34.922314\n",
            "Train data performance for epoch 2:  for 17% of the data we have loss: -34.987942\n",
            "Train data performance for epoch 2:  for 33% of the data we have loss: -34.983002\n",
            "Train data performance for epoch 2:  for 50% of the data we have loss: -34.799370\n",
            "Train data performance for epoch 2:  for 67% of the data we have loss: -34.985691\n",
            "Train data performance for epoch 2:  for 83% of the data we have loss: -34.961403\n",
            "Train data performance for epoch 2:  for 100% of the data we have loss: -34.947990\n",
            "Computing accuracy on the test data: Average loss: -34.8984, Accuracy: 9834/10000 (98%)\n",
            "Train data performance for epoch 3:  for 0% of the data we have loss: -34.987869\n",
            "Train data performance for epoch 3:  for 17% of the data we have loss: -34.970390\n",
            "Train data performance for epoch 3:  for 33% of the data we have loss: -34.976395\n",
            "Train data performance for epoch 3:  for 50% of the data we have loss: -34.994797\n",
            "Train data performance for epoch 3:  for 67% of the data we have loss: -34.847134\n",
            "Train data performance for epoch 3:  for 83% of the data we have loss: -34.806976\n",
            "Train data performance for epoch 3:  for 100% of the data we have loss: -34.996037\n",
            "Computing accuracy on the test data: Average loss: -34.9100, Accuracy: 9866/10000 (99%)\n",
            "Train data performance for epoch 4:  for 0% of the data we have loss: -34.994400\n",
            "Train data performance for epoch 4:  for 17% of the data we have loss: -34.987888\n",
            "Train data performance for epoch 4:  for 33% of the data we have loss: -34.943237\n",
            "Train data performance for epoch 4:  for 50% of the data we have loss: -34.925278\n",
            "Train data performance for epoch 4:  for 67% of the data we have loss: -34.962635\n",
            "Train data performance for epoch 4:  for 83% of the data we have loss: -34.994057\n",
            "Train data performance for epoch 4:  for 100% of the data we have loss: -34.991676\n",
            "Computing accuracy on the test data: Average loss: -34.9088, Accuracy: 9859/10000 (99%)\n",
            "Train data performance for epoch 5:  for 0% of the data we have loss: -34.995190\n",
            "Train data performance for epoch 5:  for 17% of the data we have loss: -34.997234\n",
            "Train data performance for epoch 5:  for 33% of the data we have loss: -34.917076\n",
            "Train data performance for epoch 5:  for 50% of the data we have loss: -34.997604\n",
            "Train data performance for epoch 5:  for 67% of the data we have loss: -34.911358\n",
            "Train data performance for epoch 5:  for 83% of the data we have loss: -34.994015\n",
            "Train data performance for epoch 5:  for 100% of the data we have loss: -34.963047\n",
            "Computing accuracy on the test data: Average loss: -34.9148, Accuracy: 9887/10000 (99%)\n",
            "Train data performance for epoch 6:  for 0% of the data we have loss: -34.899273\n",
            "Train data performance for epoch 6:  for 17% of the data we have loss: -34.996174\n",
            "Train data performance for epoch 6:  for 33% of the data we have loss: -34.974617\n",
            "Train data performance for epoch 6:  for 50% of the data we have loss: -34.997284\n",
            "Train data performance for epoch 6:  for 67% of the data we have loss: -34.985962\n",
            "Train data performance for epoch 6:  for 83% of the data we have loss: -34.975433\n",
            "Train data performance for epoch 6:  for 100% of the data we have loss: -34.995296\n",
            "Computing accuracy on the test data: Average loss: -34.9162, Accuracy: 9887/10000 (99%)\n",
            "Train data performance for epoch 7:  for 0% of the data we have loss: -34.992771\n",
            "Train data performance for epoch 7:  for 17% of the data we have loss: -34.971588\n",
            "Train data performance for epoch 7:  for 33% of the data we have loss: -34.995964\n",
            "Train data performance for epoch 7:  for 50% of the data we have loss: -34.971756\n",
            "Train data performance for epoch 7:  for 67% of the data we have loss: -34.980133\n",
            "Train data performance for epoch 7:  for 83% of the data we have loss: -34.984287\n",
            "Train data performance for epoch 7:  for 100% of the data we have loss: -34.998158\n",
            "Computing accuracy on the test data: Average loss: -34.9149, Accuracy: 9879/10000 (99%)\n",
            "Train data performance for epoch 8:  for 0% of the data we have loss: -34.999130\n",
            "Train data performance for epoch 8:  for 17% of the data we have loss: -34.999130\n",
            "Train data performance for epoch 8:  for 33% of the data we have loss: -34.998978\n",
            "Train data performance for epoch 8:  for 50% of the data we have loss: -34.995155\n",
            "Train data performance for epoch 8:  for 67% of the data we have loss: -34.999611\n",
            "Train data performance for epoch 8:  for 83% of the data we have loss: -34.992588\n",
            "Train data performance for epoch 8:  for 100% of the data we have loss: -34.996605\n",
            "Computing accuracy on the test data: Average loss: -34.9181, Accuracy: 9904/10000 (99%)\n",
            "Train data performance for epoch 9:  for 0% of the data we have loss: -34.933498\n",
            "Train data performance for epoch 9:  for 17% of the data we have loss: -34.999535\n",
            "Train data performance for epoch 9:  for 33% of the data we have loss: -34.976856\n",
            "Train data performance for epoch 9:  for 50% of the data we have loss: -34.999546\n",
            "Train data performance for epoch 9:  for 67% of the data we have loss: -34.974697\n",
            "Train data performance for epoch 9:  for 83% of the data we have loss: -34.996098\n",
            "Train data performance for epoch 9:  for 100% of the data we have loss: -34.996986\n",
            "Computing accuracy on the test data: Average loss: -34.9174, Accuracy: 9900/10000 (99%)\n",
            "Train data performance for epoch 10:  for 0% of the data we have loss: -34.953312\n",
            "Train data performance for epoch 10:  for 17% of the data we have loss: -34.992523\n",
            "Train data performance for epoch 10:  for 33% of the data we have loss: -34.999722\n",
            "Train data performance for epoch 10:  for 50% of the data we have loss: -34.999317\n",
            "Train data performance for epoch 10:  for 67% of the data we have loss: -34.997665\n",
            "Train data performance for epoch 10:  for 83% of the data we have loss: -34.998924\n",
            "Train data performance for epoch 10:  for 100% of the data we have loss: -34.996658\n",
            "Computing accuracy on the test data: Average loss: -34.9095, Accuracy: 9871/10000 (99%)\n"
          ],
          "name": "stdout"
        }
      ]
    },
    {
      "cell_type": "markdown",
      "metadata": {
        "id": "po760b-Qu0U_",
        "colab_type": "text"
      },
      "source": [
        "Epsilons: List of epsilon values to use for the run. It is important to keep 0 in the list because it represents the model performance on the original test set. Also, intuitively we would expect the larger the epsilon, the more noticeable the perturbations but the more effective the attack in terms of degrading model accuracy. Since the data range here is [0,1], no epsilon value should exceed 1."
      ]
    },
    {
      "cell_type": "code",
      "metadata": {
        "id": "lcCk9jfrueq_",
        "colab_type": "code",
        "colab": {}
      },
      "source": [
        "pretrained_model = \"conv_net.pt\"\n",
        "use_cuda=True"
      ],
      "execution_count": 6,
      "outputs": []
    },
    {
      "cell_type": "code",
      "metadata": {
        "id": "NaYlQoAhuexR",
        "colab_type": "code",
        "colab": {
          "base_uri": "https://localhost:8080/",
          "height": 144
        },
        "outputId": "54ac485b-6d78-4991-91ae-76ba69e16ac9"
      },
      "source": [
        "print(\"CUDA Available: \",torch.cuda.is_available())\n",
        "device = torch.device(\"cuda\" if (use_cuda and torch.cuda.is_available()) else \"cpu\")\n",
        "\n",
        "# Initialize the network\n",
        "model = CNN().to(device)\n",
        "\n",
        "# Load the pretrained model\n",
        "model.load_state_dict(torch.load(pretrained_model, map_location='cpu'))\n",
        "\n",
        "# Set the model in evaluation mode. \n",
        "model.eval()"
      ],
      "execution_count": 7,
      "outputs": [
        {
          "output_type": "stream",
          "text": [
            "CUDA Available:  False\n"
          ],
          "name": "stdout"
        },
        {
          "output_type": "execute_result",
          "data": {
            "text/plain": [
              "CNN(\n",
              "  (conv1): Conv2d(1, 20, kernel_size=(5, 5), stride=(1, 1))\n",
              "  (conv2): Conv2d(20, 50, kernel_size=(5, 5), stride=(1, 1))\n",
              "  (fc1): Linear(in_features=800, out_features=500, bias=True)\n",
              "  (fc2): Linear(in_features=500, out_features=10, bias=True)\n",
              ")"
            ]
          },
          "metadata": {
            "tags": []
          },
          "execution_count": 7
        }
      ]
    },
    {
      "cell_type": "code",
      "metadata": {
        "id": "EADj6Gs1ue8N",
        "colab_type": "code",
        "colab": {}
      },
      "source": [
        ""
      ],
      "execution_count": null,
      "outputs": []
    },
    {
      "cell_type": "code",
      "metadata": {
        "id": "5AiIvIfr4oY6",
        "colab_type": "code",
        "colab": {}
      },
      "source": [
        ""
      ],
      "execution_count": null,
      "outputs": []
    },
    {
      "cell_type": "code",
      "metadata": {
        "id": "HDKMFdca4od9",
        "colab_type": "code",
        "colab": {}
      },
      "source": [
        ""
      ],
      "execution_count": null,
      "outputs": []
    },
    {
      "cell_type": "code",
      "metadata": {
        "id": "q-vVDPJR4oi4",
        "colab_type": "code",
        "colab": {}
      },
      "source": [
        ""
      ],
      "execution_count": null,
      "outputs": []
    },
    {
      "cell_type": "code",
      "metadata": {
        "id": "lSNX3w7t4onC",
        "colab_type": "code",
        "colab": {}
      },
      "source": [
        ""
      ],
      "execution_count": null,
      "outputs": []
    },
    {
      "cell_type": "markdown",
      "metadata": {
        "id": "GvdC0Hj_aip1",
        "colab_type": "text"
      },
      "source": [
        "# Let's do a black box SimBa attack"
      ]
    },
    {
      "cell_type": "code",
      "metadata": {
        "id": "amo_iVKkQbOl",
        "colab_type": "code",
        "colab": {}
      },
      "source": [
        "#Here we add the element we need \n",
        "\n",
        "adv = []\n",
        "number_of_correct = 0\n",
        "accuracies = []"
      ],
      "execution_count": null,
      "outputs": []
    },
    {
      "cell_type": "code",
      "metadata": {
        "id": "a-5pcN4XeTwv",
        "colab_type": "code",
        "colab": {}
      },
      "source": [
        "def get_probs(model, x, y):\n",
        "    output = model(x)\n",
        "    probs = torch.nn.Softmax(dim=1)(output)[:, y]\n",
        "    return torch.diag(probs.data)\n",
        "\n",
        "# 20-line implementation of (untargeted) SimBA for single image input\n",
        "def simba_single(model, x, y, num_iters=10000, epsilon=0.2):\n",
        "    n_dims = x.view(1, -1).size(1)\n",
        "    perm = torch.randperm(n_dims)\n",
        "    last_prob = get_probs(model, x, y)\n",
        "    for i in range(num_iters):\n",
        "        diff = torch.zeros(n_dims)\n",
        "        diff[perm[i]] = epsilon\n",
        "        left_prob = get_probs(model, (x - diff.view(x.size())).clamp(0, 1), y)\n",
        "        if left_prob < last_prob:\n",
        "            x = (x - diff.view(x.size())).clamp(0, 1)\n",
        "            last_prob = left_prob\n",
        "        else:\n",
        "            right_prob = get_probs(model, (x + diff.view(x.size())).clamp(0, 1), y)\n",
        "            if right_prob < last_prob:\n",
        "                x = (x + diff.view(x.size())).clamp(0, 1)\n",
        "                last_prob = right_prob\n",
        "        # Here I want that if the model missclasify it to stop the procedure\n",
        "        prediction = model(x).argmax()\n",
        "        # We save the adversarial examples as a touple formed by initial label, predicted label, adversarial_image and epsioln\n",
        "        if prediction != y:\n",
        "          adv.append((y.item(), prediction.item(), x, epsilon))\n",
        "          break\n",
        "\n",
        "    return x"
      ],
      "execution_count": null,
      "outputs": []
    },
    {
      "cell_type": "markdown",
      "metadata": {
        "id": "PdDXhWvzfJS1",
        "colab_type": "text"
      },
      "source": [
        "We can attack now"
      ]
    },
    {
      "cell_type": "code",
      "metadata": {
        "id": "hk6rWA7tjoTi",
        "colab_type": "code",
        "colab": {}
      },
      "source": [
        "# This function should return the accouracy for a given epsilon\n",
        "def adversarial_attack(epsilon):\n",
        "  for batch_idx, (data, target) in enumerate(test_loader):\n",
        "          data, target = data.to(device), target.to(device)\n",
        "          initial_predictions = model(data)\n",
        "          initial_predictions = initial_predictions.argmax(dim=1, keepdim=True)\n",
        "          initial_correctness = 0\n",
        "          initial_correctness += initial_predictions.eq(target.view_as(initial_predictions)).sum().item()\n",
        "          \n",
        "          print(f'Initial accuracy for batch {batch_idx}/{ math.floor(len(test_loader.dataset)/len(data)) } was ', 100.  * initial_correctness / len(target), \"%\")\n",
        "\n",
        "          bigger_result = torch.zeros(1,1,28,28)\n",
        "          for x, y in zip(data,target):\n",
        "            x = x.unsqueeze(dim=0)\n",
        "            result = simba_single(model, x, y, 784, epsilon)\n",
        "            result.unsqueeze(dim=0)\n",
        "            bigger_result = torch.cat((bigger_result, result))\n",
        "\n",
        "          final_result = bigger_result[1:]\n",
        "          final_predictions = model(final_result).argmax(dim=1, keepdim=True)\n",
        "          final_corectness = 0\n",
        "          final_corectness += final_predictions.eq(target.view_as(final_predictions)).sum().item()\n",
        "          # number_of_correct += final_corectness\n",
        "          accouracy  = 100.  * final_corectness / len(target)\n",
        "          print(f'Final accuracy for batch {batch_idx}/{math.floor(len(test_loader.dataset)/len(data))  } was ', accouracy ,\"%\")\n",
        "          \n",
        "          return accouracy\n"
      ],
      "execution_count": null,
      "outputs": []
    },
    {
      "cell_type": "code",
      "metadata": {
        "id": "tLmDgkNSSNGW",
        "colab_type": "code",
        "colab": {}
      },
      "source": [
        "epsilons = [0, .05, .1, .15, .2]\n",
        "\n",
        "for eps in epsilons:\n",
        "    acc = adversarial_attack(eps)\n",
        "    accuracies.append(acc)"
      ],
      "execution_count": null,
      "outputs": []
    },
    {
      "cell_type": "code",
      "metadata": {
        "id": "Vu9NsZoT1raJ",
        "colab_type": "code",
        "colab": {}
      },
      "source": [
        "tensor_accuracies = torch.tensor(accuracies)/100"
      ],
      "execution_count": null,
      "outputs": []
    },
    {
      "cell_type": "code",
      "metadata": {
        "id": "-yvSe24ZgOTv",
        "colab_type": "code",
        "colab": {
          "base_uri": "https://localhost:8080/",
          "height": 564
        },
        "outputId": "e2659694-b491-47de-92f5-774a72e6aeb3"
      },
      "source": [
        "plt.figure(figsize=(6,6))\n",
        "# print(accuracies)\n",
        "plt.plot(epsilons, tensor_accuracies, \"*-\")\n",
        "plt.yticks(np.arange(0, 1.1, step=0.1))\n",
        "plt.xticks(np.arange(0, .25, step=0.05))\n",
        "plt.title(\"Accuracy vs Epsilon\")\n",
        "plt.xlabel(\"Epsilon\")\n",
        "plt.ylabel(\"Accuracy\")\n",
        "plt.show()"
      ],
      "execution_count": null,
      "outputs": [
        {
          "output_type": "display_data",
          "data": {
            "image/png": "[encoded data removed]",
            "text/plain": [
              "<Figure size 600x600 with 1 Axes>"
            ]
          },
          "metadata": {
            "tags": []
          }
        }
      ]
    },
    {
      "cell_type": "code",
      "metadata": {
        "id": "d0kDq_VS4kK9",
        "colab_type": "code",
        "colab": {}
      },
      "source": [
        "# We want to create an len(epsilons)*5 matrix for printing\n",
        "\n",
        "matrix = []"
      ],
      "execution_count": null,
      "outputs": []
    },
    {
      "cell_type": "code",
      "metadata": {
        "id": "r2QT4aho1e5b",
        "colab_type": "code",
        "colab": {
          "base_uri": "https://localhost:8080/",
          "height": 363
        },
        "outputId": "6f5a6685-879d-4a71-e1b9-5b0304dd2ba9"
      },
      "source": [
        "for epsilon in epsilons:\n",
        "  i = 0;\n",
        "  for item_adv in adv:\n",
        "    if item_adv[3] == epsilon and i<5:\n",
        "      matrix.append(item_adv)\n",
        "      i+=1\n",
        "      print(f\"am gaist unu pentru eps {epsilon}\")\n",
        "\n",
        "print(len(matrix))\n"
      ],
      "execution_count": null,
      "outputs": [
        {
          "output_type": "stream",
          "text": [
            "am gaist unu pentru eps 0\n",
            "am gaist unu pentru eps 0.05\n",
            "am gaist unu pentru eps 0.05\n",
            "am gaist unu pentru eps 0.1\n",
            "am gaist unu pentru eps 0.1\n",
            "am gaist unu pentru eps 0.1\n",
            "am gaist unu pentru eps 0.1\n",
            "am gaist unu pentru eps 0.1\n",
            "am gaist unu pentru eps 0.15\n",
            "am gaist unu pentru eps 0.15\n",
            "am gaist unu pentru eps 0.15\n",
            "am gaist unu pentru eps 0.15\n",
            "am gaist unu pentru eps 0.15\n",
            "am gaist unu pentru eps 0.2\n",
            "am gaist unu pentru eps 0.2\n",
            "am gaist unu pentru eps 0.2\n",
            "am gaist unu pentru eps 0.2\n",
            "am gaist unu pentru eps 0.2\n",
            "18\n"
          ],
          "name": "stdout"
        }
      ]
    },
    {
      "cell_type": "code",
      "metadata": {
        "id": "HjwZG0PY81xi",
        "colab_type": "code",
        "colab": {}
      },
      "source": [
        "matrix[0]"
      ],
      "execution_count": null,
      "outputs": []
    },
    {
      "cell_type": "code",
      "metadata": {
        "id": "UAtT3nCMgN_W",
        "colab_type": "code",
        "colab": {
          "base_uri": "https://localhost:8080/",
          "height": 675
        },
        "outputId": "e8d2fe0a-78aa-41bd-ca14-db8d2f8ed34f"
      },
      "source": [
        "# Plot several examples of adversarial samples at each epsilon\n",
        "cnt = 0\n",
        "poz =0\n",
        "plt.figure(figsize=(8,10))\n",
        "for i in range(len(epsilons)-1):\n",
        "    for special in range(2):\n",
        "      if cnt > 3:\n",
        "        continue\n",
        "      cnt += 1\n",
        "      plt.subplot(4, 5, cnt)\n",
        "      plt.xticks([], [])\n",
        "      plt.yticks([], [])\n",
        "      if cnt == 1:\n",
        "        plt.ylabel(\"Eps: {}\".format(epsilons[i+1]), fontsize=14)\n",
        "      orig,adv,ex,_ = matrix[poz]\n",
        "      poz += 1\n",
        "      plt.title(\"{} -> {}\".format(orig, adv))\n",
        "      plt.imshow(ex[0][0], cmap=\"gray\")\n",
        "      if cnt == 2:\n",
        "        cnt += 3\n",
        "    for j in range(5):\n",
        "        if cnt < 5 or cnt >= 20:\n",
        "          continue\n",
        "        cnt += 1\n",
        "        plt.subplot(4, 5, cnt)\n",
        "        plt.xticks([], [])\n",
        "        plt.yticks([], [])\n",
        "        if j%5 == 0:\n",
        "            plt.ylabel(\"Eps: {}\".format(epsilons[i+2]), fontsize=14)\n",
        "        orig,adv,ex,_ = matrix[poz]\n",
        "        poz += 1\n",
        "        plt.title(\"{} -> {}\".format(orig, adv))\n",
        "        plt.imshow(ex[0][0], cmap=\"gray\")\n",
        "plt.tight_layout()\n",
        "plt.show() "
      ],
      "execution_count": null,
      "outputs": [
        {
          "output_type": "display_data",
          "data": {
            "image/png": "[encoded data removed]",
            "text/plain": [
              "<Figure size 576x720 with 17 Axes>"
            ]
          },
          "metadata": {
            "tags": []
          }
        }
      ]
    },
    {
      "cell_type": "markdown",
      "metadata": {
        "id": "dmUTi4OJh55-",
        "colab_type": "text"
      },
      "source": [
        "# Here we will add the second cnn called LeNet5 - 1990"
      ]
    },
    {
      "cell_type": "code",
      "metadata": {
        "id": "i-lZ00yurblg",
        "colab_type": "code",
        "colab": {}
      },
      "source": [
        "import numpy as np\n",
        "from datetime import datetime \n",
        "\n",
        "import torch\n",
        "import torch.nn as nn\n",
        "import torch.nn.functional as F\n",
        "from torch.utils.data import DataLoader\n",
        "\n",
        "from torchvision import datasets, transforms\n",
        "\n",
        "import matplotlib.pyplot as plt\n",
        "\n",
        "# check device\n",
        "DEVICE = 'cuda' if torch.cuda.is_available() else 'cpu'"
      ],
      "execution_count": 8,
      "outputs": []
    },
    {
      "cell_type": "code",
      "metadata": {
        "id": "3W7-5vhgh5aR",
        "colab_type": "code",
        "colab": {}
      },
      "source": [
        "# parameters\n",
        "RANDOM_SEED = 42\n",
        "LEARNING_RATE = 0.001\n",
        "BATCH_SIZE = 32\n",
        "N_EPOCHS = 10\n",
        "\n",
        "IMG_SIZE = 32\n",
        "N_CLASSES = 10"
      ],
      "execution_count": 9,
      "outputs": []
    },
    {
      "cell_type": "code",
      "metadata": {
        "id": "ojAv0W76p8nc",
        "colab_type": "code",
        "colab": {}
      },
      "source": [
        "# check device\n",
        "DEVICE = 'cuda' if torch.cuda.is_available() else 'cpu'"
      ],
      "execution_count": 10,
      "outputs": []
    },
    {
      "cell_type": "code",
      "metadata": {
        "id": "20CYmwdhh5YG",
        "colab_type": "code",
        "colab": {}
      },
      "source": [
        "def train(train_loader, model, criterion, optimizer, device):\n",
        "    '''\n",
        "    Function for the training step of the training loop\n",
        "    '''\n",
        "\n",
        "    model.train()\n",
        "    running_loss = 0\n",
        "    \n",
        "    for X, y_true in train_loader:\n",
        "\n",
        "        optimizer.zero_grad()\n",
        "        \n",
        "        X = X.to(device)\n",
        "        y_true = y_true.to(device)\n",
        "    \n",
        "        # Forward pass\n",
        "        y_hat, _ = model(X) \n",
        "        loss = criterion(y_hat, y_true) \n",
        "        running_loss += loss.item() * X.size(0)\n",
        "\n",
        "        # Backward pass\n",
        "        loss.backward()\n",
        "        optimizer.step()\n",
        "        \n",
        "    epoch_loss = running_loss / len(train_loader.dataset)\n",
        "    return model, optimizer, epoch_loss"
      ],
      "execution_count": null,
      "outputs": []
    },
    {
      "cell_type": "code",
      "metadata": {
        "id": "tsdIKwU0h4-_",
        "colab_type": "code",
        "colab": {}
      },
      "source": [
        "def validate(valid_loader, model, criterion, device):\n",
        "    '''\n",
        "    Function for the validation step of the training loop\n",
        "    '''\n",
        "   \n",
        "    model.eval()\n",
        "    running_loss = 0\n",
        "    \n",
        "    for X, y_true in valid_loader:\n",
        "    \n",
        "        X = X.to(device)\n",
        "        y_true = y_true.to(device)\n",
        "\n",
        "        # Forward pass and record loss\n",
        "        y_hat, _ = model(X) \n",
        "        loss = criterion(y_hat, y_true) \n",
        "        running_loss += loss.item() * X.size(0)\n",
        "\n",
        "    epoch_loss = running_loss / len(valid_loader.dataset)\n",
        "        \n",
        "    return model, epoch_loss"
      ],
      "execution_count": null,
      "outputs": []
    },
    {
      "cell_type": "code",
      "metadata": {
        "id": "E3kNsQ8-tsLH",
        "colab_type": "code",
        "colab": {}
      },
      "source": [
        "def get_accuracy(model, data_loader, device):\n",
        "    '''\n",
        "    Function for computing the accuracy of the predictions over the entire data_loader\n",
        "    '''\n",
        "    \n",
        "    correct_pred = 0 \n",
        "    n = 0\n",
        "    \n",
        "    with torch.no_grad():\n",
        "        model.eval()\n",
        "        for X, y_true in data_loader:\n",
        "            #print(X.size())\n",
        "            X = X.to(device)\n",
        "            y_true = y_true.to(device)\n",
        "\n",
        "            _, y_prob = model(X)\n",
        "            _, predicted_labels = torch.max(y_prob, 1)\n",
        "\n",
        "            n += y_true.size(0)\n",
        "            correct_pred += (predicted_labels == y_true).sum()\n",
        "\n",
        "    return correct_pred.float() / n"
      ],
      "execution_count": null,
      "outputs": []
    },
    {
      "cell_type": "code",
      "metadata": {
        "id": "ptnAYv7qx9bD",
        "colab_type": "code",
        "colab": {}
      },
      "source": [
        "def plot_losses(train_losses, valid_losses):\n",
        "    '''\n",
        "    Function for plotting training and validation losses\n",
        "    '''\n",
        "    \n",
        "    # temporarily change the style of the plots to seaborn \n",
        "    plt.style.use('seaborn')\n",
        "\n",
        "    train_losses = np.array(train_losses) \n",
        "    valid_losses = np.array(valid_losses)\n",
        "\n",
        "    fig, ax = plt.subplots(figsize = (8, 4.5))\n",
        "\n",
        "    ax.plot(train_losses, color='blue', label='Training loss') \n",
        "    ax.plot(valid_losses, color='red', label='Validation loss')\n",
        "    ax.set(title=\"Loss over epochs\", \n",
        "            xlabel='Epoch',\n",
        "            ylabel='Loss') \n",
        "    ax.legend()\n",
        "    fig.show()\n",
        "    \n",
        "    # change the plot style to default\n",
        "    plt.style.use('default')"
      ],
      "execution_count": null,
      "outputs": []
    },
    {
      "cell_type": "code",
      "metadata": {
        "id": "d5AOpHiRh47j",
        "colab_type": "code",
        "colab": {}
      },
      "source": [
        "def training_loop(model, criterion, optimizer, train_loader, valid_loader, epochs, device, print_every=1):\n",
        "    '''\n",
        "    Function defining the entire training loop\n",
        "    '''\n",
        "    \n",
        "    # set objects for storing metrics\n",
        "    best_loss = 1e10\n",
        "    train_losses = []\n",
        "    valid_losses = []\n",
        " \n",
        "    # Train model\n",
        "    for epoch in range(0, epochs):\n",
        "\n",
        "        # training\n",
        "        model, optimizer, train_loss = train(train_loader, model, criterion, optimizer, device)\n",
        "        train_losses.append(train_loss)\n",
        "\n",
        "        # validation\n",
        "        with torch.no_grad():\n",
        "            model, valid_loss = validate(valid_loader, model, criterion, device)\n",
        "            valid_losses.append(valid_loss)\n",
        "\n",
        "        if epoch % print_every == (print_every - 1):\n",
        "            \n",
        "            train_acc = get_accuracy(model, train_loader, device=device)\n",
        "            valid_acc = get_accuracy(model, valid_loader, device=device)\n",
        "                \n",
        "            print(f'{datetime.now().time().replace(microsecond=0)} --- '\n",
        "                  f'Epoch: {epoch}\\t'\n",
        "                  f'Train loss: {train_loss:.4f}\\t'\n",
        "                  f'Valid loss: {valid_loss:.4f}\\t'\n",
        "                  f'Train accuracy: {100 * train_acc:.2f}\\t'\n",
        "                  f'Valid accuracy: {100 * valid_acc:.2f}')\n",
        "\n",
        "    plot_losses(train_losses, valid_losses)\n",
        "    \n",
        "    return model, optimizer, (train_losses, valid_losses)"
      ],
      "execution_count": null,
      "outputs": []
    },
    {
      "cell_type": "code",
      "metadata": {
        "id": "VVp3sm1Tqgyb",
        "colab_type": "code",
        "colab": {}
      },
      "source": [
        "# define transforms\n",
        "transforms1 = transforms.Compose([transforms.Resize((32, 32)),\n",
        "                                 transforms.ToTensor()])\n",
        "\n",
        "# download and create datasets\n",
        "train_dataset = datasets.MNIST(root='mnist_data', \n",
        "                               train=True, \n",
        "                               transform=transforms1,\n",
        "                               download=True)\n",
        "\n",
        "valid_dataset = datasets.MNIST(root='mnist_data', \n",
        "                               train=False, \n",
        "                               transform=transforms1)\n",
        "\n",
        "# define the data loaders\n",
        "train_loader = DataLoader(dataset=train_dataset, \n",
        "                          batch_size=BATCH_SIZE, \n",
        "                          shuffle=True)\n",
        "\n",
        "valid_loader = DataLoader(dataset=valid_dataset, \n",
        "                          batch_size=BATCH_SIZE, \n",
        "                          shuffle=False)"
      ],
      "execution_count": 11,
      "outputs": []
    },
    {
      "cell_type": "code",
      "metadata": {
        "id": "5qCKcOpIzDf0",
        "colab_type": "code",
        "colab": {}
      },
      "source": [
        "trans = transforms.ToPILImage()"
      ],
      "execution_count": null,
      "outputs": []
    },
    {
      "cell_type": "code",
      "metadata": {
        "id": "1ft2KDNl1EZn",
        "colab_type": "code",
        "colab": {}
      },
      "source": [
        "trans1 = transforms.ToTensor()\n"
      ],
      "execution_count": null,
      "outputs": []
    },
    {
      "cell_type": "code",
      "metadata": {
        "id": "NimWrXMCh45S",
        "colab_type": "code",
        "colab": {}
      },
      "source": [
        "class LeNet5(nn.Module):\n",
        "\n",
        "    def __init__(self, n_classes):\n",
        "        super(LeNet5, self).__init__()\n",
        "        \n",
        "        self.feature_extractor = nn.Sequential(            \n",
        "            nn.Conv2d(in_channels=1, out_channels=6, kernel_size=5, stride=1),\n",
        "            nn.Tanh(),\n",
        "            nn.AvgPool2d(kernel_size=2),\n",
        "            nn.Conv2d(in_channels=6, out_channels=16, kernel_size=5, stride=1),\n",
        "            nn.Tanh(),\n",
        "            nn.AvgPool2d(kernel_size=2),\n",
        "            nn.Conv2d(in_channels=16, out_channels=120, kernel_size=5, stride=1),\n",
        "            nn.Tanh()\n",
        "        )\n",
        "\n",
        "        self.classifier = nn.Sequential(\n",
        "            nn.Linear(in_features=120, out_features=84),\n",
        "            nn.Tanh(),\n",
        "            nn.Linear(in_features=84, out_features=n_classes),\n",
        "        )\n",
        "\n",
        "\n",
        "    def forward(self, x):\n",
        "        x = self.feature_extractor(x)\n",
        "        x = torch.flatten(x, 1)\n",
        "        logits = self.classifier(x)\n",
        "        probs = F.softmax(logits, dim=1)\n",
        "        return logits, probs"
      ],
      "execution_count": 12,
      "outputs": []
    },
    {
      "cell_type": "code",
      "metadata": {
        "id": "DIIWJTzLpFlX",
        "colab_type": "code",
        "colab": {}
      },
      "source": [
        "torch.manual_seed(RANDOM_SEED)\n",
        "\n",
        "model = LeNet5(N_CLASSES).to(DEVICE)\n",
        "optimizer = torch.optim.Adam(model.parameters(), lr=LEARNING_RATE)\n",
        "criterion = nn.CrossEntropyLoss()"
      ],
      "execution_count": 15,
      "outputs": []
    },
    {
      "cell_type": "code",
      "metadata": {
        "id": "I0zpS1vmh40j",
        "colab_type": "code",
        "colab": {
          "base_uri": "https://localhost:8080/",
          "height": 505
        },
        "outputId": "54d02229-034e-4972-a0c2-3296d3ada8aa"
      },
      "source": [
        "model, optimizer, _ = training_loop(model, criterion, optimizer, train_loader, valid_loader, N_EPOCHS, DEVICE)"
      ],
      "execution_count": null,
      "outputs": [
        {
          "output_type": "stream",
          "text": [
            "11:04:09 --- Epoch: 0\tTrain loss: 0.2300\tValid loss: 0.0898\tTrain accuracy: 97.33\tValid accuracy: 97.27\n",
            "11:04:53 --- Epoch: 1\tTrain loss: 0.0789\tValid loss: 0.0808\tTrain accuracy: 97.85\tValid accuracy: 97.59\n",
            "11:05:37 --- Epoch: 2\tTrain loss: 0.0555\tValid loss: 0.0553\tTrain accuracy: 98.60\tValid accuracy: 98.28\n",
            "11:06:22 --- Epoch: 3\tTrain loss: 0.0444\tValid loss: 0.0491\tTrain accuracy: 98.93\tValid accuracy: 98.47\n",
            "11:07:06 --- Epoch: 4\tTrain loss: 0.0348\tValid loss: 0.0465\tTrain accuracy: 99.21\tValid accuracy: 98.54\n",
            "11:07:51 --- Epoch: 5\tTrain loss: 0.0297\tValid loss: 0.0435\tTrain accuracy: 99.25\tValid accuracy: 98.70\n",
            "11:08:35 --- Epoch: 6\tTrain loss: 0.0260\tValid loss: 0.0434\tTrain accuracy: 99.50\tValid accuracy: 98.74\n",
            "11:09:19 --- Epoch: 7\tTrain loss: 0.0213\tValid loss: 0.0478\tTrain accuracy: 99.39\tValid accuracy: 98.55\n",
            "11:10:04 --- Epoch: 8\tTrain loss: 0.0198\tValid loss: 0.0423\tTrain accuracy: 99.59\tValid accuracy: 98.78\n",
            "11:10:48 --- Epoch: 9\tTrain loss: 0.0170\tValid loss: 0.0481\tTrain accuracy: 99.62\tValid accuracy: 98.71\n"
          ],
          "name": "stdout"
        },
        {
          "output_type": "display_data",
          "data": {
            "image/png": "[encoded data removed]",
            "text/plain": [
              "<Figure size 576x324 with 1 Axes>"
            ]
          },
          "metadata": {
            "tags": []
          }
        }
      ]
    },
    {
      "cell_type": "code",
      "metadata": {
        "id": "VN4LEKpVh4yg",
        "colab_type": "code",
        "colab": {
          "base_uri": "https://localhost:8080/",
          "height": 273
        },
        "outputId": "06f886fe-3b13-4f3d-d019-165b7bfbcdc8"
      },
      "source": [
        "ROW_IMG = 10\n",
        "N_ROWS = 5\n",
        "\n",
        "fig = plt.figure()\n",
        "for index in range(1, ROW_IMG * N_ROWS + 1):\n",
        "    plt.subplot(N_ROWS, ROW_IMG, index)\n",
        "    plt.axis('off')\n",
        "    plt.imshow(valid_dataset.data[index], cmap='gray_r')\n",
        "    \n",
        "    with torch.no_grad():\n",
        "        model.eval()\n",
        "        _, probs = model(valid_dataset[index][0].unsqueeze(0))\n",
        "        \n",
        "    title = f'{torch.argmax(probs)} ({torch.max(probs * 100):.0f}%)'\n",
        "    \n",
        "    plt.title(title, fontsize=7)\n",
        "fig.suptitle('LeNet-5 - predictions');"
      ],
      "execution_count": null,
      "outputs": [
        {
          "output_type": "display_data",
          "data": {
            "image/png": "[encoded data removed]",
            "text/plain": [
              "<Figure size 432x288 with 50 Axes>"
            ]
          },
          "metadata": {
            "tags": [],
            "needs_background": "light"
          }
        }
      ]
    },
    {
      "cell_type": "code",
      "metadata": {
        "id": "qvg_MysgnTqZ",
        "colab_type": "code",
        "colab": {}
      },
      "source": [
        "# # we save the model to save parameters for later\n",
        "# torch.save(model.state_dict(),\"LeNet5.pt\")\n",
        "\n",
        "# use_cuda = True "
      ],
      "execution_count": null,
      "outputs": []
    },
    {
      "cell_type": "code",
      "metadata": {
        "id": "KmbP1L8Oh4vy",
        "colab_type": "code",
        "colab": {
          "base_uri": "https://localhost:8080/",
          "height": 345
        },
        "outputId": "70432648-bef4-414d-b774-c556f112de86"
      },
      "source": [
        "pretrained_model = \"LeNet5.pt\"\n",
        "\n",
        "# Here we load the model \n",
        "print(\"CUDA Available: \",torch.cuda.is_available())\n",
        "device = torch.device(\"cuda\" if (use_cuda and torch.cuda.is_available()) else \"cpu\")\n",
        "\n",
        "# Initialize the network\n",
        "model1 = LeNet5(10).to(device)\n",
        "\n",
        "# Load the pretrained model\n",
        "model1.load_state_dict(torch.load(pretrained_model, map_location='cpu'))\n",
        "\n",
        "# Set the model in evaluation mode. \n",
        "model1.eval()"
      ],
      "execution_count": 13,
      "outputs": [
        {
          "output_type": "stream",
          "text": [
            "CUDA Available:  False\n"
          ],
          "name": "stdout"
        },
        {
          "output_type": "execute_result",
          "data": {
            "text/plain": [
              "LeNet5(\n",
              "  (feature_extractor): Sequential(\n",
              "    (0): Conv2d(1, 6, kernel_size=(5, 5), stride=(1, 1))\n",
              "    (1): Tanh()\n",
              "    (2): AvgPool2d(kernel_size=2, stride=2, padding=0)\n",
              "    (3): Conv2d(6, 16, kernel_size=(5, 5), stride=(1, 1))\n",
              "    (4): Tanh()\n",
              "    (5): AvgPool2d(kernel_size=2, stride=2, padding=0)\n",
              "    (6): Conv2d(16, 120, kernel_size=(5, 5), stride=(1, 1))\n",
              "    (7): Tanh()\n",
              "  )\n",
              "  (classifier): Sequential(\n",
              "    (0): Linear(in_features=120, out_features=84, bias=True)\n",
              "    (1): Tanh()\n",
              "    (2): Linear(in_features=84, out_features=10, bias=True)\n",
              "  )\n",
              ")"
            ]
          },
          "metadata": {
            "tags": []
          },
          "execution_count": 13
        }
      ]
    },
    {
      "cell_type": "code",
      "metadata": {
        "id": "uU3uCRYL17DZ",
        "colab_type": "code",
        "colab": {}
      },
      "source": [
        "def transform_image(image):\n",
        "  # we get a [1, 1, 28, 28] tensor and we return a [1, 1, 32, 32]\n",
        "  new_image = image.squeeze(dim=0).squeeze(dim=0)\n",
        "  trans = transforms.ToPILImage()\n",
        "  new_image = transforms1(trans(new_image))\n",
        "  new_image = new_image.unsqueeze(dim=0)\n",
        "  return new_image"
      ],
      "execution_count": 14,
      "outputs": []
    },
    {
      "cell_type": "code",
      "metadata": {
        "id": "ZwcUgZx917AL",
        "colab_type": "code",
        "colab": {
          "base_uri": "https://localhost:8080/",
          "height": 485
        },
        "outputId": "5799ae3e-dba9-4007-8c56-35d0444076e9"
      },
      "source": [
        "image = adv[1][2]\n",
        "\n",
        "print(adv[1][1])\n",
        "print(transform_image(image).size())\n",
        "\n",
        "image2 = transform_image(image)\n",
        "\n",
        "plt.imshow(image2.squeeze(dim=0).squeeze(dim=0), cmap='gray')\n",
        "\n",
        "model1(image2)[1].argmax()"
      ],
      "execution_count": null,
      "outputs": [
        {
          "output_type": "stream",
          "text": [
            "3\n",
            "torch.Size([1, 1, 32, 32])\n"
          ],
          "name": "stdout"
        },
        {
          "output_type": "execute_result",
          "data": {
            "text/plain": [
              "tensor(5)"
            ]
          },
          "metadata": {
            "tags": []
          },
          "execution_count": 39
        },
        {
          "output_type": "display_data",
          "data": {
            "image/png": "[encoded data removed]",
            "text/plain": [
              "<Figure size 640x480 with 1 Axes>"
            ]
          },
          "metadata": {
            "tags": []
          }
        }
      ]
    },
    {
      "cell_type": "code",
      "metadata": {
        "id": "AR0agYMX7wKX",
        "colab_type": "code",
        "colab": {
          "base_uri": "https://localhost:8080/",
          "height": 448
        },
        "outputId": "98f0ee8c-e075-4a52-d56a-191583318c15"
      },
      "source": [
        "plt.imshow(adv[len(adv)-1][2][0][0])"
      ],
      "execution_count": null,
      "outputs": [
        {
          "output_type": "execute_result",
          "data": {
            "text/plain": [
              "<matplotlib.image.AxesImage at 0x7ff034272630>"
            ]
          },
          "metadata": {
            "tags": []
          },
          "execution_count": 46
        },
        {
          "output_type": "display_data",
          "data": {
            "image/png": "[encoded data removed]",
            "text/plain": [
              "<Figure size 640x480 with 1 Axes>"
            ]
          },
          "metadata": {
            "tags": []
          }
        }
      ]
    },
    {
      "cell_type": "markdown",
      "metadata": {
        "id": "I6ZYeM5-JdqC",
        "colab_type": "text"
      },
      "source": [
        "# Here is the last and the 3rd network - ResNet18"
      ]
    },
    {
      "cell_type": "code",
      "metadata": {
        "id": "kTH__RZB7wI2",
        "colab_type": "code",
        "colab": {}
      },
      "source": [
        "\n",
        "\n",
        "import pandas as pd\n",
        "import numpy as np\n",
        "\n",
        "import torch\n",
        "import torch.nn as nn\n",
        "import torch.optim as optim\n",
        "from torch.optim import lr_scheduler\n",
        "from torch.utils.data import DataLoader, Dataset\n",
        "from torchvision import transforms, models\n",
        "\n",
        "from torchvision.utils import make_grid\n",
        "import matplotlib.pyplot as plt\n",
        "%matplotlib inline\n",
        "\n",
        "\n"
      ],
      "execution_count": 15,
      "outputs": []
    },
    {
      "cell_type": "code",
      "metadata": {
        "id": "px2ESwQYLxrI",
        "colab_type": "code",
        "colab": {
          "base_uri": "https://localhost:8080/",
          "height": 35
        },
        "outputId": "d0f32150-5b83-4825-ea67-f43eb29a9413"
      },
      "source": [
        "drive.mount('/content/gdrive')\n",
        "os.chdir(\"/content/gdrive/My Drive/\")\n"
      ],
      "execution_count": 16,
      "outputs": [
        {
          "output_type": "stream",
          "text": [
            "Drive already mounted at /content/gdrive; to attempt to forcibly remount, call drive.mount(\"/content/gdrive\", force_remount=True).\n"
          ],
          "name": "stdout"
        }
      ]
    },
    {
      "cell_type": "code",
      "metadata": {
        "id": "qe7VLrBnKKkz",
        "colab_type": "code",
        "colab": {
          "base_uri": "https://localhost:8080/",
          "height": 399
        },
        "outputId": "81733e69-9dac-443d-9fc1-df8b66fc0b0d"
      },
      "source": [
        "train_csv_path = 'train.csv'\n",
        "test_csv_path = 'test.csv'\n",
        "\n",
        "train_df = pd.read_csv(train_csv_path)\n",
        "test_df = pd.read_csv(test_csv_path)\n",
        "\n",
        "# have a glimpse of train dataframe structure\n",
        "n_train = len(train_df)\n",
        "n_pixels = len(train_df.columns) - 1\n",
        "n_class = len(set(train_df['label']))\n",
        "print('Number of training samples: {0}'.format(n_train))\n",
        "print('Number of training pixels: {0}'.format(n_pixels))\n",
        "print('Number of classes: {0}'.format(n_class))\n",
        "print(train_df.head())\n",
        "\n",
        "# have a glimpse of test dataframe structure\n",
        "n_test = len(test_df)\n",
        "n_pixels = len(test_df.columns)\n",
        "print('Number of test samples: {0}'.format(n_test))\n",
        "print('Number of test pixels: {0}'.format(n_pixels))\n",
        "print(test_df.head())"
      ],
      "execution_count": null,
      "outputs": [
        {
          "output_type": "stream",
          "text": [
            "Number of training samples: 42000\n",
            "Number of training pixels: 784\n",
            "Number of classes: 10\n",
            "   label  pixel0  pixel1  pixel2  ...  pixel780  pixel781  pixel782  pixel783\n",
            "0      1       0       0       0  ...         0         0         0         0\n",
            "1      0       0       0       0  ...         0         0         0         0\n",
            "2      1       0       0       0  ...         0         0         0         0\n",
            "3      4       0       0       0  ...         0         0         0         0\n",
            "4      0       0       0       0  ...         0         0         0         0\n",
            "\n",
            "[5 rows x 785 columns]\n",
            "Number of test samples: 28000\n",
            "Number of test pixels: 784\n",
            "   pixel0  pixel1  pixel2  pixel3  ...  pixel780  pixel781  pixel782  pixel783\n",
            "0       0       0       0       0  ...         0         0         0         0\n",
            "1       0       0       0       0  ...         0         0         0         0\n",
            "2       0       0       0       0  ...         0         0         0         0\n",
            "3       0       0       0       0  ...         0         0         0         0\n",
            "4       0       0       0       0  ...         0         0         0         0\n",
            "\n",
            "[5 rows x 784 columns]\n"
          ],
          "name": "stdout"
        }
      ]
    },
    {
      "cell_type": "code",
      "metadata": {
        "id": "-55onhnnKKby",
        "colab_type": "code",
        "colab": {
          "base_uri": "https://localhost:8080/",
          "height": 158
        },
        "outputId": "afdffeaa-8f75-451e-acbc-2af816093d35"
      },
      "source": [
        "random_sel = np.random.randint(n_train, size=8)\n",
        "\n",
        "grid = make_grid(torch.Tensor((train_df.iloc[random_sel, 1:].values/255.).reshape((-1, 28, 28))).unsqueeze(1), nrow=8)\n",
        "plt.rcParams['figure.figsize'] = (16, 2)\n",
        "plt.imshow(grid.numpy().transpose((1,2,0)))\n",
        "plt.axis('off')\n",
        "print(*list(train_df.iloc[random_sel, 0].values), sep = ', ')"
      ],
      "execution_count": null,
      "outputs": [
        {
          "output_type": "stream",
          "text": [
            "4, 6, 6, 4, 3, 6, 6, 1\n"
          ],
          "name": "stdout"
        },
        {
          "output_type": "display_data",
          "data": {
            "image/png": "[encoded data removed]",
            "text/plain": [
              "<Figure size 1152x144 with 1 Axes>"
            ]
          },
          "metadata": {
            "tags": [],
            "needs_background": "light"
          }
        }
      ]
    },
    {
      "cell_type": "code",
      "metadata": {
        "id": "w74RQ3Ky7wHo",
        "colab_type": "code",
        "colab": {}
      },
      "source": [
        "class MNISTDataset(Dataset):\n",
        "    \"\"\"MNIST dtaa set\"\"\"\n",
        "    \n",
        "    def __init__(self, dataframe, \n",
        "                 transform = transforms.Compose([transforms.ToPILImage(),\n",
        "                                                 transforms.ToTensor(),\n",
        "                                                 transforms.Normalize(mean=(0.5,), std=(0.5,))])\n",
        "                ):\n",
        "        df = dataframe\n",
        "        # for MNIST dataset n_pixels should be 784\n",
        "        self.n_pixels = 784\n",
        "        \n",
        "        if len(df.columns) == self.n_pixels:\n",
        "            # test data\n",
        "            self.X = df.values.reshape((-1,28,28)).astype(np.uint8)[:,:,:,None]\n",
        "            self.y = None\n",
        "        else:\n",
        "            # training data\n",
        "            self.X = df.iloc[:,1:].values.reshape((-1,28,28)).astype(np.uint8)[:,:,:,None]\n",
        "            self.y = torch.from_numpy(df.iloc[:,0].values)\n",
        "            \n",
        "        self.transform = transform\n",
        "    \n",
        "    def __len__(self):\n",
        "        return len(self.X)\n",
        "\n",
        "    def __getitem__(self, idx):\n",
        "        if self.y is not None:\n",
        "            return self.transform(self.X[idx]), self.y[idx]\n",
        "        else:\n",
        "            return self.transform(self.X[idx])"
      ],
      "execution_count": 17,
      "outputs": []
    },
    {
      "cell_type": "code",
      "metadata": {
        "id": "2g912FrC7wF2",
        "colab_type": "code",
        "colab": {}
      },
      "source": [
        "RandAffine = transforms.RandomAffine(degrees=45, translate=(0.1, 0.1), scale=(0.8, 1.2))"
      ],
      "execution_count": null,
      "outputs": []
    },
    {
      "cell_type": "code",
      "metadata": {
        "id": "X6Fvl-Yv7wAh",
        "colab_type": "code",
        "colab": {
          "base_uri": "https://localhost:8080/",
          "height": 153
        },
        "outputId": "b2b47198-850c-4a9b-fd82-b7881f69cbf3"
      },
      "source": [
        "rotate = transforms.RandomRotation(degrees=45)\n",
        "shift = RandAffine\n",
        "composed = transforms.Compose([rotate,\n",
        "                               shift])\n",
        "\n",
        "# Apply each of the above transforms on sample.\n",
        "fig = plt.figure()\n",
        "sample = transforms.ToPILImage()(train_df.iloc[65,1:].values.reshape((28,28)).astype(np.uint8)[:,:,None])\n",
        "for i, tsfrm in enumerate([rotate, shift, composed]):\n",
        "    transformed_sample = tsfrm(sample)\n",
        "\n",
        "    ax = plt.subplot(1, 3, i + 1)\n",
        "    plt.tight_layout()\n",
        "    ax.set_title(type(tsfrm).__name__)\n",
        "    ax.imshow(np.reshape(np.array(list(transformed_sample.getdata())), (-1,28)), cmap='gray')    \n",
        "\n",
        "plt.show()"
      ],
      "execution_count": null,
      "outputs": [
        {
          "output_type": "display_data",
          "data": {
            "image/png": "[encoded data removed]",
            "text/plain": [
              "<Figure size 1152x144 with 3 Axes>"
            ]
          },
          "metadata": {
            "tags": [],
            "needs_background": "light"
          }
        }
      ]
    },
    {
      "cell_type": "code",
      "metadata": {
        "id": "SjxA52FE7v-d",
        "colab_type": "code",
        "colab": {}
      },
      "source": [
        "batch_size = 64\n",
        "\n",
        "train_transforms = transforms.Compose(\n",
        "    [transforms.ToPILImage(),\n",
        "     RandAffine,\n",
        "     transforms.ToTensor(),\n",
        "     transforms.Normalize(mean=(0.5,), std=(0.5,))])\n",
        "\n",
        "val_test_transforms = transforms.Compose(\n",
        "    [transforms.ToPILImage(),\n",
        "     transforms.ToTensor(),\n",
        "     transforms.Normalize(mean=(0.5,), std=(0.5,))])\n",
        "\n",
        "def get_dataset(dataframe, dataset=MNISTDataset,\n",
        "                transform=transforms.Compose([transforms.ToPILImage(),\n",
        "                                              transforms.ToTensor(),\n",
        "                                              transforms.Normalize(mean=(0.5,), std=(0.5,))])):\n",
        "    return dataset(dataframe, transform=transform)"
      ],
      "execution_count": null,
      "outputs": []
    },
    {
      "cell_type": "code",
      "metadata": {
        "id": "jieJbrgwKKTZ",
        "colab_type": "code",
        "colab": {
          "base_uri": "https://localhost:8080/",
          "height": 1000
        },
        "outputId": "887412f1-2c4b-4116-be5c-51dd142401b0"
      },
      "source": [
        "from torchvision.models.resnet import ResNet, BasicBlock, Bottleneck\n",
        "\n",
        "class MNISTResNet(ResNet):\n",
        "    def __init__(self):\n",
        "        super(MNISTResNet, self).__init__(BasicBlock, [2, 2, 2, 2], num_classes=10) # Based on ResNet18\n",
        "        # super(MNISTResNet, self).__init__(BasicBlock, [3, 4, 6, 3], num_classes=10) # Based on ResNet34\n",
        "        # super(MNISTResNet, self).__init__(Bottleneck, [3, 4, 6, 3], num_classes=10) # Based on ResNet50\n",
        "        self.conv1 = nn.Conv2d(1, 64, kernel_size=7, stride=1, padding=3,bias=False)\n",
        "\n",
        "model = MNISTResNet()\n",
        "print(model)"
      ],
      "execution_count": 18,
      "outputs": [
        {
          "output_type": "stream",
          "text": [
            "MNISTResNet(\n",
            "  (conv1): Conv2d(1, 64, kernel_size=(7, 7), stride=(1, 1), padding=(3, 3), bias=False)\n",
            "  (bn1): BatchNorm2d(64, eps=1e-05, momentum=0.1, affine=True, track_running_stats=True)\n",
            "  (relu): ReLU(inplace=True)\n",
            "  (maxpool): MaxPool2d(kernel_size=3, stride=2, padding=1, dilation=1, ceil_mode=False)\n",
            "  (layer1): Sequential(\n",
            "    (0): BasicBlock(\n",
            "      (conv1): Conv2d(64, 64, kernel_size=(3, 3), stride=(1, 1), padding=(1, 1), bias=False)\n",
            "      (bn1): BatchNorm2d(64, eps=1e-05, momentum=0.1, affine=True, track_running_stats=True)\n",
            "      (relu): ReLU(inplace=True)\n",
            "      (conv2): Conv2d(64, 64, kernel_size=(3, 3), stride=(1, 1), padding=(1, 1), bias=False)\n",
            "      (bn2): BatchNorm2d(64, eps=1e-05, momentum=0.1, affine=True, track_running_stats=True)\n",
            "    )\n",
            "    (1): BasicBlock(\n",
            "      (conv1): Conv2d(64, 64, kernel_size=(3, 3), stride=(1, 1), padding=(1, 1), bias=False)\n",
            "      (bn1): BatchNorm2d(64, eps=1e-05, momentum=0.1, affine=True, track_running_stats=True)\n",
            "      (relu): ReLU(inplace=True)\n",
            "      (conv2): Conv2d(64, 64, kernel_size=(3, 3), stride=(1, 1), padding=(1, 1), bias=False)\n",
            "      (bn2): BatchNorm2d(64, eps=1e-05, momentum=0.1, affine=True, track_running_stats=True)\n",
            "    )\n",
            "  )\n",
            "  (layer2): Sequential(\n",
            "    (0): BasicBlock(\n",
            "      (conv1): Conv2d(64, 128, kernel_size=(3, 3), stride=(2, 2), padding=(1, 1), bias=False)\n",
            "      (bn1): BatchNorm2d(128, eps=1e-05, momentum=0.1, affine=True, track_running_stats=True)\n",
            "      (relu): ReLU(inplace=True)\n",
            "      (conv2): Conv2d(128, 128, kernel_size=(3, 3), stride=(1, 1), padding=(1, 1), bias=False)\n",
            "      (bn2): BatchNorm2d(128, eps=1e-05, momentum=0.1, affine=True, track_running_stats=True)\n",
            "      (downsample): Sequential(\n",
            "        (0): Conv2d(64, 128, kernel_size=(1, 1), stride=(2, 2), bias=False)\n",
            "        (1): BatchNorm2d(128, eps=1e-05, momentum=0.1, affine=True, track_running_stats=True)\n",
            "      )\n",
            "    )\n",
            "    (1): BasicBlock(\n",
            "      (conv1): Conv2d(128, 128, kernel_size=(3, 3), stride=(1, 1), padding=(1, 1), bias=False)\n",
            "      (bn1): BatchNorm2d(128, eps=1e-05, momentum=0.1, affine=True, track_running_stats=True)\n",
            "      (relu): ReLU(inplace=True)\n",
            "      (conv2): Conv2d(128, 128, kernel_size=(3, 3), stride=(1, 1), padding=(1, 1), bias=False)\n",
            "      (bn2): BatchNorm2d(128, eps=1e-05, momentum=0.1, affine=True, track_running_stats=True)\n",
            "    )\n",
            "  )\n",
            "  (layer3): Sequential(\n",
            "    (0): BasicBlock(\n",
            "      (conv1): Conv2d(128, 256, kernel_size=(3, 3), stride=(2, 2), padding=(1, 1), bias=False)\n",
            "      (bn1): BatchNorm2d(256, eps=1e-05, momentum=0.1, affine=True, track_running_stats=True)\n",
            "      (relu): ReLU(inplace=True)\n",
            "      (conv2): Conv2d(256, 256, kernel_size=(3, 3), stride=(1, 1), padding=(1, 1), bias=False)\n",
            "      (bn2): BatchNorm2d(256, eps=1e-05, momentum=0.1, affine=True, track_running_stats=True)\n",
            "      (downsample): Sequential(\n",
            "        (0): Conv2d(128, 256, kernel_size=(1, 1), stride=(2, 2), bias=False)\n",
            "        (1): BatchNorm2d(256, eps=1e-05, momentum=0.1, affine=True, track_running_stats=True)\n",
            "      )\n",
            "    )\n",
            "    (1): BasicBlock(\n",
            "      (conv1): Conv2d(256, 256, kernel_size=(3, 3), stride=(1, 1), padding=(1, 1), bias=False)\n",
            "      (bn1): BatchNorm2d(256, eps=1e-05, momentum=0.1, affine=True, track_running_stats=True)\n",
            "      (relu): ReLU(inplace=True)\n",
            "      (conv2): Conv2d(256, 256, kernel_size=(3, 3), stride=(1, 1), padding=(1, 1), bias=False)\n",
            "      (bn2): BatchNorm2d(256, eps=1e-05, momentum=0.1, affine=True, track_running_stats=True)\n",
            "    )\n",
            "  )\n",
            "  (layer4): Sequential(\n",
            "    (0): BasicBlock(\n",
            "      (conv1): Conv2d(256, 512, kernel_size=(3, 3), stride=(2, 2), padding=(1, 1), bias=False)\n",
            "      (bn1): BatchNorm2d(512, eps=1e-05, momentum=0.1, affine=True, track_running_stats=True)\n",
            "      (relu): ReLU(inplace=True)\n",
            "      (conv2): Conv2d(512, 512, kernel_size=(3, 3), stride=(1, 1), padding=(1, 1), bias=False)\n",
            "      (bn2): BatchNorm2d(512, eps=1e-05, momentum=0.1, affine=True, track_running_stats=True)\n",
            "      (downsample): Sequential(\n",
            "        (0): Conv2d(256, 512, kernel_size=(1, 1), stride=(2, 2), bias=False)\n",
            "        (1): BatchNorm2d(512, eps=1e-05, momentum=0.1, affine=True, track_running_stats=True)\n",
            "      )\n",
            "    )\n",
            "    (1): BasicBlock(\n",
            "      (conv1): Conv2d(512, 512, kernel_size=(3, 3), stride=(1, 1), padding=(1, 1), bias=False)\n",
            "      (bn1): BatchNorm2d(512, eps=1e-05, momentum=0.1, affine=True, track_running_stats=True)\n",
            "      (relu): ReLU(inplace=True)\n",
            "      (conv2): Conv2d(512, 512, kernel_size=(3, 3), stride=(1, 1), padding=(1, 1), bias=False)\n",
            "      (bn2): BatchNorm2d(512, eps=1e-05, momentum=0.1, affine=True, track_running_stats=True)\n",
            "    )\n",
            "  )\n",
            "  (avgpool): AdaptiveAvgPool2d(output_size=(1, 1))\n",
            "  (fc): Linear(in_features=512, out_features=10, bias=True)\n",
            ")\n"
          ],
          "name": "stdout"
        }
      ]
    },
    {
      "cell_type": "code",
      "metadata": {
        "id": "7OXcMTjhKKKh",
        "colab_type": "code",
        "colab": {}
      },
      "source": [
        "def train(train_loader, model, criterion, optimizer, epoch):\n",
        "    model.train()\n",
        "\n",
        "    for batch_idx, (data, target) in enumerate(train_loader):\n",
        "        # if GPU available, move data and target to GPU\n",
        "        if torch.cuda.is_available():\n",
        "            data = data.cuda()\n",
        "            target = target.cuda()\n",
        "        \n",
        "        # compute output and loss\n",
        "        output = model(data)\n",
        "        loss = criterion(output, target)\n",
        "        \n",
        "        # TODO:\n",
        "        # 1. add batch metric (acc1, acc5)\n",
        "        # 2. add average metric top1=sum(acc1)/batch_idx, top5 = sum(acc5)/batch_idx\n",
        "        \n",
        "        # backward and update model\n",
        "        optimizer.zero_grad()\n",
        "        loss.backward()\n",
        "        optimizer.step()\n",
        "        \n",
        "        if (batch_idx + 1)% 100 == 0:\n",
        "            print('Train Epoch: {} [{}/{} ({:.0f}%)]\\tLoss: {:.6f}'.format(\n",
        "                epoch, (batch_idx + 1) * len(data), len(train_loader.dataset),\n",
        "                100. * (batch_idx + 1) / len(train_loader), loss.data.item()))"
      ],
      "execution_count": null,
      "outputs": []
    },
    {
      "cell_type": "code",
      "metadata": {
        "id": "hSHruG037v7h",
        "colab_type": "code",
        "colab": {}
      },
      "source": [
        "def validate(val_loader, model, criterion):\n",
        "    model.eval()\n",
        "    loss = 0\n",
        "    correct = 0\n",
        "    \n",
        "    for _, (data, target) in enumerate(val_loader):\n",
        "        if torch.cuda.is_available():\n",
        "            data = data.cuda()\n",
        "            target = target.cuda()\n",
        "        \n",
        "        output = model(data)\n",
        "        \n",
        "        loss += criterion(output, target).data.item()\n",
        "\n",
        "        pred = output.data.max(1, keepdim=True)[1]\n",
        "        correct += pred.eq(target.data.view_as(pred)).cpu().sum()\n",
        "        \n",
        "    loss /= len(val_loader.dataset)\n",
        "        \n",
        "    print('\\nOn Val set Average loss: {:.4f}, Accuracy: {}/{} ({:.3f}%)\\n'.format(\n",
        "        loss, correct, len(val_loader.dataset),\n",
        "        100.0 * float(correct) / len(val_loader.dataset)))"
      ],
      "execution_count": null,
      "outputs": []
    },
    {
      "cell_type": "code",
      "metadata": {
        "id": "h6Q2qWB2HUCr",
        "colab_type": "code",
        "colab": {}
      },
      "source": [
        "# example config, use the comments to get higher accuracy\n",
        "total_epoches = 5 # 50\n",
        "step_size = 10     # 10\n",
        "base_lr = 0.01    # 0.01\n",
        "\n",
        "optimizer = optim.Adam(model.parameters(), lr=base_lr)\n",
        "criterion = nn.CrossEntropyLoss()\n",
        "exp_lr_scheduler = lr_scheduler.StepLR(optimizer, step_size=step_size, gamma=0.1)\n",
        "\n",
        "if torch.cuda.is_available():\n",
        "    model = model.cuda()\n",
        "    criterion = criterion.cuda()"
      ],
      "execution_count": null,
      "outputs": []
    },
    {
      "cell_type": "code",
      "metadata": {
        "id": "4ywSEEsUHT6S",
        "colab_type": "code",
        "colab": {
          "base_uri": "https://localhost:8080/",
          "height": 963
        },
        "outputId": "64bf5e49-ac06-484d-e693-70d7f97c3d0f"
      },
      "source": [
        "def split_dataframe(dataframe=None, fraction=0.9, rand_seed=1):\n",
        "    df_1 = dataframe.sample(frac=fraction, random_state=rand_seed)\n",
        "    df_2 = dataframe.drop(df_1.index)\n",
        "    return df_1, df_2\n",
        "\n",
        "for epoch in range(total_epoches):\n",
        "    print(\"\\nTrain Epoch {}: lr = {}\".format(epoch, exp_lr_scheduler.get_lr()[0]))\n",
        "\n",
        "    train_df_new, val_df = split_dataframe(dataframe=train_df, fraction=0.9, rand_seed=epoch)\n",
        "    \n",
        "    train_dataset = get_dataset(train_df_new, transform=train_transforms)\n",
        "    val_dataset = get_dataset(val_df, transform=val_test_transforms)\n",
        "\n",
        "    train_loader = torch.utils.data.DataLoader(dataset=train_dataset,\n",
        "                                               batch_size=batch_size, shuffle=True)\n",
        "    val_loader = torch.utils.data.DataLoader(dataset=val_dataset,\n",
        "                                             batch_size=batch_size, shuffle=False)\n",
        "\n",
        "    train(train_loader=train_loader, model=model, criterion=criterion, optimizer=optimizer, epoch=epoch)\n",
        "    validate(val_loader=val_loader, model=model, criterion=criterion)\n",
        "    exp_lr_scheduler.step()"
      ],
      "execution_count": null,
      "outputs": [
        {
          "output_type": "stream",
          "text": [
            "/usr/local/lib/python3.6/dist-packages/torch/optim/lr_scheduler.py:351: UserWarning: To get the last learning rate computed by the scheduler, please use `get_last_lr()`.\n",
            "  \"please use `get_last_lr()`.\", UserWarning)\n"
          ],
          "name": "stderr"
        },
        {
          "output_type": "stream",
          "text": [
            "\n",
            "Train Epoch 0: lr = 0.01\n",
            "Train Epoch: 0 [6400/37800 (17%)]\tLoss: 0.329609\n",
            "Train Epoch: 0 [12800/37800 (34%)]\tLoss: 0.417190\n",
            "Train Epoch: 0 [19200/37800 (51%)]\tLoss: 0.254208\n",
            "Train Epoch: 0 [25600/37800 (68%)]\tLoss: 0.253631\n",
            "Train Epoch: 0 [32000/37800 (85%)]\tLoss: 0.282886\n",
            "\n",
            "On Val set Average loss: 0.0019, Accuracy: 4031/4200 (95.976%)\n",
            "\n",
            "\n",
            "Train Epoch 1: lr = 0.01\n",
            "Train Epoch: 1 [6400/37800 (17%)]\tLoss: 0.215688\n",
            "Train Epoch: 1 [12800/37800 (34%)]\tLoss: 0.147227\n",
            "Train Epoch: 1 [19200/37800 (51%)]\tLoss: 0.158586\n",
            "Train Epoch: 1 [25600/37800 (68%)]\tLoss: 0.023017\n",
            "Train Epoch: 1 [32000/37800 (85%)]\tLoss: 0.105355\n",
            "\n",
            "On Val set Average loss: 0.0014, Accuracy: 4075/4200 (97.024%)\n",
            "\n",
            "\n",
            "Train Epoch 2: lr = 0.01\n",
            "Train Epoch: 2 [6400/37800 (17%)]\tLoss: 0.147845\n",
            "Train Epoch: 2 [12800/37800 (34%)]\tLoss: 0.074943\n",
            "Train Epoch: 2 [19200/37800 (51%)]\tLoss: 0.146451\n",
            "Train Epoch: 2 [25600/37800 (68%)]\tLoss: 0.171136\n",
            "Train Epoch: 2 [32000/37800 (85%)]\tLoss: 0.216073\n",
            "\n",
            "On Val set Average loss: 0.0010, Accuracy: 4114/4200 (97.952%)\n",
            "\n",
            "\n",
            "Train Epoch 3: lr = 0.01\n",
            "Train Epoch: 3 [6400/37800 (17%)]\tLoss: 0.079224\n",
            "Train Epoch: 3 [12800/37800 (34%)]\tLoss: 0.190195\n",
            "Train Epoch: 3 [19200/37800 (51%)]\tLoss: 0.059442\n",
            "Train Epoch: 3 [25600/37800 (68%)]\tLoss: 0.113409\n",
            "Train Epoch: 3 [32000/37800 (85%)]\tLoss: 0.103311\n",
            "\n",
            "On Val set Average loss: 0.0015, Accuracy: 4064/4200 (96.762%)\n",
            "\n",
            "\n",
            "Train Epoch 4: lr = 0.01\n",
            "Train Epoch: 4 [6400/37800 (17%)]\tLoss: 0.240110\n",
            "Train Epoch: 4 [12800/37800 (34%)]\tLoss: 0.139316\n",
            "Train Epoch: 4 [19200/37800 (51%)]\tLoss: 0.042661\n",
            "Train Epoch: 4 [25600/37800 (68%)]\tLoss: 0.064064\n",
            "Train Epoch: 4 [32000/37800 (85%)]\tLoss: 0.117608\n",
            "\n",
            "On Val set Average loss: 0.0008, Accuracy: 4144/4200 (98.667%)\n",
            "\n"
          ],
          "name": "stdout"
        }
      ]
    },
    {
      "cell_type": "code",
      "metadata": {
        "id": "JTMXA-XsHTnq",
        "colab_type": "code",
        "colab": {}
      },
      "source": [
        "def print_image(image):\n",
        "  plt.imshow(image.squeeze(dim=0).squeeze(dim=0), cmap='gray')"
      ],
      "execution_count": 20,
      "outputs": []
    },
    {
      "cell_type": "code",
      "metadata": {
        "id": "NXvIIA2HHTiT",
        "colab_type": "code",
        "colab": {}
      },
      "source": [
        "# # we save the model to save parameters for later\n",
        "# torch.save(model.state_dict(),\"ResNet.pt\")\n",
        "\n",
        "# use_cuda = True "
      ],
      "execution_count": null,
      "outputs": []
    },
    {
      "cell_type": "code",
      "metadata": {
        "id": "BKujizkkHTgH",
        "colab_type": "code",
        "colab": {
          "base_uri": "https://localhost:8080/",
          "height": 1000
        },
        "outputId": "1da40648-0253-47e1-9c06-e88d8d403c51"
      },
      "source": [
        "pretrained_model = \"ResNet.pt\"\n",
        "\n",
        "# Here we load the model \n",
        "print(\"CUDA Available: \",torch.cuda.is_available())\n",
        "device = torch.device(\"cuda\" if (use_cuda and torch.cuda.is_available()) else \"cpu\")\n",
        "\n",
        "# Initialize the network\n",
        "model1 = MNISTResNet().to(device)\n",
        "\n",
        "# Load the pretrained model\n",
        "model1.load_state_dict(torch.load(pretrained_model, map_location='cpu'))\n",
        "\n",
        "# Set the model in evaluation mode. \n",
        "model1.eval()"
      ],
      "execution_count": 21,
      "outputs": [
        {
          "output_type": "stream",
          "text": [
            "CUDA Available:  False\n"
          ],
          "name": "stdout"
        },
        {
          "output_type": "execute_result",
          "data": {
            "text/plain": [
              "MNISTResNet(\n",
              "  (conv1): Conv2d(1, 64, kernel_size=(7, 7), stride=(1, 1), padding=(3, 3), bias=False)\n",
              "  (bn1): BatchNorm2d(64, eps=1e-05, momentum=0.1, affine=True, track_running_stats=True)\n",
              "  (relu): ReLU(inplace=True)\n",
              "  (maxpool): MaxPool2d(kernel_size=3, stride=2, padding=1, dilation=1, ceil_mode=False)\n",
              "  (layer1): Sequential(\n",
              "    (0): BasicBlock(\n",
              "      (conv1): Conv2d(64, 64, kernel_size=(3, 3), stride=(1, 1), padding=(1, 1), bias=False)\n",
              "      (bn1): BatchNorm2d(64, eps=1e-05, momentum=0.1, affine=True, track_running_stats=True)\n",
              "      (relu): ReLU(inplace=True)\n",
              "      (conv2): Conv2d(64, 64, kernel_size=(3, 3), stride=(1, 1), padding=(1, 1), bias=False)\n",
              "      (bn2): BatchNorm2d(64, eps=1e-05, momentum=0.1, affine=True, track_running_stats=True)\n",
              "    )\n",
              "    (1): BasicBlock(\n",
              "      (conv1): Conv2d(64, 64, kernel_size=(3, 3), stride=(1, 1), padding=(1, 1), bias=False)\n",
              "      (bn1): BatchNorm2d(64, eps=1e-05, momentum=0.1, affine=True, track_running_stats=True)\n",
              "      (relu): ReLU(inplace=True)\n",
              "      (conv2): Conv2d(64, 64, kernel_size=(3, 3), stride=(1, 1), padding=(1, 1), bias=False)\n",
              "      (bn2): BatchNorm2d(64, eps=1e-05, momentum=0.1, affine=True, track_running_stats=True)\n",
              "    )\n",
              "  )\n",
              "  (layer2): Sequential(\n",
              "    (0): BasicBlock(\n",
              "      (conv1): Conv2d(64, 128, kernel_size=(3, 3), stride=(2, 2), padding=(1, 1), bias=False)\n",
              "      (bn1): BatchNorm2d(128, eps=1e-05, momentum=0.1, affine=True, track_running_stats=True)\n",
              "      (relu): ReLU(inplace=True)\n",
              "      (conv2): Conv2d(128, 128, kernel_size=(3, 3), stride=(1, 1), padding=(1, 1), bias=False)\n",
              "      (bn2): BatchNorm2d(128, eps=1e-05, momentum=0.1, affine=True, track_running_stats=True)\n",
              "      (downsample): Sequential(\n",
              "        (0): Conv2d(64, 128, kernel_size=(1, 1), stride=(2, 2), bias=False)\n",
              "        (1): BatchNorm2d(128, eps=1e-05, momentum=0.1, affine=True, track_running_stats=True)\n",
              "      )\n",
              "    )\n",
              "    (1): BasicBlock(\n",
              "      (conv1): Conv2d(128, 128, kernel_size=(3, 3), stride=(1, 1), padding=(1, 1), bias=False)\n",
              "      (bn1): BatchNorm2d(128, eps=1e-05, momentum=0.1, affine=True, track_running_stats=True)\n",
              "      (relu): ReLU(inplace=True)\n",
              "      (conv2): Conv2d(128, 128, kernel_size=(3, 3), stride=(1, 1), padding=(1, 1), bias=False)\n",
              "      (bn2): BatchNorm2d(128, eps=1e-05, momentum=0.1, affine=True, track_running_stats=True)\n",
              "    )\n",
              "  )\n",
              "  (layer3): Sequential(\n",
              "    (0): BasicBlock(\n",
              "      (conv1): Conv2d(128, 256, kernel_size=(3, 3), stride=(2, 2), padding=(1, 1), bias=False)\n",
              "      (bn1): BatchNorm2d(256, eps=1e-05, momentum=0.1, affine=True, track_running_stats=True)\n",
              "      (relu): ReLU(inplace=True)\n",
              "      (conv2): Conv2d(256, 256, kernel_size=(3, 3), stride=(1, 1), padding=(1, 1), bias=False)\n",
              "      (bn2): BatchNorm2d(256, eps=1e-05, momentum=0.1, affine=True, track_running_stats=True)\n",
              "      (downsample): Sequential(\n",
              "        (0): Conv2d(128, 256, kernel_size=(1, 1), stride=(2, 2), bias=False)\n",
              "        (1): BatchNorm2d(256, eps=1e-05, momentum=0.1, affine=True, track_running_stats=True)\n",
              "      )\n",
              "    )\n",
              "    (1): BasicBlock(\n",
              "      (conv1): Conv2d(256, 256, kernel_size=(3, 3), stride=(1, 1), padding=(1, 1), bias=False)\n",
              "      (bn1): BatchNorm2d(256, eps=1e-05, momentum=0.1, affine=True, track_running_stats=True)\n",
              "      (relu): ReLU(inplace=True)\n",
              "      (conv2): Conv2d(256, 256, kernel_size=(3, 3), stride=(1, 1), padding=(1, 1), bias=False)\n",
              "      (bn2): BatchNorm2d(256, eps=1e-05, momentum=0.1, affine=True, track_running_stats=True)\n",
              "    )\n",
              "  )\n",
              "  (layer4): Sequential(\n",
              "    (0): BasicBlock(\n",
              "      (conv1): Conv2d(256, 512, kernel_size=(3, 3), stride=(2, 2), padding=(1, 1), bias=False)\n",
              "      (bn1): BatchNorm2d(512, eps=1e-05, momentum=0.1, affine=True, track_running_stats=True)\n",
              "      (relu): ReLU(inplace=True)\n",
              "      (conv2): Conv2d(512, 512, kernel_size=(3, 3), stride=(1, 1), padding=(1, 1), bias=False)\n",
              "      (bn2): BatchNorm2d(512, eps=1e-05, momentum=0.1, affine=True, track_running_stats=True)\n",
              "      (downsample): Sequential(\n",
              "        (0): Conv2d(256, 512, kernel_size=(1, 1), stride=(2, 2), bias=False)\n",
              "        (1): BatchNorm2d(512, eps=1e-05, momentum=0.1, affine=True, track_running_stats=True)\n",
              "      )\n",
              "    )\n",
              "    (1): BasicBlock(\n",
              "      (conv1): Conv2d(512, 512, kernel_size=(3, 3), stride=(1, 1), padding=(1, 1), bias=False)\n",
              "      (bn1): BatchNorm2d(512, eps=1e-05, momentum=0.1, affine=True, track_running_stats=True)\n",
              "      (relu): ReLU(inplace=True)\n",
              "      (conv2): Conv2d(512, 512, kernel_size=(3, 3), stride=(1, 1), padding=(1, 1), bias=False)\n",
              "      (bn2): BatchNorm2d(512, eps=1e-05, momentum=0.1, affine=True, track_running_stats=True)\n",
              "    )\n",
              "  )\n",
              "  (avgpool): AdaptiveAvgPool2d(output_size=(1, 1))\n",
              "  (fc): Linear(in_features=512, out_features=10, bias=True)\n",
              ")"
            ]
          },
          "metadata": {
            "tags": []
          },
          "execution_count": 21
        }
      ]
    },
    {
      "cell_type": "code",
      "metadata": {
        "id": "YzdKFEQTHTcm",
        "colab_type": "code",
        "colab": {}
      },
      "source": [
        "def choose(a, b, c):\n",
        "  # print(a)\n",
        "  # sigm = nn.Sigmoid()\n",
        "  # # print(\"This is 1\", soft(a))\n",
        "  # # print(\"This is 2\", soft(b))\n",
        "  # # print(\"This is 3\", soft(c))\n",
        "  # #print(a.squeeze(dim=0).size(),b.size(),c.size())\n",
        "  # none = (sigm(a) + sigm(b) + sigm(c))\n",
        "  # none = torch.nn.Softmax(dim=1)(none)\n",
        "  none = a + b + c\n",
        "  return none"
      ],
      "execution_count": 22,
      "outputs": []
    },
    {
      "cell_type": "code",
      "metadata": {
        "id": "lenp1untm04V",
        "colab_type": "code",
        "colab": {}
      },
      "source": [
        "def ensamble_prediction(image):\n",
        "  # First we load the models\n",
        "  pretrained_model1 = \"conv_net.pt\"\n",
        "  pretrained_model2 = \"LeNet5.pt\"\n",
        "  pretrained_model3 = \"ResNet.pt\"\n",
        "  # Here we load the model \n",
        "  \n",
        "  device = torch.device(\"cuda\" if (use_cuda and torch.cuda.is_available()) else \"cpu\")\n",
        "\n",
        "  # Initialize the network\n",
        "  model1 = CNN().to(device)\n",
        "  model2 = LeNet5(10).to(device)\n",
        "  model3 = MNISTResNet().to(device)\n",
        "\n",
        "  # Load the pretrained model\n",
        "  model1.load_state_dict(torch.load(pretrained_model1, map_location='cpu'))\n",
        "  model2.load_state_dict(torch.load(pretrained_model2, map_location='cpu'))\n",
        "  model3.load_state_dict(torch.load(pretrained_model3, map_location='cpu'))\n",
        "  # Set the model in evaluation mode. \n",
        "  model1.eval()\n",
        "  model2.eval()\n",
        "  model3.eval()\n",
        "\n",
        "  # We save the adversarial examples as a touple formed by initial label, predicted label, adversarial_image and epsioln\n",
        "  #print_image(image[2])\n",
        "  #print('Labelul initial este:', image[0] )\n",
        "\n",
        "  # first_prediction = model1(image[2]).argmax()\n",
        "  # second_prediction = model2(transform_image(image[2]))[1].argmax()\n",
        "  # third_prediction = model3(image[2]).argmax()\n",
        "\n",
        "  first_prediction = model1(image)\n",
        "  second_prediction = model2(transform_image(image))[0]\n",
        "  third_prediction = model3(image)\n",
        "\n",
        "  predicted_label = choose(first_prediction, second_prediction, third_prediction)\n",
        "\n",
        "  #print('Labelul prezis este: ', predicted_label.argmax())\n",
        "  return predicted_label"
      ],
      "execution_count": 24,
      "outputs": []
    },
    {
      "cell_type": "code",
      "metadata": {
        "id": "rU0tKQOSm01V",
        "colab_type": "code",
        "colab": {}
      },
      "source": [
        "correct_predictions = 0\n",
        "for image in adv:\n",
        "  if image[0] == ensamble_prediction(image).item():\n",
        "    correct_predictions+=1\n",
        "\n",
        "print(len(adv))\n",
        "print(correct_predictions)\n"
      ],
      "execution_count": null,
      "outputs": []
    },
    {
      "cell_type": "code",
      "metadata": {
        "id": "og1H5TFXm0v2",
        "colab_type": "code",
        "colab": {
          "base_uri": "https://localhost:8080/",
          "height": 35
        },
        "outputId": "706caf17-6367-4b30-d613-dc5e2e6b7a57"
      },
      "source": [
        "accuracy = correct_predictions * 100 / len(adv)\n",
        "print(accuracy)"
      ],
      "execution_count": null,
      "outputs": [
        {
          "output_type": "stream",
          "text": [
            "34.5679012345679\n"
          ],
          "name": "stdout"
        }
      ]
    },
    {
      "cell_type": "markdown",
      "metadata": {
        "id": "MYYG-j0B0D1v",
        "colab_type": "text"
      },
      "source": [
        "# Aici o sa pun finalul proiectului "
      ]
    },
    {
      "cell_type": "code",
      "metadata": {
        "id": "sEYnjNhipvtG",
        "colab_type": "code",
        "colab": {
          "base_uri": "https://localhost:8080/",
          "height": 382,
          "referenced_widgets": [
            "7acee13835304205a3899e6f4698d5e3",
            "224e54a19c6c4104b2f7ba4fea234800",
            "4eb3805c48ae478897fc89c7a4a221c1",
            "3274421875294c428bfd4f49aa6fd107",
            "1369ad37dd144b14801f7c52517ede0a",
            "06b9492646e94046a26dfbfd38130de3",
            "4c45a617ba354ede8b11b73523df028d",
            "1d8a37bc2d5b4f199bd1d94a8f8f9311",
            "99817f1b944d48bf98f03e30ab542397",
            "d07e92863e464b199deced34c3203b7a",
            "f749ec39008b4f32b65d00d05878d278",
            "8aa80e420fba49babaecd8285a9dd281",
            "65aef49bf9b0436c9830389337447228",
            "93a236b84e9d4a5780d70e78511ce27a",
            "76ce96e4aa2c438a9aaf1fbeb9ba04ae",
            "ef282fe386b54267aaa632b5a4eacfd0",
            "1ecdd07caeac451c9bda85c8bc55070d",
            "51358cd84d7f4e3ea2b2eb571573c45c",
            "d6e22b8e50a74061b03140ef755ede00",
            "7b27b2fc5ed44f8080f1ab7e0f325b0c",
            "381a7fe9df6148529bd5629fcd3fe057",
            "cbb0696702aa408f9b5f36a214d25ca1",
            "5581350808fc41b18ca361003c08c7b3",
            "97f4763b5d8546ac8d042ed0aeeaa3d9",
            "0ecf34a0129946fb9722189f1415583e",
            "44dff70e88e14108b57b9c2abef98cf3",
            "9d963a39fe7047e4a7657a7a3f4dc616",
            "225a036b082948329a1851d30b4c76e3",
            "107ee9edd02e41b5972a17279e6bcf4d",
            "4bca004c8cac4bfd8110f5f8be40f9ef",
            "3c87d694764144eba1b9b22e52ad247a",
            "0e956a444f70473e950c5dc4295407a9"
          ]
        },
        "outputId": "2601297a-6512-46f3-fc9c-108d2bb05663"
      },
      "source": [
        "train_loaderr = torch.utils.data.DataLoader(\n",
        "    dset.MNIST('/', train=True, download=True,\n",
        "                   transform=transforms.Compose([\n",
        "                       transforms.ToTensor(),\n",
        "                   ])),\n",
        "    batch_size=args.batch_size, shuffle=True,drop_last=True, **kwargs)\n",
        "\n",
        "test_loaderr = torch.utils.data.DataLoader(\n",
        "    dset.MNIST('/', train=False, transform=transforms.Compose([\n",
        "                       transforms.ToTensor(),\n",
        "                   ])),\n",
        "    batch_size=args.test_batch_size, shuffle=True,drop_last=True, **kwargs)"
      ],
      "execution_count": 25,
      "outputs": [
        {
          "output_type": "stream",
          "text": [
            "Downloading http://yann.lecun.com/exdb/mnist/train-images-idx3-ubyte.gz to /MNIST/raw/train-images-idx3-ubyte.gz\n"
          ],
          "name": "stdout"
        },
        {
          "output_type": "display_data",
          "data": {
            "application/vnd.jupyter.widget-view+json": {
              "model_id": "7acee13835304205a3899e6f4698d5e3",
              "version_minor": 0,
              "version_major": 2
            },
            "text/plain": [
              "HBox(children=(FloatProgress(value=1.0, bar_style='info', max=1.0), HTML(value='')))"
            ]
          },
          "metadata": {
            "tags": []
          }
        },
        {
          "output_type": "stream",
          "text": [
            "Extracting /MNIST/raw/train-images-idx3-ubyte.gz to /MNIST/raw\n",
            "Downloading http://yann.lecun.com/exdb/mnist/train-labels-idx1-ubyte.gz to /MNIST/raw/train-labels-idx1-ubyte.gz\n"
          ],
          "name": "stdout"
        },
        {
          "output_type": "display_data",
          "data": {
            "application/vnd.jupyter.widget-view+json": {
              "model_id": "99817f1b944d48bf98f03e30ab542397",
              "version_minor": 0,
              "version_major": 2
            },
            "text/plain": [
              "HBox(children=(FloatProgress(value=1.0, bar_style='info', max=1.0), HTML(value='')))"
            ]
          },
          "metadata": {
            "tags": []
          }
        },
        {
          "output_type": "stream",
          "text": [
            "Extracting /MNIST/raw/train-labels-idx1-ubyte.gz to /MNIST/raw\n",
            "Downloading http://yann.lecun.com/exdb/mnist/t10k-images-idx3-ubyte.gz to /MNIST/raw/t10k-images-idx3-ubyte.gz\n"
          ],
          "name": "stdout"
        },
        {
          "output_type": "display_data",
          "data": {
            "application/vnd.jupyter.widget-view+json": {
              "model_id": "1ecdd07caeac451c9bda85c8bc55070d",
              "version_minor": 0,
              "version_major": 2
            },
            "text/plain": [
              "HBox(children=(FloatProgress(value=1.0, bar_style='info', max=1.0), HTML(value='')))"
            ]
          },
          "metadata": {
            "tags": []
          }
        },
        {
          "output_type": "stream",
          "text": [
            "Extracting /MNIST/raw/t10k-images-idx3-ubyte.gz to /MNIST/raw\n",
            "Downloading http://yann.lecun.com/exdb/mnist/t10k-labels-idx1-ubyte.gz to /MNIST/raw/t10k-labels-idx1-ubyte.gz\n",
            "\n",
            "\n",
            "\n"
          ],
          "name": "stdout"
        },
        {
          "output_type": "display_data",
          "data": {
            "application/vnd.jupyter.widget-view+json": {
              "model_id": "0ecf34a0129946fb9722189f1415583e",
              "version_minor": 0,
              "version_major": 2
            },
            "text/plain": [
              "HBox(children=(FloatProgress(value=1.0, bar_style='info', max=1.0), HTML(value='')))"
            ]
          },
          "metadata": {
            "tags": []
          }
        },
        {
          "output_type": "stream",
          "text": [
            "Extracting /MNIST/raw/t10k-labels-idx1-ubyte.gz to /MNIST/raw\n",
            "Processing...\n",
            "Done!\n"
          ],
          "name": "stdout"
        }
      ]
    },
    {
      "cell_type": "code",
      "metadata": {
        "id": "azzVwc1epviY",
        "colab_type": "code",
        "colab": {}
      },
      "source": [
        "# AICI DAM RUN DOAR DACA VREAU\n",
        "# bunch_of_digits = torch.zeros(1,1,28,28)\n",
        "# bunch_of_labels = torch.zeros(1)\n",
        "# for batch_idx, (data,label) in enumerate(test_loaderr):\n",
        "#   if batch_idx > 1:\n",
        "#     break\n",
        "#   else:\n",
        "#     bunch_of_digits = torch.cat((bunch_of_digits, data))\n",
        "#     bunch_of_labels = torch.cat((bunch_of_labels, label))\n",
        "\n",
        "# bunch_of_digits = bunch_of_digits[1:101]\n",
        "# bunch_of_labels = bunch_of_labels[1:101]\n",
        "  "
      ],
      "execution_count": null,
      "outputs": []
    },
    {
      "cell_type": "markdown",
      "metadata": {
        "id": "vo_XUv4qNHXc",
        "colab_type": "text"
      },
      "source": [
        "# Load the data "
      ]
    },
    {
      "cell_type": "code",
      "metadata": {
        "id": "SF2ziYTzKPHN",
        "colab_type": "code",
        "colab": {}
      },
      "source": [
        "photos_path = '100photos.csv'\n",
        "labels_path = '100labels.csv'\n",
        "\n",
        "bunch_of_digits = torch.load(photos_path)\n",
        "bunch_of_labels = torch.load(labels_path)\n",
        "\n",
        "# assert bunch_of_labels.size() == torch.Size([100, 1, 28, 28]) , f\"{bunch_of_digits.size()}\"\n",
        "assert bunch_of_labels.size() == torch.Size([100]) , f\"{bunch_of_labels.size()}\"\n",
        "\n",
        "device = torch.device(\"cuda:0\" if torch.cuda.is_available() else \"cpu\")\n",
        "\n",
        "bunch_of_digits, bunch_of_labels = bunch_of_digits.to(device), bunch_of_labels.to(device)"
      ],
      "execution_count": 26,
      "outputs": []
    },
    {
      "cell_type": "code",
      "metadata": {
        "id": "vyllI-mGzMs4",
        "colab_type": "code",
        "colab": {
          "base_uri": "https://localhost:8080/",
          "height": 35
        },
        "outputId": "df250ec5-8061-4250-a5b5-941cfde62fe0"
      },
      "source": [
        "bunch_of_digits.size()"
      ],
      "execution_count": 27,
      "outputs": [
        {
          "output_type": "execute_result",
          "data": {
            "text/plain": [
              "torch.Size([100, 1, 28, 28])"
            ]
          },
          "metadata": {
            "tags": []
          },
          "execution_count": 27
        }
      ]
    },
    {
      "cell_type": "code",
      "metadata": {
        "id": "RxYuQ7T4ZS5Y",
        "colab_type": "code",
        "colab": {}
      },
      "source": [
        ""
      ],
      "execution_count": null,
      "outputs": []
    },
    {
      "cell_type": "code",
      "metadata": {
        "id": "Uwg4dS9pzMq5",
        "colab_type": "code",
        "colab": {
          "base_uri": "https://localhost:8080/",
          "height": 581
        },
        "outputId": "c3773ff8-eae3-418f-b849-f6e11aa00056"
      },
      "source": [
        "for i in range(10):\n",
        "  a = ensamble_prediction(bunch_of_digits[i].unsqueeze(dim=0))\n",
        "  print(a.argmax())\n",
        "  print(a)\n",
        "print(bunch_of_labels[:10])"
      ],
      "execution_count": 29,
      "outputs": [
        {
          "output_type": "stream",
          "text": [
            "tensor(4)\n",
            "tensor([[-3.5172, 13.7926, 15.1888,  4.5089, 52.3962,  0.2647,  0.2339, 15.0667,\n",
            "          6.2176, 27.4456]], grad_fn=<AddBackward0>)\n",
            "tensor(6)\n",
            "tensor([[ 18.3323,   7.4913,  16.1292,  -0.4590,  27.2479,  15.7971,  53.5743,\n",
            "         -11.8844,  11.2971,   6.8753]], grad_fn=<AddBackward0>)\n",
            "tensor(8)\n",
            "tensor([[ 4.0393, 13.6226,  8.0954, 15.3626,  6.5439, 15.6352,  4.2676,  7.5326,\n",
            "         53.6111, 13.9565]], grad_fn=<AddBackward0>)\n",
            "tensor(5)\n",
            "tensor([[  2.4877,  -1.1673, -20.7319,  20.7592,  -6.3201,  55.7819,   3.9264,\n",
            "           9.2528,  18.9631,  17.1188]], grad_fn=<AddBackward0>)\n",
            "tensor(4)\n",
            "tensor([[-6.3609,  9.7048,  5.4031,  2.5176, 54.0379,  5.2129,  7.7497, 19.3984,\n",
            "         20.9174, 24.9919]], grad_fn=<AddBackward0>)\n",
            "tensor(8)\n",
            "tensor([[ 0.3953,  7.8269,  5.6521, 16.3551,  6.1461, 11.6545, 12.6940, -3.5182,\n",
            "         53.8419,  9.5217]], grad_fn=<AddBackward0>)\n",
            "tensor(1)\n",
            "tensor([[ 3.9256, 55.1246, 15.8696,  2.2939, 25.2083,  0.6881,  7.9654, 27.4106,\n",
            "         20.3763, 11.5181]], grad_fn=<AddBackward0>)\n",
            "tensor(3)\n",
            "tensor([[  2.6189,  14.8856,  14.2696,  44.9496,  -2.8421,   5.5197, -18.0351,\n",
            "          33.9055,  18.6282,  21.4167]], grad_fn=<AddBackward0>)\n",
            "tensor(9)\n",
            "tensor([[ -9.7437,   1.0506,  -5.4817,  16.9795,  20.6707,   6.1132, -21.0161,\n",
            "           9.4080,  11.2356,  53.1802]], grad_fn=<AddBackward0>)\n",
            "tensor(9)\n",
            "tensor([[  0.8079,  -0.8184,   0.0758,  19.2481,  20.6468,   7.2418, -11.1448,\n",
            "          20.6336,  22.9113,  51.9688]], grad_fn=<AddBackward0>)\n",
            "tensor([4., 6., 8., 5., 4., 8., 1., 3., 9., 9.])\n"
          ],
          "name": "stdout"
        }
      ]
    },
    {
      "cell_type": "markdown",
      "metadata": {
        "id": "oPaFMqnM1LHk",
        "colab_type": "text"
      },
      "source": [
        "# Aici o sa punem distributia cifrelor "
      ]
    },
    {
      "cell_type": "code",
      "metadata": {
        "id": "4bCOC5Ty1Lpk",
        "colab_type": "code",
        "colab": {
          "base_uri": "https://localhost:8080/",
          "height": 217
        },
        "outputId": "40393319-7421-468e-870e-9c3fb7070a9e"
      },
      "source": [
        "frequency = torch.zeros(10)\n",
        "for item in bunch_of_labels:\n",
        "  frequency[int(item.item())] += 1\n",
        "print(frequency)\n",
        "\n",
        "for idx, item in enumerate(frequency):\n",
        "  print(f\"{idx} ---> { int(item) } times\")"
      ],
      "execution_count": null,
      "outputs": [
        {
          "output_type": "stream",
          "text": [
            "tensor([11., 11.,  9., 10., 11.,  7.,  8., 10., 13., 10.])\n",
            "0 ---> 11 times\n",
            "1 ---> 11 times\n",
            "2 ---> 9 times\n",
            "3 ---> 10 times\n",
            "4 ---> 11 times\n",
            "5 ---> 7 times\n",
            "6 ---> 8 times\n",
            "7 ---> 10 times\n",
            "8 ---> 13 times\n",
            "9 ---> 10 times\n"
          ],
          "name": "stdout"
        }
      ]
    },
    {
      "cell_type": "markdown",
      "metadata": {
        "id": "iCa59obp3PqE",
        "colab_type": "text"
      },
      "source": [
        "Here we want to save the numbers and labels "
      ]
    },
    {
      "cell_type": "code",
      "metadata": {
        "id": "PVwnMd-vboAm",
        "colab_type": "code",
        "colab": {}
      },
      "source": [
        "import csv\n",
        "####################################################################################\n",
        "\n",
        "\n",
        "torch.save(bunch_of_digits, photos_path)\n",
        "torch.save(bunch_of_labels, labels_path)\n",
        "\n",
        "####################################################################################"
      ],
      "execution_count": null,
      "outputs": []
    },
    {
      "cell_type": "code",
      "metadata": {
        "id": "zr54oHHizMpo",
        "colab_type": "code",
        "colab": {
          "base_uri": "https://localhost:8080/",
          "height": 1000
        },
        "outputId": "2a9d6be4-f0ad-4c9b-c5f5-21f7963972b5"
      },
      "source": [
        " # First we load the models\n",
        "pretrained_model1 = \"conv_net.pt\"\n",
        "pretrained_model2 = \"LeNet5.pt\"\n",
        "pretrained_model3 = \"ResNet.pt\"\n",
        "# Here we load the model \n",
        "\n",
        "device = torch.device(\"cuda\" if (use_cuda and torch.cuda.is_available()) else \"cpu\")\n",
        "\n",
        "# Initialize the network\n",
        "model1 = CNN().to(device)\n",
        "model2 = LeNet5(10).to(device)\n",
        "model3 = MNISTResNet().to(device)\n",
        "\n",
        "# Load the pretrained model\n",
        "model1.load_state_dict(torch.load(pretrained_model1, map_location='cpu'))\n",
        "model2.load_state_dict(torch.load(pretrained_model2, map_location='cpu'))\n",
        "model3.load_state_dict(torch.load(pretrained_model3, map_location='cpu'))\n",
        "# Set the model in evaluation mode. \n",
        "model1.eval()\n",
        "model2.eval()\n",
        "model3.eval()"
      ],
      "execution_count": 178,
      "outputs": [
        {
          "output_type": "execute_result",
          "data": {
            "text/plain": [
              "MNISTResNet(\n",
              "  (conv1): Conv2d(1, 64, kernel_size=(7, 7), stride=(1, 1), padding=(3, 3), bias=False)\n",
              "  (bn1): BatchNorm2d(64, eps=1e-05, momentum=0.1, affine=True, track_running_stats=True)\n",
              "  (relu): ReLU(inplace=True)\n",
              "  (maxpool): MaxPool2d(kernel_size=3, stride=2, padding=1, dilation=1, ceil_mode=False)\n",
              "  (layer1): Sequential(\n",
              "    (0): BasicBlock(\n",
              "      (conv1): Conv2d(64, 64, kernel_size=(3, 3), stride=(1, 1), padding=(1, 1), bias=False)\n",
              "      (bn1): BatchNorm2d(64, eps=1e-05, momentum=0.1, affine=True, track_running_stats=True)\n",
              "      (relu): ReLU(inplace=True)\n",
              "      (conv2): Conv2d(64, 64, kernel_size=(3, 3), stride=(1, 1), padding=(1, 1), bias=False)\n",
              "      (bn2): BatchNorm2d(64, eps=1e-05, momentum=0.1, affine=True, track_running_stats=True)\n",
              "    )\n",
              "    (1): BasicBlock(\n",
              "      (conv1): Conv2d(64, 64, kernel_size=(3, 3), stride=(1, 1), padding=(1, 1), bias=False)\n",
              "      (bn1): BatchNorm2d(64, eps=1e-05, momentum=0.1, affine=True, track_running_stats=True)\n",
              "      (relu): ReLU(inplace=True)\n",
              "      (conv2): Conv2d(64, 64, kernel_size=(3, 3), stride=(1, 1), padding=(1, 1), bias=False)\n",
              "      (bn2): BatchNorm2d(64, eps=1e-05, momentum=0.1, affine=True, track_running_stats=True)\n",
              "    )\n",
              "  )\n",
              "  (layer2): Sequential(\n",
              "    (0): BasicBlock(\n",
              "      (conv1): Conv2d(64, 128, kernel_size=(3, 3), stride=(2, 2), padding=(1, 1), bias=False)\n",
              "      (bn1): BatchNorm2d(128, eps=1e-05, momentum=0.1, affine=True, track_running_stats=True)\n",
              "      (relu): ReLU(inplace=True)\n",
              "      (conv2): Conv2d(128, 128, kernel_size=(3, 3), stride=(1, 1), padding=(1, 1), bias=False)\n",
              "      (bn2): BatchNorm2d(128, eps=1e-05, momentum=0.1, affine=True, track_running_stats=True)\n",
              "      (downsample): Sequential(\n",
              "        (0): Conv2d(64, 128, kernel_size=(1, 1), stride=(2, 2), bias=False)\n",
              "        (1): BatchNorm2d(128, eps=1e-05, momentum=0.1, affine=True, track_running_stats=True)\n",
              "      )\n",
              "    )\n",
              "    (1): BasicBlock(\n",
              "      (conv1): Conv2d(128, 128, kernel_size=(3, 3), stride=(1, 1), padding=(1, 1), bias=False)\n",
              "      (bn1): BatchNorm2d(128, eps=1e-05, momentum=0.1, affine=True, track_running_stats=True)\n",
              "      (relu): ReLU(inplace=True)\n",
              "      (conv2): Conv2d(128, 128, kernel_size=(3, 3), stride=(1, 1), padding=(1, 1), bias=False)\n",
              "      (bn2): BatchNorm2d(128, eps=1e-05, momentum=0.1, affine=True, track_running_stats=True)\n",
              "    )\n",
              "  )\n",
              "  (layer3): Sequential(\n",
              "    (0): BasicBlock(\n",
              "      (conv1): Conv2d(128, 256, kernel_size=(3, 3), stride=(2, 2), padding=(1, 1), bias=False)\n",
              "      (bn1): BatchNorm2d(256, eps=1e-05, momentum=0.1, affine=True, track_running_stats=True)\n",
              "      (relu): ReLU(inplace=True)\n",
              "      (conv2): Conv2d(256, 256, kernel_size=(3, 3), stride=(1, 1), padding=(1, 1), bias=False)\n",
              "      (bn2): BatchNorm2d(256, eps=1e-05, momentum=0.1, affine=True, track_running_stats=True)\n",
              "      (downsample): Sequential(\n",
              "        (0): Conv2d(128, 256, kernel_size=(1, 1), stride=(2, 2), bias=False)\n",
              "        (1): BatchNorm2d(256, eps=1e-05, momentum=0.1, affine=True, track_running_stats=True)\n",
              "      )\n",
              "    )\n",
              "    (1): BasicBlock(\n",
              "      (conv1): Conv2d(256, 256, kernel_size=(3, 3), stride=(1, 1), padding=(1, 1), bias=False)\n",
              "      (bn1): BatchNorm2d(256, eps=1e-05, momentum=0.1, affine=True, track_running_stats=True)\n",
              "      (relu): ReLU(inplace=True)\n",
              "      (conv2): Conv2d(256, 256, kernel_size=(3, 3), stride=(1, 1), padding=(1, 1), bias=False)\n",
              "      (bn2): BatchNorm2d(256, eps=1e-05, momentum=0.1, affine=True, track_running_stats=True)\n",
              "    )\n",
              "  )\n",
              "  (layer4): Sequential(\n",
              "    (0): BasicBlock(\n",
              "      (conv1): Conv2d(256, 512, kernel_size=(3, 3), stride=(2, 2), padding=(1, 1), bias=False)\n",
              "      (bn1): BatchNorm2d(512, eps=1e-05, momentum=0.1, affine=True, track_running_stats=True)\n",
              "      (relu): ReLU(inplace=True)\n",
              "      (conv2): Conv2d(512, 512, kernel_size=(3, 3), stride=(1, 1), padding=(1, 1), bias=False)\n",
              "      (bn2): BatchNorm2d(512, eps=1e-05, momentum=0.1, affine=True, track_running_stats=True)\n",
              "      (downsample): Sequential(\n",
              "        (0): Conv2d(256, 512, kernel_size=(1, 1), stride=(2, 2), bias=False)\n",
              "        (1): BatchNorm2d(512, eps=1e-05, momentum=0.1, affine=True, track_running_stats=True)\n",
              "      )\n",
              "    )\n",
              "    (1): BasicBlock(\n",
              "      (conv1): Conv2d(512, 512, kernel_size=(3, 3), stride=(1, 1), padding=(1, 1), bias=False)\n",
              "      (bn1): BatchNorm2d(512, eps=1e-05, momentum=0.1, affine=True, track_running_stats=True)\n",
              "      (relu): ReLU(inplace=True)\n",
              "      (conv2): Conv2d(512, 512, kernel_size=(3, 3), stride=(1, 1), padding=(1, 1), bias=False)\n",
              "      (bn2): BatchNorm2d(512, eps=1e-05, momentum=0.1, affine=True, track_running_stats=True)\n",
              "    )\n",
              "  )\n",
              "  (avgpool): AdaptiveAvgPool2d(output_size=(1, 1))\n",
              "  (fc): Linear(in_features=512, out_features=10, bias=True)\n",
              ")"
            ]
          },
          "metadata": {
            "tags": []
          },
          "execution_count": 178
        }
      ]
    },
    {
      "cell_type": "code",
      "metadata": {
        "id": "IYd4WP4Ht373",
        "colab_type": "code",
        "colab": {}
      },
      "source": [
        "adv = []\n",
        "number_or_tries_model1 = []"
      ],
      "execution_count": 28,
      "outputs": []
    },
    {
      "cell_type": "code",
      "metadata": {
        "id": "D9dFL4P1CnEi",
        "colab_type": "code",
        "colab": {}
      },
      "source": [
        "def get_probs1(model, x, y):\n",
        "    output = model(x)\n",
        "    probs = (output)[:, y]\n",
        "    return torch.diag(probs.data)\n",
        "\n",
        "# 20-line implementation of (untargeted) SimBA for single image input\n",
        "def simba_single1(model, x, y, num_iters=10000, epsilon=0.2, tries=1):\n",
        "    n_dims = x.view(1, -1).size(1)\n",
        "    perm = torch.randperm(n_dims)\n",
        "    last_prob = get_probs1(model, x, y)\n",
        "    number_of_tries = tries\n",
        "    for i in range(num_iters):\n",
        "        diff = torch.zeros(n_dims)\n",
        "        diff[perm[i]] = epsilon\n",
        "        left_prob = get_probs1(model, (x - diff.view(x.size())).clamp(0, 1), y)\n",
        "        # print(left_prob)\n",
        "        number_of_tries += 1\n",
        "        if left_prob < last_prob:\n",
        "            x = (x - diff.view(x.size())).clamp(0, 1)\n",
        "            last_prob = left_prob\n",
        "        else:\n",
        "            right_prob = get_probs1(model, (x + diff.view(x.size())).clamp(0, 1), y)\n",
        "            number_of_tries += 1\n",
        "            if right_prob < last_prob:\n",
        "                x = (x + diff.view(x.size())).clamp(0, 1)\n",
        "                last_prob = right_prob\n",
        "        # Here I want that if the model missclasify it to stop the procedure\n",
        "        prediction = model(x).argmax()\n",
        "        # We save the adversarial examples as a touple formed by initial label, predicted label, adversarial_image and epsioln\n",
        "        if prediction != y:\n",
        "          adv.append((y.item(), prediction.item(), x, epsilon))\n",
        "          break\n",
        "\n",
        "    return x, number_of_tries"
      ],
      "execution_count": 40,
      "outputs": []
    },
    {
      "cell_type": "code",
      "metadata": {
        "id": "lkGschPj4grh",
        "colab_type": "code",
        "colab": {
          "base_uri": "https://localhost:8080/",
          "height": 1000
        },
        "outputId": "6b226c75-a627-40e8-b7c9-b2dc30b81a5c"
      },
      "source": [
        "# Let s calculate how many queries we are doing for model1\n",
        "queries = torch.zeros(1)\n",
        "adversarial = torch.zeros(1, 1, 28, 28)\n",
        "for idx, (data,label) in enumerate(zip(bunch_of_digits, bunch_of_labels)):\n",
        "  if idx % 10 == 0:\n",
        "    print(idx, \"/\", len(bunch_of_digits))\n",
        "  x, tries = simba_single1(model1, data.unsqueeze(dim=1), torch.Tensor.long(label), 784, 0.2)\n",
        "  print(model1(x).argmax(), label)\n",
        "  while model1(x).argmax() == label:\n",
        "     x, tries = simba_single1(model1, x, torch.Tensor.long(label), 784, 0.2, tries)\n",
        "     if tries > 12000:\n",
        "       break\n",
        "  print(idx, \"---->\", tries)\n",
        "  adversarial = torch.cat((adversarial, x))\n",
        "  queries = torch.cat((queries, torch.Tensor([tries])))\n",
        "  torch.save(adversarial[1:], \"1first1.csv\")\n",
        "  torch.save(queries[1:] ,\"1queries1.csv\")\n",
        "\n"
      ],
      "execution_count": 41,
      "outputs": [
        {
          "output_type": "stream",
          "text": [
            "0 / 100\n",
            "tensor(4) tensor(4.)\n",
            "0 ----> 12545\n",
            "tensor(4) tensor(6.)\n",
            "1 ----> 1052\n",
            "tensor(8) tensor(8.)\n",
            "2 ----> 12545\n",
            "tensor(5) tensor(5.)\n",
            "3 ----> 12545\n",
            "tensor(4) tensor(4.)\n",
            "4 ----> 12545\n",
            "tensor(8) tensor(8.)\n",
            "5 ----> 12545\n",
            "tensor(7) tensor(1.)\n",
            "6 ----> 814\n",
            "tensor(7) tensor(3.)\n",
            "7 ----> 453\n",
            "tensor(9) tensor(9.)\n",
            "8 ----> 12545\n",
            "tensor(9) tensor(9.)\n",
            "9 ----> 12545\n",
            "10 / 100\n",
            "tensor(3) tensor(3.)\n",
            "10 ----> 12545\n",
            "tensor(1) tensor(1.)\n",
            "11 ----> 2681\n",
            "tensor(0) tensor(0.)\n",
            "12 ----> 12545\n",
            "tensor(7) tensor(7.)\n",
            "13 ----> 12545\n",
            "tensor(2) tensor(2.)\n",
            "14 ----> 12545\n",
            "tensor(2) tensor(2.)\n",
            "15 ----> 12545\n",
            "tensor(6) tensor(6.)\n",
            "16 ----> 12545\n",
            "tensor(3) tensor(7.)\n",
            "17 ----> 495\n",
            "tensor(3) tensor(9.)\n",
            "18 ----> 773\n",
            "tensor(3) tensor(8.)\n",
            "19 ----> 694\n",
            "20 / 100\n",
            "tensor(0) tensor(0.)\n",
            "20 ----> 12545\n",
            "tensor(8) tensor(9.)\n",
            "21 ----> 684\n",
            "tensor(0) tensor(0.)\n",
            "22 ----> 12545\n",
            "tensor(0) tensor(0.)\n",
            "23 ----> 12545\n",
            "tensor(6) tensor(6.)\n",
            "24 ----> 12545\n",
            "tensor(0) tensor(0.)\n",
            "25 ----> 12545\n",
            "tensor(2) tensor(7.)\n",
            "26 ----> 530\n",
            "tensor(3) tensor(3.)\n",
            "27 ----> 12545\n",
            "tensor(8) tensor(8.)\n",
            "28 ----> 12545\n",
            "tensor(2) tensor(8.)\n",
            "29 ----> 816\n",
            "30 / 100\n",
            "tensor(4) tensor(2.)\n",
            "30 ----> 903\n",
            "tensor(5) tensor(5.)\n",
            "31 ----> 12545\n",
            "tensor(3) tensor(9.)\n",
            "32 ----> 392\n",
            "tensor(4) tensor(9.)\n",
            "33 ----> 903\n",
            "tensor(8) tensor(1.)\n",
            "34 ----> 686\n",
            "tensor(0) tensor(0.)\n",
            "35 ----> 12545\n",
            "tensor(8) tensor(2.)\n",
            "36 ----> 957\n",
            "tensor(2) tensor(2.)\n",
            "37 ----> 12545\n",
            "tensor(3) tensor(7.)\n",
            "38 ----> 764\n",
            "tensor(4) tensor(0.)\n",
            "39 ----> 895\n",
            "40 / 100\n",
            "tensor(7) tensor(1.)\n",
            "40 ----> 960\n",
            "tensor(3) tensor(3.)\n",
            "41 ----> 12545\n",
            "tensor(7) tensor(2.)\n",
            "42 ----> 51\n",
            "tensor(7) tensor(1.)\n",
            "43 ----> 823\n",
            "tensor(4) tensor(4.)\n",
            "44 ----> 12545\n",
            "tensor(4) tensor(4.)\n",
            "45 ----> 12545\n",
            "tensor(8) tensor(7.)\n",
            "46 ----> 839\n",
            "tensor(3) tensor(3.)\n",
            "47 ----> 12545\n",
            "tensor(5) tensor(5.)\n",
            "48 ----> 12545\n",
            "tensor(3) tensor(7.)\n",
            "49 ----> 859\n",
            "50 / 100\n",
            "tensor(9) tensor(9.)\n",
            "50 ----> 12545\n",
            "tensor(9) tensor(5.)\n",
            "51 ----> 898\n",
            "tensor(6) tensor(6.)\n",
            "52 ----> 12545\n",
            "tensor(4) tensor(4.)\n",
            "53 ----> 12545\n",
            "tensor(7) tensor(1.)\n",
            "54 ----> 703\n",
            "tensor(0) tensor(0.)\n",
            "55 ----> 12545\n",
            "tensor(8) tensor(8.)\n",
            "56 ----> 12545\n",
            "tensor(5) tensor(5.)\n",
            "57 ----> 12544\n",
            "tensor(8) tensor(8.)\n",
            "58 ----> 12545\n",
            "tensor(4) tensor(4.)\n",
            "59 ----> 12545\n",
            "60 / 100\n",
            "tensor(3) tensor(3.)\n",
            "60 ----> 12545\n",
            "tensor(3) tensor(3.)\n",
            "61 ----> 12545\n",
            "tensor(7) tensor(7.)\n",
            "62 ----> 12545\n",
            "tensor(7) tensor(1.)\n",
            "63 ----> 1169\n",
            "tensor(7) tensor(7.)\n",
            "64 ----> 12545\n",
            "tensor(6) tensor(6.)\n",
            "65 ----> 12545\n",
            "tensor(4) tensor(6.)\n",
            "66 ----> 704\n",
            "tensor(8) tensor(9.)\n",
            "67 ----> 661\n",
            "tensor(3) tensor(7.)\n",
            "68 ----> 623\n",
            "tensor(3) tensor(3.)\n",
            "69 ----> 12545\n",
            "70 / 100\n",
            "tensor(3) tensor(3.)\n",
            "70 ----> 12545\n",
            "tensor(3) tensor(5.)\n",
            "71 ----> 1511\n",
            "tensor(0) tensor(0.)\n",
            "72 ----> 12545\n",
            "tensor(3) tensor(2.)\n",
            "73 ----> 430\n",
            "tensor(3) tensor(8.)\n",
            "74 ----> 144\n",
            "tensor(0) tensor(0.)\n",
            "75 ----> 12544\n",
            "tensor(0) tensor(0.)\n",
            "76 ----> 1665\n",
            "tensor(9) tensor(4.)\n",
            "77 ----> 346\n",
            "tensor(6) tensor(6.)\n",
            "78 ----> 12545\n",
            "tensor(8) tensor(8.)\n",
            "79 ----> 12545\n",
            "80 / 100\n",
            "tensor(4) tensor(4.)\n",
            "80 ----> 12545\n",
            "tensor(3) tensor(7.)\n",
            "81 ----> 508\n",
            "tensor(4) tensor(4.)\n",
            "82 ----> 12545\n",
            "tensor(9) tensor(9.)\n",
            "83 ----> 12545\n",
            "tensor(3) tensor(3.)\n",
            "84 ----> 12545\n",
            "tensor(7) tensor(1.)\n",
            "85 ----> 246\n",
            "tensor(7) tensor(8.)\n",
            "86 ----> 1123\n",
            "tensor(7) tensor(1.)\n",
            "87 ----> 895\n",
            "tensor(5) tensor(5.)\n",
            "88 ----> 12545\n",
            "tensor(9) tensor(4.)\n",
            "89 ----> 19\n",
            "90 / 100\n",
            "tensor(3) tensor(8.)\n",
            "90 ----> 965\n",
            "tensor(9) tensor(4.)\n",
            "91 ----> 892\n",
            "tensor(1) tensor(1.)\n",
            "92 ----> 3469\n",
            "tensor(9) tensor(1.)\n",
            "93 ----> 1380\n",
            "tensor(8) tensor(8.)\n",
            "94 ----> 12545\n",
            "tensor(3) tensor(8.)\n",
            "95 ----> 16\n",
            "tensor(8) tensor(2.)\n",
            "96 ----> 18\n",
            "tensor(3) tensor(2.)\n",
            "97 ----> 482\n",
            "tensor(8) tensor(6.)\n",
            "98 ----> 868\n",
            "tensor(3) tensor(9.)\n",
            "99 ----> 802\n"
          ],
          "name": "stdout"
        }
      ]
    },
    {
      "cell_type": "code",
      "metadata": {
        "id": "hLn3B0V7NoH0",
        "colab_type": "code",
        "colab": {
          "base_uri": "https://localhost:8080/",
          "height": 35
        },
        "outputId": "4887fcf7-b1fa-4dd6-f886-a9a88d7fefaa"
      },
      "source": [
        "queries = torch.load('1queries1.csv')\n",
        "queries.mean()"
      ],
      "execution_count": 44,
      "outputs": [
        {
          "output_type": "execute_result",
          "data": {
            "text/plain": [
              "tensor(7034.4399)"
            ]
          },
          "metadata": {
            "tags": []
          },
          "execution_count": 44
        }
      ]
    },
    {
      "cell_type": "code",
      "metadata": {
        "id": "ZVBcSIyn4gl5",
        "colab_type": "code",
        "colab": {
          "base_uri": "https://localhost:8080/",
          "height": 265
        },
        "outputId": "0710c579-5701-47c2-9468-73bf6bbc30e8"
      },
      "source": [
        "print_image(adversarial[3])"
      ],
      "execution_count": null,
      "outputs": [
        {
          "output_type": "display_data",
          "data": {
            "image/png": "[encoded data removed]",
            "text/plain": [
              "<Figure size 432x288 with 1 Axes>"
            ]
          },
          "metadata": {
            "tags": [],
            "needs_background": "light"
          }
        }
      ]
    },
    {
      "cell_type": "code",
      "metadata": {
        "id": "jlHPudtL4gkg",
        "colab_type": "code",
        "colab": {}
      },
      "source": [
        "# import csv\n",
        "\n",
        "# with open(\"1first1.csv\", 'w', newline='') as myfile:\n",
        "#      wr = csv.writer(myfile, quoting=csv.QUOTE_ALL)\n",
        "#      wr.writerow(queries)"
      ],
      "execution_count": null,
      "outputs": []
    },
    {
      "cell_type": "markdown",
      "metadata": {
        "id": "dgj1NXkdD5Xg",
        "colab_type": "text"
      },
      "source": [
        "# This is for the second network"
      ]
    },
    {
      "cell_type": "code",
      "metadata": {
        "id": "CyvoeMtqD5Px",
        "colab_type": "code",
        "colab": {}
      },
      "source": [
        "def get_probs2(model, x, y):\n",
        "    output = model(x)[0]\n",
        "    probs = (output)[:, y]\n",
        "    return torch.diag(probs.data)\n",
        "\n",
        "# 20-line implementation of (untargeted) SimBA for single image input\n",
        "def simba_single2(model, x, y, num_iters=10000, epsilon=0.2, tries=1):\n",
        "    n_dims = x.view(1, -1).size(1)\n",
        "    perm = torch.randperm(n_dims)\n",
        "    last_prob = get_probs2(model, x, y)\n",
        "    number_of_tries = tries\n",
        "    for i in range(num_iters):\n",
        "        diff = torch.zeros(n_dims)\n",
        "        diff[perm[i]] = epsilon\n",
        "        left_prob = get_probs2(model, (x - diff.view(x.size())).clamp(0, 1), y)\n",
        "        number_of_tries += 1\n",
        "        if left_prob < last_prob:\n",
        "            x = (x - diff.view(x.size())).clamp(0, 1)\n",
        "            last_prob = left_prob\n",
        "        else:\n",
        "            right_prob = get_probs2(model, (x + diff.view(x.size())).clamp(0, 1), y)\n",
        "            number_of_tries += 1\n",
        "            if right_prob < last_prob:\n",
        "                x = (x + diff.view(x.size())).clamp(0, 1)\n",
        "                last_prob = right_prob\n",
        "        # Here I want that if the model missclasify it to stop the procedure\n",
        "        prediction = model(x)[0].argmax()\n",
        "        # We save the adversarial examples as a touple formed by initial label, predicted label, adversarial_image and epsioln\n",
        "        if prediction != y:\n",
        "          adv.append((y.item(), prediction.item(), x, epsilon))\n",
        "          break\n",
        "\n",
        "    return x, number_of_tries"
      ],
      "execution_count": 45,
      "outputs": []
    },
    {
      "cell_type": "code",
      "metadata": {
        "id": "W5m84A3OD5M4",
        "colab_type": "code",
        "colab": {
          "base_uri": "https://localhost:8080/",
          "height": 1000
        },
        "outputId": "576c4cd3-8ef2-4fc1-8771-9ea42b307ea8"
      },
      "source": [
        "# Let s calculate how many queries we are doing for model2\n",
        "queries2 = torch.zeros(1)\n",
        "adversarial2 = torch.zeros(1, 1, 32, 32)\n",
        "for idx, (data,label) in enumerate(zip(bunch_of_digits, bunch_of_labels)):\n",
        "  if idx % 10 == 0:\n",
        "    print(idx, \"/\", len(bunch_of_digits))\n",
        "  x, tries = simba_single2(model2, transform_image(data.unsqueeze(dim=1)), torch.Tensor.long(label), 1024, 0.15)\n",
        "  print(model2(x)[0].argmax(), label)\n",
        "  while model2(x)[0].argmax() == label:\n",
        "     x, tries = simba_single2(model2, x, torch.Tensor.long(label), 1024, 0.15, tries)\n",
        "     if tries > 12000:\n",
        "       break\n",
        "  print(idx, \"---->\", tries)\n",
        "  adversarial2 = torch.cat((adversarial2, x))\n",
        "  queries2 = torch.cat((queries2, torch.Tensor([tries])))\n",
        "  torch.save(adversarial2[1:], \"2second2.csv\")\n",
        "  torch.save(queries2[1:] ,\"2queries2.csv\")\n",
        " "
      ],
      "execution_count": 46,
      "outputs": [
        {
          "output_type": "stream",
          "text": [
            "0 / 100\n",
            "tensor(9) tensor(4.)\n",
            "0 ----> 1149\n",
            "tensor(4) tensor(6.)\n",
            "1 ----> 630\n",
            "tensor(5) tensor(8.)\n",
            "2 ----> 829\n",
            "tensor(3) tensor(5.)\n",
            "3 ----> 1816\n",
            "tensor(8) tensor(4.)\n",
            "4 ----> 744\n",
            "tensor(3) tensor(8.)\n",
            "5 ----> 1564\n",
            "tensor(4) tensor(1.)\n",
            "6 ----> 337\n",
            "tensor(7) tensor(3.)\n",
            "7 ----> 319\n",
            "tensor(8) tensor(9.)\n",
            "8 ----> 1312\n",
            "tensor(7) tensor(9.)\n",
            "9 ----> 1482\n",
            "10 / 100\n",
            "tensor(9) tensor(3.)\n",
            "10 ----> 1647\n",
            "tensor(8) tensor(1.)\n",
            "11 ----> 460\n",
            "tensor(2) tensor(0.)\n",
            "12 ----> 1535\n",
            "tensor(8) tensor(7.)\n",
            "13 ----> 1383\n",
            "tensor(2) tensor(2.)\n",
            "14 ----> 2028\n",
            "tensor(8) tensor(2.)\n",
            "15 ----> 647\n",
            "tensor(8) tensor(6.)\n",
            "16 ----> 1190\n",
            "tensor(3) tensor(7.)\n",
            "17 ----> 207\n",
            "tensor(5) tensor(9.)\n",
            "18 ----> 741\n",
            "tensor(0) tensor(8.)\n",
            "19 ----> 547\n",
            "20 / 100\n",
            "tensor(0) tensor(0.)\n",
            "20 ----> 1949\n",
            "tensor(8) tensor(9.)\n",
            "21 ----> 390\n",
            "tensor(9) tensor(0.)\n",
            "22 ----> 1113\n",
            "tensor(2) tensor(0.)\n",
            "23 ----> 1655\n",
            "tensor(4) tensor(6.)\n",
            "24 ----> 1285\n",
            "tensor(0) tensor(0.)\n",
            "25 ----> 2245\n",
            "tensor(8) tensor(7.)\n",
            "26 ----> 114\n",
            "tensor(5) tensor(3.)\n",
            "27 ----> 681\n",
            "tensor(9) tensor(8.)\n",
            "28 ----> 323\n",
            "tensor(8) tensor(8.)\n",
            "29 ----> 2681\n",
            "30 / 100\n",
            "tensor(4) tensor(2.)\n",
            "30 ----> 583\n",
            "tensor(3) tensor(5.)\n",
            "31 ----> 1464\n",
            "tensor(3) tensor(9.)\n",
            "32 ----> 490\n",
            "tensor(8) tensor(9.)\n",
            "33 ----> 1071\n",
            "tensor(4) tensor(1.)\n",
            "34 ----> 557\n",
            "tensor(0) tensor(0.)\n",
            "35 ----> 1933\n",
            "tensor(3) tensor(2.)\n",
            "36 ----> 156\n",
            "tensor(3) tensor(2.)\n",
            "37 ----> 1125\n",
            "tensor(8) tensor(7.)\n",
            "38 ----> 723\n",
            "tensor(2) tensor(0.)\n",
            "39 ----> 632\n",
            "40 / 100\n",
            "tensor(9) tensor(1.)\n",
            "40 ----> 934\n",
            "tensor(2) tensor(3.)\n",
            "41 ----> 1885\n",
            "tensor(1) tensor(2.)\n",
            "42 ----> 558\n",
            "tensor(2) tensor(1.)\n",
            "43 ----> 573\n",
            "tensor(9) tensor(4.)\n",
            "44 ----> 768\n",
            "tensor(8) tensor(4.)\n",
            "45 ----> 1592\n",
            "tensor(8) tensor(7.)\n",
            "46 ----> 213\n",
            "tensor(5) tensor(3.)\n",
            "47 ----> 1460\n",
            "tensor(3) tensor(5.)\n",
            "48 ----> 1335\n",
            "tensor(8) tensor(7.)\n",
            "49 ----> 687\n",
            "50 / 100\n",
            "tensor(7) tensor(9.)\n",
            "50 ----> 1508\n",
            "tensor(9) tensor(5.)\n",
            "51 ----> 1060\n",
            "tensor(0) tensor(6.)\n",
            "52 ----> 1739\n",
            "tensor(8) tensor(4.)\n",
            "53 ----> 1201\n",
            "tensor(4) tensor(1.)\n",
            "54 ----> 539\n",
            "tensor(5) tensor(0.)\n",
            "55 ----> 834\n",
            "tensor(8) tensor(8.)\n",
            "56 ----> 3249\n",
            "tensor(9) tensor(5.)\n",
            "57 ----> 633\n",
            "tensor(3) tensor(8.)\n",
            "58 ----> 964\n",
            "tensor(7) tensor(4.)\n",
            "59 ----> 1202\n",
            "60 / 100\n",
            "tensor(8) tensor(3.)\n",
            "60 ----> 1441\n",
            "tensor(9) tensor(3.)\n",
            "61 ----> 759\n",
            "tensor(8) tensor(7.)\n",
            "62 ----> 826\n",
            "tensor(4) tensor(1.)\n",
            "63 ----> 652\n",
            "tensor(2) tensor(7.)\n",
            "64 ----> 767\n",
            "tensor(5) tensor(6.)\n",
            "65 ----> 997\n",
            "tensor(4) tensor(6.)\n",
            "66 ----> 300\n",
            "tensor(5) tensor(9.)\n",
            "67 ----> 312\n",
            "tensor(8) tensor(7.)\n",
            "68 ----> 524\n",
            "tensor(9) tensor(3.)\n",
            "69 ----> 1686\n",
            "70 / 100\n",
            "tensor(9) tensor(3.)\n",
            "70 ----> 1770\n",
            "tensor(3) tensor(5.)\n",
            "71 ----> 587\n",
            "tensor(5) tensor(0.)\n",
            "72 ----> 901\n",
            "tensor(3) tensor(2.)\n",
            "73 ----> 460\n",
            "tensor(9) tensor(8.)\n",
            "74 ----> 231\n",
            "tensor(2) tensor(0.)\n",
            "75 ----> 1257\n",
            "tensor(8) tensor(0.)\n",
            "76 ----> 1356\n",
            "tensor(2) tensor(4.)\n",
            "77 ----> 872\n",
            "tensor(4) tensor(6.)\n",
            "78 ----> 746\n",
            "tensor(9) tensor(8.)\n",
            "79 ----> 1172\n",
            "80 / 100\n",
            "tensor(9) tensor(4.)\n",
            "80 ----> 1178\n",
            "tensor(3) tensor(7.)\n",
            "81 ----> 361\n",
            "tensor(4) tensor(4.)\n",
            "82 ----> 2212\n",
            "tensor(5) tensor(9.)\n",
            "83 ----> 1355\n",
            "tensor(9) tensor(3.)\n",
            "84 ----> 364\n",
            "tensor(8) tensor(1.)\n",
            "85 ----> 393\n",
            "tensor(9) tensor(8.)\n",
            "86 ----> 889\n",
            "tensor(4) tensor(1.)\n",
            "87 ----> 393\n",
            "tensor(8) tensor(5.)\n",
            "88 ----> 861\n",
            "tensor(9) tensor(4.)\n",
            "89 ----> 95\n",
            "90 / 100\n",
            "tensor(5) tensor(8.)\n",
            "90 ----> 956\n",
            "tensor(0) tensor(4.)\n",
            "91 ----> 799\n",
            "tensor(9) tensor(1.)\n",
            "92 ----> 728\n",
            "tensor(8) tensor(1.)\n",
            "93 ----> 563\n",
            "tensor(8) tensor(8.)\n",
            "94 ----> 1938\n",
            "tensor(9) tensor(8.)\n",
            "95 ----> 362\n",
            "tensor(8) tensor(2.)\n",
            "96 ----> 471\n",
            "tensor(3) tensor(2.)\n",
            "97 ----> 343\n",
            "tensor(5) tensor(6.)\n",
            "98 ----> 814\n",
            "tensor(4) tensor(9.)\n",
            "99 ----> 229\n"
          ],
          "name": "stdout"
        }
      ]
    },
    {
      "cell_type": "code",
      "metadata": {
        "id": "Wo1QceqID5Lg",
        "colab_type": "code",
        "colab": {
          "base_uri": "https://localhost:8080/",
          "height": 35
        },
        "outputId": "4be7685b-ddd7-42f3-f87e-4ae2f71a80f7"
      },
      "source": [
        "len(adversarial2)"
      ],
      "execution_count": 47,
      "outputs": [
        {
          "output_type": "execute_result",
          "data": {
            "text/plain": [
              "101"
            ]
          },
          "metadata": {
            "tags": []
          },
          "execution_count": 47
        }
      ]
    },
    {
      "cell_type": "code",
      "metadata": {
        "id": "OIRmE3RBD5Ke",
        "colab_type": "code",
        "colab": {
          "base_uri": "https://localhost:8080/",
          "height": 266
        },
        "outputId": "b56c7ece-711e-46c3-b25c-7f7dcafa251c"
      },
      "source": [
        "print_image(adversarial2[2])"
      ],
      "execution_count": 58,
      "outputs": [
        {
          "output_type": "display_data",
          "data": {
            "image/png": "[encoded data removed]",
            "text/plain": [
              "<Figure size 432x288 with 1 Axes>"
            ]
          },
          "metadata": {
            "tags": [],
            "needs_background": "light"
          }
        }
      ]
    },
    {
      "cell_type": "code",
      "metadata": {
        "id": "upCoxoqGD5D1",
        "colab_type": "code",
        "colab": {
          "base_uri": "https://localhost:8080/",
          "height": 35
        },
        "outputId": "5d8d64f3-8038-427a-cc58-411813c3c95d"
      },
      "source": [
        "queries2 = torch.load('2queries2.csv')\n",
        "queries2.mean()"
      ],
      "execution_count": 51,
      "outputs": [
        {
          "output_type": "execute_result",
          "data": {
            "text/plain": [
              "tensor(975.9100)"
            ]
          },
          "metadata": {
            "tags": []
          },
          "execution_count": 51
        }
      ]
    },
    {
      "cell_type": "code",
      "metadata": {
        "id": "pElIceCRH2tS",
        "colab_type": "code",
        "colab": {}
      },
      "source": [
        "# import csv\n",
        "\n",
        "# with open(\"2second2.csv\", 'w', newline='') as myfile:\n",
        "#      wr = csv.writer(myfile, quoting=csv.QUOTE_ALL)\n",
        "#      wr.writerow(queries2)"
      ],
      "execution_count": null,
      "outputs": []
    },
    {
      "cell_type": "markdown",
      "metadata": {
        "id": "9xepZDjTY_G2",
        "colab_type": "text"
      },
      "source": [
        "# Let s do the same for model 3"
      ]
    },
    {
      "cell_type": "code",
      "metadata": {
        "id": "6f2vaUtEJNYx",
        "colab_type": "code",
        "colab": {}
      },
      "source": [
        "def get_probs3(model, x, y):\n",
        "    output = model(x)\n",
        "    probs = output[:, y]\n",
        "    return torch.diag(probs.data)\n",
        "\n",
        "# 20-line implementation of (untargeted) SimBA for single image input\n",
        "def simba_single3(model, x, y, num_iters=10000, epsilon=0.2, tries=1):\n",
        "    n_dims = x.view(1, -1).size(1)\n",
        "    perm = torch.randperm(n_dims)\n",
        "    last_prob = get_probs3(model, x, y)\n",
        "    number_of_tries = tries\n",
        "    for i in range(num_iters):\n",
        "        diff = torch.zeros(n_dims)\n",
        "        diff[perm[i]] = epsilon\n",
        "        left_prob = get_probs3(model, (x - diff.view(x.size())).clamp(0, 1), y)\n",
        "        number_of_tries += 1\n",
        "        if left_prob < last_prob:\n",
        "            x = (x - diff.view(x.size())).clamp(0, 1)\n",
        "            last_prob = left_prob\n",
        "        else:\n",
        "            right_prob = get_probs3(model, (x + diff.view(x.size())).clamp(0, 1), y)\n",
        "            number_of_tries += 1\n",
        "            if right_prob < last_prob:\n",
        "                x = (x + diff.view(x.size())).clamp(0, 1)\n",
        "                last_prob = right_prob\n",
        "        # Here I want that if the model missclasify it to stop the procedure\n",
        "        prediction = model(x).argmax()\n",
        "        # We save the adversarial examples as a touple formed by initial label, predicted label, adversarial_image and epsioln\n",
        "        if prediction != y:\n",
        "          adv.append((y.item(), prediction.item(), x, epsilon))\n",
        "          break\n",
        "\n",
        "    return x, number_of_tries"
      ],
      "execution_count": 59,
      "outputs": []
    },
    {
      "cell_type": "code",
      "metadata": {
        "id": "B5tZO7XDD5BO",
        "colab_type": "code",
        "colab": {
          "base_uri": "https://localhost:8080/",
          "height": 1000
        },
        "outputId": "3e95a9d8-2b88-482b-af4f-58906cdb4dae"
      },
      "source": [
        "# Let s calculate how many queries we are doing for model3\n",
        "queries3 = torch.zeros(1)\n",
        "adversarial3 = torch.zeros(1, 1, 28, 28)\n",
        "for idx, (data,label) in enumerate(zip(bunch_of_digits, bunch_of_labels)):\n",
        "  if idx % 10 == 0:\n",
        "    print(idx, \"/\", len(bunch_of_digits))\n",
        "  x, tries = simba_single3(model3, data.unsqueeze(dim=1), torch.Tensor.long(label), 784, 0.15)\n",
        "  print(model3(x).argmax(), label)\n",
        "  while model3(x).argmax() == label:\n",
        "     x, tries = simba_single3(model3, x, torch.Tensor.long(label), 784, 0.15, tries)\n",
        "     if tries > 12000:\n",
        "       break\n",
        "  print(idx, \"---->\", tries)\n",
        "  adversarial3 = torch.cat((adversarial3, x))\n",
        "  queries3 = torch.cat((queries3, torch.Tensor([tries])))\n",
        "  torch.save(adversarial3[1:], \"3third3.csv\")\n",
        "  torch.save(queries3[1:] ,\"3queries3.csv\")"
      ],
      "execution_count": 60,
      "outputs": [
        {
          "output_type": "stream",
          "text": [
            "0 / 100\n",
            "tensor(7) tensor(4.)\n",
            "0 ----> 553\n",
            "tensor(1) tensor(6.)\n",
            "1 ----> 590\n",
            "tensor(1) tensor(8.)\n",
            "2 ----> 177\n",
            "tensor(5) tensor(5.)\n",
            "3 ----> 1540\n",
            "tensor(1) tensor(4.)\n",
            "4 ----> 954\n",
            "tensor(1) tensor(8.)\n",
            "5 ----> 551\n",
            "tensor(1) tensor(1.)\n",
            "6 ----> 3915\n",
            "tensor(1) tensor(3.)\n",
            "7 ----> 2\n",
            "tensor(7) tensor(9.)\n",
            "8 ----> 838\n",
            "tensor(7) tensor(9.)\n",
            "9 ----> 840\n",
            "10 / 100\n",
            "tensor(0) tensor(3.)\n",
            "10 ----> 3\n",
            "tensor(1) tensor(1.)\n",
            "11 ----> 4028\n",
            "tensor(1) tensor(0.)\n",
            "12 ----> 1147\n",
            "tensor(1) tensor(7.)\n",
            "13 ----> 694\n",
            "tensor(0) tensor(2.)\n",
            "14 ----> 537\n",
            "tensor(1) tensor(2.)\n",
            "15 ----> 755\n",
            "tensor(0) tensor(6.)\n",
            "16 ----> 87\n",
            "tensor(1) tensor(7.)\n",
            "17 ----> 560\n",
            "tensor(4) tensor(9.)\n",
            "18 ----> 3\n",
            "tensor(1) tensor(8.)\n",
            "19 ----> 145\n",
            "20 / 100\n",
            "tensor(1) tensor(0.)\n",
            "20 ----> 1048\n",
            "tensor(4) tensor(9.)\n",
            "21 ----> 638\n",
            "tensor(1) tensor(0.)\n",
            "22 ----> 941\n",
            "tensor(1) tensor(0.)\n",
            "23 ----> 1079\n",
            "tensor(4) tensor(6.)\n",
            "24 ----> 94\n",
            "tensor(0) tensor(0.)\n",
            "25 ----> 1727\n",
            "tensor(1) tensor(7.)\n",
            "26 ----> 3\n",
            "tensor(5) tensor(3.)\n",
            "27 ----> 593\n",
            "tensor(0) tensor(8.)\n",
            "28 ----> 3\n",
            "tensor(1) tensor(8.)\n",
            "29 ----> 3\n",
            "30 / 100\n",
            "tensor(1) tensor(2.)\n",
            "30 ----> 3\n",
            "tensor(1) tensor(5.)\n",
            "31 ----> 1210\n",
            "tensor(7) tensor(9.)\n",
            "32 ----> 3\n",
            "tensor(4) tensor(9.)\n",
            "33 ----> 428\n",
            "tensor(1) tensor(1.)\n",
            "34 ----> 4554\n",
            "tensor(1) tensor(0.)\n",
            "35 ----> 1046\n",
            "tensor(1) tensor(2.)\n",
            "36 ----> 3\n",
            "tensor(1) tensor(2.)\n",
            "37 ----> 539\n",
            "tensor(1) tensor(7.)\n",
            "38 ----> 1009\n",
            "tensor(1) tensor(0.)\n",
            "39 ----> 914\n",
            "40 / 100\n",
            "tensor(1) tensor(1.)\n",
            "40 ----> 4387\n",
            "tensor(1) tensor(3.)\n",
            "41 ----> 130\n",
            "tensor(7) tensor(2.)\n",
            "42 ----> 3\n",
            "tensor(1) tensor(1.)\n",
            "43 ----> 3008\n",
            "tensor(1) tensor(4.)\n",
            "44 ----> 1054\n",
            "tensor(1) tensor(4.)\n",
            "45 ----> 806\n",
            "tensor(1) tensor(7.)\n",
            "46 ----> 504\n",
            "tensor(0) tensor(3.)\n",
            "47 ----> 2\n",
            "tensor(1) tensor(5.)\n",
            "48 ----> 742\n",
            "tensor(1) tensor(7.)\n",
            "49 ----> 316\n",
            "50 / 100\n",
            "tensor(4) tensor(9.)\n",
            "50 ----> 797\n",
            "tensor(6) tensor(5.)\n",
            "51 ----> 1136\n",
            "tensor(1) tensor(6.)\n",
            "52 ----> 1018\n",
            "tensor(1) tensor(4.)\n",
            "53 ----> 1057\n",
            "tensor(1) tensor(1.)\n",
            "54 ----> 4348\n",
            "tensor(4) tensor(0.)\n",
            "55 ----> 777\n",
            "tensor(1) tensor(8.)\n",
            "56 ----> 991\n",
            "tensor(7) tensor(5.)\n",
            "57 ----> 231\n",
            "tensor(1) tensor(8.)\n",
            "58 ----> 1228\n",
            "tensor(1) tensor(4.)\n",
            "59 ----> 851\n",
            "60 / 100\n",
            "tensor(1) tensor(3.)\n",
            "60 ----> 2\n",
            "tensor(1) tensor(3.)\n",
            "61 ----> 3\n",
            "tensor(1) tensor(7.)\n",
            "62 ----> 1079\n",
            "tensor(1) tensor(1.)\n",
            "63 ----> 2944\n",
            "tensor(1) tensor(7.)\n",
            "64 ----> 1319\n",
            "tensor(1) tensor(6.)\n",
            "65 ----> 3\n",
            "tensor(4) tensor(6.)\n",
            "66 ----> 3\n",
            "tensor(4) tensor(9.)\n",
            "67 ----> 487\n",
            "tensor(1) tensor(7.)\n",
            "68 ----> 726\n",
            "tensor(1) tensor(3.)\n",
            "69 ----> 3\n",
            "70 / 100\n",
            "tensor(1) tensor(3.)\n",
            "70 ----> 3\n",
            "tensor(0) tensor(5.)\n",
            "71 ----> 3\n",
            "tensor(1) tensor(0.)\n",
            "72 ----> 1341\n",
            "tensor(1) tensor(2.)\n",
            "73 ----> 2\n",
            "tensor(1) tensor(8.)\n",
            "74 ----> 658\n",
            "tensor(7) tensor(0.)\n",
            "75 ----> 1343\n",
            "tensor(1) tensor(0.)\n",
            "76 ----> 875\n",
            "tensor(9) tensor(4.)\n",
            "77 ----> 252\n",
            "tensor(1) tensor(6.)\n",
            "78 ----> 599\n",
            "tensor(1) tensor(8.)\n",
            "79 ----> 919\n",
            "80 / 100\n",
            "tensor(1) tensor(4.)\n",
            "80 ----> 1049\n",
            "tensor(1) tensor(7.)\n",
            "81 ----> 902\n",
            "tensor(1) tensor(4.)\n",
            "82 ----> 1093\n",
            "tensor(7) tensor(9.)\n",
            "83 ----> 986\n",
            "tensor(1) tensor(3.)\n",
            "84 ----> 3\n",
            "tensor(1) tensor(1.)\n",
            "85 ----> 3290\n",
            "tensor(1) tensor(8.)\n",
            "86 ----> 3\n",
            "tensor(1) tensor(1.)\n",
            "87 ----> 3975\n",
            "tensor(8) tensor(5.)\n",
            "88 ----> 415\n",
            "tensor(1) tensor(4.)\n",
            "89 ----> 19\n",
            "90 / 100\n",
            "tensor(1) tensor(8.)\n",
            "90 ----> 3\n",
            "tensor(1) tensor(4.)\n",
            "91 ----> 617\n",
            "tensor(1) tensor(1.)\n",
            "92 ----> 2902\n",
            "tensor(1) tensor(1.)\n",
            "93 ----> 2492\n",
            "tensor(1) tensor(8.)\n",
            "94 ----> 1229\n",
            "tensor(0) tensor(8.)\n",
            "95 ----> 3\n",
            "tensor(1) tensor(2.)\n",
            "96 ----> 3\n",
            "tensor(1) tensor(2.)\n",
            "97 ----> 3\n",
            "tensor(1) tensor(6.)\n",
            "98 ----> 419\n",
            "tensor(4) tensor(9.)\n",
            "99 ----> 258\n"
          ],
          "name": "stdout"
        }
      ]
    },
    {
      "cell_type": "code",
      "metadata": {
        "id": "bDLy7aIaItg6",
        "colab_type": "code",
        "colab": {
          "base_uri": "https://localhost:8080/",
          "height": 35
        },
        "outputId": "c700eb84-ace5-48f5-ba0c-6d635bf6c657"
      },
      "source": [
        "queries3 = torch.load('3queries3.csv')\n",
        "queries3.mean()"
      ],
      "execution_count": 61,
      "outputs": [
        {
          "output_type": "execute_result",
          "data": {
            "text/plain": [
              "tensor(893.7100)"
            ]
          },
          "metadata": {
            "tags": []
          },
          "execution_count": 61
        }
      ]
    },
    {
      "cell_type": "code",
      "metadata": {
        "id": "3NcxTDjFyszE",
        "colab_type": "code",
        "colab": {
          "base_uri": "https://localhost:8080/",
          "height": 53
        },
        "outputId": "c09e69c3-aa67-4805-c770-5afdda8a934f"
      },
      "source": [
        "model3(adversarial3[1])"
      ],
      "execution_count": null,
      "outputs": [
        {
          "output_type": "execute_result",
          "data": {
            "text/plain": [
              "tensor([[-3.1556,  1.3081, -2.9530,  0.3567,  0.1009,  1.3099, -1.8184, -1.8912,\n",
              "         -1.3716, -2.2043]], grad_fn=<AddmmBackward>)"
            ]
          },
          "metadata": {
            "tags": []
          },
          "execution_count": 75
        }
      ]
    },
    {
      "cell_type": "code",
      "metadata": {
        "id": "neG_ydjtysus",
        "colab_type": "code",
        "colab": {
          "base_uri": "https://localhost:8080/",
          "height": 266
        },
        "outputId": "47686c52-d86d-45e5-af44-4b32714f012a"
      },
      "source": [
        "print_image(adversarial3[1])"
      ],
      "execution_count": null,
      "outputs": [
        {
          "output_type": "display_data",
          "data": {
            "image/png": "[encoded data removed]",
            "text/plain": [
              "<Figure size 432x288 with 1 Axes>"
            ]
          },
          "metadata": {
            "tags": [],
            "needs_background": "light"
          }
        }
      ]
    },
    {
      "cell_type": "code",
      "metadata": {
        "id": "uLvLir3ZD4sC",
        "colab_type": "code",
        "colab": {}
      },
      "source": [
        "# import csv\n",
        "\n",
        "# with open(\"3third3.csv\", 'w', newline='') as myfile:\n",
        "#      wr = csv.writer(myfile, quoting=csv.QUOTE_ALL)\n",
        "#      wr.writerow(queries3)"
      ],
      "execution_count": null,
      "outputs": []
    },
    {
      "cell_type": "markdown",
      "metadata": {
        "id": "MVXIYOW_M5Ui",
        "colab_type": "text"
      },
      "source": [
        "# For the entire ensamble"
      ]
    },
    {
      "cell_type": "code",
      "metadata": {
        "id": "19ujJ_CfM5ER",
        "colab_type": "code",
        "colab": {}
      },
      "source": [
        "def get_probs4(model, x, y):\n",
        "    output = model(x)\n",
        "    probs = (output)[:, y]\n",
        "    return torch.diag(probs.data)\n",
        "\n",
        "# 20-line implementation of (untargeted) SimBA for single image input\n",
        "def simba_single4(model, x, y, num_iters=10000, epsilon=0.2, tries=1):\n",
        "    n_dims = x.view(1, -1).size(1)\n",
        "    perm = torch.randperm(n_dims)\n",
        "    last_prob = get_probs4(model, x, y)\n",
        "    #print(last_prob)\n",
        "    number_of_tries = tries\n",
        "    for i in range(num_iters):\n",
        "        diff = torch.zeros(n_dims)\n",
        "        diff[perm[i]] = epsilon\n",
        "        left_prob = get_probs4(model, (x - diff.view(x.size())).clamp(0, 1), y)\n",
        "        number_of_tries += 1\n",
        "        if left_prob < last_prob:\n",
        "            x = (x - diff.view(x.size())).clamp(0, 1)\n",
        "            last_prob = left_prob\n",
        "        else:\n",
        "            right_prob = get_probs4(model, (x + diff.view(x.size())).clamp(0, 1), y)\n",
        "            number_of_tries += 1\n",
        "            if right_prob < last_prob:\n",
        "                x = (x + diff.view(x.size())).clamp(0, 1)\n",
        "                last_prob = right_prob\n",
        "        # Here I want that if the model missclasify it to stop the procedure\n",
        "        prediction = model(x).argmax()\n",
        "        # We save the adversarial examples as a touple formed by initial label, predicted label, adversarial_image and epsioln\n",
        "        if prediction != y:\n",
        "          adv.append((y.item(), prediction.item(), x, epsilon))\n",
        "          break\n",
        "\n",
        "    return x, number_of_tries"
      ],
      "execution_count": 29,
      "outputs": []
    },
    {
      "cell_type": "code",
      "metadata": {
        "id": "2GLWi31L4gjC",
        "colab_type": "code",
        "colab": {
          "base_uri": "https://localhost:8080/",
          "height": 53
        },
        "outputId": "7ded178c-db6a-4260-f996-75667784922c"
      },
      "source": [
        "# Let s calculate how many queries we are doing for model3\n",
        "queries4 = torch.zeros(1)\n",
        "adversarial4 = torch.zeros(1, 1, 28, 28)\n",
        "for idx, (data,label) in enumerate(zip(bunch_of_digits, bunch_of_labels)):\n",
        "  if idx < 99:\n",
        "    continue\n",
        "  if idx % 10 == 0:\n",
        "    print(idx, \"/\", len(bunch_of_digits))\n",
        "  x, tries = simba_single4(ensamble_prediction, data.unsqueeze(dim=1), torch.Tensor.long(label), 784, 0.15)\n",
        "  print(ensamble_prediction(x).argmax(), label)\n",
        "  while ensamble_prediction(x).argmax() == label:\n",
        "     x, tries = simba_single4(ensamble_prediction, x, torch.Tensor.long(label), 784, 0.15, tries)\n",
        "     if tries > 12000:\n",
        "       break\n",
        "  print(idx, \"--->\", tries)\n",
        "  adversarial4 = torch.cat((adversarial4, x))\n",
        "  queries4 = torch.cat((queries4, torch.Tensor([tries])))\n",
        "  torch.save(adversarial4[1:], \"4444forth4444.csv\")\n",
        "  torch.save(queries4[1:] ,\"4444queries4444.csv\")"
      ],
      "execution_count": 30,
      "outputs": [
        {
          "output_type": "stream",
          "text": [
            "tensor(4) tensor(9.)\n",
            "99 ---> 690\n"
          ],
          "name": "stdout"
        }
      ]
    },
    {
      "cell_type": "code",
      "metadata": {
        "id": "vyJCb255M5Bq",
        "colab_type": "code",
        "colab": {
          "base_uri": "https://localhost:8080/",
          "height": 35
        },
        "outputId": "d8514e53-a3d1-4087-f7ae-6d2c29e83608"
      },
      "source": [
        "d = torch.load(\"44queries44.csv\")\n",
        "d.size()"
      ],
      "execution_count": 33,
      "outputs": [
        {
          "output_type": "execute_result",
          "data": {
            "text/plain": [
              "torch.Size([46])"
            ]
          },
          "metadata": {
            "tags": []
          },
          "execution_count": 33
        }
      ]
    },
    {
      "cell_type": "code",
      "metadata": {
        "id": "oZiAi1Pv4gVl",
        "colab_type": "code",
        "colab": {
          "base_uri": "https://localhost:8080/",
          "height": 53
        },
        "outputId": "bef5483f-f0e8-48cd-d350-2cfb9d4cfe18"
      },
      "source": [
        "patch1_35 = torch.load('4forth4.csv')\n",
        "patch1_queries = torch.load(\"4queries4.csv\")\n",
        "print(patch1_35.size())\n",
        "print(patch1_queries.size())"
      ],
      "execution_count": 36,
      "outputs": [
        {
          "output_type": "stream",
          "text": [
            "torch.Size([35, 1, 28, 28])\n",
            "torch.Size([35])\n"
          ],
          "name": "stdout"
        }
      ]
    },
    {
      "cell_type": "code",
      "metadata": {
        "id": "is6rpURNM46z",
        "colab_type": "code",
        "colab": {
          "base_uri": "https://localhost:8080/",
          "height": 53
        },
        "outputId": "92e26522-79fc-47f3-80ac-657ee275edef"
      },
      "source": [
        "patch2_46 = torch.load('44forth44.csv')\n",
        "patch2_queries = torch.load(\"44queries44.csv\")\n",
        "print(patch2_46.size())\n",
        "print(patch2_queries.size())"
      ],
      "execution_count": 37,
      "outputs": [
        {
          "output_type": "stream",
          "text": [
            "torch.Size([46, 1, 28, 28])\n",
            "torch.Size([46])\n"
          ],
          "name": "stdout"
        }
      ]
    },
    {
      "cell_type": "code",
      "metadata": {
        "id": "9ESFdALqM4u7",
        "colab_type": "code",
        "colab": {
          "base_uri": "https://localhost:8080/",
          "height": 53
        },
        "outputId": "a803bd35-4415-4cf9-91c1-6e5db608b4ca"
      },
      "source": [
        "patch3_21 = torch.load('444forth444.csv')\n",
        "patch3_queries = torch.load(\"444queries444.csv\")\n",
        "print(patch3_21.size())\n",
        "print(patch3_queries.size())"
      ],
      "execution_count": 38,
      "outputs": [
        {
          "output_type": "stream",
          "text": [
            "torch.Size([21, 1, 28, 28])\n",
            "torch.Size([21])\n"
          ],
          "name": "stdout"
        }
      ]
    },
    {
      "cell_type": "code",
      "metadata": {
        "id": "4bL_t0mr1d-b",
        "colab_type": "code",
        "colab": {
          "base_uri": "https://localhost:8080/",
          "height": 53
        },
        "outputId": "56ff1df2-ebfb-4022-e3ea-620817bb8deb"
      },
      "source": [
        "patch4_1 = torch.load('4444forth4444.csv')\n",
        "patch4_queries = torch.load(\"4444queries4444.csv\")\n",
        "print(patch4_1.size())\n",
        "print(patch4_queries.size())\n"
      ],
      "execution_count": 39,
      "outputs": [
        {
          "output_type": "stream",
          "text": [
            "torch.Size([1, 1, 28, 28])\n",
            "torch.Size([1])\n"
          ],
          "name": "stdout"
        }
      ]
    },
    {
      "cell_type": "code",
      "metadata": {
        "id": "ORK0amEv1d2H",
        "colab_type": "code",
        "colab": {
          "base_uri": "https://localhost:8080/",
          "height": 265
        },
        "outputId": "c2656830-4473-496a-8f07-f7b18f51a929"
      },
      "source": [
        "print_image(patch3_21[20])"
      ],
      "execution_count": 52,
      "outputs": [
        {
          "output_type": "display_data",
          "data": {
            "image/png": "[encoded data removed]",
            "text/plain": [
              "<Figure size 432x288 with 1 Axes>"
            ]
          },
          "metadata": {
            "tags": [],
            "needs_background": "light"
          }
        }
      ]
    },
    {
      "cell_type": "code",
      "metadata": {
        "id": "8ispF-QM1dhK",
        "colab_type": "code",
        "colab": {}
      },
      "source": [
        "final_ensamble = torch.cat((patch1_35, patch2_46[1:], patch3_21[1:]))\n",
        "final_queries = torch.cat((patch1_queries, patch2_queries[1:], patch3_queries[1:]))"
      ],
      "execution_count": 56,
      "outputs": []
    },
    {
      "cell_type": "code",
      "metadata": {
        "id": "v8nGYwDG1ddJ",
        "colab_type": "code",
        "colab": {}
      },
      "source": [
        "# torch.save(final_ensamble, \"ensamble_images.csv\")\n",
        "# torch.save(final_queries, \"ensamble_queries.csv\")"
      ],
      "execution_count": 57,
      "outputs": []
    },
    {
      "cell_type": "code",
      "metadata": {
        "id": "nQYyuIO62zY4",
        "colab_type": "code",
        "colab": {
          "base_uri": "https://localhost:8080/",
          "height": 35
        },
        "outputId": "b0106b0d-0758-4ff0-8322-df8689961ada"
      },
      "source": [
        "final_queries.mean()"
      ],
      "execution_count": 59,
      "outputs": [
        {
          "output_type": "execute_result",
          "data": {
            "text/plain": [
              "tensor(1601.8600)"
            ]
          },
          "metadata": {
            "tags": []
          },
          "execution_count": 59
        }
      ]
    },
    {
      "cell_type": "markdown",
      "metadata": {
        "id": "9lZbc61nGcQQ",
        "colab_type": "text"
      },
      "source": [
        "# We are loading our final data and plot what we need\n"
      ]
    },
    {
      "cell_type": "code",
      "metadata": {
        "id": "kggz53yLM4q6",
        "colab_type": "code",
        "colab": {}
      },
      "source": [
        "final_ensamble = torch.load(\"ensamble_images.csv\")\n",
        "final_queries = torch.load(\"ensamble_queries.csv\")\n",
        "assert final_queries.size() == torch.Size([100]), f\"{final_queries.size()}\"\n",
        "assert final_ensamble.size() == torch.Size([100, 1, 28, 28]), f\"{final_ensamble.size()}\"\n",
        "\n",
        "data1 = torch.load(\"1first1.csv\")\n",
        "queries = torch.load('1queries1.csv')\n",
        "assert queries.size() == torch.Size([100]), f\"{queries.size()}\"\n",
        "assert data1.size() == torch.Size([100, 1, 28, 28]), f\"{data1.size()}\"\n",
        "\n",
        "data2 = torch.load(\"2second2.csv\")\n",
        "queries2 = torch.load(\"2queries2.csv\")\n",
        "assert queries2.size() == torch.Size([100]), f\"{queries2.size()}\"\n",
        "assert data2.size() == torch.Size([100, 1, 32, 32]), f\"{data2.size()}\"\n",
        "\n",
        "data3 = torch.load(\"3third3.csv\")\n",
        "queries3 = torch.load(\"3queries3.csv\")\n",
        "assert queries3.size() == torch.Size([100]), f\"{queries3.size()}\"\n",
        "assert data3.size() == torch.Size([100, 1, 28, 28]), f\"{data3.size()}\"\n"
      ],
      "execution_count": 83,
      "outputs": []
    },
    {
      "cell_type": "code",
      "metadata": {
        "id": "2R2COSZz4ghh",
        "colab_type": "code",
        "colab": {}
      },
      "source": [
        "a = final_queries.mean()\n",
        "b = queries.mean()\n",
        "c = queries2.mean()\n",
        "d = queries3.mean()"
      ],
      "execution_count": 85,
      "outputs": []
    },
    {
      "cell_type": "code",
      "metadata": {
        "id": "GieJpg3K2zW3",
        "colab_type": "code",
        "colab": {
          "base_uri": "https://localhost:8080/",
          "height": 336
        },
        "outputId": "f5b10df1-4aee-4f70-f058-464344f7e0ee"
      },
      "source": [
        "import matplotlib.pyplot as plt\n",
        "fig = plt.figure()\n",
        "ax = fig.add_axes([0,0,1,1])\n",
        "langs = ['CNN', 'LeNet5', 'ResNet18', 'Ensamble']\n",
        "students = [b, c, d, a]\n",
        "ax.bar(langs,students)\n",
        "plt.show()"
      ],
      "execution_count": 87,
      "outputs": [
        {
          "output_type": "display_data",
          "data": {
            "image/png": "[encoded data removed]",
            "text/plain": [
              "<Figure size 432x288 with 1 Axes>"
            ]
          },
          "metadata": {
            "tags": [],
            "needs_background": "light"
          }
        }
      ]
    },
    {
      "cell_type": "markdown",
      "metadata": {
        "id": "hveV2uUpKs2Q",
        "colab_type": "text"
      },
      "source": [
        "# Let's create the matrix "
      ]
    },
    {
      "cell_type": "code",
      "metadata": {
        "id": "bHL6R5p8RROp",
        "colab_type": "code",
        "colab": {}
      },
      "source": [
        "# Constructing the matrix\n",
        "\n",
        "matrix = []\n",
        "matrix.append(final_ensamble[12])\n",
        "matrix.append(data1[12])\n",
        "matrix.append(data2[12])\n",
        "matrix.append(data3[12])\n",
        "\n",
        "matrix.append(final_ensamble[-7])\n",
        "matrix.append(data1[-7])\n",
        "matrix.append(data2[-7])\n",
        "matrix.append(data3[-7])\n",
        "\n",
        "matrix.append(final_ensamble[-3])\n",
        "matrix.append(data1[-3])\n",
        "matrix.append(data2[-3])\n",
        "matrix.append(data3[-3])\n",
        "\n",
        "matrix.append(final_ensamble[10])\n",
        "matrix.append(data1[10])\n",
        "matrix.append(data2[10])\n",
        "matrix.append(data3[10])\n",
        "\n",
        "matrix.append(final_ensamble[0])\n",
        "matrix.append(data1[0])\n",
        "matrix.append(data2[0])\n",
        "matrix.append(data3[0])\n",
        "\n",
        "matrix.append(final_ensamble[3])\n",
        "matrix.append(data1[3])\n",
        "matrix.append(data2[3])\n",
        "matrix.append(data3[3])\n",
        "\n",
        "matrix.append(final_ensamble[1])\n",
        "matrix.append(data1[1])\n",
        "matrix.append(data2[1])\n",
        "matrix.append(data3[1])\n",
        "\n",
        "matrix.append(final_ensamble[13])\n",
        "matrix.append(data1[13])\n",
        "matrix.append(data2[13])\n",
        "matrix.append(data3[13])\n",
        "\n",
        "matrix.append(final_ensamble[2])\n",
        "matrix.append(data1[2])\n",
        "matrix.append(data2[2])\n",
        "matrix.append(data3[2])\n",
        "\n",
        "matrix.append(final_ensamble[8])\n",
        "matrix.append(data1[8])\n",
        "matrix.append(data2[8])\n",
        "matrix.append(data3[8])\n"
      ],
      "execution_count": 134,
      "outputs": []
    },
    {
      "cell_type": "code",
      "metadata": {
        "id": "7hCfi4HqQopT",
        "colab_type": "code",
        "colab": {
          "base_uri": "https://localhost:8080/",
          "height": 35
        },
        "outputId": "f7bc8bb0-8e3b-4656-8c93-333ff8b5cf2b"
      },
      "source": [
        "len(matrix)"
      ],
      "execution_count": 135,
      "outputs": [
        {
          "output_type": "execute_result",
          "data": {
            "text/plain": [
              "40"
            ]
          },
          "metadata": {
            "tags": []
          },
          "execution_count": 135
        }
      ]
    },
    {
      "cell_type": "code",
      "metadata": {
        "id": "N5iwlLgoRtnz",
        "colab_type": "code",
        "colab": {
          "base_uri": "https://localhost:8080/",
          "height": 126
        },
        "outputId": "8b7c7c25-3dc4-4a44-deb7-79699b5446b2"
      },
      "source": [
        "bunch_of_labels"
      ],
      "execution_count": 96,
      "outputs": [
        {
          "output_type": "execute_result",
          "data": {
            "text/plain": [
              "tensor([4., 6., 8., 5., 4., 8., 1., 3., 9., 9., 3., 1., 0., 7., 2., 2., 6., 7.,\n",
              "        9., 8., 0., 9., 0., 0., 6., 0., 7., 3., 8., 8., 2., 5., 9., 9., 1., 0.,\n",
              "        2., 2., 7., 0., 1., 3., 2., 1., 4., 4., 7., 3., 5., 7., 9., 5., 6., 4.,\n",
              "        1., 0., 8., 5., 8., 4., 3., 3., 7., 1., 7., 6., 6., 9., 7., 3., 3., 5.,\n",
              "        0., 2., 8., 0., 0., 4., 6., 8., 4., 7., 4., 9., 3., 1., 8., 1., 5., 4.,\n",
              "        8., 4., 1., 1., 8., 8., 2., 2., 6., 9.])"
            ]
          },
          "metadata": {
            "tags": []
          },
          "execution_count": 96
        }
      ]
    },
    {
      "cell_type": "code",
      "metadata": {
        "id": "KDL8_qSK2zU_",
        "colab_type": "code",
        "colab": {
          "base_uri": "https://localhost:8080/",
          "height": 1000
        },
        "outputId": "302c81ce-7716-49b2-9058-49ad4574aea7"
      },
      "source": [
        "# Plot several examples of adversarial samples at each epsilon\n",
        "cnt = 0\n",
        "plt.figure(figsize=(15,20))\n",
        "for i in range(10):\n",
        "    for j in range(4):\n",
        "        cnt += 1\n",
        "        plt.subplot(10,4,cnt)\n",
        "        plt.xticks([], [])\n",
        "        plt.yticks([], [])\n",
        "        if j == 0:\n",
        "            plt.ylabel(\"Cifra: {}\".format(i), fontsize=14)\n",
        "        if cnt%4 == 0:\n",
        "          prediction = model3(matrix[cnt-1].unsqueeze(dim=0)).argmax().item()\n",
        "        if cnt%4 == 1:\n",
        "          prediction = ensamble_prediction(matrix[cnt-1].unsqueeze(dim=0)).argmax().item()\n",
        "        if cnt%4 == 2:\n",
        "          prediction = model1(matrix[cnt-1].unsqueeze(dim=0)).argmax().item()\n",
        "        if cnt%4 == 3:\n",
        "          prediction = model2(transform_image(matrix[cnt-1].unsqueeze(dim=0)))[0].argmax().item()\n",
        "\n",
        "\n",
        "        plt.title(f\"{i} -> {prediction}\")\n",
        "        plt.imshow(matrix[cnt-1].squeeze(dim=0).squeeze(dim=0), cmap=\"gray\")\n",
        "plt.tight_layout()\n",
        "plt.show() "
      ],
      "execution_count": 182,
      "outputs": [
        {
          "output_type": "display_data",
          "data": {
            "image/png": "[encoded data removed]",
            "text/plain": [
              "<Figure size 1080x1440 with 40 Axes>"
            ]
          },
          "metadata": {
            "tags": []
          }
        }
      ]
    },
    {
      "cell_type": "code",
      "metadata": {
        "id": "xq6-uI7a2zTd",
        "colab_type": "code",
        "colab": {}
      },
      "source": [
        "# Plot several examples of adversarial samples at each epsilon\n",
        "cnt = 0\n",
        "plt.figure(figsize=(8,10))\n",
        "for i in range(len(epsilons)):\n",
        "    for j in range(len(examples[i])):\n",
        "        cnt += 1\n",
        "        plt.subplot(len(epsilons),len(examples[0]),cnt)\n",
        "        plt.xticks([], [])\n",
        "        plt.yticks([], [])\n",
        "        if j == 0:\n",
        "            plt.ylabel(\"Eps: {}\".format(epsilons[i]), fontsize=14)\n",
        "        orig,adv,ex = examples[i][j]\n",
        "        if a\n",
        "        plt.title(\"{} -> {}\".format(orig, adv))\n",
        "        plt.imshow(ex[0], cmap=\"gray\")\n",
        "plt.tight_layout()\n",
        "plt.show() "
      ],
      "execution_count": null,
      "outputs": []
    },
    {
      "cell_type": "code",
      "metadata": {
        "id": "3Ehf9mhBZxVA",
        "colab_type": "code",
        "colab": {}
      },
      "source": [
        ""
      ],
      "execution_count": null,
      "outputs": []
    },
    {
      "cell_type": "code",
      "metadata": {
        "id": "8KwP80_1cfZi",
        "colab_type": "code",
        "colab": {}
      },
      "source": [
        ""
      ],
      "execution_count": null,
      "outputs": []
    },
    {
      "cell_type": "code",
      "metadata": {
        "id": "4DFXZmeH2zP3",
        "colab_type": "code",
        "colab": {}
      },
      "source": [
        ""
      ],
      "execution_count": null,
      "outputs": []
    },
    {
      "cell_type": "code",
      "metadata": {
        "id": "yfEXPomZcfX7",
        "colab_type": "code",
        "colab": {}
      },
      "source": [
        ""
      ],
      "execution_count": 72,
      "outputs": []
    },
    {
      "cell_type": "code",
      "metadata": {
        "id": "k8vZqNUacfU_",
        "colab_type": "code",
        "colab": {}
      },
      "source": [
        ""
      ],
      "execution_count": null,
      "outputs": []
    },
    {
      "cell_type": "code",
      "metadata": {
        "id": "XrVc0kmZcfTH",
        "colab_type": "code",
        "colab": {}
      },
      "source": [
        ""
      ],
      "execution_count": null,
      "outputs": []
    },
    {
      "cell_type": "code",
      "metadata": {
        "id": "hO-nedIQcfN-",
        "colab_type": "code",
        "colab": {}
      },
      "source": [
        ""
      ],
      "execution_count": null,
      "outputs": []
    },
    {
      "cell_type": "code",
      "metadata": {
        "id": "nLi-17HDZxNh",
        "colab_type": "code",
        "colab": {}
      },
      "source": [
        ""
      ],
      "execution_count": null,
      "outputs": []
    },
    {
      "cell_type": "code",
      "metadata": {
        "id": "bO0acdKAcyax",
        "colab_type": "code",
        "colab": {}
      },
      "source": [
        ""
      ],
      "execution_count": null,
      "outputs": []
    },
    {
      "cell_type": "code",
      "metadata": {
        "id": "lcU2zjXi2zN3",
        "colab_type": "code",
        "colab": {}
      },
      "source": [
        ""
      ],
      "execution_count": null,
      "outputs": []
    },
    {
      "cell_type": "code",
      "metadata": {
        "id": "c1MW8zRl2zKX",
        "colab_type": "code",
        "colab": {}
      },
      "source": [
        ""
      ],
      "execution_count": null,
      "outputs": []
    },
    {
      "cell_type": "code",
      "metadata": {
        "id": "CJDqnXjxZmhp",
        "colab_type": "code",
        "colab": {}
      },
      "source": [
        ""
      ],
      "execution_count": null,
      "outputs": []
    },
    {
      "cell_type": "code",
      "metadata": {
        "id": "bVo8jjRPZmdI",
        "colab_type": "code",
        "colab": {}
      },
      "source": [
        ""
      ],
      "execution_count": null,
      "outputs": []
    },
    {
      "cell_type": "code",
      "metadata": {
        "id": "77UXxzYDZmSO",
        "colab_type": "code",
        "colab": {}
      },
      "source": [
        ""
      ],
      "execution_count": null,
      "outputs": []
    },
    {
      "cell_type": "code",
      "metadata": {
        "id": "3UTdDPavZmQ1",
        "colab_type": "code",
        "colab": {}
      },
      "source": [
        ""
      ],
      "execution_count": null,
      "outputs": []
    },
    {
      "cell_type": "code",
      "metadata": {
        "id": "q3vYKd_XZmPe",
        "colab_type": "code",
        "colab": {}
      },
      "source": [
        ""
      ],
      "execution_count": null,
      "outputs": []
    },
    {
      "cell_type": "code",
      "metadata": {
        "id": "MqmxV1thdla2",
        "colab_type": "code",
        "colab": {}
      },
      "source": [
        ""
      ],
      "execution_count": null,
      "outputs": []
    },
    {
      "cell_type": "code",
      "metadata": {
        "id": "8Dfmw-yTZmN7",
        "colab_type": "code",
        "colab": {}
      },
      "source": [
        ""
      ],
      "execution_count": null,
      "outputs": []
    },
    {
      "cell_type": "code",
      "metadata": {
        "id": "at1MeDw4ZmMW",
        "colab_type": "code",
        "colab": {}
      },
      "source": [
        ""
      ],
      "execution_count": null,
      "outputs": []
    },
    {
      "cell_type": "code",
      "metadata": {
        "id": "ObJXXhOaZmJR",
        "colab_type": "code",
        "colab": {}
      },
      "source": [
        ""
      ],
      "execution_count": null,
      "outputs": []
    },
    {
      "cell_type": "code",
      "metadata": {
        "id": "2sxOSFjbZmG6",
        "colab_type": "code",
        "colab": {}
      },
      "source": [
        ""
      ],
      "execution_count": null,
      "outputs": []
    }
  ]
}